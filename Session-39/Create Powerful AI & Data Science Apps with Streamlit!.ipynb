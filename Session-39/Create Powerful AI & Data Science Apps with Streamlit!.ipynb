{
 "cells": [
  {
   "cell_type": "code",
   "execution_count": null,
   "id": "8b1b5f36",
   "metadata": {},
   "outputs": [],
   "source": [
    "# !pip install streamlit==1.29.0"
   ]
  },
  {
   "cell_type": "code",
   "execution_count": 23,
   "id": "3c992bbb",
   "metadata": {},
   "outputs": [
    {
     "name": "stdout",
     "output_type": "stream",
     "text": [
      "Overwriting web.py\n"
     ]
    }
   ],
   "source": [
    "%%writefile web.py\n",
    "\n",
    "import streamlit as st\n",
    "\n",
    "# st.image(\"DS.png\", caption = \"DigiTech Synergy Pvt. Ltd\")\n",
    "\n",
    "st.image(\"DS.png\")\n",
    "st.title(\"DigiTech Synergy Pvt. Ltd\")\n",
    "st.header(\"Feedback Form\")\n",
    "# st.subheader(\"Please provide your feedback below!\")\n",
    "st.write(\"Please provide your feedback below!\")\n",
    "\n",
    "name = st.text_input(\"Please write your name\")\n",
    "\n",
    "st.write(f\"Welcome {name}\")\n",
    "\n",
    "# st.write(\"Do you enjoy our training?\")\n",
    "\n",
    "# yes = st.button(\"Yes\")\n",
    "# no = st.button(\"No\")\n",
    "\n",
    "# if yes:\n",
    "#     st.write(\"Glad to hear that!\")\n",
    "# elif no:\n",
    "#     st.write(\"Sorry to hear that. We'll strive to improve.\")\n",
    "\n",
    "enjoy = st.radio(\"Do you enjoy our training?\",[\"Yes\", \"No\"])\n",
    "\n",
    "if enjoy == \"Yes\":\n",
    "    st.write(\"Glad to hear that!\")\n",
    "elif enjoy == \"No\":\n",
    "    st.write(\"Sorry to hear that. We'll strive to improve.\")\n",
    "    \n",
    "rating = st.slider(\"How do you rate our training\",1,10,5)\n",
    "training = st.selectbox(\"What training do you like most?\", [\"Data Analytics\",\"Generative AI\", \"Application Development\"])\n",
    "\n",
    "st.write(f\"You have rated our training {rating} and you like {training} training\")\n",
    "\n",
    "message = st.text_area(\"Comments\", \"Please provide your comments to improve our service further\")\n",
    "\n",
    "st.checkbox(\"Please confirm all above information is correct\")\n",
    "st.checkbox(\"Are you happy with this feedback?\")\n",
    "\n",
    "st.caption(\"Hello\")\n",
    "\n",
    "st.markdown(\"\"\"- Item1\n",
    "- Item2\n",
    "- item3\"\"\")"
   ]
  },
  {
   "cell_type": "code",
   "execution_count": 24,
   "id": "8224a867",
   "metadata": {},
   "outputs": [
    {
     "name": "stdout",
     "output_type": "stream",
     "text": [
      "^C\n"
     ]
    }
   ],
   "source": [
    "!streamlit run web.py"
   ]
  }
 ],
 "metadata": {
  "kernelspec": {
   "display_name": "Python 3 (ipykernel)",
   "language": "python",
   "name": "python3"
  },
  "language_info": {
   "codemirror_mode": {
    "name": "ipython",
    "version": 3
   },
   "file_extension": ".py",
   "mimetype": "text/x-python",
   "name": "python",
   "nbconvert_exporter": "python",
   "pygments_lexer": "ipython3",
   "version": "3.11.5"
  }
 },
 "nbformat": 4,
 "nbformat_minor": 5
}
