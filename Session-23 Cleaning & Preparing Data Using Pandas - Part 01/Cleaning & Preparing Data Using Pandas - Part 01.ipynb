{
 "cells": [
  {
   "cell_type": "code",
   "execution_count": 1,
   "id": "9fa3ae25",
   "metadata": {},
   "outputs": [],
   "source": [
    "file = \"modern_arts.csv\""
   ]
  },
  {
   "cell_type": "code",
   "execution_count": 2,
   "id": "2f049bbd",
   "metadata": {},
   "outputs": [],
   "source": [
    "import pandas as pd"
   ]
  },
  {
   "cell_type": "code",
   "execution_count": 3,
   "id": "7128b2d5",
   "metadata": {},
   "outputs": [],
   "source": [
    "arts = pd.read_csv(file)"
   ]
  },
  {
   "cell_type": "code",
   "execution_count": 4,
   "id": "9b3e25bd",
   "metadata": {},
   "outputs": [
    {
     "data": {
      "text/html": [
       "<div>\n",
       "<style scoped>\n",
       "    .dataframe tbody tr th:only-of-type {\n",
       "        vertical-align: middle;\n",
       "    }\n",
       "\n",
       "    .dataframe tbody tr th {\n",
       "        vertical-align: top;\n",
       "    }\n",
       "\n",
       "    .dataframe thead th {\n",
       "        text-align: right;\n",
       "    }\n",
       "</style>\n",
       "<table border=\"1\" class=\"dataframe\">\n",
       "  <thead>\n",
       "    <tr style=\"text-align: right;\">\n",
       "      <th></th>\n",
       "      <th>Title</th>\n",
       "      <th>Artist</th>\n",
       "      <th>Nationality</th>\n",
       "      <th>BeginDate</th>\n",
       "      <th>EndDate</th>\n",
       "      <th>Gender</th>\n",
       "      <th>Date</th>\n",
       "      <th>Department</th>\n",
       "    </tr>\n",
       "  </thead>\n",
       "  <tbody>\n",
       "    <tr>\n",
       "      <th>0</th>\n",
       "      <td>Dress MacLeod from Tartan Sets</td>\n",
       "      <td>Sarah Charlesworth</td>\n",
       "      <td>(American)</td>\n",
       "      <td>(1947)</td>\n",
       "      <td>(2013)</td>\n",
       "      <td>(Female)</td>\n",
       "      <td>1986</td>\n",
       "      <td>Prints &amp; Illustrated Books</td>\n",
       "    </tr>\n",
       "    <tr>\n",
       "      <th>1</th>\n",
       "      <td>Duplicate of plate from folio 11 verso (supple...</td>\n",
       "      <td>Pablo Palazuelo</td>\n",
       "      <td>(Spanish)</td>\n",
       "      <td>(1916)</td>\n",
       "      <td>(2007)</td>\n",
       "      <td>(Male)</td>\n",
       "      <td>1978</td>\n",
       "      <td>Prints &amp; Illustrated Books</td>\n",
       "    </tr>\n",
       "    <tr>\n",
       "      <th>2</th>\n",
       "      <td>Tailpiece (page 55) from SAGESSE</td>\n",
       "      <td>Maurice Denis</td>\n",
       "      <td>(French)</td>\n",
       "      <td>(1870)</td>\n",
       "      <td>(1943)</td>\n",
       "      <td>(Male)</td>\n",
       "      <td>1889-1911</td>\n",
       "      <td>Prints &amp; Illustrated Books</td>\n",
       "    </tr>\n",
       "    <tr>\n",
       "      <th>3</th>\n",
       "      <td>Headpiece (page 129) from LIVRET DE FOLASTRIES...</td>\n",
       "      <td>Aristide Maillol</td>\n",
       "      <td>(French)</td>\n",
       "      <td>(1861)</td>\n",
       "      <td>(1944)</td>\n",
       "      <td>(Male)</td>\n",
       "      <td>1927-1940</td>\n",
       "      <td>Prints &amp; Illustrated Books</td>\n",
       "    </tr>\n",
       "    <tr>\n",
       "      <th>4</th>\n",
       "      <td>97 rue du Bac</td>\n",
       "      <td>Eugène Atget</td>\n",
       "      <td>(French)</td>\n",
       "      <td>(1857)</td>\n",
       "      <td>(1927)</td>\n",
       "      <td>(Male)</td>\n",
       "      <td>1903</td>\n",
       "      <td>Photography</td>\n",
       "    </tr>\n",
       "  </tbody>\n",
       "</table>\n",
       "</div>"
      ],
      "text/plain": [
       "                                               Title              Artist   \n",
       "0                     Dress MacLeod from Tartan Sets  Sarah Charlesworth  \\\n",
       "1  Duplicate of plate from folio 11 verso (supple...     Pablo Palazuelo   \n",
       "2                   Tailpiece (page 55) from SAGESSE       Maurice Denis   \n",
       "3  Headpiece (page 129) from LIVRET DE FOLASTRIES...    Aristide Maillol   \n",
       "4                                      97 rue du Bac        Eugène Atget   \n",
       "\n",
       "  Nationality BeginDate EndDate    Gender       Date   \n",
       "0  (American)    (1947)  (2013)  (Female)       1986  \\\n",
       "1   (Spanish)    (1916)  (2007)    (Male)       1978   \n",
       "2    (French)    (1870)  (1943)    (Male)  1889-1911   \n",
       "3    (French)    (1861)  (1944)    (Male)  1927-1940   \n",
       "4    (French)    (1857)  (1927)    (Male)       1903   \n",
       "\n",
       "                   Department  \n",
       "0  Prints & Illustrated Books  \n",
       "1  Prints & Illustrated Books  \n",
       "2  Prints & Illustrated Books  \n",
       "3  Prints & Illustrated Books  \n",
       "4                 Photography  "
      ]
     },
     "execution_count": 4,
     "metadata": {},
     "output_type": "execute_result"
    }
   ],
   "source": [
    "arts.head()"
   ]
  },
  {
   "cell_type": "code",
   "execution_count": 5,
   "id": "7f8ab760",
   "metadata": {},
   "outputs": [
    {
     "data": {
      "text/plain": [
       "0        (Female)\n",
       "1          (Male)\n",
       "2          (Male)\n",
       "3          (Male)\n",
       "4          (Male)\n",
       "           ...   \n",
       "16720      (Male)\n",
       "16721      (Male)\n",
       "16722      (Male)\n",
       "16723          ()\n",
       "16724      (Male)\n",
       "Name: Gender, Length: 16725, dtype: object"
      ]
     },
     "execution_count": 5,
     "metadata": {},
     "output_type": "execute_result"
    }
   ],
   "source": [
    "arts[\"Gender\"]"
   ]
  },
  {
   "cell_type": "code",
   "execution_count": 6,
   "id": "2848eacc",
   "metadata": {},
   "outputs": [
    {
     "data": {
      "text/plain": [
       "0        Female\n",
       "1          Male\n",
       "2          Male\n",
       "3          Male\n",
       "4          Male\n",
       "          ...  \n",
       "16720      Male\n",
       "16721      Male\n",
       "16722      Male\n",
       "16723          \n",
       "16724      Male\n",
       "Name: Gender, Length: 16725, dtype: object"
      ]
     },
     "execution_count": 6,
     "metadata": {},
     "output_type": "execute_result"
    }
   ],
   "source": [
    "arts[\"Gender\"].str.replace(\"(\",\"\").str.replace(\")\",\"\")"
   ]
  },
  {
   "cell_type": "code",
   "execution_count": 7,
   "id": "447af3f2",
   "metadata": {},
   "outputs": [
    {
     "data": {
      "text/html": [
       "<div>\n",
       "<style scoped>\n",
       "    .dataframe tbody tr th:only-of-type {\n",
       "        vertical-align: middle;\n",
       "    }\n",
       "\n",
       "    .dataframe tbody tr th {\n",
       "        vertical-align: top;\n",
       "    }\n",
       "\n",
       "    .dataframe thead th {\n",
       "        text-align: right;\n",
       "    }\n",
       "</style>\n",
       "<table border=\"1\" class=\"dataframe\">\n",
       "  <thead>\n",
       "    <tr style=\"text-align: right;\">\n",
       "      <th></th>\n",
       "      <th>Title</th>\n",
       "      <th>Artist</th>\n",
       "      <th>Nationality</th>\n",
       "      <th>BeginDate</th>\n",
       "      <th>EndDate</th>\n",
       "      <th>Gender</th>\n",
       "      <th>Date</th>\n",
       "      <th>Department</th>\n",
       "    </tr>\n",
       "  </thead>\n",
       "  <tbody>\n",
       "    <tr>\n",
       "      <th>0</th>\n",
       "      <td>Dress MacLeod from Tartan Sets</td>\n",
       "      <td>Sarah Charlesworth</td>\n",
       "      <td>(American)</td>\n",
       "      <td>(1947)</td>\n",
       "      <td>(2013)</td>\n",
       "      <td>(Female)</td>\n",
       "      <td>1986</td>\n",
       "      <td>Prints &amp; Illustrated Books</td>\n",
       "    </tr>\n",
       "    <tr>\n",
       "      <th>1</th>\n",
       "      <td>Duplicate of plate from folio 11 verso (supple...</td>\n",
       "      <td>Pablo Palazuelo</td>\n",
       "      <td>(Spanish)</td>\n",
       "      <td>(1916)</td>\n",
       "      <td>(2007)</td>\n",
       "      <td>(Male)</td>\n",
       "      <td>1978</td>\n",
       "      <td>Prints &amp; Illustrated Books</td>\n",
       "    </tr>\n",
       "    <tr>\n",
       "      <th>2</th>\n",
       "      <td>Tailpiece (page 55) from SAGESSE</td>\n",
       "      <td>Maurice Denis</td>\n",
       "      <td>(French)</td>\n",
       "      <td>(1870)</td>\n",
       "      <td>(1943)</td>\n",
       "      <td>(Male)</td>\n",
       "      <td>1889-1911</td>\n",
       "      <td>Prints &amp; Illustrated Books</td>\n",
       "    </tr>\n",
       "    <tr>\n",
       "      <th>3</th>\n",
       "      <td>Headpiece (page 129) from LIVRET DE FOLASTRIES...</td>\n",
       "      <td>Aristide Maillol</td>\n",
       "      <td>(French)</td>\n",
       "      <td>(1861)</td>\n",
       "      <td>(1944)</td>\n",
       "      <td>(Male)</td>\n",
       "      <td>1927-1940</td>\n",
       "      <td>Prints &amp; Illustrated Books</td>\n",
       "    </tr>\n",
       "    <tr>\n",
       "      <th>4</th>\n",
       "      <td>97 rue du Bac</td>\n",
       "      <td>Eugène Atget</td>\n",
       "      <td>(French)</td>\n",
       "      <td>(1857)</td>\n",
       "      <td>(1927)</td>\n",
       "      <td>(Male)</td>\n",
       "      <td>1903</td>\n",
       "      <td>Photography</td>\n",
       "    </tr>\n",
       "  </tbody>\n",
       "</table>\n",
       "</div>"
      ],
      "text/plain": [
       "                                               Title              Artist   \n",
       "0                     Dress MacLeod from Tartan Sets  Sarah Charlesworth  \\\n",
       "1  Duplicate of plate from folio 11 verso (supple...     Pablo Palazuelo   \n",
       "2                   Tailpiece (page 55) from SAGESSE       Maurice Denis   \n",
       "3  Headpiece (page 129) from LIVRET DE FOLASTRIES...    Aristide Maillol   \n",
       "4                                      97 rue du Bac        Eugène Atget   \n",
       "\n",
       "  Nationality BeginDate EndDate    Gender       Date   \n",
       "0  (American)    (1947)  (2013)  (Female)       1986  \\\n",
       "1   (Spanish)    (1916)  (2007)    (Male)       1978   \n",
       "2    (French)    (1870)  (1943)    (Male)  1889-1911   \n",
       "3    (French)    (1861)  (1944)    (Male)  1927-1940   \n",
       "4    (French)    (1857)  (1927)    (Male)       1903   \n",
       "\n",
       "                   Department  \n",
       "0  Prints & Illustrated Books  \n",
       "1  Prints & Illustrated Books  \n",
       "2  Prints & Illustrated Books  \n",
       "3  Prints & Illustrated Books  \n",
       "4                 Photography  "
      ]
     },
     "execution_count": 7,
     "metadata": {},
     "output_type": "execute_result"
    }
   ],
   "source": [
    "arts.head()"
   ]
  },
  {
   "cell_type": "code",
   "execution_count": 8,
   "id": "b6d0597e",
   "metadata": {},
   "outputs": [],
   "source": [
    "arts[\"Gender\"] = arts[\"Gender\"].str.replace(\"(\",\"\").str.replace(\")\",\"\")"
   ]
  },
  {
   "cell_type": "code",
   "execution_count": 9,
   "id": "30178946",
   "metadata": {},
   "outputs": [
    {
     "data": {
      "text/html": [
       "<div>\n",
       "<style scoped>\n",
       "    .dataframe tbody tr th:only-of-type {\n",
       "        vertical-align: middle;\n",
       "    }\n",
       "\n",
       "    .dataframe tbody tr th {\n",
       "        vertical-align: top;\n",
       "    }\n",
       "\n",
       "    .dataframe thead th {\n",
       "        text-align: right;\n",
       "    }\n",
       "</style>\n",
       "<table border=\"1\" class=\"dataframe\">\n",
       "  <thead>\n",
       "    <tr style=\"text-align: right;\">\n",
       "      <th></th>\n",
       "      <th>Title</th>\n",
       "      <th>Artist</th>\n",
       "      <th>Nationality</th>\n",
       "      <th>BeginDate</th>\n",
       "      <th>EndDate</th>\n",
       "      <th>Gender</th>\n",
       "      <th>Date</th>\n",
       "      <th>Department</th>\n",
       "    </tr>\n",
       "  </thead>\n",
       "  <tbody>\n",
       "    <tr>\n",
       "      <th>0</th>\n",
       "      <td>Dress MacLeod from Tartan Sets</td>\n",
       "      <td>Sarah Charlesworth</td>\n",
       "      <td>(American)</td>\n",
       "      <td>(1947)</td>\n",
       "      <td>(2013)</td>\n",
       "      <td>Female</td>\n",
       "      <td>1986</td>\n",
       "      <td>Prints &amp; Illustrated Books</td>\n",
       "    </tr>\n",
       "    <tr>\n",
       "      <th>1</th>\n",
       "      <td>Duplicate of plate from folio 11 verso (supple...</td>\n",
       "      <td>Pablo Palazuelo</td>\n",
       "      <td>(Spanish)</td>\n",
       "      <td>(1916)</td>\n",
       "      <td>(2007)</td>\n",
       "      <td>Male</td>\n",
       "      <td>1978</td>\n",
       "      <td>Prints &amp; Illustrated Books</td>\n",
       "    </tr>\n",
       "    <tr>\n",
       "      <th>2</th>\n",
       "      <td>Tailpiece (page 55) from SAGESSE</td>\n",
       "      <td>Maurice Denis</td>\n",
       "      <td>(French)</td>\n",
       "      <td>(1870)</td>\n",
       "      <td>(1943)</td>\n",
       "      <td>Male</td>\n",
       "      <td>1889-1911</td>\n",
       "      <td>Prints &amp; Illustrated Books</td>\n",
       "    </tr>\n",
       "    <tr>\n",
       "      <th>3</th>\n",
       "      <td>Headpiece (page 129) from LIVRET DE FOLASTRIES...</td>\n",
       "      <td>Aristide Maillol</td>\n",
       "      <td>(French)</td>\n",
       "      <td>(1861)</td>\n",
       "      <td>(1944)</td>\n",
       "      <td>Male</td>\n",
       "      <td>1927-1940</td>\n",
       "      <td>Prints &amp; Illustrated Books</td>\n",
       "    </tr>\n",
       "    <tr>\n",
       "      <th>4</th>\n",
       "      <td>97 rue du Bac</td>\n",
       "      <td>Eugène Atget</td>\n",
       "      <td>(French)</td>\n",
       "      <td>(1857)</td>\n",
       "      <td>(1927)</td>\n",
       "      <td>Male</td>\n",
       "      <td>1903</td>\n",
       "      <td>Photography</td>\n",
       "    </tr>\n",
       "  </tbody>\n",
       "</table>\n",
       "</div>"
      ],
      "text/plain": [
       "                                               Title              Artist   \n",
       "0                     Dress MacLeod from Tartan Sets  Sarah Charlesworth  \\\n",
       "1  Duplicate of plate from folio 11 verso (supple...     Pablo Palazuelo   \n",
       "2                   Tailpiece (page 55) from SAGESSE       Maurice Denis   \n",
       "3  Headpiece (page 129) from LIVRET DE FOLASTRIES...    Aristide Maillol   \n",
       "4                                      97 rue du Bac        Eugène Atget   \n",
       "\n",
       "  Nationality BeginDate EndDate  Gender       Date                  Department  \n",
       "0  (American)    (1947)  (2013)  Female       1986  Prints & Illustrated Books  \n",
       "1   (Spanish)    (1916)  (2007)    Male       1978  Prints & Illustrated Books  \n",
       "2    (French)    (1870)  (1943)    Male  1889-1911  Prints & Illustrated Books  \n",
       "3    (French)    (1861)  (1944)    Male  1927-1940  Prints & Illustrated Books  \n",
       "4    (French)    (1857)  (1927)    Male       1903                 Photography  "
      ]
     },
     "execution_count": 9,
     "metadata": {},
     "output_type": "execute_result"
    }
   ],
   "source": [
    "arts.head()"
   ]
  },
  {
   "cell_type": "code",
   "execution_count": 10,
   "id": "b5ce88d9",
   "metadata": {},
   "outputs": [
    {
     "data": {
      "text/plain": [
       "array(['Female', 'Male', '', 'male'], dtype=object)"
      ]
     },
     "execution_count": 10,
     "metadata": {},
     "output_type": "execute_result"
    }
   ],
   "source": [
    "arts[\"Gender\"].unique()"
   ]
  },
  {
   "cell_type": "code",
   "execution_count": 11,
   "id": "209fcd18",
   "metadata": {},
   "outputs": [
    {
     "data": {
      "text/plain": [
       "0        Female\n",
       "1          Male\n",
       "2          Male\n",
       "3          Male\n",
       "4          Male\n",
       "          ...  \n",
       "16720      Male\n",
       "16721      Male\n",
       "16722      Male\n",
       "16723          \n",
       "16724      Male\n",
       "Name: Gender, Length: 16725, dtype: object"
      ]
     },
     "execution_count": 11,
     "metadata": {},
     "output_type": "execute_result"
    }
   ],
   "source": [
    "arts[\"Gender\"].str.title() # muhammad waqas -> Muhammad Waqas"
   ]
  },
  {
   "cell_type": "code",
   "execution_count": 12,
   "id": "ce518c81",
   "metadata": {},
   "outputs": [],
   "source": [
    "arts[\"Gender\"] = arts[\"Gender\"].str.title()"
   ]
  },
  {
   "cell_type": "code",
   "execution_count": 13,
   "id": "79867de0",
   "metadata": {},
   "outputs": [
    {
     "data": {
      "text/plain": [
       "array(['Female', 'Male', ''], dtype=object)"
      ]
     },
     "execution_count": 13,
     "metadata": {},
     "output_type": "execute_result"
    }
   ],
   "source": [
    "arts[\"Gender\"].unique()"
   ]
  },
  {
   "cell_type": "code",
   "execution_count": 14,
   "id": "9de1e47f",
   "metadata": {},
   "outputs": [],
   "source": [
    "gender = arts[\"Gender\"].str.replace(\"''\", \"Gender unknown\")"
   ]
  },
  {
   "cell_type": "code",
   "execution_count": 15,
   "id": "09ed0e2b",
   "metadata": {},
   "outputs": [
    {
     "data": {
      "text/plain": [
       "array(['Female', 'Male', ''], dtype=object)"
      ]
     },
     "execution_count": 15,
     "metadata": {},
     "output_type": "execute_result"
    }
   ],
   "source": [
    "gender.unique()"
   ]
  },
  {
   "cell_type": "code",
   "execution_count": 16,
   "id": "e5471e79",
   "metadata": {},
   "outputs": [],
   "source": [
    "bol = arts[\"Gender\"] == ''"
   ]
  },
  {
   "cell_type": "code",
   "execution_count": 17,
   "id": "a1e68191",
   "metadata": {},
   "outputs": [
    {
     "data": {
      "text/plain": [
       "0        False\n",
       "1        False\n",
       "2        False\n",
       "3        False\n",
       "4        False\n",
       "         ...  \n",
       "16720    False\n",
       "16721    False\n",
       "16722    False\n",
       "16723     True\n",
       "16724    False\n",
       "Name: Gender, Length: 16725, dtype: bool"
      ]
     },
     "execution_count": 17,
     "metadata": {},
     "output_type": "execute_result"
    }
   ],
   "source": [
    "bol"
   ]
  },
  {
   "cell_type": "code",
   "execution_count": 18,
   "id": "e4d36d53",
   "metadata": {},
   "outputs": [
    {
     "data": {
      "text/plain": [
       "791"
      ]
     },
     "execution_count": 18,
     "metadata": {},
     "output_type": "execute_result"
    }
   ],
   "source": [
    "bol.sum()"
   ]
  },
  {
   "cell_type": "code",
   "execution_count": 19,
   "id": "3a1325d6",
   "metadata": {},
   "outputs": [
    {
     "data": {
      "text/html": [
       "<div>\n",
       "<style scoped>\n",
       "    .dataframe tbody tr th:only-of-type {\n",
       "        vertical-align: middle;\n",
       "    }\n",
       "\n",
       "    .dataframe tbody tr th {\n",
       "        vertical-align: top;\n",
       "    }\n",
       "\n",
       "    .dataframe thead th {\n",
       "        text-align: right;\n",
       "    }\n",
       "</style>\n",
       "<table border=\"1\" class=\"dataframe\">\n",
       "  <thead>\n",
       "    <tr style=\"text-align: right;\">\n",
       "      <th></th>\n",
       "      <th>Title</th>\n",
       "      <th>Artist</th>\n",
       "      <th>Nationality</th>\n",
       "      <th>BeginDate</th>\n",
       "      <th>EndDate</th>\n",
       "      <th>Gender</th>\n",
       "      <th>Date</th>\n",
       "      <th>Department</th>\n",
       "    </tr>\n",
       "  </thead>\n",
       "  <tbody>\n",
       "    <tr>\n",
       "      <th>31</th>\n",
       "      <td>Untitled</td>\n",
       "      <td>Unknown</td>\n",
       "      <td>()</td>\n",
       "      <td>NaN</td>\n",
       "      <td>NaN</td>\n",
       "      <td></td>\n",
       "      <td>c. 1925</td>\n",
       "      <td>Photography</td>\n",
       "    </tr>\n",
       "    <tr>\n",
       "      <th>90</th>\n",
       "      <td>Bar Tools</td>\n",
       "      <td>Studio Opi</td>\n",
       "      <td>(Italian)</td>\n",
       "      <td>(1955)</td>\n",
       "      <td>NaN</td>\n",
       "      <td></td>\n",
       "      <td>1969</td>\n",
       "      <td>Architecture &amp; Design</td>\n",
       "    </tr>\n",
       "    <tr>\n",
       "      <th>137</th>\n",
       "      <td>Nations</td>\n",
       "      <td>Slavs and Tatars</td>\n",
       "      <td>()</td>\n",
       "      <td>(2005)</td>\n",
       "      <td>NaN</td>\n",
       "      <td></td>\n",
       "      <td>2007</td>\n",
       "      <td>Prints &amp; Illustrated Books</td>\n",
       "    </tr>\n",
       "    <tr>\n",
       "      <th>177</th>\n",
       "      <td>El Frente Popular de Madrid Al Frente Popular ...</td>\n",
       "      <td>J. Briones</td>\n",
       "      <td>(Spanish)</td>\n",
       "      <td>NaN</td>\n",
       "      <td>NaN</td>\n",
       "      <td></td>\n",
       "      <td>1936-1937</td>\n",
       "      <td>Architecture &amp; Design</td>\n",
       "    </tr>\n",
       "    <tr>\n",
       "      <th>185</th>\n",
       "      <td>Untitled</td>\n",
       "      <td>Unknown</td>\n",
       "      <td>()</td>\n",
       "      <td>NaN</td>\n",
       "      <td>NaN</td>\n",
       "      <td></td>\n",
       "      <td>1923-1951</td>\n",
       "      <td>Photography</td>\n",
       "    </tr>\n",
       "    <tr>\n",
       "      <th>...</th>\n",
       "      <td>...</td>\n",
       "      <td>...</td>\n",
       "      <td>...</td>\n",
       "      <td>...</td>\n",
       "      <td>...</td>\n",
       "      <td>...</td>\n",
       "      <td>...</td>\n",
       "      <td>...</td>\n",
       "    </tr>\n",
       "    <tr>\n",
       "      <th>16664</th>\n",
       "      <td>Untitled</td>\n",
       "      <td>Unknown</td>\n",
       "      <td>()</td>\n",
       "      <td>NaN</td>\n",
       "      <td>NaN</td>\n",
       "      <td></td>\n",
       "      <td>c. 1960</td>\n",
       "      <td>Photography</td>\n",
       "    </tr>\n",
       "    <tr>\n",
       "      <th>16670</th>\n",
       "      <td>Inflatable Armchair</td>\n",
       "      <td>Quasar (Nguyen Manh Khanh)</td>\n",
       "      <td>(Vietnamese)</td>\n",
       "      <td>(1934)</td>\n",
       "      <td>NaN</td>\n",
       "      <td></td>\n",
       "      <td>1967-1968</td>\n",
       "      <td>Architecture &amp; Design</td>\n",
       "    </tr>\n",
       "    <tr>\n",
       "      <th>16688</th>\n",
       "      <td>Poster of the French National Railroad</td>\n",
       "      <td>Album-miscellaneous</td>\n",
       "      <td>(Various)</td>\n",
       "      <td>NaN</td>\n",
       "      <td>NaN</td>\n",
       "      <td></td>\n",
       "      <td>1900-1943</td>\n",
       "      <td>Architecture &amp; Design</td>\n",
       "    </tr>\n",
       "    <tr>\n",
       "      <th>16702</th>\n",
       "      <td>Salon de la Plume</td>\n",
       "      <td>Unknown</td>\n",
       "      <td>(Nationality Unknown)</td>\n",
       "      <td>NaN</td>\n",
       "      <td>NaN</td>\n",
       "      <td></td>\n",
       "      <td>1880-1910</td>\n",
       "      <td>Architecture &amp; Design</td>\n",
       "    </tr>\n",
       "    <tr>\n",
       "      <th>16723</th>\n",
       "      <td>Dognat' i peregnat' v tekhniko-ekonomicheskom ...</td>\n",
       "      <td>Unknown</td>\n",
       "      <td>()</td>\n",
       "      <td>NaN</td>\n",
       "      <td>NaN</td>\n",
       "      <td></td>\n",
       "      <td>1931</td>\n",
       "      <td>Prints &amp; Illustrated Books</td>\n",
       "    </tr>\n",
       "  </tbody>\n",
       "</table>\n",
       "<p>791 rows × 8 columns</p>\n",
       "</div>"
      ],
      "text/plain": [
       "                                                   Title   \n",
       "31                                              Untitled  \\\n",
       "90                                             Bar Tools   \n",
       "137                                              Nations   \n",
       "177    El Frente Popular de Madrid Al Frente Popular ...   \n",
       "185                                             Untitled   \n",
       "...                                                  ...   \n",
       "16664                                           Untitled   \n",
       "16670                                Inflatable Armchair   \n",
       "16688             Poster of the French National Railroad   \n",
       "16702                                  Salon de la Plume   \n",
       "16723  Dognat' i peregnat' v tekhniko-ekonomicheskom ...   \n",
       "\n",
       "                           Artist            Nationality BeginDate EndDate   \n",
       "31                        Unknown                     ()       NaN     NaN  \\\n",
       "90                     Studio Opi              (Italian)    (1955)     NaN   \n",
       "137              Slavs and Tatars                     ()    (2005)     NaN   \n",
       "177                    J. Briones              (Spanish)       NaN     NaN   \n",
       "185                       Unknown                     ()       NaN     NaN   \n",
       "...                           ...                    ...       ...     ...   \n",
       "16664                     Unknown                     ()       NaN     NaN   \n",
       "16670  Quasar (Nguyen Manh Khanh)           (Vietnamese)    (1934)     NaN   \n",
       "16688         Album-miscellaneous              (Various)       NaN     NaN   \n",
       "16702                     Unknown  (Nationality Unknown)       NaN     NaN   \n",
       "16723                     Unknown                     ()       NaN     NaN   \n",
       "\n",
       "      Gender       Date                  Department  \n",
       "31              c. 1925                 Photography  \n",
       "90                 1969       Architecture & Design  \n",
       "137                2007  Prints & Illustrated Books  \n",
       "177           1936-1937       Architecture & Design  \n",
       "185           1923-1951                 Photography  \n",
       "...      ...        ...                         ...  \n",
       "16664           c. 1960                 Photography  \n",
       "16670         1967-1968       Architecture & Design  \n",
       "16688         1900-1943       Architecture & Design  \n",
       "16702         1880-1910       Architecture & Design  \n",
       "16723              1931  Prints & Illustrated Books  \n",
       "\n",
       "[791 rows x 8 columns]"
      ]
     },
     "execution_count": 19,
     "metadata": {},
     "output_type": "execute_result"
    }
   ],
   "source": [
    "arts[bol] # boolean indexing"
   ]
  },
  {
   "cell_type": "code",
   "execution_count": 20,
   "id": "101fd8d3",
   "metadata": {},
   "outputs": [
    {
     "data": {
      "text/plain": [
       "31        \n",
       "90        \n",
       "137       \n",
       "177       \n",
       "185       \n",
       "        ..\n",
       "16664     \n",
       "16670     \n",
       "16688     \n",
       "16702     \n",
       "16723     \n",
       "Name: Gender, Length: 791, dtype: object"
      ]
     },
     "execution_count": 20,
     "metadata": {},
     "output_type": "execute_result"
    }
   ],
   "source": [
    "arts.loc[bol, \"Gender\"]"
   ]
  },
  {
   "cell_type": "code",
   "execution_count": 21,
   "id": "6cab8420",
   "metadata": {},
   "outputs": [],
   "source": [
    "arts.loc[bol, \"Gender\"] = \"Gender Unknown\""
   ]
  },
  {
   "cell_type": "code",
   "execution_count": 22,
   "id": "7f296f2b",
   "metadata": {},
   "outputs": [
    {
     "data": {
      "text/plain": [
       "array(['Female', 'Male', 'Gender Unknown'], dtype=object)"
      ]
     },
     "execution_count": 22,
     "metadata": {},
     "output_type": "execute_result"
    }
   ],
   "source": [
    "arts[\"Gender\"].unique()"
   ]
  },
  {
   "cell_type": "code",
   "execution_count": 23,
   "id": "483b0d3f",
   "metadata": {},
   "outputs": [
    {
     "data": {
      "text/html": [
       "<div>\n",
       "<style scoped>\n",
       "    .dataframe tbody tr th:only-of-type {\n",
       "        vertical-align: middle;\n",
       "    }\n",
       "\n",
       "    .dataframe tbody tr th {\n",
       "        vertical-align: top;\n",
       "    }\n",
       "\n",
       "    .dataframe thead th {\n",
       "        text-align: right;\n",
       "    }\n",
       "</style>\n",
       "<table border=\"1\" class=\"dataframe\">\n",
       "  <thead>\n",
       "    <tr style=\"text-align: right;\">\n",
       "      <th></th>\n",
       "      <th>Title</th>\n",
       "      <th>Artist</th>\n",
       "      <th>Nationality</th>\n",
       "      <th>BeginDate</th>\n",
       "      <th>EndDate</th>\n",
       "      <th>Gender</th>\n",
       "      <th>Date</th>\n",
       "      <th>Department</th>\n",
       "    </tr>\n",
       "  </thead>\n",
       "  <tbody>\n",
       "    <tr>\n",
       "      <th>0</th>\n",
       "      <td>Dress MacLeod from Tartan Sets</td>\n",
       "      <td>Sarah Charlesworth</td>\n",
       "      <td>(American)</td>\n",
       "      <td>(1947)</td>\n",
       "      <td>(2013)</td>\n",
       "      <td>Female</td>\n",
       "      <td>1986</td>\n",
       "      <td>Prints &amp; Illustrated Books</td>\n",
       "    </tr>\n",
       "    <tr>\n",
       "      <th>1</th>\n",
       "      <td>Duplicate of plate from folio 11 verso (supple...</td>\n",
       "      <td>Pablo Palazuelo</td>\n",
       "      <td>(Spanish)</td>\n",
       "      <td>(1916)</td>\n",
       "      <td>(2007)</td>\n",
       "      <td>Male</td>\n",
       "      <td>1978</td>\n",
       "      <td>Prints &amp; Illustrated Books</td>\n",
       "    </tr>\n",
       "    <tr>\n",
       "      <th>2</th>\n",
       "      <td>Tailpiece (page 55) from SAGESSE</td>\n",
       "      <td>Maurice Denis</td>\n",
       "      <td>(French)</td>\n",
       "      <td>(1870)</td>\n",
       "      <td>(1943)</td>\n",
       "      <td>Male</td>\n",
       "      <td>1889-1911</td>\n",
       "      <td>Prints &amp; Illustrated Books</td>\n",
       "    </tr>\n",
       "    <tr>\n",
       "      <th>3</th>\n",
       "      <td>Headpiece (page 129) from LIVRET DE FOLASTRIES...</td>\n",
       "      <td>Aristide Maillol</td>\n",
       "      <td>(French)</td>\n",
       "      <td>(1861)</td>\n",
       "      <td>(1944)</td>\n",
       "      <td>Male</td>\n",
       "      <td>1927-1940</td>\n",
       "      <td>Prints &amp; Illustrated Books</td>\n",
       "    </tr>\n",
       "    <tr>\n",
       "      <th>4</th>\n",
       "      <td>97 rue du Bac</td>\n",
       "      <td>Eugène Atget</td>\n",
       "      <td>(French)</td>\n",
       "      <td>(1857)</td>\n",
       "      <td>(1927)</td>\n",
       "      <td>Male</td>\n",
       "      <td>1903</td>\n",
       "      <td>Photography</td>\n",
       "    </tr>\n",
       "    <tr>\n",
       "      <th>...</th>\n",
       "      <td>...</td>\n",
       "      <td>...</td>\n",
       "      <td>...</td>\n",
       "      <td>...</td>\n",
       "      <td>...</td>\n",
       "      <td>...</td>\n",
       "      <td>...</td>\n",
       "      <td>...</td>\n",
       "    </tr>\n",
       "    <tr>\n",
       "      <th>16720</th>\n",
       "      <td>Oval with Points</td>\n",
       "      <td>Henry Moore</td>\n",
       "      <td>(British)</td>\n",
       "      <td>(1898)</td>\n",
       "      <td>(1986)</td>\n",
       "      <td>Male</td>\n",
       "      <td>1968-1969</td>\n",
       "      <td>Painting &amp; Sculpture</td>\n",
       "    </tr>\n",
       "    <tr>\n",
       "      <th>16721</th>\n",
       "      <td>Cementerio de la Ciudad Abierta, Ritoque, Chile</td>\n",
       "      <td>Juan Baixas</td>\n",
       "      <td>(Chilean)</td>\n",
       "      <td>(1942)</td>\n",
       "      <td>NaN</td>\n",
       "      <td>Male</td>\n",
       "      <td>1975</td>\n",
       "      <td>Architecture &amp; Design</td>\n",
       "    </tr>\n",
       "    <tr>\n",
       "      <th>16722</th>\n",
       "      <td>The Catboat</td>\n",
       "      <td>Edward Hopper</td>\n",
       "      <td>(American)</td>\n",
       "      <td>(1882)</td>\n",
       "      <td>(1967)</td>\n",
       "      <td>Male</td>\n",
       "      <td>1922</td>\n",
       "      <td>Prints &amp; Illustrated Books</td>\n",
       "    </tr>\n",
       "    <tr>\n",
       "      <th>16723</th>\n",
       "      <td>Dognat' i peregnat' v tekhniko-ekonomicheskom ...</td>\n",
       "      <td>Unknown</td>\n",
       "      <td>()</td>\n",
       "      <td>NaN</td>\n",
       "      <td>NaN</td>\n",
       "      <td>Gender Unknown</td>\n",
       "      <td>1931</td>\n",
       "      <td>Prints &amp; Illustrated Books</td>\n",
       "    </tr>\n",
       "    <tr>\n",
       "      <th>16724</th>\n",
       "      <td>Plate (page 11) from The Dive</td>\n",
       "      <td>Alex Katz</td>\n",
       "      <td>(American)</td>\n",
       "      <td>(1927)</td>\n",
       "      <td>NaN</td>\n",
       "      <td>Male</td>\n",
       "      <td>2011</td>\n",
       "      <td>Prints &amp; Illustrated Books</td>\n",
       "    </tr>\n",
       "  </tbody>\n",
       "</table>\n",
       "<p>16725 rows × 8 columns</p>\n",
       "</div>"
      ],
      "text/plain": [
       "                                                   Title              Artist   \n",
       "0                         Dress MacLeod from Tartan Sets  Sarah Charlesworth  \\\n",
       "1      Duplicate of plate from folio 11 verso (supple...     Pablo Palazuelo   \n",
       "2                       Tailpiece (page 55) from SAGESSE       Maurice Denis   \n",
       "3      Headpiece (page 129) from LIVRET DE FOLASTRIES...    Aristide Maillol   \n",
       "4                                          97 rue du Bac        Eugène Atget   \n",
       "...                                                  ...                 ...   \n",
       "16720                                   Oval with Points         Henry Moore   \n",
       "16721    Cementerio de la Ciudad Abierta, Ritoque, Chile         Juan Baixas   \n",
       "16722                                        The Catboat       Edward Hopper   \n",
       "16723  Dognat' i peregnat' v tekhniko-ekonomicheskom ...             Unknown   \n",
       "16724                      Plate (page 11) from The Dive           Alex Katz   \n",
       "\n",
       "      Nationality BeginDate EndDate          Gender       Date   \n",
       "0      (American)    (1947)  (2013)          Female       1986  \\\n",
       "1       (Spanish)    (1916)  (2007)            Male       1978   \n",
       "2        (French)    (1870)  (1943)            Male  1889-1911   \n",
       "3        (French)    (1861)  (1944)            Male  1927-1940   \n",
       "4        (French)    (1857)  (1927)            Male       1903   \n",
       "...           ...       ...     ...             ...        ...   \n",
       "16720   (British)    (1898)  (1986)            Male  1968-1969   \n",
       "16721   (Chilean)    (1942)     NaN            Male       1975   \n",
       "16722  (American)    (1882)  (1967)            Male       1922   \n",
       "16723          ()       NaN     NaN  Gender Unknown       1931   \n",
       "16724  (American)    (1927)     NaN            Male       2011   \n",
       "\n",
       "                       Department  \n",
       "0      Prints & Illustrated Books  \n",
       "1      Prints & Illustrated Books  \n",
       "2      Prints & Illustrated Books  \n",
       "3      Prints & Illustrated Books  \n",
       "4                     Photography  \n",
       "...                           ...  \n",
       "16720        Painting & Sculpture  \n",
       "16721       Architecture & Design  \n",
       "16722  Prints & Illustrated Books  \n",
       "16723  Prints & Illustrated Books  \n",
       "16724  Prints & Illustrated Books  \n",
       "\n",
       "[16725 rows x 8 columns]"
      ]
     },
     "execution_count": 23,
     "metadata": {},
     "output_type": "execute_result"
    }
   ],
   "source": [
    "arts"
   ]
  },
  {
   "cell_type": "code",
   "execution_count": 24,
   "id": "d081da1a",
   "metadata": {},
   "outputs": [],
   "source": [
    "arts[\"Nationality\"] = arts[\"Nationality\"].str.replace(\"(\",\"\").str.replace(\")\",\"\")"
   ]
  },
  {
   "cell_type": "code",
   "execution_count": 26,
   "id": "d7d9de02",
   "metadata": {},
   "outputs": [
    {
     "data": {
      "text/html": [
       "<div>\n",
       "<style scoped>\n",
       "    .dataframe tbody tr th:only-of-type {\n",
       "        vertical-align: middle;\n",
       "    }\n",
       "\n",
       "    .dataframe tbody tr th {\n",
       "        vertical-align: top;\n",
       "    }\n",
       "\n",
       "    .dataframe thead th {\n",
       "        text-align: right;\n",
       "    }\n",
       "</style>\n",
       "<table border=\"1\" class=\"dataframe\">\n",
       "  <thead>\n",
       "    <tr style=\"text-align: right;\">\n",
       "      <th></th>\n",
       "      <th>Title</th>\n",
       "      <th>Artist</th>\n",
       "      <th>Nationality</th>\n",
       "      <th>BeginDate</th>\n",
       "      <th>EndDate</th>\n",
       "      <th>Gender</th>\n",
       "      <th>Date</th>\n",
       "      <th>Department</th>\n",
       "    </tr>\n",
       "  </thead>\n",
       "  <tbody>\n",
       "    <tr>\n",
       "      <th>0</th>\n",
       "      <td>Dress MacLeod from Tartan Sets</td>\n",
       "      <td>Sarah Charlesworth</td>\n",
       "      <td>American</td>\n",
       "      <td>(1947)</td>\n",
       "      <td>(2013)</td>\n",
       "      <td>Female</td>\n",
       "      <td>1986</td>\n",
       "      <td>Prints &amp; Illustrated Books</td>\n",
       "    </tr>\n",
       "    <tr>\n",
       "      <th>1</th>\n",
       "      <td>Duplicate of plate from folio 11 verso (supple...</td>\n",
       "      <td>Pablo Palazuelo</td>\n",
       "      <td>Spanish</td>\n",
       "      <td>(1916)</td>\n",
       "      <td>(2007)</td>\n",
       "      <td>Male</td>\n",
       "      <td>1978</td>\n",
       "      <td>Prints &amp; Illustrated Books</td>\n",
       "    </tr>\n",
       "    <tr>\n",
       "      <th>2</th>\n",
       "      <td>Tailpiece (page 55) from SAGESSE</td>\n",
       "      <td>Maurice Denis</td>\n",
       "      <td>French</td>\n",
       "      <td>(1870)</td>\n",
       "      <td>(1943)</td>\n",
       "      <td>Male</td>\n",
       "      <td>1889-1911</td>\n",
       "      <td>Prints &amp; Illustrated Books</td>\n",
       "    </tr>\n",
       "    <tr>\n",
       "      <th>3</th>\n",
       "      <td>Headpiece (page 129) from LIVRET DE FOLASTRIES...</td>\n",
       "      <td>Aristide Maillol</td>\n",
       "      <td>French</td>\n",
       "      <td>(1861)</td>\n",
       "      <td>(1944)</td>\n",
       "      <td>Male</td>\n",
       "      <td>1927-1940</td>\n",
       "      <td>Prints &amp; Illustrated Books</td>\n",
       "    </tr>\n",
       "    <tr>\n",
       "      <th>4</th>\n",
       "      <td>97 rue du Bac</td>\n",
       "      <td>Eugène Atget</td>\n",
       "      <td>French</td>\n",
       "      <td>(1857)</td>\n",
       "      <td>(1927)</td>\n",
       "      <td>Male</td>\n",
       "      <td>1903</td>\n",
       "      <td>Photography</td>\n",
       "    </tr>\n",
       "  </tbody>\n",
       "</table>\n",
       "</div>"
      ],
      "text/plain": [
       "                                               Title              Artist   \n",
       "0                     Dress MacLeod from Tartan Sets  Sarah Charlesworth  \\\n",
       "1  Duplicate of plate from folio 11 verso (supple...     Pablo Palazuelo   \n",
       "2                   Tailpiece (page 55) from SAGESSE       Maurice Denis   \n",
       "3  Headpiece (page 129) from LIVRET DE FOLASTRIES...    Aristide Maillol   \n",
       "4                                      97 rue du Bac        Eugène Atget   \n",
       "\n",
       "  Nationality BeginDate EndDate  Gender       Date                  Department  \n",
       "0    American    (1947)  (2013)  Female       1986  Prints & Illustrated Books  \n",
       "1     Spanish    (1916)  (2007)    Male       1978  Prints & Illustrated Books  \n",
       "2      French    (1870)  (1943)    Male  1889-1911  Prints & Illustrated Books  \n",
       "3      French    (1861)  (1944)    Male  1927-1940  Prints & Illustrated Books  \n",
       "4      French    (1857)  (1927)    Male       1903                 Photography  "
      ]
     },
     "execution_count": 26,
     "metadata": {},
     "output_type": "execute_result"
    }
   ],
   "source": [
    "arts.head()"
   ]
  },
  {
   "cell_type": "code",
   "execution_count": 28,
   "id": "1326f2c8",
   "metadata": {},
   "outputs": [
    {
     "data": {
      "text/plain": [
       "array(['American', 'Spanish', 'French', 'South African', 'Canadian',\n",
       "       'Czech', 'Belgian', 'Russian', 'British', 'German', '', 'Swiss',\n",
       "       'Polish', 'Japanese', 'Portuguese', 'Austrian', 'Australian',\n",
       "       'Italian', 'Chilean', 'Colombian', 'Mexican', 'Brazilian', 'Dutch',\n",
       "       'Romanian', 'Venezuelan', 'Korean', 'Israeli', 'Argentine',\n",
       "       'Indian', 'Nationality unknown', 'Swedish', 'Yugoslav', 'Cuban',\n",
       "       'Nationality Unknown', 'Various', 'Luxembourgish', 'Croatian',\n",
       "       'Bulgarian', 'Hungarian', 'Georgian', 'Puerto Rican', 'Danish',\n",
       "       'Serbian', 'Pakistani', 'Ecuadorian', 'Chinese', 'Iranian',\n",
       "       'Finnish', 'Lebanese', 'Thai', 'Cambodian', 'Scottish', 'Kenyan',\n",
       "       'Latvian', 'Sudanese', 'Uruguayan', 'Peruvian', 'New Zealander',\n",
       "       'Moroccan', 'Guatemalan', 'Cameroonian', 'Egyptian', 'Nigerian',\n",
       "       'Icelandic', 'Haitian', 'Tajik', 'Irish', 'Norwegian',\n",
       "       'Costa Rican', 'Slovenian', 'Turkish', 'Mozambican', 'Palestinian',\n",
       "       'Ukrainian', 'Angolan', 'Tunisian', 'Greek', 'Zimbabwean',\n",
       "       'Bahamian', 'Vietnamese', 'Panamanian', 'Canadian Inuit', 'Malian',\n",
       "       'Filipino'], dtype=object)"
      ]
     },
     "execution_count": 28,
     "metadata": {},
     "output_type": "execute_result"
    }
   ],
   "source": [
    "arts[\"Nationality\"].unique()"
   ]
  },
  {
   "cell_type": "code",
   "execution_count": 29,
   "id": "8327aee2",
   "metadata": {},
   "outputs": [],
   "source": [
    "arts.loc[arts[\"Nationality\"] == '', \"Nationality\"] = 'Nationality Unknown'"
   ]
  },
  {
   "cell_type": "code",
   "execution_count": 30,
   "id": "38c5bed2",
   "metadata": {},
   "outputs": [],
   "source": [
    "arts[\"Nationality\"] = arts[\"Nationality\"].str.title()"
   ]
  },
  {
   "cell_type": "code",
   "execution_count": 31,
   "id": "9a4bdcd5",
   "metadata": {},
   "outputs": [
    {
     "data": {
      "text/plain": [
       "array(['American', 'Spanish', 'French', 'South African', 'Canadian',\n",
       "       'Czech', 'Belgian', 'Russian', 'British', 'German',\n",
       "       'Nationality Unknown', 'Swiss', 'Polish', 'Japanese', 'Portuguese',\n",
       "       'Austrian', 'Australian', 'Italian', 'Chilean', 'Colombian',\n",
       "       'Mexican', 'Brazilian', 'Dutch', 'Romanian', 'Venezuelan',\n",
       "       'Korean', 'Israeli', 'Argentine', 'Indian', 'Swedish', 'Yugoslav',\n",
       "       'Cuban', 'Various', 'Luxembourgish', 'Croatian', 'Bulgarian',\n",
       "       'Hungarian', 'Georgian', 'Puerto Rican', 'Danish', 'Serbian',\n",
       "       'Pakistani', 'Ecuadorian', 'Chinese', 'Iranian', 'Finnish',\n",
       "       'Lebanese', 'Thai', 'Cambodian', 'Scottish', 'Kenyan', 'Latvian',\n",
       "       'Sudanese', 'Uruguayan', 'Peruvian', 'New Zealander', 'Moroccan',\n",
       "       'Guatemalan', 'Cameroonian', 'Egyptian', 'Nigerian', 'Icelandic',\n",
       "       'Haitian', 'Tajik', 'Irish', 'Norwegian', 'Costa Rican',\n",
       "       'Slovenian', 'Turkish', 'Mozambican', 'Palestinian', 'Ukrainian',\n",
       "       'Angolan', 'Tunisian', 'Greek', 'Zimbabwean', 'Bahamian',\n",
       "       'Vietnamese', 'Panamanian', 'Canadian Inuit', 'Malian', 'Filipino'],\n",
       "      dtype=object)"
      ]
     },
     "execution_count": 31,
     "metadata": {},
     "output_type": "execute_result"
    }
   ],
   "source": [
    "arts[\"Nationality\"].unique()"
   ]
  },
  {
   "cell_type": "code",
   "execution_count": null,
   "id": "9ff5d3d8",
   "metadata": {},
   "outputs": [],
   "source": []
  }
 ],
 "metadata": {
  "kernelspec": {
   "display_name": "Python 3 (ipykernel)",
   "language": "python",
   "name": "python3"
  },
  "language_info": {
   "codemirror_mode": {
    "name": "ipython",
    "version": 3
   },
   "file_extension": ".py",
   "mimetype": "text/x-python",
   "name": "python",
   "nbconvert_exporter": "python",
   "pygments_lexer": "ipython3",
   "version": "3.11.5"
  }
 },
 "nbformat": 4,
 "nbformat_minor": 5
}
