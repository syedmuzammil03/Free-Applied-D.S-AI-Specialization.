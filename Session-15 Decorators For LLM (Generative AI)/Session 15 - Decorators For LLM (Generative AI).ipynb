{
 "cells": [
  {
   "cell_type": "markdown",
   "id": "b303db5b",
   "metadata": {},
   "source": [
    "# Decorators"
   ]
  },
  {
   "cell_type": "markdown",
   "id": "edc36906",
   "metadata": {},
   "source": [
    "1. Functions as an objects\n",
    "2. Functions as an arguments\n",
    "3. Functions as an inner (nested) Functions"
   ]
  },
  {
   "cell_type": "code",
   "execution_count": 11,
   "id": "c1a4dedf",
   "metadata": {},
   "outputs": [],
   "source": [
    "def adjust_lighting():\n",
    "    print(\"Adjusting Lighting\")"
   ]
  },
  {
   "cell_type": "code",
   "execution_count": 12,
   "id": "004c760d",
   "metadata": {},
   "outputs": [
    {
     "name": "stdout",
     "output_type": "stream",
     "text": [
      "Adjusting Lighting\n"
     ]
    }
   ],
   "source": [
    "adjust_lighting()"
   ]
  },
  {
   "cell_type": "code",
   "execution_count": 13,
   "id": "c89eb3c5",
   "metadata": {},
   "outputs": [],
   "source": [
    "l = [1,2,3]\n",
    "s = \"Waqas\""
   ]
  },
  {
   "cell_type": "code",
   "execution_count": 14,
   "id": "79c17ac0",
   "metadata": {},
   "outputs": [],
   "source": [
    "adl = adjust_lighting"
   ]
  },
  {
   "cell_type": "code",
   "execution_count": 15,
   "id": "f72718b6",
   "metadata": {},
   "outputs": [
    {
     "name": "stdout",
     "output_type": "stream",
     "text": [
      "Adjusting Lighting\n"
     ]
    }
   ],
   "source": [
    "adl()"
   ]
  },
  {
   "cell_type": "code",
   "execution_count": 16,
   "id": "19b594d3",
   "metadata": {},
   "outputs": [],
   "source": [
    "def log_execution(original_function):\n",
    "    print(\"I am calling a function\")\n",
    "    original_function()\n",
    "    print(\"Function has been called\")"
   ]
  },
  {
   "cell_type": "code",
   "execution_count": 17,
   "id": "cf41c9da",
   "metadata": {},
   "outputs": [
    {
     "name": "stdout",
     "output_type": "stream",
     "text": [
      "I am calling a function\n",
      "Adjusting Lighting\n",
      "Function has been called\n"
     ]
    }
   ],
   "source": [
    "log_execution(adjust_lighting)"
   ]
  },
  {
   "cell_type": "code",
   "execution_count": 18,
   "id": "e8e03a45",
   "metadata": {},
   "outputs": [],
   "source": [
    "def log_execution():\n",
    "    def wrapper():\n",
    "        return \"Some values\"\n",
    "    \n",
    "    return wrapper"
   ]
  },
  {
   "cell_type": "code",
   "execution_count": 19,
   "id": "5c28e36c",
   "metadata": {},
   "outputs": [
    {
     "data": {
      "text/plain": [
       "<function __main__.log_execution.<locals>.wrapper()>"
      ]
     },
     "execution_count": 19,
     "metadata": {},
     "output_type": "execute_result"
    }
   ],
   "source": [
    "fun_call = log_execution()\n",
    "fun_call"
   ]
  },
  {
   "cell_type": "code",
   "execution_count": 20,
   "id": "6edf7ee6",
   "metadata": {},
   "outputs": [
    {
     "data": {
      "text/plain": [
       "'Some values'"
      ]
     },
     "execution_count": 20,
     "metadata": {},
     "output_type": "execute_result"
    }
   ],
   "source": [
    "fun_call()"
   ]
  },
  {
   "cell_type": "code",
   "execution_count": 21,
   "id": "6272edb5",
   "metadata": {},
   "outputs": [],
   "source": [
    "def log_execution():\n",
    "    def wrapper():\n",
    "        return \"Some values\"\n",
    "    \n",
    "    return wrapper()"
   ]
  },
  {
   "cell_type": "code",
   "execution_count": 22,
   "id": "ceccc8b6",
   "metadata": {},
   "outputs": [],
   "source": [
    "fun_call = log_execution()"
   ]
  },
  {
   "cell_type": "code",
   "execution_count": 23,
   "id": "ac28658e",
   "metadata": {},
   "outputs": [
    {
     "data": {
      "text/plain": [
       "'Some values'"
      ]
     },
     "execution_count": 23,
     "metadata": {},
     "output_type": "execute_result"
    }
   ],
   "source": [
    "fun_call"
   ]
  },
  {
   "cell_type": "code",
   "execution_count": 24,
   "id": "86c60ccd",
   "metadata": {},
   "outputs": [],
   "source": [
    "def adjust_lighting():\n",
    "    print(\"Adjusting Lighting\")\n",
    "    \n",
    "def log_execution(original_function):\n",
    "    def wrapper():\n",
    "        print(\"Executing smart home system...\")\n",
    "        original_function()\n",
    "        print(\"Smart home system has been executed\")\n",
    "    return wrapper"
   ]
  },
  {
   "cell_type": "code",
   "execution_count": 25,
   "id": "dea37f0f",
   "metadata": {},
   "outputs": [],
   "source": [
    "decorated_adjust_lighting = log_execution(adjust_lighting)"
   ]
  },
  {
   "cell_type": "code",
   "execution_count": 26,
   "id": "27a79dfd",
   "metadata": {},
   "outputs": [
    {
     "data": {
      "text/plain": [
       "<function __main__.log_execution.<locals>.wrapper()>"
      ]
     },
     "execution_count": 26,
     "metadata": {},
     "output_type": "execute_result"
    }
   ],
   "source": [
    "decorated_adjust_lighting"
   ]
  },
  {
   "cell_type": "code",
   "execution_count": 28,
   "id": "a9da94ca",
   "metadata": {},
   "outputs": [
    {
     "name": "stdout",
     "output_type": "stream",
     "text": [
      "Executing smart home system...\n",
      "Adjusting Lighting\n",
      "Smart home system has been executed\n"
     ]
    }
   ],
   "source": [
    "decorated_adjust_lighting()"
   ]
  },
  {
   "cell_type": "markdown",
   "id": "96b890f9",
   "metadata": {},
   "source": [
    "# syntatic sugar\n",
    "\n",
    "@"
   ]
  },
  {
   "cell_type": "code",
   "execution_count": 29,
   "id": "97ab6e38",
   "metadata": {},
   "outputs": [],
   "source": [
    "def log_execution(original_function):\n",
    "    def wrapper():\n",
    "        print(\"Executing smart home system...\")\n",
    "        original_function()\n",
    "        print(\"Smart home system has been executed\")\n",
    "    return wrapper"
   ]
  },
  {
   "cell_type": "code",
   "execution_count": 30,
   "id": "ca3d6f0b",
   "metadata": {},
   "outputs": [],
   "source": [
    "@log_execution \n",
    "def adjust_lighting():\n",
    "    print(\"Adjusting Lighting\")\n",
    "    \n",
    "# log_execution(adjust_lighting)"
   ]
  },
  {
   "cell_type": "code",
   "execution_count": 31,
   "id": "886361db",
   "metadata": {},
   "outputs": [
    {
     "name": "stdout",
     "output_type": "stream",
     "text": [
      "Executing smart home system...\n",
      "Adjusting Lighting\n",
      "Smart home system has been executed\n"
     ]
    }
   ],
   "source": [
    "adjust_lighting()"
   ]
  },
  {
   "cell_type": "code",
   "execution_count": null,
   "id": "46051fea",
   "metadata": {},
   "outputs": [],
   "source": []
  }
 ],
 "metadata": {
  "kernelspec": {
   "display_name": "Python 3 (ipykernel)",
   "language": "python",
   "name": "python3"
  },
  "language_info": {
   "codemirror_mode": {
    "name": "ipython",
    "version": 3
   },
   "file_extension": ".py",
   "mimetype": "text/x-python",
   "name": "python",
   "nbconvert_exporter": "python",
   "pygments_lexer": "ipython3",
   "version": "3.11.3"
  }
 },
 "nbformat": 4,
 "nbformat_minor": 5
}
