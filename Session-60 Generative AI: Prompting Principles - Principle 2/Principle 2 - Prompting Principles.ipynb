{
 "cells": [
  {
   "cell_type": "markdown",
   "id": "232f6eef",
   "metadata": {
    "height": 81
   },
   "source": [
    "# Prompting Principles\n",
    "\n",
    "## Principle 1: Write clear and specific instructions\n",
    "\n",
    "### Tactics\n",
    "\n",
    "* Tactic 1: Use delimiters to clearly indicate distinct parts of the input\n",
    "* Tactic 2: Ask for a structured output\n",
    "* Tactic 3: Ask the model to check whether conditions are satisfied\n",
    "* Tactic 4: \"Few-shot\" prompting"
   ]
  },
  {
   "cell_type": "code",
   "execution_count": 1,
   "id": "6c382975",
   "metadata": {
    "height": 132,
    "tags": []
   },
   "outputs": [],
   "source": [
    "import openai\n",
    "import os\n",
    "\n",
    "from dotenv import load_dotenv\n",
    "load_dotenv()\n",
    "\n",
    "openai.api_key  = os.getenv('OPENAI_API_KEY')"
   ]
  },
  {
   "cell_type": "code",
   "execution_count": 3,
   "id": "a7dff174",
   "metadata": {
    "height": 132,
    "tags": []
   },
   "outputs": [],
   "source": [
    "def get_completion(prompt, model=\"gpt-3.5-turbo\"):\n",
    "    messages = [{\"role\": \"user\", \"content\": prompt}]\n",
    "    response = openai.ChatCompletion.create(\n",
    "        model=model,\n",
    "        messages=messages,\n",
    "    )\n",
    "    return response.choices[0].message[\"content\"]"
   ]
  },
  {
   "cell_type": "markdown",
   "id": "ece7a8ee-1a2d-415d-8c10-500ecff24b10",
   "metadata": {},
   "source": [
    "## Principle 2: Give the model time to “think” \n",
    "\n",
    "### Tactic 1: Specify the steps required to complete a task"
   ]
  },
  {
   "cell_type": "code",
   "execution_count": 4,
   "id": "5e7d6860",
   "metadata": {
    "height": 489,
    "tags": []
   },
   "outputs": [
    {
     "name": "stdout",
     "output_type": "stream",
     "text": [
      "Completion for prompt 1:\n",
      "1 - A lone scarecrow in a quiet village meets a mischievous crow named Oliver and together they embark on a journey of friendship and courage.\n",
      "2 - ایک آکیلا بھٹیے میدان میں ایک شرارتی کوا جو اولیور کہلاتا ہے سے ملتا ہے اور مل کر دوستی اور بہادری کی سفر پر نکلتے ہیں۔\n",
      "3 - بھٹیا، اولیور\n",
      "4 - \n",
      "{\n",
      "  \"urdu_summary\": \"ایک آکیلا بھٹیے میدان میں ایک شرارتی کوا جو اولیور کہلاتا ہے سے ملتا ہے اور مل کر دوستی اور بہادری کی سفر پر نکلتے ہیں۔\",\n",
      "  \"num_names\": 2\n",
      "}\n"
     ]
    }
   ],
   "source": [
    "text = f\"\"\"\n",
    "In a quiet village nestled between rolling hills, a lone scarecrow stood watch over the golden fields. \\\n",
    "Every day, it gazed at the passing clouds, dreaming of adventures beyond the horizon. One windy night, \\\n",
    "a mischievous crow named Oliver landed on the scarecrow's outstretched arm, seeking shelter from the storm. \\\n",
    "Surprised but curious, the scarecrow listened intently as Oliver recounted tales of faraway lands and daring escapades. \\\n",
    "Inspired by the crow's stories, the scarecrow yearned to experience the world beyond its post. \\\n",
    "With a newfound sense of purpose, the scarecrow bid farewell to the fields and set off into the unknown, \\\n",
    "guided by the stars and fueled by dreams of grand adventures. And so, the unlikely duo of scarecrow and crow \\\n",
    "embarked on a journey that would forever change their destinies, teaching them the true meaning of friendship, \\\n",
    "courage, and the endless possibilities of a brave heart.\n",
    "\"\"\"\n",
    "# example 1\n",
    "prompt_1 = f\"\"\"\n",
    "Perform the following actions: \n",
    "1 - Summarize the following text delimited by triple \\\n",
    "backticks with 1 sentence.\n",
    "2 - Translate the summary into Urdu.\n",
    "3 - List each name in the Urdu summary.\n",
    "4 - Output a json object that contains the following \\\n",
    "keys: urdu_summary, num_names.\n",
    "\n",
    "Separate your answers with line breaks.\n",
    "\n",
    "Text:```{text}```\n",
    "\"\"\"\n",
    "response = get_completion(prompt_1)\n",
    "print(\"Completion for prompt 1:\")\n",
    "print(response)"
   ]
  },
  {
   "cell_type": "markdown",
   "id": "d0bb1dcf-95f5-4ee1-8c25-8b2abd5f0f0d",
   "metadata": {},
   "source": [
    "#### Ask for output in a specified format"
   ]
  },
  {
   "cell_type": "code",
   "execution_count": 5,
   "id": "3e4222cc",
   "metadata": {
    "height": 370,
    "tags": []
   },
   "outputs": [
    {
     "name": "stdout",
     "output_type": "stream",
     "text": [
      "\n",
      "Completion for prompt 2:\n",
      "Summary: A scarecrow and a crow form an unlikely friendship and set off on a journey together, discovering the true meaning of friendship and courage. \n",
      "Translation: ایک خوفناک اور ایک کوا ایک غیر متوقع دوستی قائم کرتے ہیں اور ایک ساتھ سفر پر نکل جاتے ہیں، دوستی اور حوصلہ کا حقیقی مطلب دیکھ کر. \n",
      "Names: scarecrow (خوفناک), crow (کوا)\n",
      "Output JSON: {\"f_summary\": \"A scarecrow and a crow form an unlikely friendship and set off on a journey together, discovering the true meaning of friendship and courage.\", \"num_names\": 2}\n"
     ]
    }
   ],
   "source": [
    "prompt_2 = f\"\"\"\n",
    "Your task is to perform the following actions: \n",
    "1 - Summarize the following text delimited by \n",
    "  <> with 1 sentence.\n",
    "2 - Translate the summary into Urdu.\n",
    "3 - List each name in the Urdu summary.\n",
    "4 - Output a json object that contains the \n",
    "  following keys: f_summary, num_names.\n",
    "\n",
    "Use the following format:\n",
    "Text: <text to summarize>\n",
    "Summary: <summary>\n",
    "Translation: <summary translation>\n",
    "Names: <list of names in summary>\n",
    "Output JSON: <json with summary and num_names>\n",
    "\n",
    "Text: <{text}>\n",
    "\"\"\"\n",
    "response = get_completion(prompt_2)\n",
    "print(\"\\nCompletion for prompt 2:\")\n",
    "print(response)"
   ]
  },
  {
   "cell_type": "markdown",
   "id": "fec80fdb-92db-48f6-8f1d-b03c26385bad",
   "metadata": {},
   "source": [
    "### Tactic 2: Instruct the model to work out its own solution before rushing to a conclusion"
   ]
  },
  {
   "cell_type": "code",
   "execution_count": 6,
   "id": "ff5cc985",
   "metadata": {
    "height": 421,
    "tags": []
   },
   "outputs": [
    {
     "name": "stdout",
     "output_type": "stream",
     "text": [
      "The student's solution is not entirely correct. The total cost calculation should not include the land cost because it is a one-time cost and not part of the yearly operations cost. The correct total cost should be:\n",
      "\n",
      "Total cost: 250x + 100,000 + 100x = 350x + 100,000\n",
      "\n",
      "So the correct total cost for the first year of operations as a function of the number of square feet is 350x + 100,000.\n"
     ]
    }
   ],
   "source": [
    "prompt = f\"\"\"\n",
    "Determine if the student's solution is correct or not.\n",
    "\n",
    "Question:\n",
    "I'm building a solar power installation and I need \\\n",
    " help working out the financials. \n",
    "- Land costs $100 / square foot\n",
    "- I can buy solar panels for $250 / square foot\n",
    "- I negotiated a contract for maintenance that will cost \\ \n",
    "me a flat $100k per year, and an additional $10 / square \\\n",
    "foot\n",
    "What is the total cost for the first year of operations \n",
    "as a function of the number of square feet.\n",
    "\n",
    "Student's Solution:\n",
    "Let x be the size of the installation in square feet.\n",
    "Costs:\n",
    "1. Land cost: 100x\n",
    "2. Solar panel cost: 250x\n",
    "3. Maintenance cost: 100,000 + 100x\n",
    "Total cost: 100x + 250x + 100,000 + 100x = 450x + 100,000\n",
    "\"\"\"\n",
    "response = get_completion(prompt)\n",
    "print(response)"
   ]
  },
  {
   "cell_type": "code",
   "execution_count": 8,
   "id": "703f7003",
   "metadata": {
    "height": 999,
    "tags": []
   },
   "outputs": [
    {
     "name": "stdout",
     "output_type": "stream",
     "text": [
      "Total cost = Land cost + Solar panel cost + Maintenance cost\n",
      "Total cost = ($100 * x) + ($250 * x) + ($100,000 + ($10 * x))\n",
      "Total cost = $100x + $250x + $100,000 + $10x \n",
      "Total cost = $360x + $100,000\n",
      "\n",
      "My solution:\n",
      "Total cost = $360x + $100,000\n",
      "```\n",
      "Is the student's solution the same as actual solution just calculated:\n",
      "```\n",
      "No\n",
      "```\n",
      "Student grade:\n",
      "```\n",
      "incorrect\n"
     ]
    }
   ],
   "source": [
    "prompt = f\"\"\"\n",
    "Your task is to determine if the student's solution \\\n",
    "is correct or not.\n",
    "To solve the problem do the following:\n",
    "- First, work out your own solution to the problem including the final total. \n",
    "- Then compare your solution to the student's solution \\ \n",
    "and evaluate if the student's solution is correct or not. \n",
    "Don't decide if the student's solution is correct until \n",
    "you have done the problem yourself.\n",
    "\n",
    "Use the following format:\n",
    "Question:\n",
    "```\n",
    "question here\n",
    "```\n",
    "Student's solution:\n",
    "```\n",
    "student's solution here\n",
    "```\n",
    "Actual solution:\n",
    "```\n",
    "steps to work out the solution and your solution here\n",
    "```\n",
    "Is the student's solution the same as actual solution \\\n",
    "just calculated:\n",
    "```\n",
    "yes or no\n",
    "```\n",
    "Student grade:\n",
    "```\n",
    "correct or incorrect\n",
    "```\n",
    "\n",
    "Question:\n",
    "```\n",
    "I'm building a solar power installation and I need help \\\n",
    "working out the financials. \n",
    "- Land costs $100 / square foot\n",
    "- I can buy solar panels for $250 / square foot\n",
    "- I negotiated a contract for maintenance that will cost \\\n",
    "me a flat $100k per year, and an additional $10 / square \\\n",
    "foot\n",
    "What is the total cost for the first year of operations \\\n",
    "as a function of the number of square feet.\n",
    "``` \n",
    "Student's solution:\n",
    "```\n",
    "Let x be the size of the installation in square feet.\n",
    "Costs:\n",
    "1. Land cost: 100x\n",
    "2. Solar panel cost: 250x\n",
    "3. Maintenance cost: 100,000 + 100x\n",
    "Total cost: 100x + 250x + 100,000 + 100x = 450x + 100,000\n",
    "```\n",
    "Actual solution:\n",
    "\"\"\"\n",
    "response = get_completion(prompt)\n",
    "print(response)"
   ]
  },
  {
   "cell_type": "code",
   "execution_count": null,
   "id": "2b923cc6",
   "metadata": {
    "height": 30
   },
   "outputs": [],
   "source": []
  },
  {
   "cell_type": "code",
   "execution_count": null,
   "id": "f92c1dcc-1cef-42f7-9291-fa1dfa9fcc1b",
   "metadata": {
    "height": 30
   },
   "outputs": [],
   "source": []
  }
 ],
 "metadata": {
  "kernelspec": {
   "display_name": "Python 3 (ipykernel)",
   "language": "python",
   "name": "python3"
  },
  "language_info": {
   "codemirror_mode": {
    "name": "ipython",
    "version": 3
   },
   "file_extension": ".py",
   "mimetype": "text/x-python",
   "name": "python",
   "nbconvert_exporter": "python",
   "pygments_lexer": "ipython3",
   "version": "3.9.16"
  }
 },
 "nbformat": 4,
 "nbformat_minor": 5
}
