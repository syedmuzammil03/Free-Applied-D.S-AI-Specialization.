{
 "cells": [
  {
   "cell_type": "markdown",
   "id": "d38b83e6",
   "metadata": {},
   "source": [
    "# PEMDAS"
   ]
  },
  {
   "cell_type": "code",
   "execution_count": 1,
   "id": "a93a2a90",
   "metadata": {},
   "outputs": [],
   "source": [
    "# 2+3*2+(3-2)**4\n",
    "\n",
    "\n",
    "# 2+3*2+(1)**4\n",
    "\n",
    "# 2+3*2+1\n",
    "\n",
    "# 2+6+1"
   ]
  },
  {
   "cell_type": "code",
   "execution_count": 2,
   "id": "07398c11",
   "metadata": {},
   "outputs": [
    {
     "data": {
      "text/plain": [
       "9"
      ]
     },
     "execution_count": 2,
     "metadata": {},
     "output_type": "execute_result"
    }
   ],
   "source": [
    "2+3*2+(3-2)**4\n",
    "\n",
    "\n",
    "2+3*2+(1)**4\n",
    "\n",
    "2+3*2+1\n",
    "\n",
    "2+6+1"
   ]
  },
  {
   "cell_type": "code",
   "execution_count": 24,
   "id": "76f723a0",
   "metadata": {},
   "outputs": [
    {
     "ename": "TypeError",
     "evalue": "'str' object is not callable",
     "output_type": "error",
     "traceback": [
      "\u001b[1;31m---------------------------------------------------------------------------\u001b[0m",
      "\u001b[1;31mTypeError\u001b[0m                                 Traceback (most recent call last)",
      "Cell \u001b[1;32mIn[24], line 1\u001b[0m\n\u001b[1;32m----> 1\u001b[0m \u001b[38;5;28;43mprint\u001b[39;49m\u001b[43m(\u001b[49m\u001b[38;5;241;43m2\u001b[39;49m\u001b[38;5;241;43m+\u001b[39;49m\u001b[38;5;241;43m3\u001b[39;49m\u001b[38;5;241;43m*\u001b[39;49m\u001b[38;5;241;43m2\u001b[39;49m\u001b[38;5;241;43m+\u001b[39;49m\u001b[43m(\u001b[49m\u001b[38;5;241;43m3\u001b[39;49m\u001b[38;5;241;43m-\u001b[39;49m\u001b[38;5;241;43m2\u001b[39;49m\u001b[43m)\u001b[49m\u001b[38;5;241;43m*\u001b[39;49m\u001b[38;5;241;43m*\u001b[39;49m\u001b[38;5;241;43m4\u001b[39;49m\u001b[43m)\u001b[49m \u001b[38;5;66;03m# line of code\u001b[39;00m\n",
      "\u001b[1;31mTypeError\u001b[0m: 'str' object is not callable"
     ]
    }
   ],
   "source": [
    "print(2+3*2+(3-2)**4) # line of code\n"
   ]
  },
  {
   "cell_type": "code",
   "execution_count": 4,
   "id": "c00ec281",
   "metadata": {},
   "outputs": [
    {
     "name": "stdout",
     "output_type": "stream",
     "text": [
      "9\n"
     ]
    },
    {
     "data": {
      "text/plain": [
       "9"
      ]
     },
     "execution_count": 4,
     "metadata": {},
     "output_type": "execute_result"
    }
   ],
   "source": [
    "print(2+3*2+(3-2)**4) # line of code\n",
    "\n",
    "\n",
    "2+3*2+(1)**4\n",
    "\n",
    "2+3*2+1\n",
    "\n",
    "2+6+1\n",
    "\n",
    "# code, programm, Computer Programm"
   ]
  },
  {
   "cell_type": "code",
   "execution_count": 5,
   "id": "8a6f3366",
   "metadata": {},
   "outputs": [],
   "source": [
    "num = 2+3*2+(3-2)**4 # '=' assignment operator"
   ]
  },
  {
   "cell_type": "code",
   "execution_count": 6,
   "id": "d0017967",
   "metadata": {},
   "outputs": [
    {
     "data": {
      "text/plain": [
       "9"
      ]
     },
     "execution_count": 6,
     "metadata": {},
     "output_type": "execute_result"
    }
   ],
   "source": [
    "num"
   ]
  },
  {
   "cell_type": "code",
   "execution_count": 7,
   "id": "bcdb8aa2",
   "metadata": {},
   "outputs": [],
   "source": [
    "salary = 5000"
   ]
  },
  {
   "cell_type": "code",
   "execution_count": 8,
   "id": "9a77f83c",
   "metadata": {},
   "outputs": [
    {
     "data": {
      "text/plain": [
       "5000"
      ]
     },
     "execution_count": 8,
     "metadata": {},
     "output_type": "execute_result"
    }
   ],
   "source": [
    "salary"
   ]
  },
  {
   "cell_type": "code",
   "execution_count": 9,
   "id": "d1cb4f2b",
   "metadata": {},
   "outputs": [
    {
     "data": {
      "text/plain": [
       "6000"
      ]
     },
     "execution_count": 9,
     "metadata": {},
     "output_type": "execute_result"
    }
   ],
   "source": [
    "salary + 1000"
   ]
  },
  {
   "cell_type": "code",
   "execution_count": 10,
   "id": "29f5aa9b",
   "metadata": {},
   "outputs": [
    {
     "data": {
      "text/plain": [
       "5000"
      ]
     },
     "execution_count": 10,
     "metadata": {},
     "output_type": "execute_result"
    }
   ],
   "source": [
    "salary"
   ]
  },
  {
   "cell_type": "code",
   "execution_count": 11,
   "id": "b9601cd3",
   "metadata": {},
   "outputs": [],
   "source": [
    "salary = salary + 1000"
   ]
  },
  {
   "cell_type": "code",
   "execution_count": 12,
   "id": "47e6657b",
   "metadata": {},
   "outputs": [
    {
     "data": {
      "text/plain": [
       "6000"
      ]
     },
     "execution_count": 12,
     "metadata": {},
     "output_type": "execute_result"
    }
   ],
   "source": [
    "salary"
   ]
  },
  {
   "cell_type": "code",
   "execution_count": 13,
   "id": "2748126e",
   "metadata": {},
   "outputs": [],
   "source": [
    "salary += 500 # salary = salary + 500"
   ]
  },
  {
   "cell_type": "code",
   "execution_count": 14,
   "id": "6ce6156b",
   "metadata": {},
   "outputs": [
    {
     "data": {
      "text/plain": [
       "6500"
      ]
     },
     "execution_count": 14,
     "metadata": {},
     "output_type": "execute_result"
    }
   ],
   "source": [
    "salary"
   ]
  },
  {
   "cell_type": "code",
   "execution_count": 15,
   "id": "9be1523f",
   "metadata": {},
   "outputs": [],
   "source": [
    "salary *= 2"
   ]
  },
  {
   "cell_type": "code",
   "execution_count": 16,
   "id": "c55bf2de",
   "metadata": {},
   "outputs": [
    {
     "data": {
      "text/plain": [
       "13000"
      ]
     },
     "execution_count": 16,
     "metadata": {},
     "output_type": "execute_result"
    }
   ],
   "source": [
    "salary"
   ]
  },
  {
   "cell_type": "markdown",
   "id": "39a498b3",
   "metadata": {},
   "source": [
    "- () parenthesis,\n",
    "- ** Exponent, \n",
    "- * Multiplication, \n",
    "- / Division, \n",
    "* `+` Addition, \n",
    "* `-` Substraction"
   ]
  },
  {
   "cell_type": "code",
   "execution_count": 19,
   "id": "6ad64e94",
   "metadata": {},
   "outputs": [],
   "source": [
    "e1 = \"Shazad\""
   ]
  },
  {
   "cell_type": "code",
   "execution_count": 20,
   "id": "b7892722",
   "metadata": {},
   "outputs": [
    {
     "data": {
      "text/plain": [
       "'Shazad'"
      ]
     },
     "execution_count": 20,
     "metadata": {},
     "output_type": "execute_result"
    }
   ],
   "source": [
    "e1"
   ]
  },
  {
   "cell_type": "markdown",
   "id": "bdd291dd",
   "metadata": {},
   "source": [
    "# Leagality of naming Variable\n",
    "\n",
    "1. We can only use letter, number and underscore\n",
    "2. Do not begin with a number\n",
    "3. keyword, reserved words"
   ]
  },
  {
   "cell_type": "code",
   "execution_count": 21,
   "id": "ddbf7619",
   "metadata": {},
   "outputs": [],
   "source": [
    "print = \"Display Screen\""
   ]
  },
  {
   "cell_type": "code",
   "execution_count": 22,
   "id": "99b619d0",
   "metadata": {},
   "outputs": [
    {
     "ename": "TypeError",
     "evalue": "'str' object is not callable",
     "output_type": "error",
     "traceback": [
      "\u001b[1;31m---------------------------------------------------------------------------\u001b[0m",
      "\u001b[1;31mTypeError\u001b[0m                                 Traceback (most recent call last)",
      "Cell \u001b[1;32mIn[22], line 1\u001b[0m\n\u001b[1;32m----> 1\u001b[0m \u001b[38;5;28;43mprint\u001b[39;49m\u001b[43m(\u001b[49m\u001b[38;5;241;43m2\u001b[39;49m\u001b[38;5;241;43m+\u001b[39;49m\u001b[38;5;241;43m6\u001b[39;49m\u001b[43m)\u001b[49m\n",
      "\u001b[1;31mTypeError\u001b[0m: 'str' object is not callable"
     ]
    }
   ],
   "source": [
    "print(2+6)"
   ]
  },
  {
   "cell_type": "code",
   "execution_count": 23,
   "id": "87482119",
   "metadata": {},
   "outputs": [
    {
     "name": "stderr",
     "output_type": "stream",
     "text": [
      "<>:1: SyntaxWarning: 'str' object is not callable; perhaps you missed a comma?\n",
      "<>:1: SyntaxWarning: 'str' object is not callable; perhaps you missed a comma?\n",
      "C:\\Users\\Waqas\\AppData\\Local\\Temp\\ipykernel_13436\\986273578.py:1: SyntaxWarning: 'str' object is not callable; perhaps you missed a comma?\n",
      "  \"Display Screen\"(2+6)\n"
     ]
    },
    {
     "ename": "TypeError",
     "evalue": "'str' object is not callable",
     "output_type": "error",
     "traceback": [
      "\u001b[1;31m---------------------------------------------------------------------------\u001b[0m",
      "\u001b[1;31mTypeError\u001b[0m                                 Traceback (most recent call last)",
      "Cell \u001b[1;32mIn[23], line 1\u001b[0m\n\u001b[1;32m----> 1\u001b[0m \u001b[38;5;124;43m\"\u001b[39;49m\u001b[38;5;124;43mDisplay Screen\u001b[39;49m\u001b[38;5;124;43m\"\u001b[39;49m\u001b[43m(\u001b[49m\u001b[38;5;241;43m2\u001b[39;49m\u001b[38;5;241;43m+\u001b[39;49m\u001b[38;5;241;43m6\u001b[39;49m\u001b[43m)\u001b[49m\n",
      "\u001b[1;31mTypeError\u001b[0m: 'str' object is not callable"
     ]
    }
   ],
   "source": [
    "\"Display Screen\"(2+6)"
   ]
  },
  {
   "cell_type": "code",
   "execution_count": 25,
   "id": "8605ba2b",
   "metadata": {},
   "outputs": [],
   "source": [
    "del print"
   ]
  },
  {
   "cell_type": "code",
   "execution_count": 26,
   "id": "b1bbf122",
   "metadata": {},
   "outputs": [
    {
     "name": "stdout",
     "output_type": "stream",
     "text": [
      "8\n"
     ]
    }
   ],
   "source": [
    "print(2+6)"
   ]
  },
  {
   "cell_type": "code",
   "execution_count": 27,
   "id": "74bd9d78",
   "metadata": {},
   "outputs": [
    {
     "data": {
      "text/plain": [
       "'Shazad'"
      ]
     },
     "execution_count": 27,
     "metadata": {},
     "output_type": "execute_result"
    }
   ],
   "source": [
    "e1"
   ]
  },
  {
   "cell_type": "code",
   "execution_count": 28,
   "id": "b81b3561",
   "metadata": {},
   "outputs": [],
   "source": [
    "e1 = \"Shazad Ahmed\""
   ]
  },
  {
   "cell_type": "code",
   "execution_count": 29,
   "id": "a566b192",
   "metadata": {},
   "outputs": [
    {
     "data": {
      "text/plain": [
       "'Shazad Ahmed'"
      ]
     },
     "execution_count": 29,
     "metadata": {},
     "output_type": "execute_result"
    }
   ],
   "source": [
    "e1"
   ]
  },
  {
   "cell_type": "code",
   "execution_count": 30,
   "id": "ab96a562",
   "metadata": {},
   "outputs": [],
   "source": [
    "# e1 = \"Muahammad Shazad Ahmed\""
   ]
  },
  {
   "cell_type": "code",
   "execution_count": 31,
   "id": "d13bb249",
   "metadata": {},
   "outputs": [
    {
     "data": {
      "text/plain": [
       "'Shazad Ahmed'"
      ]
     },
     "execution_count": 31,
     "metadata": {},
     "output_type": "execute_result"
    }
   ],
   "source": [
    "e1"
   ]
  },
  {
   "cell_type": "code",
   "execution_count": 32,
   "id": "e97e0b42",
   "metadata": {},
   "outputs": [
    {
     "data": {
      "text/plain": [
       "'Muhammad Shazad Ahmed'"
      ]
     },
     "execution_count": 32,
     "metadata": {},
     "output_type": "execute_result"
    }
   ],
   "source": [
    "\"Muhammad \" + e1"
   ]
  },
  {
   "cell_type": "code",
   "execution_count": 33,
   "id": "36d4695f",
   "metadata": {},
   "outputs": [
    {
     "data": {
      "text/plain": [
       "'Shazad Ahmed'"
      ]
     },
     "execution_count": 33,
     "metadata": {},
     "output_type": "execute_result"
    }
   ],
   "source": [
    "e1"
   ]
  },
  {
   "cell_type": "code",
   "execution_count": 34,
   "id": "88769274",
   "metadata": {},
   "outputs": [],
   "source": [
    "e1  = \"Muhammad \" + e1"
   ]
  },
  {
   "cell_type": "code",
   "execution_count": 35,
   "id": "0f8882fc",
   "metadata": {},
   "outputs": [
    {
     "data": {
      "text/plain": [
       "'Muhammad Shazad Ahmed'"
      ]
     },
     "execution_count": 35,
     "metadata": {},
     "output_type": "execute_result"
    }
   ],
   "source": [
    "e1"
   ]
  },
  {
   "cell_type": "code",
   "execution_count": 36,
   "id": "04787edf",
   "metadata": {},
   "outputs": [
    {
     "data": {
      "text/plain": [
       "str"
      ]
     },
     "execution_count": 36,
     "metadata": {},
     "output_type": "execute_result"
    }
   ],
   "source": [
    "type(e1)"
   ]
  },
  {
   "cell_type": "code",
   "execution_count": null,
   "id": "8d42cf79",
   "metadata": {},
   "outputs": [],
   "source": [
    "\"38.72\""
   ]
  },
  {
   "cell_type": "code",
   "execution_count": 37,
   "id": "38a8f57e",
   "metadata": {},
   "outputs": [
    {
     "data": {
      "text/plain": [
       "str"
      ]
     },
     "execution_count": 37,
     "metadata": {},
     "output_type": "execute_result"
    }
   ],
   "source": [
    "type(\"38.72\")"
   ]
  },
  {
   "cell_type": "code",
   "execution_count": 38,
   "id": "632db3a4",
   "metadata": {},
   "outputs": [],
   "source": [
    "mhrs = \"38.72\""
   ]
  },
  {
   "cell_type": "code",
   "execution_count": 39,
   "id": "eb2cb178",
   "metadata": {},
   "outputs": [],
   "source": [
    "# int, float, str"
   ]
  },
  {
   "cell_type": "code",
   "execution_count": 40,
   "id": "4030e797",
   "metadata": {},
   "outputs": [
    {
     "data": {
      "text/plain": [
       "38.72"
      ]
     },
     "execution_count": 40,
     "metadata": {},
     "output_type": "execute_result"
    }
   ],
   "source": [
    "float(mhrs)"
   ]
  },
  {
   "cell_type": "code",
   "execution_count": 41,
   "id": "6508ce9d",
   "metadata": {},
   "outputs": [
    {
     "data": {
      "text/plain": [
       "str"
      ]
     },
     "execution_count": 41,
     "metadata": {},
     "output_type": "execute_result"
    }
   ],
   "source": [
    "type(mhrs)"
   ]
  },
  {
   "cell_type": "code",
   "execution_count": 42,
   "id": "8bb97323",
   "metadata": {},
   "outputs": [],
   "source": [
    "mhrs = float(mhrs)"
   ]
  },
  {
   "cell_type": "code",
   "execution_count": 43,
   "id": "044bd120",
   "metadata": {},
   "outputs": [
    {
     "data": {
      "text/plain": [
       "38.72"
      ]
     },
     "execution_count": 43,
     "metadata": {},
     "output_type": "execute_result"
    }
   ],
   "source": [
    "mhrs"
   ]
  },
  {
   "cell_type": "code",
   "execution_count": 44,
   "id": "dd15cc43",
   "metadata": {},
   "outputs": [
    {
     "ename": "TypeError",
     "evalue": "can only concatenate str (not \"int\") to str",
     "output_type": "error",
     "traceback": [
      "\u001b[1;31m---------------------------------------------------------------------------\u001b[0m",
      "\u001b[1;31mTypeError\u001b[0m                                 Traceback (most recent call last)",
      "Cell \u001b[1;32mIn[44], line 1\u001b[0m\n\u001b[1;32m----> 1\u001b[0m \u001b[38;5;124;43m\"\u001b[39;49m\u001b[38;5;124;43mIts our \u001b[39;49m\u001b[38;5;124;43m\"\u001b[39;49m\u001b[43m \u001b[49m\u001b[38;5;241;43m+\u001b[39;49m\u001b[43m \u001b[49m\u001b[38;5;241;43m2\u001b[39;49m \u001b[38;5;241m+\u001b[39m \u001b[38;5;124m\"\u001b[39m\u001b[38;5;124mSession\u001b[39m\u001b[38;5;124m\"\u001b[39m\n",
      "\u001b[1;31mTypeError\u001b[0m: can only concatenate str (not \"int\") to str"
     ]
    }
   ],
   "source": [
    "\"Its our \" + 2 + \"Session\""
   ]
  },
  {
   "cell_type": "code",
   "execution_count": 45,
   "id": "5847c2c2",
   "metadata": {},
   "outputs": [
    {
     "data": {
      "text/plain": [
       "'Its our Session2'"
      ]
     },
     "execution_count": 45,
     "metadata": {},
     "output_type": "execute_result"
    }
   ],
   "source": [
    "\"Its our \" + \"Session\" +  str(2) "
   ]
  },
  {
   "cell_type": "code",
   "execution_count": 46,
   "id": "c2b378de",
   "metadata": {},
   "outputs": [
    {
     "data": {
      "text/plain": [
       "'Its our Session 2'"
      ]
     },
     "execution_count": 46,
     "metadata": {},
     "output_type": "execute_result"
    }
   ],
   "source": [
    "\"Its our \" + \"Session\" + \" \"+ str(2) "
   ]
  },
  {
   "cell_type": "code",
   "execution_count": 48,
   "id": "4add382a",
   "metadata": {},
   "outputs": [],
   "source": [
    "e2 = \"Waqas\"\n",
    "e3 = \"Hooria\"\n",
    "e4 = \"Dr. Syed Inayat\""
   ]
  },
  {
   "cell_type": "code",
   "execution_count": 49,
   "id": "e17d2c16",
   "metadata": {},
   "outputs": [],
   "source": [
    "employees = []"
   ]
  },
  {
   "cell_type": "code",
   "execution_count": 50,
   "id": "e2f8e46a",
   "metadata": {},
   "outputs": [
    {
     "data": {
      "text/plain": [
       "list"
      ]
     },
     "execution_count": 50,
     "metadata": {},
     "output_type": "execute_result"
    }
   ],
   "source": [
    "type(employees)"
   ]
  },
  {
   "cell_type": "code",
   "execution_count": 51,
   "id": "c033326a",
   "metadata": {},
   "outputs": [],
   "source": [
    "employees = [\"Muhammad Shazad Ahmed\", e2, e3, e4,\"Shamia\"]"
   ]
  },
  {
   "cell_type": "code",
   "execution_count": 52,
   "id": "374ab0ab",
   "metadata": {
    "scrolled": true
   },
   "outputs": [
    {
     "data": {
      "text/plain": [
       "['Muhammad Shazad Ahmed', 'Waqas', 'Hooria', 'Dr. Syed Inayat', 'Shamia']"
      ]
     },
     "execution_count": 52,
     "metadata": {},
     "output_type": "execute_result"
    }
   ],
   "source": [
    "employees"
   ]
  },
  {
   "cell_type": "code",
   "execution_count": 53,
   "id": "e3c13c02",
   "metadata": {},
   "outputs": [
    {
     "data": {
      "text/plain": [
       "'Hooria'"
      ]
     },
     "execution_count": 53,
     "metadata": {},
     "output_type": "execute_result"
    }
   ],
   "source": [
    "employees[2]"
   ]
  },
  {
   "cell_type": "code",
   "execution_count": 54,
   "id": "10a0c00e",
   "metadata": {},
   "outputs": [
    {
     "data": {
      "text/plain": [
       "'Hooria'"
      ]
     },
     "execution_count": 54,
     "metadata": {},
     "output_type": "execute_result"
    }
   ],
   "source": [
    "employees[-3]"
   ]
  },
  {
   "cell_type": "code",
   "execution_count": 55,
   "id": "aa16d65b",
   "metadata": {},
   "outputs": [
    {
     "data": {
      "text/plain": [
       "'Shamia'"
      ]
     },
     "execution_count": 55,
     "metadata": {},
     "output_type": "execute_result"
    }
   ],
   "source": [
    "employees[4]"
   ]
  },
  {
   "cell_type": "code",
   "execution_count": 56,
   "id": "1b3c9a13",
   "metadata": {},
   "outputs": [
    {
     "data": {
      "text/plain": [
       "5"
      ]
     },
     "execution_count": 56,
     "metadata": {},
     "output_type": "execute_result"
    }
   ],
   "source": [
    "len(employees)"
   ]
  },
  {
   "cell_type": "code",
   "execution_count": 58,
   "id": "0853ac15",
   "metadata": {},
   "outputs": [],
   "source": [
    "e1 += \" Khanzada\""
   ]
  },
  {
   "cell_type": "code",
   "execution_count": 59,
   "id": "3c47f827",
   "metadata": {},
   "outputs": [
    {
     "data": {
      "text/plain": [
       "'Muhammad Shazad Ahmed Khanzada'"
      ]
     },
     "execution_count": 59,
     "metadata": {},
     "output_type": "execute_result"
    }
   ],
   "source": [
    "e1"
   ]
  },
  {
   "cell_type": "code",
   "execution_count": 61,
   "id": "83684d5b",
   "metadata": {},
   "outputs": [
    {
     "data": {
      "text/plain": [
       "'Dr. Syed InayatDr. Syed InayatDr. Syed Inayat'"
      ]
     },
     "execution_count": 61,
     "metadata": {},
     "output_type": "execute_result"
    }
   ],
   "source": [
    "e4*3"
   ]
  },
  {
   "cell_type": "code",
   "execution_count": 65,
   "id": "b02b840b",
   "metadata": {},
   "outputs": [
    {
     "name": "stdout",
     "output_type": "stream",
     "text": [
      "----------------------------------------------------------------------------------------------------------------------------------------\n"
     ]
    }
   ],
   "source": [
    "print(\"--\"*68)"
   ]
  },
  {
   "cell_type": "code",
   "execution_count": 66,
   "id": "de5e9811",
   "metadata": {},
   "outputs": [
    {
     "data": {
      "text/plain": [
       "'W'"
      ]
     },
     "execution_count": 66,
     "metadata": {},
     "output_type": "execute_result"
    }
   ],
   "source": [
    "\"Waqas\"[0]"
   ]
  },
  {
   "cell_type": "code",
   "execution_count": null,
   "id": "79322d23",
   "metadata": {},
   "outputs": [],
   "source": []
  }
 ],
 "metadata": {
  "kernelspec": {
   "display_name": "Python 3 (ipykernel)",
   "language": "python",
   "name": "python3"
  },
  "language_info": {
   "codemirror_mode": {
    "name": "ipython",
    "version": 3
   },
   "file_extension": ".py",
   "mimetype": "text/x-python",
   "name": "python",
   "nbconvert_exporter": "python",
   "pygments_lexer": "ipython3",
   "version": "3.11.3"
  }
 },
 "nbformat": 4,
 "nbformat_minor": 5
}
