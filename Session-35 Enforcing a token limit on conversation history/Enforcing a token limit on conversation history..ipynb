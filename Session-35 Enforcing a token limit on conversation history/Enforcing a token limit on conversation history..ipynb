{
 "cells": [
  {
   "cell_type": "code",
   "execution_count": 1,
   "id": "ad1bd4a1",
   "metadata": {},
   "outputs": [
    {
     "data": {
      "text/plain": [
       "True"
      ]
     },
     "execution_count": 1,
     "metadata": {},
     "output_type": "execute_result"
    }
   ],
   "source": [
    "# !pip install openai\n",
    "\n",
    "import os\n",
    "from dotenv import load_dotenv\n",
    "from openai import OpenAI\n",
    "\n",
    "load_dotenv()"
   ]
  },
  {
   "cell_type": "code",
   "execution_count": 2,
   "id": "41b02a71",
   "metadata": {},
   "outputs": [],
   "source": [
    "api_key = os.getenv(\"oapi_key\")\n",
    "base_url = \"https://api.openai.com/v1\"\n",
    "model = \"gpt-3.5-turbo\""
   ]
  },
  {
   "cell_type": "code",
   "execution_count": 4,
   "id": "0180c150",
   "metadata": {},
   "outputs": [],
   "source": [
    "import tiktoken"
   ]
  },
  {
   "cell_type": "code",
   "execution_count": 5,
   "id": "68eb044b",
   "metadata": {},
   "outputs": [
    {
     "data": {
      "text/plain": [
       "[13347, 3092, 836, 374, 29614, 80, 300]"
      ]
     },
     "execution_count": 5,
     "metadata": {},
     "output_type": "execute_result"
    }
   ],
   "source": [
    "tokens = tiktoken.encoding_for_model(model).encode(\"Hi My name is Waqas\")\n",
    "tokens"
   ]
  },
  {
   "cell_type": "code",
   "execution_count": 6,
   "id": "57cf757b",
   "metadata": {},
   "outputs": [
    {
     "data": {
      "text/plain": [
       "7"
      ]
     },
     "execution_count": 6,
     "metadata": {},
     "output_type": "execute_result"
    }
   ],
   "source": [
    "len(tokens)"
   ]
  },
  {
   "cell_type": "code",
   "execution_count": 7,
   "id": "040cfbfc",
   "metadata": {},
   "outputs": [],
   "source": [
    "client = OpenAI(api_key=api_key)"
   ]
  },
  {
   "cell_type": "code",
   "execution_count": 8,
   "id": "e90027b7",
   "metadata": {},
   "outputs": [],
   "source": [
    "m = [{\"role\":\"system\",\"content\": \"You are an helpful assitant\"},\n",
    "    {\"role\":\"user\",\"content\": \"Write any poem for me\"}]\n",
    "\n",
    "response = client.chat.completions.create(model = model, messages = m)\n",
    "assistant = response.choices[0].message.content"
   ]
  },
  {
   "cell_type": "code",
   "execution_count": 9,
   "id": "847fe39c",
   "metadata": {},
   "outputs": [
    {
     "name": "stdout",
     "output_type": "stream",
     "text": [
      "In the realm of words, let us explore,\n",
      "A tapestry of thoughts, forevermore.\n",
      "I'll craft a poem, just for you,\n",
      "To lift your spirits, and help you through.\n",
      "\n",
      "When days are tough, and burdens weigh,\n",
      "Let these verses be your guiding ray.\n",
      "For in each line, a gentle embrace,\n",
      "To bring you solace, in every space.\n",
      "\n",
      "In blooming fields of vibrant hue,\n",
      "Beauty unfolds, as blessings accrue.\n",
      "The sunlit sky, a canvas of dreams,\n",
      "Where hope ignites, as the soul redeems.\n",
      "\n",
      "As rivers dance and mountains rise,\n",
      "Nature's symphony, a grand surprise.\n",
      "Let these wonders, in verse, be found,\n",
      "From soaring heights to sacred ground.\n",
      "\n",
      "When love eludes, and hearts break,\n",
      "Let these words, your heartache slake.\n",
      "For in the rhymes, sweet remedy lies,\n",
      "To heal the wounds and dry the eyes.\n",
      "\n",
      "In the darkest night, when stars shine bright,\n",
      "Let poetry be your guiding light.\n",
      "Unlock the secrets of the universe's art,\n",
      "Through this poem's rhythm, woven smart.\n",
      "\n",
      "So take these lines, like whispered prayers,\n",
      "Carry them with you, beyond life's stairs.\n",
      "May this poem bring you joy and peace,\n",
      "And make life's journey a gentle breeze.\n"
     ]
    }
   ],
   "source": [
    "print(assistant)"
   ]
  },
  {
   "cell_type": "code",
   "execution_count": 10,
   "id": "78e37476",
   "metadata": {},
   "outputs": [],
   "source": [
    "m.append({\"role\":\"assistant\", \"content\": assistant})"
   ]
  },
  {
   "cell_type": "code",
   "execution_count": 11,
   "id": "7ff8f603",
   "metadata": {},
   "outputs": [
    {
     "data": {
      "text/plain": [
       "[{'role': 'system', 'content': 'You are an helpful assitant'},\n",
       " {'role': 'user', 'content': 'Write any poem for me'},\n",
       " {'role': 'assistant',\n",
       "  'content': \"In the realm of words, let us explore,\\nA tapestry of thoughts, forevermore.\\nI'll craft a poem, just for you,\\nTo lift your spirits, and help you through.\\n\\nWhen days are tough, and burdens weigh,\\nLet these verses be your guiding ray.\\nFor in each line, a gentle embrace,\\nTo bring you solace, in every space.\\n\\nIn blooming fields of vibrant hue,\\nBeauty unfolds, as blessings accrue.\\nThe sunlit sky, a canvas of dreams,\\nWhere hope ignites, as the soul redeems.\\n\\nAs rivers dance and mountains rise,\\nNature's symphony, a grand surprise.\\nLet these wonders, in verse, be found,\\nFrom soaring heights to sacred ground.\\n\\nWhen love eludes, and hearts break,\\nLet these words, your heartache slake.\\nFor in the rhymes, sweet remedy lies,\\nTo heal the wounds and dry the eyes.\\n\\nIn the darkest night, when stars shine bright,\\nLet poetry be your guiding light.\\nUnlock the secrets of the universe's art,\\nThrough this poem's rhythm, woven smart.\\n\\nSo take these lines, like whispered prayers,\\nCarry them with you, beyond life's stairs.\\nMay this poem bring you joy and peace,\\nAnd make life's journey a gentle breeze.\"}]"
      ]
     },
     "execution_count": 11,
     "metadata": {},
     "output_type": "execute_result"
    }
   ],
   "source": [
    "m"
   ]
  },
  {
   "cell_type": "code",
   "execution_count": 12,
   "id": "1107f523",
   "metadata": {},
   "outputs": [
    {
     "name": "stdout",
     "output_type": "stream",
     "text": [
      "{'role': 'system', 'content': 'You are an helpful assitant'}\n",
      "{'role': 'user', 'content': 'Write any poem for me'}\n",
      "{'role': 'assistant', 'content': \"In the realm of words, let us explore,\\nA tapestry of thoughts, forevermore.\\nI'll craft a poem, just for you,\\nTo lift your spirits, and help you through.\\n\\nWhen days are tough, and burdens weigh,\\nLet these verses be your guiding ray.\\nFor in each line, a gentle embrace,\\nTo bring you solace, in every space.\\n\\nIn blooming fields of vibrant hue,\\nBeauty unfolds, as blessings accrue.\\nThe sunlit sky, a canvas of dreams,\\nWhere hope ignites, as the soul redeems.\\n\\nAs rivers dance and mountains rise,\\nNature's symphony, a grand surprise.\\nLet these wonders, in verse, be found,\\nFrom soaring heights to sacred ground.\\n\\nWhen love eludes, and hearts break,\\nLet these words, your heartache slake.\\nFor in the rhymes, sweet remedy lies,\\nTo heal the wounds and dry the eyes.\\n\\nIn the darkest night, when stars shine bright,\\nLet poetry be your guiding light.\\nUnlock the secrets of the universe's art,\\nThrough this poem's rhythm, woven smart.\\n\\nSo take these lines, like whispered prayers,\\nCarry them with you, beyond life's stairs.\\nMay this poem bring you joy and peace,\\nAnd make life's journey a gentle breeze.\"}\n"
     ]
    }
   ],
   "source": [
    "for d in m:\n",
    "    print(d)"
   ]
  },
  {
   "cell_type": "code",
   "execution_count": 13,
   "id": "d6163ce9",
   "metadata": {},
   "outputs": [
    {
     "name": "stdout",
     "output_type": "stream",
     "text": [
      "You are an helpful assitant\n",
      "Write any poem for me\n",
      "In the realm of words, let us explore,\n",
      "A tapestry of thoughts, forevermore.\n",
      "I'll craft a poem, just for you,\n",
      "To lift your spirits, and help you through.\n",
      "\n",
      "When days are tough, and burdens weigh,\n",
      "Let these verses be your guiding ray.\n",
      "For in each line, a gentle embrace,\n",
      "To bring you solace, in every space.\n",
      "\n",
      "In blooming fields of vibrant hue,\n",
      "Beauty unfolds, as blessings accrue.\n",
      "The sunlit sky, a canvas of dreams,\n",
      "Where hope ignites, as the soul redeems.\n",
      "\n",
      "As rivers dance and mountains rise,\n",
      "Nature's symphony, a grand surprise.\n",
      "Let these wonders, in verse, be found,\n",
      "From soaring heights to sacred ground.\n",
      "\n",
      "When love eludes, and hearts break,\n",
      "Let these words, your heartache slake.\n",
      "For in the rhymes, sweet remedy lies,\n",
      "To heal the wounds and dry the eyes.\n",
      "\n",
      "In the darkest night, when stars shine bright,\n",
      "Let poetry be your guiding light.\n",
      "Unlock the secrets of the universe's art,\n",
      "Through this poem's rhythm, woven smart.\n",
      "\n",
      "So take these lines, like whispered prayers,\n",
      "Carry them with you, beyond life's stairs.\n",
      "May this poem bring you joy and peace,\n",
      "And make life's journey a gentle breeze.\n"
     ]
    }
   ],
   "source": [
    "for d in m:\n",
    "    print(d[\"content\"])"
   ]
  },
  {
   "cell_type": "code",
   "execution_count": 14,
   "id": "633dd094",
   "metadata": {},
   "outputs": [],
   "source": [
    "encoding = tiktoken.encoding_for_model(model)"
   ]
  },
  {
   "cell_type": "code",
   "execution_count": 15,
   "id": "359f9bf4",
   "metadata": {},
   "outputs": [],
   "source": [
    "token_counts = 0\n",
    "for d in m:\n",
    "    text = d[\"content\"]\n",
    "    token = encoding.encode(text) # token list will be returned\n",
    "    total_token = len(token)\n",
    "    token_counts += total_token "
   ]
  },
  {
   "cell_type": "code",
   "execution_count": 16,
   "id": "380c726b",
   "metadata": {},
   "outputs": [
    {
     "data": {
      "text/plain": [
       "267"
      ]
     },
     "execution_count": 16,
     "metadata": {},
     "output_type": "execute_result"
    }
   ],
   "source": [
    "token_counts"
   ]
  },
  {
   "cell_type": "code",
   "execution_count": 17,
   "id": "648767d3",
   "metadata": {},
   "outputs": [],
   "source": [
    "token_counts = sum(len(encoding.encode(d[\"content\"])) for d in m)"
   ]
  },
  {
   "cell_type": "code",
   "execution_count": 18,
   "id": "31e61522",
   "metadata": {},
   "outputs": [
    {
     "data": {
      "text/plain": [
       "267"
      ]
     },
     "execution_count": 18,
     "metadata": {},
     "output_type": "execute_result"
    }
   ],
   "source": [
    "token_counts"
   ]
  },
  {
   "cell_type": "code",
   "execution_count": 25,
   "id": "f175c654",
   "metadata": {},
   "outputs": [],
   "source": [
    "class ConversationBot:\n",
    "    \n",
    "    def __init__(self,api_key, \n",
    "                 base_url = base_url, \n",
    "                 model = model,\n",
    "                system_message = \"\"\"You are a helpful marketing assistant for DigiTech Synergy.\"\"\",\n",
    "                 token_budget = 4096,\n",
    "                ):\n",
    "        self.client = OpenAI(api_key=api_key)\n",
    "        self.client.base_url = base_url\n",
    "        self.model = model\n",
    "        self.system_message = system_message\n",
    "        self.token_budget = token_budget\n",
    "        self.conversation_history = [{\"role\":\"system\",\"content\": self.system_message}]\n",
    "        \n",
    "    def count_token(self,text):\n",
    "        try:\n",
    "            encoding = tiktoken.encoding_for_model(self.model)\n",
    "        except KeyError:\n",
    "            encoding = tiktoken.encoding_for_model(\"cl100k_base\")\n",
    "\n",
    "        tokens = encoding.encode(text)\n",
    "        return len(token)\n",
    "\n",
    "    def total_tokens_used(self):\n",
    "        token_counts = sum(self.count_token(d[\"content\"]) for d in self.conversation_history)\n",
    "        return token_counts\n",
    "\n",
    "    def enforce_token_budget(self):\n",
    "        while self.total_tokens_used() > self.token_budget:\n",
    "            if len(self.conversation_history) <= 1: # only system message is available\n",
    "                break\n",
    "\n",
    "            self.conversation_history.pop(1)\n",
    "\n",
    "            \n",
    "    \n",
    "    def chat_completion(self, prompt, temperature = 0.7, max_tokens = 500):\n",
    "        \n",
    "        self.enforce_token_budget()\n",
    "        \n",
    "        self.conversation_history.append({\"role\":\"user\", \"content\":prompt})\n",
    "        \n",
    "        response = self.client.chat.completions.create(model = self.model,\n",
    "                                                       messages = self.conversation_history)\n",
    "        ai_response = response.choices[0].message.content\n",
    "        self.conversation_history.append({\"role\":\"assistant\", \"content\":ai_response})\n",
    "        \n",
    "        \n",
    "        return ai_response"
   ]
  },
  {
   "cell_type": "code",
   "execution_count": 27,
   "id": "67995ae8",
   "metadata": {},
   "outputs": [],
   "source": [
    "conv_manager = ConversationBot(api_key = api_key, token_budget=100)\n",
    "prompt1 = \"Please write a tweet to promote our new AI Industrial Training.\"\n",
    "response = conv_manager.chat_completion(prompt1)"
   ]
  },
  {
   "cell_type": "code",
   "execution_count": 28,
   "id": "8b456566",
   "metadata": {},
   "outputs": [
    {
     "data": {
      "text/plain": [
       "\"Looking to level up your skills in the fast-paced world of AI? Look no further! Introducing our cutting-edge AI Industrial Training program that will equip you with the knowledge and hands-on experience you need. Don't miss out, sign up today! 💡🚀 #AItraining #industrialtech #learningopportunity\""
      ]
     },
     "execution_count": 28,
     "metadata": {},
     "output_type": "execute_result"
    }
   ],
   "source": [
    "response"
   ]
  },
  {
   "cell_type": "code",
   "execution_count": 29,
   "id": "72a4cbff",
   "metadata": {},
   "outputs": [
    {
     "data": {
      "text/plain": [
       "256"
      ]
     },
     "execution_count": 29,
     "metadata": {},
     "output_type": "execute_result"
    }
   ],
   "source": [
    "conv_manager.count_token(response)"
   ]
  },
  {
   "cell_type": "code",
   "execution_count": 30,
   "id": "3fb6d813",
   "metadata": {},
   "outputs": [
    {
     "data": {
      "text/plain": [
       "768"
      ]
     },
     "execution_count": 30,
     "metadata": {},
     "output_type": "execute_result"
    }
   ],
   "source": [
    "conv_manager.total_tokens_used()"
   ]
  },
  {
   "cell_type": "code",
   "execution_count": 31,
   "id": "4897526e",
   "metadata": {},
   "outputs": [],
   "source": [
    "prompt2 = \"Great, now make the tweet a longer.\"\n",
    "response2 = conv_manager.chat_completion(prompt2)"
   ]
  },
  {
   "cell_type": "code",
   "execution_count": 32,
   "id": "34567ca0",
   "metadata": {},
   "outputs": [
    {
     "data": {
      "text/plain": [
       "'📣 Exciting news! @DigiTechSynergy is revolutionizing the world of digital technology with our cutting-edge solutions and unmatched expertise. 🌐🚀 Join us on our mission to redefine the future of tech and unlock endless possibilities. Stay tuned for game-changing innovations that will reshape industries and empower businesses like never before! 💪💡 #TechRevolution #InnovationUnleashed #FutureTechLeaders'"
      ]
     },
     "execution_count": 32,
     "metadata": {},
     "output_type": "execute_result"
    }
   ],
   "source": [
    "response2"
   ]
  },
  {
   "cell_type": "code",
   "execution_count": 33,
   "id": "d8af1fad",
   "metadata": {},
   "outputs": [],
   "source": [
    "prompt3 = \"Great, now add one more hash tag.\"\n",
    "\n",
    "response3 = conv_manager.chat_completion(prompt3)"
   ]
  },
  {
   "cell_type": "code",
   "execution_count": null,
   "id": "14ee2f18",
   "metadata": {},
   "outputs": [],
   "source": []
  }
 ],
 "metadata": {
  "kernelspec": {
   "display_name": "Python 3 (ipykernel)",
   "language": "python",
   "name": "python3"
  },
  "language_info": {
   "codemirror_mode": {
    "name": "ipython",
    "version": 3
   },
   "file_extension": ".py",
   "mimetype": "text/x-python",
   "name": "python",
   "nbconvert_exporter": "python",
   "pygments_lexer": "ipython3",
   "version": "3.11.5"
  }
 },
 "nbformat": 4,
 "nbformat_minor": 5
}
