{
 "cells": [
  {
   "cell_type": "code",
   "execution_count": 19,
   "id": "af9e8241",
   "metadata": {},
   "outputs": [],
   "source": [
    "import os\n",
    "from dotenv import load_dotenv\n",
    "from openai import OpenAI"
   ]
  },
  {
   "cell_type": "code",
   "execution_count": 20,
   "id": "25577436",
   "metadata": {},
   "outputs": [
    {
     "data": {
      "text/plain": [
       "True"
      ]
     },
     "execution_count": 20,
     "metadata": {},
     "output_type": "execute_result"
    }
   ],
   "source": [
    "load_dotenv()"
   ]
  },
  {
   "cell_type": "code",
   "execution_count": 21,
   "id": "ea9f3ae6",
   "metadata": {},
   "outputs": [],
   "source": [
    "api_key = os.getenv(\"oapi_key\")"
   ]
  },
  {
   "cell_type": "code",
   "execution_count": 22,
   "id": "f7a4d75e",
   "metadata": {},
   "outputs": [],
   "source": [
    "model=\"gpt-3.5-turbo\"\n",
    "base_url = \"https://api.openai.com/v1\"\n",
    "\n",
    "client = OpenAI(api_key=api_key, base_url=base_url)"
   ]
  },
  {
   "cell_type": "code",
   "execution_count": 23,
   "id": "3b9a014b",
   "metadata": {},
   "outputs": [],
   "source": [
    "messages = [\n",
    "    {\"role\":\"system\",\"content\":\"You are a helpful marketing assistant for DigiTech Synergy\"\n",
    "    },\n",
    "    {\"role\":\"user\", \"content\":\"Help me write a tweet for our new AI training\"}\n",
    "]"
   ]
  },
  {
   "cell_type": "code",
   "execution_count": 24,
   "id": "4dea1295",
   "metadata": {},
   "outputs": [],
   "source": [
    "response = client.chat.completions.create(model = model, messages = messages)"
   ]
  },
  {
   "cell_type": "code",
   "execution_count": 25,
   "id": "1ccd6b87",
   "metadata": {},
   "outputs": [
    {
     "data": {
      "text/plain": [
       "'\"🚀 Introducing our latest AI training program! 🌟 Level up your skills with DigiTech Synergy and stay ahead of the game. 📚 Unlock the power of Artificial Intelligence and reach new heights in your business. Start training today! #AITraining #DigiTechSynergy #StayAhead\"'"
      ]
     },
     "execution_count": 25,
     "metadata": {},
     "output_type": "execute_result"
    }
   ],
   "source": [
    "response.choices[0].message.content"
   ]
  },
  {
   "cell_type": "markdown",
   "id": "9b35a3b2",
   "metadata": {},
   "source": [
    "# Class"
   ]
  },
  {
   "cell_type": "code",
   "execution_count": 26,
   "id": "9f39529e",
   "metadata": {},
   "outputs": [],
   "source": [
    "class ConversationBot:\n",
    "    def __init__(self, api_key, base_url = \"https://api.openai.com/v1\", model=\"gpt-3.5-turbo\"):\n",
    "        self.client = OpenAI(api_key=api_key)\n",
    "        self.client.base_url = base_url\n",
    "        self.model = model\n",
    "        \n",
    "    def chat_completion(self, prompt):\n",
    "        messages = [\n",
    "                {\"role\":\"system\",\"content\":\"You are a helpful marketing assistant for DigiTech Synergy\"\n",
    "                },\n",
    "                {\"role\":\"user\", \"content\":prompt}\n",
    "            ]\n",
    "        \n",
    "        response = self.client.chat.completions.create(model = model, messages = messages)\n",
    "        return response.choices[0].message.content\n"
   ]
  },
  {
   "cell_type": "code",
   "execution_count": 27,
   "id": "12fc8446",
   "metadata": {},
   "outputs": [],
   "source": [
    "bot1 = ConversationBot(api_key=api_key)"
   ]
  },
  {
   "cell_type": "code",
   "execution_count": 28,
   "id": "48f4e57a",
   "metadata": {},
   "outputs": [
    {
     "data": {
      "text/plain": [
       "\"📣 Exciting news! 🚀 Boost your skills with DigiTech Synergy's new AI training program. 📚🧠 Stay ahead of the curve and harness the power of artificial intelligence to unleash your potential. 💪💡 Sign up now to level up your career! 👩\\u200d💻👨\\u200d💼 #AITraining #FutureReady #HarnessThePower #CareerDevelopment\""
      ]
     },
     "execution_count": 28,
     "metadata": {},
     "output_type": "execute_result"
    }
   ],
   "source": [
    "bot1.chat_completion(\"Please write a tweet to promote our new AI training\")"
   ]
  },
  {
   "cell_type": "code",
   "execution_count": 29,
   "id": "75033b72",
   "metadata": {},
   "outputs": [],
   "source": [
    "class ConversationBot:\n",
    "    def __init__(self, api_key,\n",
    "                 base_url = \"https://api.openai.com/v1\",\n",
    "                 model=\"gpt-3.5-turbo\",\n",
    "                system_message = \"You are a helpful marketing assistant for DigiTech Synergy\"):\n",
    "        \n",
    "        self.client = OpenAI(api_key=api_key)\n",
    "        self.client.base_url = base_url\n",
    "        self.model = model\n",
    "        self.system_message = system_message\n",
    "        \n",
    "    def chat_completion(self, prompt):\n",
    "        messages = [\n",
    "                {\"role\":\"system\",\"content\": self.system_message\n",
    "                },\n",
    "                {\"role\":\"user\", \"content\":prompt}\n",
    "            ]\n",
    "        \n",
    "        response = self.client.chat.completions.create(model = model, messages = messages)\n",
    "        return response.choices[0].message.content\n"
   ]
  },
  {
   "cell_type": "code",
   "execution_count": 30,
   "id": "7be7c05a",
   "metadata": {},
   "outputs": [
    {
     "data": {
      "text/plain": [
       "\"🎉 Exciting news! 🤖 Introducing our cutting-edge AI training program designed to take your skills to the next level. 🚀 Unleash the power of artificial intelligence and sharpen your expertise in this rapidly evolving field. 💡 Don't miss out on this game-changing opportunity. Enroll now at DigiTech Synergy! #AITraining #ArtificialIntelligence #SkillBoost\""
      ]
     },
     "execution_count": 30,
     "metadata": {},
     "output_type": "execute_result"
    }
   ],
   "source": [
    "bot2 = ConversationBot(api_key=api_key)\n",
    "bot2.chat_completion(\"Please write a tweet to promote our new AI training\")"
   ]
  },
  {
   "cell_type": "code",
   "execution_count": 31,
   "id": "26cf6010",
   "metadata": {},
   "outputs": [
    {
     "data": {
      "text/plain": [
       "\"🚀 Level up your AI skills! 🧠💡 Join us at DigiTech Synergy for an immersive AI training that will take you from novice to expert. Explore the latest advancements in #ArtificialIntelligence, learn from industry leaders, and boost your career prospects. Don't miss out, book your spot now! #AI #TechTraining #FutureReady\""
      ]
     },
     "execution_count": 31,
     "metadata": {},
     "output_type": "execute_result"
    }
   ],
   "source": [
    "system_message = \"You are a social media expert, crafting catchy and shareable posts for DigiTech Synergy\"\n",
    "bot3 = ConversationBot(api_key=api_key, system_message=system_message)\n",
    "bot3.chat_completion(\"Please write a tweet to promote our new AI training\")"
   ]
  },
  {
   "cell_type": "code",
   "execution_count": 33,
   "id": "44a93108",
   "metadata": {},
   "outputs": [],
   "source": [
    "class ConversationBot:\n",
    "    def __init__(self, api_key,\n",
    "                 base_url = \"https://api.openai.com/v1\",\n",
    "                 model=\"gpt-3.5-turbo\",\n",
    "                system_message = \"You are a helpful marketing assistant for DigiTech Synergy\"):\n",
    "        \n",
    "        self.client = OpenAI(api_key=api_key)\n",
    "        self.client.base_url = base_url\n",
    "        self.model = model\n",
    "        self.system_message = system_message\n",
    "        \n",
    "    def chat_completion(self, prompt, temperature = 0.7, max_tokens = 500):\n",
    "        messages = [\n",
    "                {\"role\":\"system\",\"content\": self.system_message\n",
    "                },\n",
    "                {\"role\":\"user\", \"content\":prompt}\n",
    "            ]\n",
    "        \n",
    "        response = self.client.chat.completions.create(model = model, messages = messages,\n",
    "                                                      temperature = temperature, max_tokens = max_tokens)\n",
    "        return response.choices[0].message.content\n"
   ]
  },
  {
   "cell_type": "code",
   "execution_count": 34,
   "id": "2c0aaf5f",
   "metadata": {},
   "outputs": [],
   "source": [
    "system_message = \"You are a social media expert, crafting catchy and shareable posts for DigiTech Synergy\"\n",
    "bot4 = ConversationBot(api_key=api_key, system_message=system_message)\n",
    "r4 = bot4.chat_completion(\"Please write a tweet to promote our new AI training\")"
   ]
  },
  {
   "cell_type": "code",
   "execution_count": 35,
   "id": "0dc12045",
   "metadata": {},
   "outputs": [
    {
     "data": {
      "text/plain": [
       "\"🚀 Level up your skills with our brand-new AI training! 🤖📚 Unleash your potential and become an AI mastermind. 🌟 Join us on this cutting-edge journey and unlock endless opportunities. 💡 Don't miss out! Enroll now and let the future of technology unfold before your eyes. #AITraining #TechRevolution #UnleashYourPotential\""
      ]
     },
     "execution_count": 35,
     "metadata": {},
     "output_type": "execute_result"
    }
   ],
   "source": [
    "r4"
   ]
  },
  {
   "cell_type": "code",
   "execution_count": 36,
   "id": "bf78d386",
   "metadata": {},
   "outputs": [
    {
     "data": {
      "text/plain": [
       "319"
      ]
     },
     "execution_count": 36,
     "metadata": {},
     "output_type": "execute_result"
    }
   ],
   "source": [
    "len(r4)"
   ]
  },
  {
   "cell_type": "code",
   "execution_count": 37,
   "id": "8a3fac63",
   "metadata": {},
   "outputs": [],
   "source": [
    "system_message = \"You are a social media expert, crafting catchy and shareable posts for DigiTech Synergy\"\n",
    "bot5 = ConversationBot(api_key=api_key, system_message=system_message)\n",
    "r5 = bot5.chat_completion(prompt = \"Please write a tweet to promote our new AI training\",\n",
    "                         temperature=0.3, max_tokens=200)"
   ]
  },
  {
   "cell_type": "code",
   "execution_count": 38,
   "id": "564fc6f6",
   "metadata": {},
   "outputs": [
    {
     "data": {
      "text/plain": [
       "252"
      ]
     },
     "execution_count": 38,
     "metadata": {},
     "output_type": "execute_result"
    }
   ],
   "source": [
    "len(r5)"
   ]
  },
  {
   "cell_type": "code",
   "execution_count": 40,
   "id": "2bc56216",
   "metadata": {},
   "outputs": [
    {
     "data": {
      "text/plain": [
       "\"🚀 Boost your business with DigiTech Synergy! 🌟\\n\\nAre you ready to take your business to new heights? Look no further than DigiTech Synergy - the ultimate solution for all your digital marketing needs! 📈💼\\n\\n🔥 With DigiTech Synergy, you'll get:\\n\\n✅ Cutting-edge SEO strategies to skyrocket your website's visibility\\n✅ Engaging content that captivates your audience and drives conversions\\n✅ Social media management that boosts your brand's online presence\\n✅ Data-driven insights to optimize your marketing campaigns\\n✅ Expert guidance from our team of digital marketing gurus\\n\\n💡 Don't let your competitors steal the spotlight! Join the digital revolution and let DigiTech Synergy propel your business towards success! 💪💥\\n\\n👉 Ready to ignite your brand's growth? Contact us today for a FREE consultation and let's create a digital strategy that sets you apart from the rest!\""
      ]
     },
     "execution_count": 40,
     "metadata": {},
     "output_type": "execute_result"
    }
   ],
   "source": [
    "system_message = \"You are a social media expert, crafting catchy and shareable posts for DigiTech Synergy\"\n",
    "bot6 = ConversationBot(api_key=api_key, system_message=system_message)\n",
    "bot6.chat_completion(prompt = \"Please write a post for DigiTech Synergy\",\n",
    "                         temperature=0.3, max_tokens=200)"
   ]
  },
  {
   "cell_type": "code",
   "execution_count": null,
   "id": "b357b196",
   "metadata": {},
   "outputs": [],
   "source": []
  }
 ],
 "metadata": {
  "kernelspec": {
   "display_name": "Python 3 (ipykernel)",
   "language": "python",
   "name": "python3"
  },
  "language_info": {
   "codemirror_mode": {
    "name": "ipython",
    "version": 3
   },
   "file_extension": ".py",
   "mimetype": "text/x-python",
   "name": "python",
   "nbconvert_exporter": "python",
   "pygments_lexer": "ipython3",
   "version": "3.11.5"
  }
 },
 "nbformat": 4,
 "nbformat_minor": 5
}
