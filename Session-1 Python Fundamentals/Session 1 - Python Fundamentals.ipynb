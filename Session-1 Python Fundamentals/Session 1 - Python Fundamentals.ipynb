{
 "cells": [
  {
   "cell_type": "code",
   "execution_count": 1,
   "id": "edd98617",
   "metadata": {},
   "outputs": [
    {
     "ename": "SyntaxError",
     "evalue": "invalid syntax (1548635984.py, line 1)",
     "output_type": "error",
     "traceback": [
      "\u001b[1;36m  Cell \u001b[1;32mIn[1], line 1\u001b[1;36m\u001b[0m\n\u001b[1;33m    2.3.2\u001b[0m\n\u001b[1;37m       ^\u001b[0m\n\u001b[1;31mSyntaxError\u001b[0m\u001b[1;31m:\u001b[0m invalid syntax\n"
     ]
    }
   ],
   "source": [
    "2.3.2"
   ]
  },
  {
   "cell_type": "code",
   "execution_count": 2,
   "id": "0cdf8b8f",
   "metadata": {},
   "outputs": [
    {
     "data": {
      "text/plain": [
       "3"
      ]
     },
     "execution_count": 2,
     "metadata": {},
     "output_type": "execute_result"
    }
   ],
   "source": [
    "1+2"
   ]
  },
  {
   "cell_type": "code",
   "execution_count": 3,
   "id": "74113c13",
   "metadata": {},
   "outputs": [
    {
     "data": {
      "text/plain": [
       "4.3"
      ]
     },
     "execution_count": 3,
     "metadata": {},
     "output_type": "execute_result"
    }
   ],
   "source": [
    "2.30 + 2"
   ]
  },
  {
   "cell_type": "code",
   "execution_count": 4,
   "id": "41f4bb9f",
   "metadata": {},
   "outputs": [
    {
     "data": {
      "text/plain": [
       "'Waqas'"
      ]
     },
     "execution_count": 4,
     "metadata": {},
     "output_type": "execute_result"
    }
   ],
   "source": [
    "\"Waqas\""
   ]
  },
  {
   "cell_type": "code",
   "execution_count": 5,
   "id": "6980e578",
   "metadata": {},
   "outputs": [
    {
     "ename": "NameError",
     "evalue": "name 'Waqas' is not defined",
     "output_type": "error",
     "traceback": [
      "\u001b[1;31m---------------------------------------------------------------------------\u001b[0m",
      "\u001b[1;31mNameError\u001b[0m                                 Traceback (most recent call last)",
      "Cell \u001b[1;32mIn[5], line 1\u001b[0m\n\u001b[1;32m----> 1\u001b[0m \u001b[43mWaqas\u001b[49m\n",
      "\u001b[1;31mNameError\u001b[0m: name 'Waqas' is not defined"
     ]
    }
   ],
   "source": [
    "Waqas"
   ]
  },
  {
   "cell_type": "code",
   "execution_count": 6,
   "id": "fe59ffb5",
   "metadata": {},
   "outputs": [
    {
     "data": {
      "text/plain": [
       "'Waqas'"
      ]
     },
     "execution_count": 6,
     "metadata": {},
     "output_type": "execute_result"
    }
   ],
   "source": [
    "'Waqas'"
   ]
  },
  {
   "cell_type": "code",
   "execution_count": null,
   "id": "c9efb5ec",
   "metadata": {},
   "outputs": [],
   "source": [
    "\"waqas2\""
   ]
  },
  {
   "cell_type": "code",
   "execution_count": 7,
   "id": "4e8c302c",
   "metadata": {},
   "outputs": [
    {
     "ename": "SyntaxError",
     "evalue": "unterminated string literal (detected at line 1) (3889789048.py, line 1)",
     "output_type": "error",
     "traceback": [
      "\u001b[1;36m  Cell \u001b[1;32mIn[7], line 1\u001b[1;36m\u001b[0m\n\u001b[1;33m    'Shabbir's house'\u001b[0m\n\u001b[1;37m                    ^\u001b[0m\n\u001b[1;31mSyntaxError\u001b[0m\u001b[1;31m:\u001b[0m unterminated string literal (detected at line 1)\n"
     ]
    }
   ],
   "source": [
    "'Shabbir's house'"
   ]
  },
  {
   "cell_type": "code",
   "execution_count": 8,
   "id": "d2fd0cc2",
   "metadata": {},
   "outputs": [
    {
     "data": {
      "text/plain": [
       "\"Shabbir's house\""
      ]
     },
     "execution_count": 8,
     "metadata": {},
     "output_type": "execute_result"
    }
   ],
   "source": [
    "\"Shabbir's house\""
   ]
  },
  {
   "cell_type": "code",
   "execution_count": 9,
   "id": "0dcf8627",
   "metadata": {
    "scrolled": true
   },
   "outputs": [
    {
     "data": {
      "text/plain": [
       "\"Shabbir's house\""
      ]
     },
     "execution_count": 9,
     "metadata": {},
     "output_type": "execute_result"
    }
   ],
   "source": [
    "'Shabbir\\'s & waqas\\' house'"
   ]
  },
  {
   "cell_type": "code",
   "execution_count": 10,
   "id": "73e51ce5",
   "metadata": {},
   "outputs": [
    {
     "ename": "SyntaxError",
     "evalue": "unterminated string literal (detected at line 1) (3311584026.py, line 1)",
     "output_type": "error",
     "traceback": [
      "\u001b[1;36m  Cell \u001b[1;32mIn[10], line 1\u001b[1;36m\u001b[0m\n\u001b[1;33m    \"This is our 1st session\u001b[0m\n\u001b[1;37m    ^\u001b[0m\n\u001b[1;31mSyntaxError\u001b[0m\u001b[1;31m:\u001b[0m unterminated string literal (detected at line 1)\n"
     ]
    }
   ],
   "source": [
    "\"This is our 1st session\n",
    "and we are having python programming\""
   ]
  },
  {
   "cell_type": "code",
   "execution_count": 11,
   "id": "d24e767b",
   "metadata": {},
   "outputs": [
    {
     "data": {
      "text/plain": [
       "'This is our 1st session\\nand we are having python programming'"
      ]
     },
     "execution_count": 11,
     "metadata": {},
     "output_type": "execute_result"
    }
   ],
   "source": [
    "\"\"\"This is our 1st session\n",
    "and we are having python programming\"\"\""
   ]
  },
  {
   "cell_type": "code",
   "execution_count": 12,
   "id": "7a73c982",
   "metadata": {},
   "outputs": [
    {
     "data": {
      "text/plain": [
       "\"This is our 1st session\\nand we are having python's programming\""
      ]
     },
     "execution_count": 12,
     "metadata": {},
     "output_type": "execute_result"
    }
   ],
   "source": [
    "'''This is our 1st session\n",
    "and we are having python's programming'''"
   ]
  },
  {
   "cell_type": "code",
   "execution_count": 13,
   "id": "8de6e230",
   "metadata": {},
   "outputs": [
    {
     "name": "stdout",
     "output_type": "stream",
     "text": [
      "This is our 1st session\n",
      "and we are having python's programming\n"
     ]
    }
   ],
   "source": [
    "print('''This is our 1st session\n",
    "and we are having python's programming''')"
   ]
  },
  {
   "cell_type": "code",
   "execution_count": null,
   "id": "da532baa",
   "metadata": {},
   "outputs": [],
   "source": []
  },
  {
   "cell_type": "code",
   "execution_count": null,
   "id": "2f75b719",
   "metadata": {},
   "outputs": [],
   "source": []
  }
 ],
 "metadata": {
  "kernelspec": {
   "display_name": "Python 3 (ipykernel)",
   "language": "python",
   "name": "python3"
  },
  "language_info": {
   "codemirror_mode": {
    "name": "ipython",
    "version": 3
   },
   "file_extension": ".py",
   "mimetype": "text/x-python",
   "name": "python",
   "nbconvert_exporter": "python",
   "pygments_lexer": "ipython3",
   "version": "3.11.3"
  }
 },
 "nbformat": 4,
 "nbformat_minor": 5
}
