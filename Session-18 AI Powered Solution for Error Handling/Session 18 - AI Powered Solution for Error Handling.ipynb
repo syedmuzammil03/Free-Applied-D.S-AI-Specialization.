{
 "cells": [
  {
   "cell_type": "markdown",
   "id": "faf8d4e8",
   "metadata": {},
   "source": [
    "# Errors Handling \n",
    "\n",
    "\n",
    "### Exception Handling"
   ]
  },
  {
   "cell_type": "markdown",
   "id": "0131cbff",
   "metadata": {},
   "source": [
    "* try\n",
    "* except\n",
    "* finally"
   ]
  },
  {
   "cell_type": "code",
   "execution_count": 25,
   "id": "f0d1a574",
   "metadata": {},
   "outputs": [
    {
     "name": "stdout",
     "output_type": "stream",
     "text": [
      "4.5\n"
     ]
    }
   ],
   "source": [
    "num1 = 9\n",
    "num2= 2\n",
    "\n",
    "print(num1/num2)"
   ]
  },
  {
   "cell_type": "code",
   "execution_count": 26,
   "id": "b6790a2a",
   "metadata": {},
   "outputs": [
    {
     "ename": "ZeroDivisionError",
     "evalue": "division by zero",
     "output_type": "error",
     "traceback": [
      "\u001b[1;31m---------------------------------------------------------------------------\u001b[0m",
      "\u001b[1;31mZeroDivisionError\u001b[0m                         Traceback (most recent call last)",
      "Cell \u001b[1;32mIn[26], line 4\u001b[0m\n\u001b[0;32m      1\u001b[0m num1 \u001b[38;5;241m=\u001b[39m \u001b[38;5;241m9\u001b[39m\n\u001b[0;32m      2\u001b[0m num2\u001b[38;5;241m=\u001b[39m \u001b[38;5;241m0\u001b[39m\n\u001b[1;32m----> 4\u001b[0m \u001b[38;5;28mprint\u001b[39m(\u001b[43mnum1\u001b[49m\u001b[38;5;241;43m/\u001b[39;49m\u001b[43mnum2\u001b[49m)\n",
      "\u001b[1;31mZeroDivisionError\u001b[0m: division by zero"
     ]
    }
   ],
   "source": [
    "num1 = 9\n",
    "num2= 0\n",
    "\n",
    "print(num1/num2)"
   ]
  },
  {
   "cell_type": "code",
   "execution_count": 27,
   "id": "ee8732c4",
   "metadata": {},
   "outputs": [
    {
     "ename": "TypeError",
     "evalue": "unsupported operand type(s) for /: 'int' and 'str'",
     "output_type": "error",
     "traceback": [
      "\u001b[1;31m---------------------------------------------------------------------------\u001b[0m",
      "\u001b[1;31mTypeError\u001b[0m                                 Traceback (most recent call last)",
      "Cell \u001b[1;32mIn[27], line 5\u001b[0m\n\u001b[0;32m      2\u001b[0m num2\u001b[38;5;241m=\u001b[39m \u001b[38;5;241m0\u001b[39m\n\u001b[0;32m      3\u001b[0m num3 \u001b[38;5;241m=\u001b[39m \u001b[38;5;124m\"\u001b[39m\u001b[38;5;124mthree\u001b[39m\u001b[38;5;124m\"\u001b[39m\n\u001b[1;32m----> 5\u001b[0m \u001b[38;5;28mprint\u001b[39m(\u001b[43mnum1\u001b[49m\u001b[38;5;241;43m/\u001b[39;49m\u001b[43mnum3\u001b[49m)\n",
      "\u001b[1;31mTypeError\u001b[0m: unsupported operand type(s) for /: 'int' and 'str'"
     ]
    }
   ],
   "source": [
    "num1 = 9\n",
    "num2= 0\n",
    "num3 = \"three\"\n",
    "\n",
    "print(num1/num3)"
   ]
  },
  {
   "cell_type": "code",
   "execution_count": 29,
   "id": "01a7fe88",
   "metadata": {},
   "outputs": [
    {
     "name": "stdout",
     "output_type": "stream",
     "text": [
      "Please provide an integer number\n"
     ]
    }
   ],
   "source": [
    "try:\n",
    "    div_num = num1/num3\n",
    "    print(f\"Your answer is {div_num}\")\n",
    "    \n",
    "except ZeroDivisionError:\n",
    "    print(\"Please dont use zero\")\n",
    "    \n",
    "except TypeError:\n",
    "    print(\"Please provide an integer number\")\n",
    "    "
   ]
  },
  {
   "cell_type": "code",
   "execution_count": 30,
   "id": "75d67dc5",
   "metadata": {},
   "outputs": [
    {
     "name": "stdout",
     "output_type": "stream",
     "text": [
      "Please provide an integer number\n",
      "\n",
      "Thank you for using our calculator\n"
     ]
    }
   ],
   "source": [
    "try:\n",
    "    div_num = num1/num3\n",
    "    print(f\"Your answer is {div_num}\")\n",
    "    \n",
    "except ZeroDivisionError:\n",
    "    print(\"Please dont use zero\")\n",
    "    \n",
    "except TypeError:\n",
    "    print(\"Please provide an integer number\")\n",
    "    \n",
    "finally:\n",
    "    print()\n",
    "    print(\"Thank you for using our calculator\")"
   ]
  },
  {
   "cell_type": "code",
   "execution_count": 18,
   "id": "33bc3386",
   "metadata": {},
   "outputs": [
    {
     "name": "stdout",
     "output_type": "stream",
     "text": [
      "john.doe@example.com\n",
      "user1234@example.com\n",
      "last.first@example.com\n",
      "demo.user@example.com\n",
      "sample.test@example.com\n",
      "anotheruser@example.com\n"
     ]
    }
   ],
   "source": [
    "emails = ['test@example-com', 'firstlast@examplecom', 'test.one@@example.com',\n",
    "              'secondtest@ex#ample.com', 'john.doe@example.com', 'third.testexample.com',\n",
    "              'sample_email@examplecom', 'user1234@example.com', 'alice.bob@ex&ample.com',\n",
    "              'last.first@example.com', 'randomuserexample.com', 'test_two@exam*ple.com',\n",
    "              'demo.user@example.com', 'testthreeexample.com', 'example_user@examplecom',\n",
    "              'sample.test@example.com', 'user.test@examp$le.com', 'test.four @example.com',\n",
    "              'fifth.test@exa!mple.com', 'anotheruser@example.com']\n",
    "\n",
    "pattern = r\"[\\w.]+@\\w+[.]com\"\n",
    "\n",
    "for i in emails:\n",
    "    if re.search(pattern,i):\n",
    "        print(i)"
   ]
  },
  {
   "cell_type": "code",
   "execution_count": 31,
   "id": "4db700af",
   "metadata": {},
   "outputs": [],
   "source": [
    "email = \"invalid.emai@com\"\n",
    "\n",
    "if re.search(pattern,email):\n",
    "    print(\"ok\")"
   ]
  },
  {
   "cell_type": "code",
   "execution_count": 32,
   "id": "8d6e8446",
   "metadata": {},
   "outputs": [
    {
     "name": "stdout",
     "output_type": "stream",
     "text": [
      "ok\n"
     ]
    }
   ],
   "source": [
    "email = \"invalid.emai@com\"\n",
    "\n",
    "if not re.search(pattern,email):\n",
    "    print(\"ok\")"
   ]
  },
  {
   "cell_type": "code",
   "execution_count": 34,
   "id": "24f4e122",
   "metadata": {},
   "outputs": [
    {
     "ename": "ValueError",
     "evalue": "Invalid email id",
     "output_type": "error",
     "traceback": [
      "\u001b[1;31m---------------------------------------------------------------------------\u001b[0m",
      "\u001b[1;31mValueError\u001b[0m                                Traceback (most recent call last)",
      "Cell \u001b[1;32mIn[34], line 4\u001b[0m\n\u001b[0;32m      1\u001b[0m email \u001b[38;5;241m=\u001b[39m \u001b[38;5;124m\"\u001b[39m\u001b[38;5;124minvalid.emai@com\u001b[39m\u001b[38;5;124m\"\u001b[39m\n\u001b[0;32m      3\u001b[0m \u001b[38;5;28;01mif\u001b[39;00m \u001b[38;5;129;01mnot\u001b[39;00m re\u001b[38;5;241m.\u001b[39msearch(pattern,email):\n\u001b[1;32m----> 4\u001b[0m     \u001b[38;5;28;01mraise\u001b[39;00m \u001b[38;5;167;01mValueError\u001b[39;00m(\u001b[38;5;124m\"\u001b[39m\u001b[38;5;124mInvalid email id\u001b[39m\u001b[38;5;124m\"\u001b[39m)\n",
      "\u001b[1;31mValueError\u001b[0m: Invalid email id"
     ]
    }
   ],
   "source": [
    "email = \"invalid.emai@com\"\n",
    "\n",
    "if not re.search(pattern,email):\n",
    "    raise ValueError(\"Invalid email id\")"
   ]
  },
  {
   "cell_type": "code",
   "execution_count": 35,
   "id": "05f6840b",
   "metadata": {},
   "outputs": [],
   "source": [
    "def validate_email(email):\n",
    "    if not re.search(pattern,email):\n",
    "        raise ValueError(\"Invalid email id\")"
   ]
  },
  {
   "cell_type": "code",
   "execution_count": 37,
   "id": "58acb11e",
   "metadata": {},
   "outputs": [
    {
     "name": "stdout",
     "output_type": "stream",
     "text": [
      "Error: Invalid email id\n"
     ]
    }
   ],
   "source": [
    "try:\n",
    "    validate_email(email)\n",
    "    print(\"You have entered the correct email\")\n",
    "    \n",
    "except ValueError as e:\n",
    "    print(f\"Error: {e}\")"
   ]
  },
  {
   "cell_type": "code",
   "execution_count": 39,
   "id": "8c4f968f",
   "metadata": {},
   "outputs": [
    {
     "name": "stdout",
     "output_type": "stream",
     "text": [
      "Error: Invalid email id\n",
      "Error: Invalid email id\n",
      "Error: Invalid email id\n",
      "Error: Invalid email id\n",
      "You have entered the correct email\n",
      "Error: Invalid email id\n",
      "Error: Invalid email id\n",
      "You have entered the correct email\n",
      "Error: Invalid email id\n",
      "You have entered the correct email\n",
      "Error: Invalid email id\n",
      "Error: Invalid email id\n",
      "You have entered the correct email\n",
      "Error: Invalid email id\n",
      "Error: Invalid email id\n",
      "You have entered the correct email\n",
      "Error: Invalid email id\n",
      "Error: Invalid email id\n",
      "Error: Invalid email id\n",
      "You have entered the correct email\n"
     ]
    }
   ],
   "source": [
    "for email in emails:\n",
    "    try:\n",
    "        validate_email(email)\n",
    "        print(\"You have entered the correct email\")\n",
    "    \n",
    "    except ValueError as e:\n",
    "        print(f\"Error: {e}\")"
   ]
  },
  {
   "cell_type": "code",
   "execution_count": null,
   "id": "92e74074",
   "metadata": {},
   "outputs": [],
   "source": []
  },
  {
   "cell_type": "code",
   "execution_count": null,
   "id": "8ae1b0db",
   "metadata": {},
   "outputs": [],
   "source": []
  }
 ],
 "metadata": {
  "kernelspec": {
   "display_name": "Python 3 (ipykernel)",
   "language": "python",
   "name": "python3"
  },
  "language_info": {
   "codemirror_mode": {
    "name": "ipython",
    "version": 3
   },
   "file_extension": ".py",
   "mimetype": "text/x-python",
   "name": "python",
   "nbconvert_exporter": "python",
   "pygments_lexer": "ipython3",
   "version": "3.11.5"
  }
 },
 "nbformat": 4,
 "nbformat_minor": 5
}
