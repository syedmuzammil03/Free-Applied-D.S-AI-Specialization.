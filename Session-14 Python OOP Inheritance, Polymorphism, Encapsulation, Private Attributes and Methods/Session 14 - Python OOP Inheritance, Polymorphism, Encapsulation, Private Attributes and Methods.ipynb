{
 "cells": [
  {
   "cell_type": "markdown",
   "id": "e2505928",
   "metadata": {},
   "source": [
    "1. Inheritance"
   ]
  },
  {
   "cell_type": "markdown",
   "id": "f493d89b",
   "metadata": {},
   "source": [
    "* parent class -> base class, superclass\n",
    "* child class-> derived class, subclass"
   ]
  },
  {
   "cell_type": "code",
   "execution_count": 1,
   "id": "fb750afb",
   "metadata": {},
   "outputs": [],
   "source": [
    "class Animal:\n",
    "    def __init__(self, name, age):\n",
    "        self.name = name\n",
    "        self.age = age\n",
    "    def display(self):\n",
    "        print(f\"Name:{self.name}, Age:{self.age}\")"
   ]
  },
  {
   "cell_type": "code",
   "execution_count": 2,
   "id": "f180d4d9",
   "metadata": {},
   "outputs": [],
   "source": [
    "elephant = Animal(\"bubbles\", 2)"
   ]
  },
  {
   "cell_type": "code",
   "execution_count": 3,
   "id": "a5fd2bcb",
   "metadata": {},
   "outputs": [
    {
     "name": "stdout",
     "output_type": "stream",
     "text": [
      "Name:bubbles, Age:2\n"
     ]
    }
   ],
   "source": [
    "elephant.display()"
   ]
  },
  {
   "cell_type": "code",
   "execution_count": 4,
   "id": "297e8e8a",
   "metadata": {},
   "outputs": [],
   "source": [
    "class Animal():\n",
    "    def __init__(self, name, age):\n",
    "        self.name = name\n",
    "        self.age = age\n",
    "    def display(self):\n",
    "        print(f\"Name:{self.name}, Age:{self.age}\")"
   ]
  },
  {
   "cell_type": "code",
   "execution_count": 5,
   "id": "d41ed111",
   "metadata": {},
   "outputs": [],
   "source": [
    "class Elephant(Animal):\n",
    "    pass"
   ]
  },
  {
   "cell_type": "code",
   "execution_count": 6,
   "id": "a7cd175f",
   "metadata": {},
   "outputs": [
    {
     "ename": "TypeError",
     "evalue": "Animal.__init__() missing 2 required positional arguments: 'name' and 'age'",
     "output_type": "error",
     "traceback": [
      "\u001b[1;31m---------------------------------------------------------------------------\u001b[0m",
      "\u001b[1;31mTypeError\u001b[0m                                 Traceback (most recent call last)",
      "Cell \u001b[1;32mIn[6], line 1\u001b[0m\n\u001b[1;32m----> 1\u001b[0m bubbles \u001b[38;5;241m=\u001b[39m \u001b[43mElephant\u001b[49m\u001b[43m(\u001b[49m\u001b[43m)\u001b[49m\n",
      "\u001b[1;31mTypeError\u001b[0m: Animal.__init__() missing 2 required positional arguments: 'name' and 'age'"
     ]
    }
   ],
   "source": [
    "bubbles = Elephant()"
   ]
  },
  {
   "cell_type": "code",
   "execution_count": 7,
   "id": "3f618c41",
   "metadata": {},
   "outputs": [],
   "source": [
    "bubbles = Elephant(\"Bubbles\", 2)"
   ]
  },
  {
   "cell_type": "code",
   "execution_count": 8,
   "id": "7853fd3f",
   "metadata": {},
   "outputs": [
    {
     "name": "stdout",
     "output_type": "stream",
     "text": [
      "Name:Bubbles, Age:2\n"
     ]
    }
   ],
   "source": [
    "bubbles.display()"
   ]
  },
  {
   "cell_type": "code",
   "execution_count": 9,
   "id": "117d976f",
   "metadata": {},
   "outputs": [],
   "source": [
    "class Animal(): # Parent\n",
    "    def __init__(self, name, age):\n",
    "        self.name = name\n",
    "        self.age = age\n",
    "    def display(self):\n",
    "        print(f\"Name:{self.name}, Age:{self.age}\")\n",
    "        \n",
    "class Elephant(Animal): # child\n",
    "    def __init__(self, name, age, trunk_length):\n",
    "        self.name = name\n",
    "        self.age = age\n",
    "        self.trunk_length = trunk_length\n",
    "        self.description = f\"{self.name} has {trunk_length} meter long trunk\""
   ]
  },
  {
   "cell_type": "code",
   "execution_count": 10,
   "id": "7c418c8b",
   "metadata": {},
   "outputs": [],
   "source": [
    "baby_elephant = Elephant(\"Tiny\", 0.5, 0.2)"
   ]
  },
  {
   "cell_type": "code",
   "execution_count": 11,
   "id": "3f08201c",
   "metadata": {},
   "outputs": [
    {
     "name": "stdout",
     "output_type": "stream",
     "text": [
      "Name:Tiny, Age:0.5\n"
     ]
    }
   ],
   "source": [
    "baby_elephant.display()"
   ]
  },
  {
   "cell_type": "code",
   "execution_count": 12,
   "id": "555bd804",
   "metadata": {},
   "outputs": [
    {
     "data": {
      "text/plain": [
       "0.2"
      ]
     },
     "execution_count": 12,
     "metadata": {},
     "output_type": "execute_result"
    }
   ],
   "source": [
    "baby_elephant.trunk_length"
   ]
  },
  {
   "cell_type": "code",
   "execution_count": 13,
   "id": "62d09446",
   "metadata": {},
   "outputs": [
    {
     "data": {
      "text/plain": [
       "'Tiny has 0.2 meter long trunk'"
      ]
     },
     "execution_count": 13,
     "metadata": {},
     "output_type": "execute_result"
    }
   ],
   "source": [
    "baby_elephant.description"
   ]
  },
  {
   "cell_type": "code",
   "execution_count": 18,
   "id": "09bcb2e0",
   "metadata": {},
   "outputs": [],
   "source": [
    "class Animal(): # Parent\n",
    "    def __init__(self, name, age):\n",
    "        self.name = name\n",
    "        self.age = age\n",
    "    def display(self):\n",
    "        print(f\"Name:{self.name}, Age:{self.age}\")\n",
    "        \n",
    "class Elephant(Animal): # child\n",
    "    def __init__(self, name, age, trunk_length):\n",
    "        super().__init__(name, age)\n",
    "        self.trunk_length = trunk_length\n",
    "        self.description = f\"{self.name} has {trunk_length} meter long trunk\""
   ]
  },
  {
   "cell_type": "code",
   "execution_count": 19,
   "id": "03a80dcf",
   "metadata": {},
   "outputs": [],
   "source": [
    "mother = Elephant(\"Mother Elephant\", 6, 1.83)"
   ]
  },
  {
   "cell_type": "code",
   "execution_count": 20,
   "id": "1e270ad4",
   "metadata": {},
   "outputs": [
    {
     "data": {
      "text/plain": [
       "'Mother Elephant'"
      ]
     },
     "execution_count": 20,
     "metadata": {},
     "output_type": "execute_result"
    }
   ],
   "source": [
    "mother.name"
   ]
  },
  {
   "cell_type": "code",
   "execution_count": 23,
   "id": "0eaab594",
   "metadata": {},
   "outputs": [],
   "source": [
    "class Animal(): # Parent\n",
    "    def __init__(self, name, age):\n",
    "        self.name = name\n",
    "        self.age = age\n",
    "    def display(self):\n",
    "        print(f\"Name:{self.name}, Age:{self.age}\")\n",
    "        \n",
    "    def eat(self):\n",
    "        print(\"This animal is eating\")\n",
    "        \n",
    "class Elephant(Animal): # child\n",
    "    def __init__(self, name, age, trunk_length):\n",
    "        super().__init__(name, age)\n",
    "        self.trunk_length = trunk_length\n",
    "        self.description = f\"{self.name} has {trunk_length} meter long trunk\"\n",
    "#     def eat(self):\n",
    "#         print(f\"{self.name} is having some leaves\")"
   ]
  },
  {
   "cell_type": "code",
   "execution_count": 24,
   "id": "7657d48e",
   "metadata": {},
   "outputs": [
    {
     "name": "stdout",
     "output_type": "stream",
     "text": [
      "This animal is eating\n"
     ]
    }
   ],
   "source": [
    "mother = Elephant(\"Mother Elephant\", 6, 1.83)\n",
    "mother.eat()"
   ]
  },
  {
   "cell_type": "code",
   "execution_count": 25,
   "id": "97f033bc",
   "metadata": {},
   "outputs": [
    {
     "name": "stdout",
     "output_type": "stream",
     "text": [
      "Mother Elephant is having some leaves\n"
     ]
    }
   ],
   "source": [
    "class Animal(): # Parent\n",
    "    def __init__(self, name, age):\n",
    "        self.name = name\n",
    "        self.age = age\n",
    "    def display(self):\n",
    "        print(f\"Name:{self.name}, Age:{self.age}\")\n",
    "        \n",
    "    def eat(self):\n",
    "        print(\"This animal is eating\")\n",
    "        \n",
    "class Elephant(Animal): # child\n",
    "    def __init__(self, name, age, trunk_length):\n",
    "        super().__init__(name, age)\n",
    "        self.trunk_length = trunk_length\n",
    "        self.description = f\"{self.name} has {trunk_length} meter long trunk\"\n",
    "    def eat(self): #overridding parent eat method\n",
    "        print(f\"{self.name} is having some leaves\")\n",
    "\n",
    "\n",
    "mother = Elephant(\"Mother Elephant\", 6, 1.83)\n",
    "mother.eat()"
   ]
  },
  {
   "cell_type": "code",
   "execution_count": 26,
   "id": "bcda7752",
   "metadata": {},
   "outputs": [
    {
     "name": "stdout",
     "output_type": "stream",
     "text": [
      "This animal is eating\n",
      "Mother Elephant is having some leaves\n"
     ]
    }
   ],
   "source": [
    "class Animal(): # Parent\n",
    "    def __init__(self, name, age):\n",
    "        self.name = name\n",
    "        self.age = age\n",
    "    def display(self):\n",
    "        print(f\"Name:{self.name}, Age:{self.age}\")\n",
    "        \n",
    "    def eat(self):\n",
    "        print(\"This animal is eating\")\n",
    "        \n",
    "class Elephant(Animal): # child\n",
    "    def __init__(self, name, age, trunk_length):\n",
    "        super().__init__(name, age)\n",
    "        self.trunk_length = trunk_length\n",
    "        self.description = f\"{self.name} has {trunk_length} meter long trunk\"\n",
    "    def eat(self): # Extending the method\n",
    "        super().eat()\n",
    "        print(f\"{self.name} is having some leaves\")\n",
    "\n",
    "\n",
    "mother = Elephant(\"Mother Elephant\", 6, 1.83)\n",
    "mother.eat()"
   ]
  },
  {
   "cell_type": "markdown",
   "id": "9cd5ab44",
   "metadata": {},
   "source": [
    "# Polymorphism "
   ]
  },
  {
   "cell_type": "code",
   "execution_count": 29,
   "id": "ceb1bed9",
   "metadata": {},
   "outputs": [
    {
     "data": {
      "text/plain": [
       "2"
      ]
     },
     "execution_count": 29,
     "metadata": {},
     "output_type": "execute_result"
    }
   ],
   "source": [
    "l = [1,2,3]\n",
    "s = \"Waqas\"\n",
    "d = {\"Name\":\"Waqas\", \"Study\": \"Applied Data Science & AI Spec\"}\n",
    "\n",
    "len(l)\n",
    "len(s)\n",
    "len(d)"
   ]
  },
  {
   "cell_type": "code",
   "execution_count": 30,
   "id": "c6228581",
   "metadata": {},
   "outputs": [
    {
     "name": "stdout",
     "output_type": "stream",
     "text": [
      "This animal is eating\n",
      "Mother Elephant is having some leaves\n"
     ]
    }
   ],
   "source": [
    "class Animal(): # Parent\n",
    "    def __init__(self, name, age):\n",
    "        self.name = name\n",
    "        self.age = age\n",
    "    def display(self):\n",
    "        print(f\"Name:{self.name}, Age:{self.age}\")\n",
    "        \n",
    "    def eat(self):\n",
    "        print(\"This animal is eating\")\n",
    "        \n",
    "    def move(self):\n",
    "        pass\n",
    "        \n",
    "class Elephant(Animal): # child\n",
    "    def __init__(self, name, age, trunk_length):\n",
    "        super().__init__(name, age)\n",
    "        self.trunk_length = trunk_length\n",
    "        self.description = f\"{self.name} has {trunk_length} meter long trunk\"\n",
    "    def eat(self): # Extending the method\n",
    "        super().eat()\n",
    "        print(f\"{self.name} is having some leaves\")\n",
    "        \n",
    "    def move(self):\n",
    "        print(f\"{self.name} is ambling\")\n",
    "\n",
    "\n",
    "mother = Elephant(\"Mother Elephant\", 6, 1.83)\n",
    "mother.eat()"
   ]
  },
  {
   "cell_type": "code",
   "execution_count": 31,
   "id": "1085efeb",
   "metadata": {},
   "outputs": [
    {
     "name": "stdout",
     "output_type": "stream",
     "text": [
      "Mother Elephant is ambling\n"
     ]
    }
   ],
   "source": [
    "mother.move()"
   ]
  },
  {
   "cell_type": "markdown",
   "id": "a26d126e",
   "metadata": {},
   "source": [
    "# Encapsulation"
   ]
  },
  {
   "cell_type": "code",
   "execution_count": 34,
   "id": "8cb19814",
   "metadata": {},
   "outputs": [],
   "source": [
    "class Animal(): # Parent\n",
    "    def __init__(self, name, age):\n",
    "        self.name = name\n",
    "        self.age = age\n",
    "        self._is_hungry = True\n",
    "        \n",
    "    def display(self):\n",
    "        print(f\"Name:{self.name}, Age:{self.age}\")\n",
    "        \n",
    "    def eat(self):\n",
    "        print(\"This animal is eating\")\n",
    "        self._is_hungry = False\n",
    "        \n",
    "        \n",
    "    def move(self):\n",
    "        pass\n",
    "        \n",
    "class Elephant(Animal): # child\n",
    "    def __init__(self, name, age, trunk_length):\n",
    "        super().__init__(name, age)\n",
    "        self.trunk_length = trunk_length\n",
    "        self.description = f\"{self.name} has {trunk_length} meter long trunk\"\n",
    "    def eat(self): # Extending the method\n",
    "        super().eat()\n",
    "        print(f\"{self.name} is having some leaves\")\n",
    "        \n",
    "    def move(self):\n",
    "        print(f\"{self.name} is ambling\")\n",
    "\n",
    "\n",
    "mother = Elephant(\"Mother Elephant\", 6, 1.83)"
   ]
  },
  {
   "cell_type": "code",
   "execution_count": 35,
   "id": "2380eed3",
   "metadata": {},
   "outputs": [
    {
     "data": {
      "text/plain": [
       "True"
      ]
     },
     "execution_count": 35,
     "metadata": {},
     "output_type": "execute_result"
    }
   ],
   "source": [
    "mother._is_hungry"
   ]
  },
  {
   "cell_type": "code",
   "execution_count": 36,
   "id": "0a8cc01c",
   "metadata": {},
   "outputs": [
    {
     "name": "stdout",
     "output_type": "stream",
     "text": [
      "This animal is eating\n",
      "Mother Elephant is having some leaves\n"
     ]
    }
   ],
   "source": [
    "mother.eat()"
   ]
  },
  {
   "cell_type": "code",
   "execution_count": 37,
   "id": "fccf3b60",
   "metadata": {},
   "outputs": [
    {
     "data": {
      "text/plain": [
       "False"
      ]
     },
     "execution_count": 37,
     "metadata": {},
     "output_type": "execute_result"
    }
   ],
   "source": [
    "mother._is_hungry"
   ]
  },
  {
   "cell_type": "code",
   "execution_count": 38,
   "id": "e1b74ca3",
   "metadata": {},
   "outputs": [],
   "source": [
    "class Animal(): # Parent\n",
    "    def __init__(self, name, age):\n",
    "        self.name = name\n",
    "        self.age = age\n",
    "        self._is_hungry = True\n",
    "        \n",
    "    def display(self):\n",
    "        print(f\"Name:{self.name}, Age:{self.age}\")\n",
    "        \n",
    "    def eat(self):\n",
    "        print(\"This animal is eating\")\n",
    "        self._is_hungry = False\n",
    "        \n",
    "        \n",
    "    def move(self):\n",
    "        pass\n",
    "        \n",
    "class Elephant(Animal): # child\n",
    "    def __init__(self, name, age, trunk_length):\n",
    "        super().__init__(name, age)\n",
    "        self.trunk_length = trunk_length\n",
    "        self.description = f\"{self.name} has {trunk_length} meter long trunk\"\n",
    "    def eat(self): # Extending the method\n",
    "        super().eat()\n",
    "        print(f\"{self.name} is having some leaves\")\n",
    "        \n",
    "    def move(self):\n",
    "        print(f\"{self.name} is ambling\")\n",
    "\n",
    "\n",
    "mother = Elephant(\"Mother Elephant\", 6, 1.83)"
   ]
  },
  {
   "cell_type": "code",
   "execution_count": 39,
   "id": "5c8d9617",
   "metadata": {},
   "outputs": [
    {
     "data": {
      "text/plain": [
       "True"
      ]
     },
     "execution_count": 39,
     "metadata": {},
     "output_type": "execute_result"
    }
   ],
   "source": [
    "mother._is_hungry"
   ]
  },
  {
   "cell_type": "code",
   "execution_count": 40,
   "id": "91b998fc",
   "metadata": {},
   "outputs": [],
   "source": [
    "mother._is_hungry = False"
   ]
  },
  {
   "cell_type": "code",
   "execution_count": 41,
   "id": "9a0502a3",
   "metadata": {},
   "outputs": [
    {
     "data": {
      "text/plain": [
       "False"
      ]
     },
     "execution_count": 41,
     "metadata": {},
     "output_type": "execute_result"
    }
   ],
   "source": [
    "mother._is_hungry"
   ]
  },
  {
   "cell_type": "markdown",
   "id": "79dd51a5",
   "metadata": {},
   "source": [
    "# Getter & Setter"
   ]
  },
  {
   "cell_type": "code",
   "execution_count": 42,
   "id": "be0244a8",
   "metadata": {},
   "outputs": [],
   "source": [
    "class Animal(): # Parent\n",
    "    def __init__(self, name, age):\n",
    "        self.name = name\n",
    "        self.age = age\n",
    "        self._is_hungry = True\n",
    "        \n",
    "    def display(self):\n",
    "        print(f\"Name:{self.name}, Age:{self.age}\")\n",
    "        \n",
    "    def eat(self):\n",
    "        print(\"This animal is eating\")\n",
    "        self._is_hungry = False\n",
    "        \n",
    "        \n",
    "    def move(self):\n",
    "        pass\n",
    "        \n",
    "class Elephant(Animal): # child\n",
    "    def __init__(self, name, age, trunk_length):\n",
    "        super().__init__(name, age)\n",
    "        self._trunk_length = trunk_length\n",
    "        self.description = f\"{self.name} has {trunk_length} meter long trunk\"\n",
    "    def eat(self): # Extending the method\n",
    "        super().eat()\n",
    "        print(f\"{self.name} is having some leaves\")\n",
    "        \n",
    "    def move(self):\n",
    "        print(f\"{self.name} is ambling\")\n",
    "        \n",
    "    def get_trunk_length(self):\n",
    "        return self._trunk_length\n",
    "\n",
    "\n",
    "mother = Elephant(\"Mother Elephant\", 6, 1.83)"
   ]
  },
  {
   "cell_type": "code",
   "execution_count": 43,
   "id": "6d7428f5",
   "metadata": {},
   "outputs": [
    {
     "data": {
      "text/plain": [
       "1.83"
      ]
     },
     "execution_count": 43,
     "metadata": {},
     "output_type": "execute_result"
    }
   ],
   "source": [
    "mother.get_trunk_length()"
   ]
  },
  {
   "cell_type": "code",
   "execution_count": 44,
   "id": "0130885d",
   "metadata": {},
   "outputs": [],
   "source": [
    "class Animal(): # Parent\n",
    "    def __init__(self, name, age):\n",
    "        self.name = name\n",
    "        self.age = age\n",
    "        self._is_hungry = True\n",
    "        \n",
    "    def display(self):\n",
    "        print(f\"Name:{self.name}, Age:{self.age}\")\n",
    "        \n",
    "    def eat(self):\n",
    "        print(\"This animal is eating\")\n",
    "        self._is_hungry = False\n",
    "        \n",
    "        \n",
    "    def move(self):\n",
    "        pass\n",
    "        \n",
    "class Elephant(Animal): # child\n",
    "    def __init__(self, name, age, trunk_length):\n",
    "        super().__init__(name, age)\n",
    "        self._trunk_length = trunk_length\n",
    "        self.description = f\"{self.name} has {trunk_length} meter long trunk\"\n",
    "    def eat(self): # Extending the method\n",
    "        super().eat()\n",
    "        print(f\"{self.name} is having some leaves\")\n",
    "        \n",
    "    def move(self):\n",
    "        print(f\"{self.name} is ambling\")\n",
    "        \n",
    "    def get_trunk_length(self):\n",
    "        return self._trunk_length\n",
    "    \n",
    "    def set_trunk_length(self, length):\n",
    "        if 0<length<3:\n",
    "            self._trunk_length = length\n",
    "        else:\n",
    "            print(\"Trunk length must be between 0 and 3 meters.\")\n",
    "\n",
    "\n",
    "mother = Elephant(\"Mother Elephant\", 6, 1.83)"
   ]
  },
  {
   "cell_type": "code",
   "execution_count": 45,
   "id": "7376af2e",
   "metadata": {},
   "outputs": [
    {
     "data": {
      "text/plain": [
       "1.83"
      ]
     },
     "execution_count": 45,
     "metadata": {},
     "output_type": "execute_result"
    }
   ],
   "source": [
    "mother.get_trunk_length()"
   ]
  },
  {
   "cell_type": "code",
   "execution_count": 46,
   "id": "ab96613d",
   "metadata": {},
   "outputs": [
    {
     "name": "stdout",
     "output_type": "stream",
     "text": [
      "Trunk length must be between 0 and 3 meters.\n"
     ]
    }
   ],
   "source": [
    "mother.set_trunk_length(3.5)"
   ]
  },
  {
   "cell_type": "code",
   "execution_count": 60,
   "id": "ea50cdfa",
   "metadata": {},
   "outputs": [],
   "source": [
    "class Animal(): # Parent\n",
    "    def __init__(self, name, age):\n",
    "        self.name = name\n",
    "        self.age = age\n",
    "        self._is_hungry = True\n",
    "        \n",
    "    def display(self):\n",
    "        print(f\"Name:{self.name}, Age:{self.age}\")\n",
    "        \n",
    "    def eat(self):\n",
    "        print(\"This animal is eating\")\n",
    "        self._is_hungry = False\n",
    "        \n",
    "    def move(self):\n",
    "        pass\n",
    "    \n",
    "    def age_up(self):\n",
    "        self.age += 1\n",
    "        self._check_retirement()\n",
    "    \n",
    "    def _check_retirement(self):\n",
    "        if self.age >= 10:\n",
    "            print(f\"{self.name} has retired\")\n",
    "        \n",
    "        \n",
    "class Elephant(Animal): # child\n",
    "    def __init__(self, name, age, trunk_length):\n",
    "        super().__init__(name, age)\n",
    "        self._trunk_length = trunk_length\n",
    "        self.description = f\"{self.name} has {trunk_length} meter long trunk\"\n",
    "    def eat(self): # Extending the method\n",
    "        super().eat()\n",
    "        print(f\"{self.name} is having some leaves\")\n",
    "        \n",
    "    def move(self):\n",
    "        print(f\"{self.name} is ambling\")\n",
    "        \n",
    "    def get_trunk_length(self):\n",
    "        return self._trunk_length\n",
    "    \n",
    "    def set_trunk_length(self, length):\n",
    "        if 0<length<3:\n",
    "            self._trunk_length = length\n",
    "        else:\n",
    "            print(\"Trunk length must be between 0 and 3 meters.\")\n",
    "\n",
    "\n",
    "mother = Elephant(\"Mother Elephant\", 6, 1.83)"
   ]
  },
  {
   "cell_type": "code",
   "execution_count": 61,
   "id": "c85a10fa",
   "metadata": {},
   "outputs": [
    {
     "data": {
      "text/plain": [
       "6"
      ]
     },
     "execution_count": 61,
     "metadata": {},
     "output_type": "execute_result"
    }
   ],
   "source": [
    "mother.age"
   ]
  },
  {
   "cell_type": "code",
   "execution_count": 62,
   "id": "a7ed801b",
   "metadata": {},
   "outputs": [
    {
     "name": "stdout",
     "output_type": "stream",
     "text": [
      "6\n",
      "7\n",
      "8\n",
      "9\n",
      "Mother Elephant has retired\n"
     ]
    }
   ],
   "source": [
    "for _ in range(4):\n",
    "    print(mother.age)\n",
    "    mother.age_up()\n",
    "    \n",
    "   "
   ]
  },
  {
   "cell_type": "code",
   "execution_count": 63,
   "id": "19582650",
   "metadata": {},
   "outputs": [],
   "source": [
    "class Animal(): # Parent\n",
    "    def __init__(self, name, age):\n",
    "        self.name = name\n",
    "        self.age = age\n",
    "        self._is_hungry = True\n",
    "        \n",
    "    def display(self):\n",
    "        print(f\"Name:{self.name}, Age:{self.age}\")\n",
    "        \n",
    "    def eat(self):\n",
    "        print(\"This animal is eating\")\n",
    "        self._is_hungry = False\n",
    "        \n",
    "    def move(self):\n",
    "        pass\n",
    "    \n",
    "    def age_up(self):\n",
    "        self.age += 1\n",
    "        self._check_retirement()\n",
    "    \n",
    "    def _check_retirement(self):\n",
    "        if self.age >= 10:\n",
    "            print(f\"{self.name} has retired\")\n",
    "        \n",
    "        \n",
    "class Elephant(Animal): # child\n",
    "    def __init__(self, name, age, trunk_length):\n",
    "        super().__init__(name, age)\n",
    "        self._trunk_length = trunk_length\n",
    "        self.description = f\"{self.name} has {trunk_length} meter long trunk\"\n",
    "        \n",
    "    def eat(self): # Extending the method\n",
    "        if self._use_trunk():\n",
    "            print(f\"{self.name} is having some leaves\")\n",
    "        else:\n",
    "            print(f\"{self.name} will be fed by mother\")\n",
    "        \n",
    "    def move(self):\n",
    "        print(f\"{self.name} is ambling\")\n",
    "        \n",
    "    def get_trunk_length(self):\n",
    "        return self._trunk_length\n",
    "    \n",
    "    def set_trunk_length(self, length):\n",
    "        if 0<length<3:\n",
    "            self._trunk_length = length\n",
    "        else:\n",
    "            print(\"Trunk length must be between 0 and 3 meters.\")\n",
    "    \n",
    "    def _use_trunk(self):\n",
    "        if self.age< 1 or self._trunk_length < 1.2:\n",
    "            return False\n",
    "        else: \n",
    "            return True"
   ]
  },
  {
   "cell_type": "code",
   "execution_count": 64,
   "id": "3715fd3f",
   "metadata": {},
   "outputs": [
    {
     "name": "stdout",
     "output_type": "stream",
     "text": [
      "Mother Elephant is having some leaves\n"
     ]
    }
   ],
   "source": [
    "mother = Elephant(\"Mother Elephant\", 6, 1.83)\n",
    "mother.eat()"
   ]
  },
  {
   "cell_type": "code",
   "execution_count": 65,
   "id": "a25918e2",
   "metadata": {},
   "outputs": [
    {
     "name": "stdout",
     "output_type": "stream",
     "text": [
      "Tiny Elephant will be fed by mother\n"
     ]
    }
   ],
   "source": [
    "baby = Elephant(\"Tiny Elephant\", 2, 1.1)\n",
    "baby.eat()"
   ]
  },
  {
   "cell_type": "code",
   "execution_count": 66,
   "id": "ab8f26dd",
   "metadata": {},
   "outputs": [
    {
     "name": "stdout",
     "output_type": "stream",
     "text": [
      "Tiny Elephant is having some leaves\n"
     ]
    }
   ],
   "source": [
    "baby = Elephant(\"Tiny Elephant\", 1.5, 2)\n",
    "baby.eat()"
   ]
  },
  {
   "cell_type": "code",
   "execution_count": null,
   "id": "15f08dcd",
   "metadata": {},
   "outputs": [],
   "source": []
  },
  {
   "cell_type": "code",
   "execution_count": null,
   "id": "2eeb41ed",
   "metadata": {},
   "outputs": [],
   "source": []
  },
  {
   "cell_type": "code",
   "execution_count": null,
   "id": "10b36490",
   "metadata": {},
   "outputs": [],
   "source": []
  }
 ],
 "metadata": {
  "kernelspec": {
   "display_name": "Python 3 (ipykernel)",
   "language": "python",
   "name": "python3"
  },
  "language_info": {
   "codemirror_mode": {
    "name": "ipython",
    "version": 3
   },
   "file_extension": ".py",
   "mimetype": "text/x-python",
   "name": "python",
   "nbconvert_exporter": "python",
   "pygments_lexer": "ipython3",
   "version": "3.11.3"
  }
 },
 "nbformat": 4,
 "nbformat_minor": 5
}
