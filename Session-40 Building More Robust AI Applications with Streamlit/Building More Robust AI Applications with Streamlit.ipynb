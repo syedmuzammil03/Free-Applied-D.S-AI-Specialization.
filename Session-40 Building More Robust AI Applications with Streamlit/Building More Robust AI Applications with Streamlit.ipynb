{
 "cells": [
  {
   "cell_type": "code",
   "execution_count": 1,
   "id": "8dd203a8",
   "metadata": {},
   "outputs": [
    {
     "name": "stdout",
     "output_type": "stream",
     "text": [
      "Overwriting web.py\n"
     ]
    }
   ],
   "source": [
    "%%writefile web.py\n",
    "\n",
    "import streamlit as st\n",
    "\n",
    "st.image(\"DS.png\")\n",
    "st.title(\"DigiTech Synergy Pvt. Ltd\")\n",
    "\n",
    "st.header(\"Feedback Form\")\n",
    "\n",
    "st.write(\"Please provide your feedback below!\")\n",
    "\n",
    "name = st.text_input(\"Please write your name\")\n",
    "\n",
    "st.write(f\"Welcome {name}\")\n",
    "\n",
    "enjoy = st.radio(\"Do you enjoy our training?\",[\"Yes\", \"No\"])\n",
    "\n",
    "if enjoy == \"Yes\":\n",
    "    st.write(\"Glad to hear that!\")\n",
    "elif enjoy == \"No\":\n",
    "    st.write(\"Sorry to hear that. We'll strive to improve.\")\n",
    "    \n",
    "rating = st.slider(\"How do you rate our training\",1,10,5)\n",
    "training = st.selectbox(\"What training do you like most?\", [\"Data Analytics\",\"Generative AI\", \"Application Development\"])\n",
    "\n",
    "st.write(f\"You have rated our training {rating} and you like {training} training\")\n",
    "\n",
    "message = st.text_area(\"Comments\", \"Please provide your comments to improve our service further\")\n",
    "\n",
    "st.checkbox(\"Please confirm all above information is correct\")"
   ]
  },
  {
   "cell_type": "code",
   "execution_count": 2,
   "id": "94891063",
   "metadata": {},
   "outputs": [
    {
     "name": "stdout",
     "output_type": "stream",
     "text": [
      "Overwriting web.py\n"
     ]
    }
   ],
   "source": [
    "%%writefile web.py\n",
    "\n",
    "import streamlit as st\n",
    "\n",
    "def about_us():\n",
    "    st.header(\"About Us\")\n",
    "    col1, col2 = st.columns(2)\n",
    "    with col1:\n",
    "        st.image(\"WAM.png\")\n",
    "        st.header(\"Waqas Ali\")\n",
    "        st.write(\"Executive Director (ED)\")\n",
    "    \n",
    "    with col2:\n",
    "        st.image(\"FAN.png\")\n",
    "        st.header(\"Farough Ali\")\n",
    "        st.write(\"Chief Executive Officer (CEO)\")\n",
    "        \n",
    "def faqs():\n",
    "    tab1, tab2 = st.tabs([\"General\", \"AI & Data Specialization\"])\n",
    "    with tab1:\n",
    "        faq1 = st.expander(\"Why AI is imporant for Everyone?\")\n",
    "        with faq1:\n",
    "            st.write(\"AI is widely used in all domains that is why it is important for Everyone\")\n",
    "            \n",
    "        faq2 = st.expander(\"Where is AI used?\")\n",
    "        with faq2:\n",
    "            st.write(\"AI is used in variety of task. Such as;\")\n",
    "            st.markdown(\"\"\"\n",
    "            - Automation\n",
    "            - Decision Making\n",
    "            - Problem solving\n",
    "            - etc;\n",
    "            \"\"\")\n",
    "    with tab2:\n",
    "        st.write(\"Coming Soon ----\")\n",
    "        \n",
    "def feedback():\n",
    "    st.write(\"Please provide your feedback below!\")\n",
    "\n",
    "    name = st.text_input(\"Please write your name\")\n",
    "\n",
    "    st.write(f\"Welcome {name}\")\n",
    "\n",
    "    enjoy = st.radio(\"Do you enjoy our training?\",[\"Yes\", \"No\"])\n",
    "\n",
    "    if enjoy == \"Yes\":\n",
    "        st.write(\"Glad to hear that!\")\n",
    "    elif enjoy == \"No\":\n",
    "        st.write(\"Sorry to hear that. We'll strive to improve.\")\n",
    "\n",
    "    rating = st.slider(\"How do you rate our training\",1,10,5)\n",
    "    training = st.selectbox(\"What training do you like most?\", [\"Data Analytics\",\"Generative AI\", \"Application Development\"])\n",
    "\n",
    "    st.write(f\"You have rated our training {rating} and you like {training} training\")\n",
    "\n",
    "    message = st.text_area(\"Comments\", \"Please provide your comments to improve our service further\")\n",
    "\n",
    "    st.checkbox(\"Please confirm all above information is correct\")\n",
    "\n",
    "st.image(\"DS.png\")\n",
    "st.title(\"DigiTech Synergy Pvt. Ltd\")\n",
    "\n",
    "st.sidebar.title(\"Navigation\")\n",
    "options = st.sidebar.selectbox(\"Choose a section\", [\"About Us\", \"FAQs\", \"Feedback Form\"])\n",
    "\n",
    "if options == \"About Us\":\n",
    "    about_us()\n",
    "    \n",
    "elif options == \"FAQs\":\n",
    "    faqs()\n",
    "    \n",
    "elif options == \"Feedback Form\":\n",
    "    feedback()\n",
    "    "
   ]
  },
  {
   "cell_type": "code",
   "execution_count": 3,
   "id": "6ac23376",
   "metadata": {},
   "outputs": [
    {
     "name": "stderr",
     "output_type": "stream",
     "text": [
      "'streamlit' is not recognized as an internal or external command,\n",
      "operable program or batch file.\n"
     ]
    }
   ],
   "source": [
    "!streamlit run web.py"
   ]
  },
  {
   "cell_type": "code",
   "execution_count": null,
   "id": "8da25751",
   "metadata": {},
   "outputs": [],
   "source": [
    "# a, b = [1,2]"
   ]
  }
 ],
 "metadata": {
  "kernelspec": {
   "display_name": "Python 3 (ipykernel)",
   "language": "python",
   "name": "python3"
  },
  "language_info": {
   "codemirror_mode": {
    "name": "ipython",
    "version": 3
   },
   "file_extension": ".py",
   "mimetype": "text/x-python",
   "name": "python",
   "nbconvert_exporter": "python",
   "pygments_lexer": "ipython3",
   "version": "3.11.5"
  }
 },
 "nbformat": 4,
 "nbformat_minor": 5
}
