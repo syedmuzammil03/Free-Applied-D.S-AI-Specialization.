{
 "cells": [
  {
   "cell_type": "code",
   "execution_count": 4,
   "id": "7e4be897",
   "metadata": {},
   "outputs": [],
   "source": [
    "import pandas as pd"
   ]
  },
  {
   "cell_type": "code",
   "execution_count": 5,
   "id": "3305e8cb",
   "metadata": {},
   "outputs": [],
   "source": [
    "visitors = pd.read_csv(\"visitors.csv\")"
   ]
  },
  {
   "cell_type": "code",
   "execution_count": 6,
   "id": "726f2098",
   "metadata": {},
   "outputs": [
    {
     "data": {
      "text/html": [
       "<div>\n",
       "<style scoped>\n",
       "    .dataframe tbody tr th:only-of-type {\n",
       "        vertical-align: middle;\n",
       "    }\n",
       "\n",
       "    .dataframe tbody tr th {\n",
       "        vertical-align: top;\n",
       "    }\n",
       "\n",
       "    .dataframe thead th {\n",
       "        text-align: right;\n",
       "    }\n",
       "</style>\n",
       "<table border=\"1\" class=\"dataframe\">\n",
       "  <thead>\n",
       "    <tr style=\"text-align: right;\">\n",
       "      <th></th>\n",
       "      <th>name</th>\n",
       "      <th>appt_made_date</th>\n",
       "      <th>appt_start_date</th>\n",
       "      <th>appt_end_date</th>\n",
       "      <th>visitee_namelast</th>\n",
       "      <th>visitee_namefirst</th>\n",
       "      <th>meeting_room</th>\n",
       "      <th>description</th>\n",
       "    </tr>\n",
       "  </thead>\n",
       "  <tbody>\n",
       "    <tr>\n",
       "      <th>0</th>\n",
       "      <td>Joshua T. Blanton</td>\n",
       "      <td>2014-12-18T00:00:00</td>\n",
       "      <td>1/6/15 9:30</td>\n",
       "      <td>1/6/15 23:59</td>\n",
       "      <td>NaN</td>\n",
       "      <td>potus</td>\n",
       "      <td>west wing</td>\n",
       "      <td>JointService Military Honor Guard</td>\n",
       "    </tr>\n",
       "    <tr>\n",
       "      <th>1</th>\n",
       "      <td>Jack T. Gutting</td>\n",
       "      <td>2014-12-18T00:00:00</td>\n",
       "      <td>1/6/15 9:30</td>\n",
       "      <td>1/6/15 23:59</td>\n",
       "      <td>NaN</td>\n",
       "      <td>potus</td>\n",
       "      <td>west wing</td>\n",
       "      <td>JointService Military Honor Guard</td>\n",
       "    </tr>\n",
       "    <tr>\n",
       "      <th>2</th>\n",
       "      <td>Bradley T. Guiles</td>\n",
       "      <td>2014-12-18T00:00:00</td>\n",
       "      <td>1/6/15 9:30</td>\n",
       "      <td>1/6/15 23:59</td>\n",
       "      <td>NaN</td>\n",
       "      <td>potus</td>\n",
       "      <td>west wing</td>\n",
       "      <td>JointService Military Honor Guard</td>\n",
       "    </tr>\n",
       "    <tr>\n",
       "      <th>3</th>\n",
       "      <td>Loryn F. Grieb</td>\n",
       "      <td>2014-12-18T00:00:00</td>\n",
       "      <td>1/6/15 9:30</td>\n",
       "      <td>1/6/15 23:59</td>\n",
       "      <td>NaN</td>\n",
       "      <td>potus</td>\n",
       "      <td>west wing</td>\n",
       "      <td>JointService Military Honor Guard</td>\n",
       "    </tr>\n",
       "    <tr>\n",
       "      <th>4</th>\n",
       "      <td>Travis D. Gordon</td>\n",
       "      <td>2014-12-18T00:00:00</td>\n",
       "      <td>1/6/15 9:30</td>\n",
       "      <td>1/6/15 23:59</td>\n",
       "      <td>NaN</td>\n",
       "      <td>potus</td>\n",
       "      <td>west wing</td>\n",
       "      <td>JointService Military Honor Guard</td>\n",
       "    </tr>\n",
       "  </tbody>\n",
       "</table>\n",
       "</div>"
      ],
      "text/plain": [
       "                name       appt_made_date appt_start_date appt_end_date  \\\n",
       "0  Joshua T. Blanton  2014-12-18T00:00:00     1/6/15 9:30  1/6/15 23:59   \n",
       "1    Jack T. Gutting  2014-12-18T00:00:00     1/6/15 9:30  1/6/15 23:59   \n",
       "2  Bradley T. Guiles  2014-12-18T00:00:00     1/6/15 9:30  1/6/15 23:59   \n",
       "3     Loryn F. Grieb  2014-12-18T00:00:00     1/6/15 9:30  1/6/15 23:59   \n",
       "4   Travis D. Gordon  2014-12-18T00:00:00     1/6/15 9:30  1/6/15 23:59   \n",
       "\n",
       "  visitee_namelast visitee_namefirst meeting_room  \\\n",
       "0              NaN             potus    west wing   \n",
       "1              NaN             potus    west wing   \n",
       "2              NaN             potus    west wing   \n",
       "3              NaN             potus    west wing   \n",
       "4              NaN             potus    west wing   \n",
       "\n",
       "                         description  \n",
       "0  JointService Military Honor Guard  \n",
       "1  JointService Military Honor Guard  \n",
       "2  JointService Military Honor Guard  \n",
       "3  JointService Military Honor Guard  \n",
       "4  JointService Military Honor Guard  "
      ]
     },
     "execution_count": 6,
     "metadata": {},
     "output_type": "execute_result"
    }
   ],
   "source": [
    "visitors.head()"
   ]
  },
  {
   "cell_type": "code",
   "execution_count": 7,
   "id": "42347617",
   "metadata": {},
   "outputs": [
    {
     "name": "stdout",
     "output_type": "stream",
     "text": [
      "<class 'pandas.core.frame.DataFrame'>\n",
      "RangeIndex: 47954 entries, 0 to 47953\n",
      "Data columns (total 8 columns):\n",
      " #   Column             Non-Null Count  Dtype \n",
      "---  ------             --------------  ----- \n",
      " 0   name               47954 non-null  object\n",
      " 1   appt_made_date     47954 non-null  object\n",
      " 2   appt_start_date    47954 non-null  object\n",
      " 3   appt_end_date      47954 non-null  object\n",
      " 4   visitee_namelast   6069 non-null   object\n",
      " 5   visitee_namefirst  47953 non-null  object\n",
      " 6   meeting_room       47954 non-null  object\n",
      " 7   description        8053 non-null   object\n",
      "dtypes: object(8)\n",
      "memory usage: 2.9+ MB\n"
     ]
    }
   ],
   "source": [
    "visitors.info()"
   ]
  },
  {
   "cell_type": "code",
   "execution_count": 8,
   "id": "d8de495d",
   "metadata": {},
   "outputs": [
    {
     "name": "stderr",
     "output_type": "stream",
     "text": [
      "C:\\Users\\CGDC\\AppData\\Local\\Temp\\ipykernel_1220\\2739356460.py:1: UserWarning: Could not infer format, so each element will be parsed individually, falling back to `dateutil`. To ensure parsing is consistent and as-expected, please specify a format.\n",
      "  pd.to_datetime(visitors[\"appt_start_date\"])\n"
     ]
    },
    {
     "data": {
      "text/plain": [
       "0       2015-01-06 09:30:00\n",
       "1       2015-01-06 09:30:00\n",
       "2       2015-01-06 09:30:00\n",
       "3       2015-01-06 09:30:00\n",
       "4       2015-01-06 09:30:00\n",
       "                ...        \n",
       "47949   2015-12-18 16:30:00\n",
       "47950   2015-12-18 16:30:00\n",
       "47951   2015-12-18 16:30:00\n",
       "47952   2015-12-18 16:30:00\n",
       "47953   2015-12-18 16:30:00\n",
       "Name: appt_start_date, Length: 47954, dtype: datetime64[ns]"
      ]
     },
     "execution_count": 8,
     "metadata": {},
     "output_type": "execute_result"
    }
   ],
   "source": [
    "pd.to_datetime(visitors[\"appt_start_date\"])"
   ]
  },
  {
   "attachments": {
    "image.png": {
     "image/png": "[encoded data removed]"
    }
   },
   "cell_type": "markdown",
   "id": "4e34c8d0",
   "metadata": {},
   "source": [
    "![image.png](attachment:image.png)"
   ]
  },
  {
   "cell_type": "code",
   "execution_count": 9,
   "id": "ec464300",
   "metadata": {},
   "outputs": [
    {
     "data": {
      "text/html": [
       "<div>\n",
       "<style scoped>\n",
       "    .dataframe tbody tr th:only-of-type {\n",
       "        vertical-align: middle;\n",
       "    }\n",
       "\n",
       "    .dataframe tbody tr th {\n",
       "        vertical-align: top;\n",
       "    }\n",
       "\n",
       "    .dataframe thead th {\n",
       "        text-align: right;\n",
       "    }\n",
       "</style>\n",
       "<table border=\"1\" class=\"dataframe\">\n",
       "  <thead>\n",
       "    <tr style=\"text-align: right;\">\n",
       "      <th></th>\n",
       "      <th>name</th>\n",
       "      <th>appt_made_date</th>\n",
       "      <th>appt_start_date</th>\n",
       "      <th>appt_end_date</th>\n",
       "      <th>visitee_namelast</th>\n",
       "      <th>visitee_namefirst</th>\n",
       "      <th>meeting_room</th>\n",
       "      <th>description</th>\n",
       "    </tr>\n",
       "  </thead>\n",
       "  <tbody>\n",
       "    <tr>\n",
       "      <th>47949</th>\n",
       "      <td>William B. Henline</td>\n",
       "      <td>2015-12-16T00:00:00</td>\n",
       "      <td>12/18/15 16:30</td>\n",
       "      <td>12/18/15 23:59</td>\n",
       "      <td>NaN</td>\n",
       "      <td>POTUS/FLOTUS</td>\n",
       "      <td>State Floo</td>\n",
       "      <td>NaN</td>\n",
       "    </tr>\n",
       "    <tr>\n",
       "      <th>47950</th>\n",
       "      <td>Ian T. Burris</td>\n",
       "      <td>2015-12-16T00:00:00</td>\n",
       "      <td>12/18/15 16:30</td>\n",
       "      <td>12/18/15 23:59</td>\n",
       "      <td>NaN</td>\n",
       "      <td>POTUS/FLOTUS</td>\n",
       "      <td>State Floo</td>\n",
       "      <td>NaN</td>\n",
       "    </tr>\n",
       "    <tr>\n",
       "      <th>47951</th>\n",
       "      <td>James F. Albaugh</td>\n",
       "      <td>2015-12-16T00:00:00</td>\n",
       "      <td>12/18/15 16:30</td>\n",
       "      <td>12/18/15 23:59</td>\n",
       "      <td>NaN</td>\n",
       "      <td>POTUS/FLOTUS</td>\n",
       "      <td>State Floo</td>\n",
       "      <td>NaN</td>\n",
       "    </tr>\n",
       "    <tr>\n",
       "      <th>47952</th>\n",
       "      <td>Jackie L. Finken</td>\n",
       "      <td>2015-12-16T00:00:00</td>\n",
       "      <td>12/18/15 16:30</td>\n",
       "      <td>12/18/15 23:59</td>\n",
       "      <td>NaN</td>\n",
       "      <td>POTUS/FLOTUS</td>\n",
       "      <td>State Floo</td>\n",
       "      <td>NaN</td>\n",
       "    </tr>\n",
       "    <tr>\n",
       "      <th>47953</th>\n",
       "      <td>Grace M. Bauman</td>\n",
       "      <td>2015-12-16T00:00:00</td>\n",
       "      <td>12/18/15 16:30</td>\n",
       "      <td>12/18/15 23:59</td>\n",
       "      <td>NaN</td>\n",
       "      <td>POTUS/FLOTUS</td>\n",
       "      <td>State Floo</td>\n",
       "      <td>NaN</td>\n",
       "    </tr>\n",
       "  </tbody>\n",
       "</table>\n",
       "</div>"
      ],
      "text/plain": [
       "                     name       appt_made_date appt_start_date  \\\n",
       "47949  William B. Henline  2015-12-16T00:00:00  12/18/15 16:30   \n",
       "47950       Ian T. Burris  2015-12-16T00:00:00  12/18/15 16:30   \n",
       "47951    James F. Albaugh  2015-12-16T00:00:00  12/18/15 16:30   \n",
       "47952    Jackie L. Finken  2015-12-16T00:00:00  12/18/15 16:30   \n",
       "47953     Grace M. Bauman  2015-12-16T00:00:00  12/18/15 16:30   \n",
       "\n",
       "        appt_end_date visitee_namelast visitee_namefirst meeting_room  \\\n",
       "47949  12/18/15 23:59              NaN      POTUS/FLOTUS   State Floo   \n",
       "47950  12/18/15 23:59              NaN      POTUS/FLOTUS   State Floo   \n",
       "47951  12/18/15 23:59              NaN      POTUS/FLOTUS   State Floo   \n",
       "47952  12/18/15 23:59              NaN      POTUS/FLOTUS   State Floo   \n",
       "47953  12/18/15 23:59              NaN      POTUS/FLOTUS   State Floo   \n",
       "\n",
       "      description  \n",
       "47949         NaN  \n",
       "47950         NaN  \n",
       "47951         NaN  \n",
       "47952         NaN  \n",
       "47953         NaN  "
      ]
     },
     "execution_count": 9,
     "metadata": {},
     "output_type": "execute_result"
    }
   ],
   "source": [
    "visitors.tail()"
   ]
  },
  {
   "cell_type": "code",
   "execution_count": 10,
   "id": "5387e066",
   "metadata": {},
   "outputs": [
    {
     "data": {
      "text/plain": [
       "0       2015-01-06 09:30:00\n",
       "1       2015-01-06 09:30:00\n",
       "2       2015-01-06 09:30:00\n",
       "3       2015-01-06 09:30:00\n",
       "4       2015-01-06 09:30:00\n",
       "                ...        \n",
       "47949   2015-12-18 16:30:00\n",
       "47950   2015-12-18 16:30:00\n",
       "47951   2015-12-18 16:30:00\n",
       "47952   2015-12-18 16:30:00\n",
       "47953   2015-12-18 16:30:00\n",
       "Name: appt_start_date, Length: 47954, dtype: datetime64[ns]"
      ]
     },
     "execution_count": 10,
     "metadata": {},
     "output_type": "execute_result"
    }
   ],
   "source": [
    "date_sample = \"12/18/15 16:30\"\n",
    "date_format = \"%m/%d/%y %H:%M\"\n",
    "\n",
    "pd.to_datetime(visitors[\"appt_start_date\"], format =date_format )"
   ]
  },
  {
   "cell_type": "code",
   "execution_count": 11,
   "id": "4582a65e",
   "metadata": {},
   "outputs": [],
   "source": [
    "visitors[\"appt_start_date\"] = pd.to_datetime(visitors[\"appt_start_date\"], format =date_format )"
   ]
  },
  {
   "cell_type": "code",
   "execution_count": 12,
   "id": "7a78a93a",
   "metadata": {},
   "outputs": [
    {
     "name": "stdout",
     "output_type": "stream",
     "text": [
      "<class 'pandas.core.frame.DataFrame'>\n",
      "RangeIndex: 47954 entries, 0 to 47953\n",
      "Data columns (total 8 columns):\n",
      " #   Column             Non-Null Count  Dtype         \n",
      "---  ------             --------------  -----         \n",
      " 0   name               47954 non-null  object        \n",
      " 1   appt_made_date     47954 non-null  object        \n",
      " 2   appt_start_date    47954 non-null  datetime64[ns]\n",
      " 3   appt_end_date      47954 non-null  object        \n",
      " 4   visitee_namelast   6069 non-null   object        \n",
      " 5   visitee_namefirst  47953 non-null  object        \n",
      " 6   meeting_room       47954 non-null  object        \n",
      " 7   description        8053 non-null   object        \n",
      "dtypes: datetime64[ns](1), object(7)\n",
      "memory usage: 2.9+ MB\n"
     ]
    }
   ],
   "source": [
    "visitors.info()"
   ]
  },
  {
   "cell_type": "code",
   "execution_count": 13,
   "id": "f09984ff",
   "metadata": {},
   "outputs": [],
   "source": [
    "visitors[\"appt_end_date\"] = pd.to_datetime(visitors[\"appt_end_date\"], format =date_format )"
   ]
  },
  {
   "cell_type": "code",
   "execution_count": 14,
   "id": "47ec9202",
   "metadata": {},
   "outputs": [
    {
     "data": {
      "text/plain": [
       "name                         object\n",
       "appt_made_date               object\n",
       "appt_start_date      datetime64[ns]\n",
       "appt_end_date        datetime64[ns]\n",
       "visitee_namelast             object\n",
       "visitee_namefirst            object\n",
       "meeting_room                 object\n",
       "description                  object\n",
       "dtype: object"
      ]
     },
     "execution_count": 14,
     "metadata": {},
     "output_type": "execute_result"
    }
   ],
   "source": [
    "visitors.dtypes"
   ]
  },
  {
   "cell_type": "code",
   "execution_count": 15,
   "id": "7914db58",
   "metadata": {},
   "outputs": [
    {
     "data": {
      "text/html": [
       "<div>\n",
       "<style scoped>\n",
       "    .dataframe tbody tr th:only-of-type {\n",
       "        vertical-align: middle;\n",
       "    }\n",
       "\n",
       "    .dataframe tbody tr th {\n",
       "        vertical-align: top;\n",
       "    }\n",
       "\n",
       "    .dataframe thead th {\n",
       "        text-align: right;\n",
       "    }\n",
       "</style>\n",
       "<table border=\"1\" class=\"dataframe\">\n",
       "  <thead>\n",
       "    <tr style=\"text-align: right;\">\n",
       "      <th></th>\n",
       "      <th>name</th>\n",
       "      <th>appt_made_date</th>\n",
       "      <th>appt_start_date</th>\n",
       "      <th>appt_end_date</th>\n",
       "      <th>visitee_namelast</th>\n",
       "      <th>visitee_namefirst</th>\n",
       "      <th>meeting_room</th>\n",
       "      <th>description</th>\n",
       "    </tr>\n",
       "  </thead>\n",
       "  <tbody>\n",
       "    <tr>\n",
       "      <th>0</th>\n",
       "      <td>Joshua T. Blanton</td>\n",
       "      <td>2014-12-18T00:00:00</td>\n",
       "      <td>2015-01-06 09:30:00</td>\n",
       "      <td>2015-01-06 23:59:00</td>\n",
       "      <td>NaN</td>\n",
       "      <td>potus</td>\n",
       "      <td>west wing</td>\n",
       "      <td>JointService Military Honor Guard</td>\n",
       "    </tr>\n",
       "    <tr>\n",
       "      <th>1</th>\n",
       "      <td>Jack T. Gutting</td>\n",
       "      <td>2014-12-18T00:00:00</td>\n",
       "      <td>2015-01-06 09:30:00</td>\n",
       "      <td>2015-01-06 23:59:00</td>\n",
       "      <td>NaN</td>\n",
       "      <td>potus</td>\n",
       "      <td>west wing</td>\n",
       "      <td>JointService Military Honor Guard</td>\n",
       "    </tr>\n",
       "    <tr>\n",
       "      <th>2</th>\n",
       "      <td>Bradley T. Guiles</td>\n",
       "      <td>2014-12-18T00:00:00</td>\n",
       "      <td>2015-01-06 09:30:00</td>\n",
       "      <td>2015-01-06 23:59:00</td>\n",
       "      <td>NaN</td>\n",
       "      <td>potus</td>\n",
       "      <td>west wing</td>\n",
       "      <td>JointService Military Honor Guard</td>\n",
       "    </tr>\n",
       "    <tr>\n",
       "      <th>3</th>\n",
       "      <td>Loryn F. Grieb</td>\n",
       "      <td>2014-12-18T00:00:00</td>\n",
       "      <td>2015-01-06 09:30:00</td>\n",
       "      <td>2015-01-06 23:59:00</td>\n",
       "      <td>NaN</td>\n",
       "      <td>potus</td>\n",
       "      <td>west wing</td>\n",
       "      <td>JointService Military Honor Guard</td>\n",
       "    </tr>\n",
       "    <tr>\n",
       "      <th>4</th>\n",
       "      <td>Travis D. Gordon</td>\n",
       "      <td>2014-12-18T00:00:00</td>\n",
       "      <td>2015-01-06 09:30:00</td>\n",
       "      <td>2015-01-06 23:59:00</td>\n",
       "      <td>NaN</td>\n",
       "      <td>potus</td>\n",
       "      <td>west wing</td>\n",
       "      <td>JointService Military Honor Guard</td>\n",
       "    </tr>\n",
       "  </tbody>\n",
       "</table>\n",
       "</div>"
      ],
      "text/plain": [
       "                name       appt_made_date     appt_start_date  \\\n",
       "0  Joshua T. Blanton  2014-12-18T00:00:00 2015-01-06 09:30:00   \n",
       "1    Jack T. Gutting  2014-12-18T00:00:00 2015-01-06 09:30:00   \n",
       "2  Bradley T. Guiles  2014-12-18T00:00:00 2015-01-06 09:30:00   \n",
       "3     Loryn F. Grieb  2014-12-18T00:00:00 2015-01-06 09:30:00   \n",
       "4   Travis D. Gordon  2014-12-18T00:00:00 2015-01-06 09:30:00   \n",
       "\n",
       "        appt_end_date visitee_namelast visitee_namefirst meeting_room  \\\n",
       "0 2015-01-06 23:59:00              NaN             potus    west wing   \n",
       "1 2015-01-06 23:59:00              NaN             potus    west wing   \n",
       "2 2015-01-06 23:59:00              NaN             potus    west wing   \n",
       "3 2015-01-06 23:59:00              NaN             potus    west wing   \n",
       "4 2015-01-06 23:59:00              NaN             potus    west wing   \n",
       "\n",
       "                         description  \n",
       "0  JointService Military Honor Guard  \n",
       "1  JointService Military Honor Guard  \n",
       "2  JointService Military Honor Guard  \n",
       "3  JointService Military Honor Guard  \n",
       "4  JointService Military Honor Guard  "
      ]
     },
     "execution_count": 15,
     "metadata": {},
     "output_type": "execute_result"
    }
   ],
   "source": [
    "visitors.head()"
   ]
  },
  {
   "cell_type": "code",
   "execution_count": 17,
   "id": "921526ed",
   "metadata": {},
   "outputs": [
    {
     "data": {
      "text/plain": [
       "0        January, Tuesday\n",
       "1        January, Tuesday\n",
       "2        January, Tuesday\n",
       "3        January, Tuesday\n",
       "4        January, Tuesday\n",
       "               ...       \n",
       "47949    December, Friday\n",
       "47950    December, Friday\n",
       "47951    December, Friday\n",
       "47952    December, Friday\n",
       "47953    December, Friday\n",
       "Name: appt_start_date, Length: 47954, dtype: object"
      ]
     },
     "execution_count": 17,
     "metadata": {},
     "output_type": "execute_result"
    }
   ],
   "source": [
    "visitors[\"appt_start_date\"].dt.strftime(\"%B, %A\")"
   ]
  },
  {
   "cell_type": "code",
   "execution_count": 18,
   "id": "cb6500c2",
   "metadata": {},
   "outputs": [
    {
     "data": {
      "text/plain": [
       "0        January-Tuesday\n",
       "1        January-Tuesday\n",
       "2        January-Tuesday\n",
       "3        January-Tuesday\n",
       "4        January-Tuesday\n",
       "              ...       \n",
       "47949    December-Friday\n",
       "47950    December-Friday\n",
       "47951    December-Friday\n",
       "47952    December-Friday\n",
       "47953    December-Friday\n",
       "Name: appt_start_date, Length: 47954, dtype: object"
      ]
     },
     "execution_count": 18,
     "metadata": {},
     "output_type": "execute_result"
    }
   ],
   "source": [
    "visitors[\"appt_start_date\"].dt.strftime(\"%B-%A\")"
   ]
  },
  {
   "cell_type": "code",
   "execution_count": 21,
   "id": "dda82b52",
   "metadata": {},
   "outputs": [],
   "source": [
    "month_wise = visitors[\"appt_start_date\"].dt.strftime(\"%B %Y\")"
   ]
  },
  {
   "cell_type": "code",
   "execution_count": 22,
   "id": "272b07b8",
   "metadata": {},
   "outputs": [
    {
     "data": {
      "text/plain": [
       "0         January 2015\n",
       "1         January 2015\n",
       "2         January 2015\n",
       "3         January 2015\n",
       "4         January 2015\n",
       "             ...      \n",
       "47949    December 2015\n",
       "47950    December 2015\n",
       "47951    December 2015\n",
       "47952    December 2015\n",
       "47953    December 2015\n",
       "Name: appt_start_date, Length: 47954, dtype: object"
      ]
     },
     "execution_count": 22,
     "metadata": {},
     "output_type": "execute_result"
    }
   ],
   "source": [
    "month_wise"
   ]
  },
  {
   "cell_type": "code",
   "execution_count": 23,
   "id": "0f94d8de",
   "metadata": {},
   "outputs": [
    {
     "data": {
      "text/plain": [
       "appt_start_date\n",
       "December 2015     13029\n",
       "June 2015          7743\n",
       "April 2015         4996\n",
       "September 2015     4416\n",
       "October 2015       3669\n",
       "May 2015           3013\n",
       "July 2015          2930\n",
       "March 2015         2262\n",
       "February 2015      2165\n",
       "August 2015        1350\n",
       "January 2015       1248\n",
       "November 2015      1133\n",
       "Name: count, dtype: int64"
      ]
     },
     "execution_count": 23,
     "metadata": {},
     "output_type": "execute_result"
    }
   ],
   "source": [
    "month_wise.value_counts()"
   ]
  },
  {
   "cell_type": "code",
   "execution_count": 24,
   "id": "f5b15b6d",
   "metadata": {},
   "outputs": [],
   "source": [
    "length = visitors[\"appt_end_date\"] - visitors[\"appt_start_date\"]"
   ]
  },
  {
   "cell_type": "code",
   "execution_count": 25,
   "id": "09328fa1",
   "metadata": {},
   "outputs": [
    {
     "data": {
      "text/plain": [
       "0       0 days 14:29:00\n",
       "1       0 days 14:29:00\n",
       "2       0 days 14:29:00\n",
       "3       0 days 14:29:00\n",
       "4       0 days 14:29:00\n",
       "              ...      \n",
       "47949   0 days 07:29:00\n",
       "47950   0 days 07:29:00\n",
       "47951   0 days 07:29:00\n",
       "47952   0 days 07:29:00\n",
       "47953   0 days 07:29:00\n",
       "Length: 47954, dtype: timedelta64[ns]"
      ]
     },
     "execution_count": 25,
     "metadata": {},
     "output_type": "execute_result"
    }
   ],
   "source": [
    "length"
   ]
  },
  {
   "cell_type": "code",
   "execution_count": 26,
   "id": "d90f5370",
   "metadata": {},
   "outputs": [
    {
     "data": {
      "text/plain": [
       "Timedelta('0 days 02:29:00')"
      ]
     },
     "execution_count": 26,
     "metadata": {},
     "output_type": "execute_result"
    }
   ],
   "source": [
    "length.min()"
   ]
  },
  {
   "cell_type": "code",
   "execution_count": 27,
   "id": "b3f69a32",
   "metadata": {},
   "outputs": [
    {
     "data": {
      "text/plain": [
       "Timedelta('16 days 12:59:00')"
      ]
     },
     "execution_count": 27,
     "metadata": {},
     "output_type": "execute_result"
    }
   ],
   "source": [
    "length.max()"
   ]
  },
  {
   "cell_type": "code",
   "execution_count": 28,
   "id": "75bf78d7",
   "metadata": {},
   "outputs": [
    {
     "data": {
      "text/plain": [
       "Timedelta('21210 days 14:02:00')"
      ]
     },
     "execution_count": 28,
     "metadata": {},
     "output_type": "execute_result"
    }
   ],
   "source": [
    "length.sum()"
   ]
  },
  {
   "cell_type": "code",
   "execution_count": null,
   "id": "25e692f9",
   "metadata": {},
   "outputs": [],
   "source": []
  }
 ],
 "metadata": {
  "kernelspec": {
   "display_name": "Python 3 (ipykernel)",
   "language": "python",
   "name": "python3"
  },
  "language_info": {
   "codemirror_mode": {
    "name": "ipython",
    "version": 3
   },
   "file_extension": ".py",
   "mimetype": "text/x-python",
   "name": "python",
   "nbconvert_exporter": "python",
   "pygments_lexer": "ipython3",
   "version": "3.11.5"
  }
 },
 "nbformat": 4,
 "nbformat_minor": 5
}
