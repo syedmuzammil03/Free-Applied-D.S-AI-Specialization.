{
 "cells": [
  {
   "cell_type": "code",
   "execution_count": 1,
   "id": "9fa3ae25",
   "metadata": {},
   "outputs": [],
   "source": [
    "file = \"modern_arts.csv\""
   ]
  },
  {
   "cell_type": "code",
   "execution_count": 2,
   "id": "2f049bbd",
   "metadata": {},
   "outputs": [],
   "source": [
    "import pandas as pd"
   ]
  },
  {
   "cell_type": "code",
   "execution_count": 3,
   "id": "7128b2d5",
   "metadata": {},
   "outputs": [],
   "source": [
    "arts = pd.read_csv(file)"
   ]
  },
  {
   "cell_type": "code",
   "execution_count": 4,
   "id": "9b3e25bd",
   "metadata": {},
   "outputs": [
    {
     "data": {
      "text/html": [
       "<div>\n",
       "<style scoped>\n",
       "    .dataframe tbody tr th:only-of-type {\n",
       "        vertical-align: middle;\n",
       "    }\n",
       "\n",
       "    .dataframe tbody tr th {\n",
       "        vertical-align: top;\n",
       "    }\n",
       "\n",
       "    .dataframe thead th {\n",
       "        text-align: right;\n",
       "    }\n",
       "</style>\n",
       "<table border=\"1\" class=\"dataframe\">\n",
       "  <thead>\n",
       "    <tr style=\"text-align: right;\">\n",
       "      <th></th>\n",
       "      <th>Title</th>\n",
       "      <th>Artist</th>\n",
       "      <th>Nationality</th>\n",
       "      <th>BeginDate</th>\n",
       "      <th>EndDate</th>\n",
       "      <th>Gender</th>\n",
       "      <th>Date</th>\n",
       "      <th>Department</th>\n",
       "    </tr>\n",
       "  </thead>\n",
       "  <tbody>\n",
       "    <tr>\n",
       "      <th>0</th>\n",
       "      <td>Dress MacLeod from Tartan Sets</td>\n",
       "      <td>Sarah Charlesworth</td>\n",
       "      <td>(American)</td>\n",
       "      <td>(1947)</td>\n",
       "      <td>(2013)</td>\n",
       "      <td>(Female)</td>\n",
       "      <td>1986</td>\n",
       "      <td>Prints &amp; Illustrated Books</td>\n",
       "    </tr>\n",
       "    <tr>\n",
       "      <th>1</th>\n",
       "      <td>Duplicate of plate from folio 11 verso (supple...</td>\n",
       "      <td>Pablo Palazuelo</td>\n",
       "      <td>(Spanish)</td>\n",
       "      <td>(1916)</td>\n",
       "      <td>(2007)</td>\n",
       "      <td>(Male)</td>\n",
       "      <td>1978</td>\n",
       "      <td>Prints &amp; Illustrated Books</td>\n",
       "    </tr>\n",
       "    <tr>\n",
       "      <th>2</th>\n",
       "      <td>Tailpiece (page 55) from SAGESSE</td>\n",
       "      <td>Maurice Denis</td>\n",
       "      <td>(French)</td>\n",
       "      <td>(1870)</td>\n",
       "      <td>(1943)</td>\n",
       "      <td>(Male)</td>\n",
       "      <td>1889-1911</td>\n",
       "      <td>Prints &amp; Illustrated Books</td>\n",
       "    </tr>\n",
       "    <tr>\n",
       "      <th>3</th>\n",
       "      <td>Headpiece (page 129) from LIVRET DE FOLASTRIES...</td>\n",
       "      <td>Aristide Maillol</td>\n",
       "      <td>(French)</td>\n",
       "      <td>(1861)</td>\n",
       "      <td>(1944)</td>\n",
       "      <td>(Male)</td>\n",
       "      <td>1927-1940</td>\n",
       "      <td>Prints &amp; Illustrated Books</td>\n",
       "    </tr>\n",
       "    <tr>\n",
       "      <th>4</th>\n",
       "      <td>97 rue du Bac</td>\n",
       "      <td>Eugène Atget</td>\n",
       "      <td>(French)</td>\n",
       "      <td>(1857)</td>\n",
       "      <td>(1927)</td>\n",
       "      <td>(Male)</td>\n",
       "      <td>1903</td>\n",
       "      <td>Photography</td>\n",
       "    </tr>\n",
       "  </tbody>\n",
       "</table>\n",
       "</div>"
      ],
      "text/plain": [
       "                                               Title              Artist   \n",
       "0                     Dress MacLeod from Tartan Sets  Sarah Charlesworth  \\\n",
       "1  Duplicate of plate from folio 11 verso (supple...     Pablo Palazuelo   \n",
       "2                   Tailpiece (page 55) from SAGESSE       Maurice Denis   \n",
       "3  Headpiece (page 129) from LIVRET DE FOLASTRIES...    Aristide Maillol   \n",
       "4                                      97 rue du Bac        Eugène Atget   \n",
       "\n",
       "  Nationality BeginDate EndDate    Gender       Date   \n",
       "0  (American)    (1947)  (2013)  (Female)       1986  \\\n",
       "1   (Spanish)    (1916)  (2007)    (Male)       1978   \n",
       "2    (French)    (1870)  (1943)    (Male)  1889-1911   \n",
       "3    (French)    (1861)  (1944)    (Male)  1927-1940   \n",
       "4    (French)    (1857)  (1927)    (Male)       1903   \n",
       "\n",
       "                   Department  \n",
       "0  Prints & Illustrated Books  \n",
       "1  Prints & Illustrated Books  \n",
       "2  Prints & Illustrated Books  \n",
       "3  Prints & Illustrated Books  \n",
       "4                 Photography  "
      ]
     },
     "execution_count": 4,
     "metadata": {},
     "output_type": "execute_result"
    }
   ],
   "source": [
    "arts.head()"
   ]
  },
  {
   "cell_type": "code",
   "execution_count": 5,
   "id": "7f8ab760",
   "metadata": {},
   "outputs": [
    {
     "data": {
      "text/plain": [
       "0        (Female)\n",
       "1          (Male)\n",
       "2          (Male)\n",
       "3          (Male)\n",
       "4          (Male)\n",
       "           ...   \n",
       "16720      (Male)\n",
       "16721      (Male)\n",
       "16722      (Male)\n",
       "16723          ()\n",
       "16724      (Male)\n",
       "Name: Gender, Length: 16725, dtype: object"
      ]
     },
     "execution_count": 5,
     "metadata": {},
     "output_type": "execute_result"
    }
   ],
   "source": [
    "arts[\"Gender\"]"
   ]
  },
  {
   "cell_type": "code",
   "execution_count": 6,
   "id": "2848eacc",
   "metadata": {},
   "outputs": [
    {
     "data": {
      "text/plain": [
       "0        Female\n",
       "1          Male\n",
       "2          Male\n",
       "3          Male\n",
       "4          Male\n",
       "          ...  \n",
       "16720      Male\n",
       "16721      Male\n",
       "16722      Male\n",
       "16723          \n",
       "16724      Male\n",
       "Name: Gender, Length: 16725, dtype: object"
      ]
     },
     "execution_count": 6,
     "metadata": {},
     "output_type": "execute_result"
    }
   ],
   "source": [
    "arts[\"Gender\"].str.replace(\"(\",\"\").str.replace(\")\",\"\")"
   ]
  },
  {
   "cell_type": "code",
   "execution_count": 7,
   "id": "447af3f2",
   "metadata": {},
   "outputs": [
    {
     "data": {
      "text/html": [
       "<div>\n",
       "<style scoped>\n",
       "    .dataframe tbody tr th:only-of-type {\n",
       "        vertical-align: middle;\n",
       "    }\n",
       "\n",
       "    .dataframe tbody tr th {\n",
       "        vertical-align: top;\n",
       "    }\n",
       "\n",
       "    .dataframe thead th {\n",
       "        text-align: right;\n",
       "    }\n",
       "</style>\n",
       "<table border=\"1\" class=\"dataframe\">\n",
       "  <thead>\n",
       "    <tr style=\"text-align: right;\">\n",
       "      <th></th>\n",
       "      <th>Title</th>\n",
       "      <th>Artist</th>\n",
       "      <th>Nationality</th>\n",
       "      <th>BeginDate</th>\n",
       "      <th>EndDate</th>\n",
       "      <th>Gender</th>\n",
       "      <th>Date</th>\n",
       "      <th>Department</th>\n",
       "    </tr>\n",
       "  </thead>\n",
       "  <tbody>\n",
       "    <tr>\n",
       "      <th>0</th>\n",
       "      <td>Dress MacLeod from Tartan Sets</td>\n",
       "      <td>Sarah Charlesworth</td>\n",
       "      <td>(American)</td>\n",
       "      <td>(1947)</td>\n",
       "      <td>(2013)</td>\n",
       "      <td>(Female)</td>\n",
       "      <td>1986</td>\n",
       "      <td>Prints &amp; Illustrated Books</td>\n",
       "    </tr>\n",
       "    <tr>\n",
       "      <th>1</th>\n",
       "      <td>Duplicate of plate from folio 11 verso (supple...</td>\n",
       "      <td>Pablo Palazuelo</td>\n",
       "      <td>(Spanish)</td>\n",
       "      <td>(1916)</td>\n",
       "      <td>(2007)</td>\n",
       "      <td>(Male)</td>\n",
       "      <td>1978</td>\n",
       "      <td>Prints &amp; Illustrated Books</td>\n",
       "    </tr>\n",
       "    <tr>\n",
       "      <th>2</th>\n",
       "      <td>Tailpiece (page 55) from SAGESSE</td>\n",
       "      <td>Maurice Denis</td>\n",
       "      <td>(French)</td>\n",
       "      <td>(1870)</td>\n",
       "      <td>(1943)</td>\n",
       "      <td>(Male)</td>\n",
       "      <td>1889-1911</td>\n",
       "      <td>Prints &amp; Illustrated Books</td>\n",
       "    </tr>\n",
       "    <tr>\n",
       "      <th>3</th>\n",
       "      <td>Headpiece (page 129) from LIVRET DE FOLASTRIES...</td>\n",
       "      <td>Aristide Maillol</td>\n",
       "      <td>(French)</td>\n",
       "      <td>(1861)</td>\n",
       "      <td>(1944)</td>\n",
       "      <td>(Male)</td>\n",
       "      <td>1927-1940</td>\n",
       "      <td>Prints &amp; Illustrated Books</td>\n",
       "    </tr>\n",
       "    <tr>\n",
       "      <th>4</th>\n",
       "      <td>97 rue du Bac</td>\n",
       "      <td>Eugène Atget</td>\n",
       "      <td>(French)</td>\n",
       "      <td>(1857)</td>\n",
       "      <td>(1927)</td>\n",
       "      <td>(Male)</td>\n",
       "      <td>1903</td>\n",
       "      <td>Photography</td>\n",
       "    </tr>\n",
       "  </tbody>\n",
       "</table>\n",
       "</div>"
      ],
      "text/plain": [
       "                                               Title              Artist   \n",
       "0                     Dress MacLeod from Tartan Sets  Sarah Charlesworth  \\\n",
       "1  Duplicate of plate from folio 11 verso (supple...     Pablo Palazuelo   \n",
       "2                   Tailpiece (page 55) from SAGESSE       Maurice Denis   \n",
       "3  Headpiece (page 129) from LIVRET DE FOLASTRIES...    Aristide Maillol   \n",
       "4                                      97 rue du Bac        Eugène Atget   \n",
       "\n",
       "  Nationality BeginDate EndDate    Gender       Date   \n",
       "0  (American)    (1947)  (2013)  (Female)       1986  \\\n",
       "1   (Spanish)    (1916)  (2007)    (Male)       1978   \n",
       "2    (French)    (1870)  (1943)    (Male)  1889-1911   \n",
       "3    (French)    (1861)  (1944)    (Male)  1927-1940   \n",
       "4    (French)    (1857)  (1927)    (Male)       1903   \n",
       "\n",
       "                   Department  \n",
       "0  Prints & Illustrated Books  \n",
       "1  Prints & Illustrated Books  \n",
       "2  Prints & Illustrated Books  \n",
       "3  Prints & Illustrated Books  \n",
       "4                 Photography  "
      ]
     },
     "execution_count": 7,
     "metadata": {},
     "output_type": "execute_result"
    }
   ],
   "source": [
    "arts.head()"
   ]
  },
  {
   "cell_type": "code",
   "execution_count": 8,
   "id": "b6d0597e",
   "metadata": {},
   "outputs": [],
   "source": [
    "arts[\"Gender\"] = arts[\"Gender\"].str.replace(\"(\",\"\").str.replace(\")\",\"\")"
   ]
  },
  {
   "cell_type": "code",
   "execution_count": 9,
   "id": "30178946",
   "metadata": {},
   "outputs": [
    {
     "data": {
      "text/html": [
       "<div>\n",
       "<style scoped>\n",
       "    .dataframe tbody tr th:only-of-type {\n",
       "        vertical-align: middle;\n",
       "    }\n",
       "\n",
       "    .dataframe tbody tr th {\n",
       "        vertical-align: top;\n",
       "    }\n",
       "\n",
       "    .dataframe thead th {\n",
       "        text-align: right;\n",
       "    }\n",
       "</style>\n",
       "<table border=\"1\" class=\"dataframe\">\n",
       "  <thead>\n",
       "    <tr style=\"text-align: right;\">\n",
       "      <th></th>\n",
       "      <th>Title</th>\n",
       "      <th>Artist</th>\n",
       "      <th>Nationality</th>\n",
       "      <th>BeginDate</th>\n",
       "      <th>EndDate</th>\n",
       "      <th>Gender</th>\n",
       "      <th>Date</th>\n",
       "      <th>Department</th>\n",
       "    </tr>\n",
       "  </thead>\n",
       "  <tbody>\n",
       "    <tr>\n",
       "      <th>0</th>\n",
       "      <td>Dress MacLeod from Tartan Sets</td>\n",
       "      <td>Sarah Charlesworth</td>\n",
       "      <td>(American)</td>\n",
       "      <td>(1947)</td>\n",
       "      <td>(2013)</td>\n",
       "      <td>Female</td>\n",
       "      <td>1986</td>\n",
       "      <td>Prints &amp; Illustrated Books</td>\n",
       "    </tr>\n",
       "    <tr>\n",
       "      <th>1</th>\n",
       "      <td>Duplicate of plate from folio 11 verso (supple...</td>\n",
       "      <td>Pablo Palazuelo</td>\n",
       "      <td>(Spanish)</td>\n",
       "      <td>(1916)</td>\n",
       "      <td>(2007)</td>\n",
       "      <td>Male</td>\n",
       "      <td>1978</td>\n",
       "      <td>Prints &amp; Illustrated Books</td>\n",
       "    </tr>\n",
       "    <tr>\n",
       "      <th>2</th>\n",
       "      <td>Tailpiece (page 55) from SAGESSE</td>\n",
       "      <td>Maurice Denis</td>\n",
       "      <td>(French)</td>\n",
       "      <td>(1870)</td>\n",
       "      <td>(1943)</td>\n",
       "      <td>Male</td>\n",
       "      <td>1889-1911</td>\n",
       "      <td>Prints &amp; Illustrated Books</td>\n",
       "    </tr>\n",
       "    <tr>\n",
       "      <th>3</th>\n",
       "      <td>Headpiece (page 129) from LIVRET DE FOLASTRIES...</td>\n",
       "      <td>Aristide Maillol</td>\n",
       "      <td>(French)</td>\n",
       "      <td>(1861)</td>\n",
       "      <td>(1944)</td>\n",
       "      <td>Male</td>\n",
       "      <td>1927-1940</td>\n",
       "      <td>Prints &amp; Illustrated Books</td>\n",
       "    </tr>\n",
       "    <tr>\n",
       "      <th>4</th>\n",
       "      <td>97 rue du Bac</td>\n",
       "      <td>Eugène Atget</td>\n",
       "      <td>(French)</td>\n",
       "      <td>(1857)</td>\n",
       "      <td>(1927)</td>\n",
       "      <td>Male</td>\n",
       "      <td>1903</td>\n",
       "      <td>Photography</td>\n",
       "    </tr>\n",
       "  </tbody>\n",
       "</table>\n",
       "</div>"
      ],
      "text/plain": [
       "                                               Title              Artist   \n",
       "0                     Dress MacLeod from Tartan Sets  Sarah Charlesworth  \\\n",
       "1  Duplicate of plate from folio 11 verso (supple...     Pablo Palazuelo   \n",
       "2                   Tailpiece (page 55) from SAGESSE       Maurice Denis   \n",
       "3  Headpiece (page 129) from LIVRET DE FOLASTRIES...    Aristide Maillol   \n",
       "4                                      97 rue du Bac        Eugène Atget   \n",
       "\n",
       "  Nationality BeginDate EndDate  Gender       Date                  Department  \n",
       "0  (American)    (1947)  (2013)  Female       1986  Prints & Illustrated Books  \n",
       "1   (Spanish)    (1916)  (2007)    Male       1978  Prints & Illustrated Books  \n",
       "2    (French)    (1870)  (1943)    Male  1889-1911  Prints & Illustrated Books  \n",
       "3    (French)    (1861)  (1944)    Male  1927-1940  Prints & Illustrated Books  \n",
       "4    (French)    (1857)  (1927)    Male       1903                 Photography  "
      ]
     },
     "execution_count": 9,
     "metadata": {},
     "output_type": "execute_result"
    }
   ],
   "source": [
    "arts.head()"
   ]
  },
  {
   "cell_type": "code",
   "execution_count": 10,
   "id": "b5ce88d9",
   "metadata": {},
   "outputs": [
    {
     "data": {
      "text/plain": [
       "array(['Female', 'Male', '', 'male'], dtype=object)"
      ]
     },
     "execution_count": 10,
     "metadata": {},
     "output_type": "execute_result"
    }
   ],
   "source": [
    "arts[\"Gender\"].unique()"
   ]
  },
  {
   "cell_type": "code",
   "execution_count": 11,
   "id": "209fcd18",
   "metadata": {},
   "outputs": [
    {
     "data": {
      "text/plain": [
       "0        Female\n",
       "1          Male\n",
       "2          Male\n",
       "3          Male\n",
       "4          Male\n",
       "          ...  \n",
       "16720      Male\n",
       "16721      Male\n",
       "16722      Male\n",
       "16723          \n",
       "16724      Male\n",
       "Name: Gender, Length: 16725, dtype: object"
      ]
     },
     "execution_count": 11,
     "metadata": {},
     "output_type": "execute_result"
    }
   ],
   "source": [
    "arts[\"Gender\"].str.title() # muhammad waqas -> Muhammad Waqas"
   ]
  },
  {
   "cell_type": "code",
   "execution_count": 12,
   "id": "ce518c81",
   "metadata": {},
   "outputs": [],
   "source": [
    "arts[\"Gender\"] = arts[\"Gender\"].str.title()"
   ]
  },
  {
   "cell_type": "code",
   "execution_count": 13,
   "id": "79867de0",
   "metadata": {},
   "outputs": [
    {
     "data": {
      "text/plain": [
       "array(['Female', 'Male', ''], dtype=object)"
      ]
     },
     "execution_count": 13,
     "metadata": {},
     "output_type": "execute_result"
    }
   ],
   "source": [
    "arts[\"Gender\"].unique()"
   ]
  },
  {
   "cell_type": "code",
   "execution_count": 14,
   "id": "9de1e47f",
   "metadata": {},
   "outputs": [],
   "source": [
    "gender = arts[\"Gender\"].str.replace(\"''\", \"Gender unknown\")"
   ]
  },
  {
   "cell_type": "code",
   "execution_count": 15,
   "id": "09ed0e2b",
   "metadata": {},
   "outputs": [
    {
     "data": {
      "text/plain": [
       "array(['Female', 'Male', ''], dtype=object)"
      ]
     },
     "execution_count": 15,
     "metadata": {},
     "output_type": "execute_result"
    }
   ],
   "source": [
    "gender.unique()"
   ]
  },
  {
   "cell_type": "code",
   "execution_count": 16,
   "id": "e5471e79",
   "metadata": {},
   "outputs": [],
   "source": [
    "bol = arts[\"Gender\"] == ''"
   ]
  },
  {
   "cell_type": "code",
   "execution_count": 17,
   "id": "a1e68191",
   "metadata": {},
   "outputs": [
    {
     "data": {
      "text/plain": [
       "0        False\n",
       "1        False\n",
       "2        False\n",
       "3        False\n",
       "4        False\n",
       "         ...  \n",
       "16720    False\n",
       "16721    False\n",
       "16722    False\n",
       "16723     True\n",
       "16724    False\n",
       "Name: Gender, Length: 16725, dtype: bool"
      ]
     },
     "execution_count": 17,
     "metadata": {},
     "output_type": "execute_result"
    }
   ],
   "source": [
    "bol"
   ]
  },
  {
   "cell_type": "code",
   "execution_count": 18,
   "id": "e4d36d53",
   "metadata": {},
   "outputs": [
    {
     "data": {
      "text/plain": [
       "791"
      ]
     },
     "execution_count": 18,
     "metadata": {},
     "output_type": "execute_result"
    }
   ],
   "source": [
    "bol.sum()"
   ]
  },
  {
   "cell_type": "code",
   "execution_count": 19,
   "id": "3a1325d6",
   "metadata": {},
   "outputs": [
    {
     "data": {
      "text/html": [
       "<div>\n",
       "<style scoped>\n",
       "    .dataframe tbody tr th:only-of-type {\n",
       "        vertical-align: middle;\n",
       "    }\n",
       "\n",
       "    .dataframe tbody tr th {\n",
       "        vertical-align: top;\n",
       "    }\n",
       "\n",
       "    .dataframe thead th {\n",
       "        text-align: right;\n",
       "    }\n",
       "</style>\n",
       "<table border=\"1\" class=\"dataframe\">\n",
       "  <thead>\n",
       "    <tr style=\"text-align: right;\">\n",
       "      <th></th>\n",
       "      <th>Title</th>\n",
       "      <th>Artist</th>\n",
       "      <th>Nationality</th>\n",
       "      <th>BeginDate</th>\n",
       "      <th>EndDate</th>\n",
       "      <th>Gender</th>\n",
       "      <th>Date</th>\n",
       "      <th>Department</th>\n",
       "    </tr>\n",
       "  </thead>\n",
       "  <tbody>\n",
       "    <tr>\n",
       "      <th>31</th>\n",
       "      <td>Untitled</td>\n",
       "      <td>Unknown</td>\n",
       "      <td>()</td>\n",
       "      <td>NaN</td>\n",
       "      <td>NaN</td>\n",
       "      <td></td>\n",
       "      <td>c. 1925</td>\n",
       "      <td>Photography</td>\n",
       "    </tr>\n",
       "    <tr>\n",
       "      <th>90</th>\n",
       "      <td>Bar Tools</td>\n",
       "      <td>Studio Opi</td>\n",
       "      <td>(Italian)</td>\n",
       "      <td>(1955)</td>\n",
       "      <td>NaN</td>\n",
       "      <td></td>\n",
       "      <td>1969</td>\n",
       "      <td>Architecture &amp; Design</td>\n",
       "    </tr>\n",
       "    <tr>\n",
       "      <th>137</th>\n",
       "      <td>Nations</td>\n",
       "      <td>Slavs and Tatars</td>\n",
       "      <td>()</td>\n",
       "      <td>(2005)</td>\n",
       "      <td>NaN</td>\n",
       "      <td></td>\n",
       "      <td>2007</td>\n",
       "      <td>Prints &amp; Illustrated Books</td>\n",
       "    </tr>\n",
       "    <tr>\n",
       "      <th>177</th>\n",
       "      <td>El Frente Popular de Madrid Al Frente Popular ...</td>\n",
       "      <td>J. Briones</td>\n",
       "      <td>(Spanish)</td>\n",
       "      <td>NaN</td>\n",
       "      <td>NaN</td>\n",
       "      <td></td>\n",
       "      <td>1936-1937</td>\n",
       "      <td>Architecture &amp; Design</td>\n",
       "    </tr>\n",
       "    <tr>\n",
       "      <th>185</th>\n",
       "      <td>Untitled</td>\n",
       "      <td>Unknown</td>\n",
       "      <td>()</td>\n",
       "      <td>NaN</td>\n",
       "      <td>NaN</td>\n",
       "      <td></td>\n",
       "      <td>1923-1951</td>\n",
       "      <td>Photography</td>\n",
       "    </tr>\n",
       "    <tr>\n",
       "      <th>...</th>\n",
       "      <td>...</td>\n",
       "      <td>...</td>\n",
       "      <td>...</td>\n",
       "      <td>...</td>\n",
       "      <td>...</td>\n",
       "      <td>...</td>\n",
       "      <td>...</td>\n",
       "      <td>...</td>\n",
       "    </tr>\n",
       "    <tr>\n",
       "      <th>16664</th>\n",
       "      <td>Untitled</td>\n",
       "      <td>Unknown</td>\n",
       "      <td>()</td>\n",
       "      <td>NaN</td>\n",
       "      <td>NaN</td>\n",
       "      <td></td>\n",
       "      <td>c. 1960</td>\n",
       "      <td>Photography</td>\n",
       "    </tr>\n",
       "    <tr>\n",
       "      <th>16670</th>\n",
       "      <td>Inflatable Armchair</td>\n",
       "      <td>Quasar (Nguyen Manh Khanh)</td>\n",
       "      <td>(Vietnamese)</td>\n",
       "      <td>(1934)</td>\n",
       "      <td>NaN</td>\n",
       "      <td></td>\n",
       "      <td>1967-1968</td>\n",
       "      <td>Architecture &amp; Design</td>\n",
       "    </tr>\n",
       "    <tr>\n",
       "      <th>16688</th>\n",
       "      <td>Poster of the French National Railroad</td>\n",
       "      <td>Album-miscellaneous</td>\n",
       "      <td>(Various)</td>\n",
       "      <td>NaN</td>\n",
       "      <td>NaN</td>\n",
       "      <td></td>\n",
       "      <td>1900-1943</td>\n",
       "      <td>Architecture &amp; Design</td>\n",
       "    </tr>\n",
       "    <tr>\n",
       "      <th>16702</th>\n",
       "      <td>Salon de la Plume</td>\n",
       "      <td>Unknown</td>\n",
       "      <td>(Nationality Unknown)</td>\n",
       "      <td>NaN</td>\n",
       "      <td>NaN</td>\n",
       "      <td></td>\n",
       "      <td>1880-1910</td>\n",
       "      <td>Architecture &amp; Design</td>\n",
       "    </tr>\n",
       "    <tr>\n",
       "      <th>16723</th>\n",
       "      <td>Dognat' i peregnat' v tekhniko-ekonomicheskom ...</td>\n",
       "      <td>Unknown</td>\n",
       "      <td>()</td>\n",
       "      <td>NaN</td>\n",
       "      <td>NaN</td>\n",
       "      <td></td>\n",
       "      <td>1931</td>\n",
       "      <td>Prints &amp; Illustrated Books</td>\n",
       "    </tr>\n",
       "  </tbody>\n",
       "</table>\n",
       "<p>791 rows × 8 columns</p>\n",
       "</div>"
      ],
      "text/plain": [
       "                                                   Title   \n",
       "31                                              Untitled  \\\n",
       "90                                             Bar Tools   \n",
       "137                                              Nations   \n",
       "177    El Frente Popular de Madrid Al Frente Popular ...   \n",
       "185                                             Untitled   \n",
       "...                                                  ...   \n",
       "16664                                           Untitled   \n",
       "16670                                Inflatable Armchair   \n",
       "16688             Poster of the French National Railroad   \n",
       "16702                                  Salon de la Plume   \n",
       "16723  Dognat' i peregnat' v tekhniko-ekonomicheskom ...   \n",
       "\n",
       "                           Artist            Nationality BeginDate EndDate   \n",
       "31                        Unknown                     ()       NaN     NaN  \\\n",
       "90                     Studio Opi              (Italian)    (1955)     NaN   \n",
       "137              Slavs and Tatars                     ()    (2005)     NaN   \n",
       "177                    J. Briones              (Spanish)       NaN     NaN   \n",
       "185                       Unknown                     ()       NaN     NaN   \n",
       "...                           ...                    ...       ...     ...   \n",
       "16664                     Unknown                     ()       NaN     NaN   \n",
       "16670  Quasar (Nguyen Manh Khanh)           (Vietnamese)    (1934)     NaN   \n",
       "16688         Album-miscellaneous              (Various)       NaN     NaN   \n",
       "16702                     Unknown  (Nationality Unknown)       NaN     NaN   \n",
       "16723                     Unknown                     ()       NaN     NaN   \n",
       "\n",
       "      Gender       Date                  Department  \n",
       "31              c. 1925                 Photography  \n",
       "90                 1969       Architecture & Design  \n",
       "137                2007  Prints & Illustrated Books  \n",
       "177           1936-1937       Architecture & Design  \n",
       "185           1923-1951                 Photography  \n",
       "...      ...        ...                         ...  \n",
       "16664           c. 1960                 Photography  \n",
       "16670         1967-1968       Architecture & Design  \n",
       "16688         1900-1943       Architecture & Design  \n",
       "16702         1880-1910       Architecture & Design  \n",
       "16723              1931  Prints & Illustrated Books  \n",
       "\n",
       "[791 rows x 8 columns]"
      ]
     },
     "execution_count": 19,
     "metadata": {},
     "output_type": "execute_result"
    }
   ],
   "source": [
    "arts[bol] # boolean indexing"
   ]
  },
  {
   "cell_type": "code",
   "execution_count": 20,
   "id": "101fd8d3",
   "metadata": {},
   "outputs": [
    {
     "data": {
      "text/plain": [
       "31        \n",
       "90        \n",
       "137       \n",
       "177       \n",
       "185       \n",
       "        ..\n",
       "16664     \n",
       "16670     \n",
       "16688     \n",
       "16702     \n",
       "16723     \n",
       "Name: Gender, Length: 791, dtype: object"
      ]
     },
     "execution_count": 20,
     "metadata": {},
     "output_type": "execute_result"
    }
   ],
   "source": [
    "arts.loc[bol, \"Gender\"]"
   ]
  },
  {
   "cell_type": "code",
   "execution_count": 21,
   "id": "6cab8420",
   "metadata": {},
   "outputs": [],
   "source": [
    "arts.loc[bol, \"Gender\"] = \"Gender Unknown\""
   ]
  },
  {
   "cell_type": "code",
   "execution_count": 22,
   "id": "7f296f2b",
   "metadata": {},
   "outputs": [
    {
     "data": {
      "text/plain": [
       "array(['Female', 'Male', 'Gender Unknown'], dtype=object)"
      ]
     },
     "execution_count": 22,
     "metadata": {},
     "output_type": "execute_result"
    }
   ],
   "source": [
    "arts[\"Gender\"].unique()"
   ]
  },
  {
   "cell_type": "code",
   "execution_count": 23,
   "id": "483b0d3f",
   "metadata": {},
   "outputs": [
    {
     "data": {
      "text/html": [
       "<div>\n",
       "<style scoped>\n",
       "    .dataframe tbody tr th:only-of-type {\n",
       "        vertical-align: middle;\n",
       "    }\n",
       "\n",
       "    .dataframe tbody tr th {\n",
       "        vertical-align: top;\n",
       "    }\n",
       "\n",
       "    .dataframe thead th {\n",
       "        text-align: right;\n",
       "    }\n",
       "</style>\n",
       "<table border=\"1\" class=\"dataframe\">\n",
       "  <thead>\n",
       "    <tr style=\"text-align: right;\">\n",
       "      <th></th>\n",
       "      <th>Title</th>\n",
       "      <th>Artist</th>\n",
       "      <th>Nationality</th>\n",
       "      <th>BeginDate</th>\n",
       "      <th>EndDate</th>\n",
       "      <th>Gender</th>\n",
       "      <th>Date</th>\n",
       "      <th>Department</th>\n",
       "    </tr>\n",
       "  </thead>\n",
       "  <tbody>\n",
       "    <tr>\n",
       "      <th>0</th>\n",
       "      <td>Dress MacLeod from Tartan Sets</td>\n",
       "      <td>Sarah Charlesworth</td>\n",
       "      <td>(American)</td>\n",
       "      <td>(1947)</td>\n",
       "      <td>(2013)</td>\n",
       "      <td>Female</td>\n",
       "      <td>1986</td>\n",
       "      <td>Prints &amp; Illustrated Books</td>\n",
       "    </tr>\n",
       "    <tr>\n",
       "      <th>1</th>\n",
       "      <td>Duplicate of plate from folio 11 verso (supple...</td>\n",
       "      <td>Pablo Palazuelo</td>\n",
       "      <td>(Spanish)</td>\n",
       "      <td>(1916)</td>\n",
       "      <td>(2007)</td>\n",
       "      <td>Male</td>\n",
       "      <td>1978</td>\n",
       "      <td>Prints &amp; Illustrated Books</td>\n",
       "    </tr>\n",
       "    <tr>\n",
       "      <th>2</th>\n",
       "      <td>Tailpiece (page 55) from SAGESSE</td>\n",
       "      <td>Maurice Denis</td>\n",
       "      <td>(French)</td>\n",
       "      <td>(1870)</td>\n",
       "      <td>(1943)</td>\n",
       "      <td>Male</td>\n",
       "      <td>1889-1911</td>\n",
       "      <td>Prints &amp; Illustrated Books</td>\n",
       "    </tr>\n",
       "    <tr>\n",
       "      <th>3</th>\n",
       "      <td>Headpiece (page 129) from LIVRET DE FOLASTRIES...</td>\n",
       "      <td>Aristide Maillol</td>\n",
       "      <td>(French)</td>\n",
       "      <td>(1861)</td>\n",
       "      <td>(1944)</td>\n",
       "      <td>Male</td>\n",
       "      <td>1927-1940</td>\n",
       "      <td>Prints &amp; Illustrated Books</td>\n",
       "    </tr>\n",
       "    <tr>\n",
       "      <th>4</th>\n",
       "      <td>97 rue du Bac</td>\n",
       "      <td>Eugène Atget</td>\n",
       "      <td>(French)</td>\n",
       "      <td>(1857)</td>\n",
       "      <td>(1927)</td>\n",
       "      <td>Male</td>\n",
       "      <td>1903</td>\n",
       "      <td>Photography</td>\n",
       "    </tr>\n",
       "    <tr>\n",
       "      <th>...</th>\n",
       "      <td>...</td>\n",
       "      <td>...</td>\n",
       "      <td>...</td>\n",
       "      <td>...</td>\n",
       "      <td>...</td>\n",
       "      <td>...</td>\n",
       "      <td>...</td>\n",
       "      <td>...</td>\n",
       "    </tr>\n",
       "    <tr>\n",
       "      <th>16720</th>\n",
       "      <td>Oval with Points</td>\n",
       "      <td>Henry Moore</td>\n",
       "      <td>(British)</td>\n",
       "      <td>(1898)</td>\n",
       "      <td>(1986)</td>\n",
       "      <td>Male</td>\n",
       "      <td>1968-1969</td>\n",
       "      <td>Painting &amp; Sculpture</td>\n",
       "    </tr>\n",
       "    <tr>\n",
       "      <th>16721</th>\n",
       "      <td>Cementerio de la Ciudad Abierta, Ritoque, Chile</td>\n",
       "      <td>Juan Baixas</td>\n",
       "      <td>(Chilean)</td>\n",
       "      <td>(1942)</td>\n",
       "      <td>NaN</td>\n",
       "      <td>Male</td>\n",
       "      <td>1975</td>\n",
       "      <td>Architecture &amp; Design</td>\n",
       "    </tr>\n",
       "    <tr>\n",
       "      <th>16722</th>\n",
       "      <td>The Catboat</td>\n",
       "      <td>Edward Hopper</td>\n",
       "      <td>(American)</td>\n",
       "      <td>(1882)</td>\n",
       "      <td>(1967)</td>\n",
       "      <td>Male</td>\n",
       "      <td>1922</td>\n",
       "      <td>Prints &amp; Illustrated Books</td>\n",
       "    </tr>\n",
       "    <tr>\n",
       "      <th>16723</th>\n",
       "      <td>Dognat' i peregnat' v tekhniko-ekonomicheskom ...</td>\n",
       "      <td>Unknown</td>\n",
       "      <td>()</td>\n",
       "      <td>NaN</td>\n",
       "      <td>NaN</td>\n",
       "      <td>Gender Unknown</td>\n",
       "      <td>1931</td>\n",
       "      <td>Prints &amp; Illustrated Books</td>\n",
       "    </tr>\n",
       "    <tr>\n",
       "      <th>16724</th>\n",
       "      <td>Plate (page 11) from The Dive</td>\n",
       "      <td>Alex Katz</td>\n",
       "      <td>(American)</td>\n",
       "      <td>(1927)</td>\n",
       "      <td>NaN</td>\n",
       "      <td>Male</td>\n",
       "      <td>2011</td>\n",
       "      <td>Prints &amp; Illustrated Books</td>\n",
       "    </tr>\n",
       "  </tbody>\n",
       "</table>\n",
       "<p>16725 rows × 8 columns</p>\n",
       "</div>"
      ],
      "text/plain": [
       "                                                   Title              Artist   \n",
       "0                         Dress MacLeod from Tartan Sets  Sarah Charlesworth  \\\n",
       "1      Duplicate of plate from folio 11 verso (supple...     Pablo Palazuelo   \n",
       "2                       Tailpiece (page 55) from SAGESSE       Maurice Denis   \n",
       "3      Headpiece (page 129) from LIVRET DE FOLASTRIES...    Aristide Maillol   \n",
       "4                                          97 rue du Bac        Eugène Atget   \n",
       "...                                                  ...                 ...   \n",
       "16720                                   Oval with Points         Henry Moore   \n",
       "16721    Cementerio de la Ciudad Abierta, Ritoque, Chile         Juan Baixas   \n",
       "16722                                        The Catboat       Edward Hopper   \n",
       "16723  Dognat' i peregnat' v tekhniko-ekonomicheskom ...             Unknown   \n",
       "16724                      Plate (page 11) from The Dive           Alex Katz   \n",
       "\n",
       "      Nationality BeginDate EndDate          Gender       Date   \n",
       "0      (American)    (1947)  (2013)          Female       1986  \\\n",
       "1       (Spanish)    (1916)  (2007)            Male       1978   \n",
       "2        (French)    (1870)  (1943)            Male  1889-1911   \n",
       "3        (French)    (1861)  (1944)            Male  1927-1940   \n",
       "4        (French)    (1857)  (1927)            Male       1903   \n",
       "...           ...       ...     ...             ...        ...   \n",
       "16720   (British)    (1898)  (1986)            Male  1968-1969   \n",
       "16721   (Chilean)    (1942)     NaN            Male       1975   \n",
       "16722  (American)    (1882)  (1967)            Male       1922   \n",
       "16723          ()       NaN     NaN  Gender Unknown       1931   \n",
       "16724  (American)    (1927)     NaN            Male       2011   \n",
       "\n",
       "                       Department  \n",
       "0      Prints & Illustrated Books  \n",
       "1      Prints & Illustrated Books  \n",
       "2      Prints & Illustrated Books  \n",
       "3      Prints & Illustrated Books  \n",
       "4                     Photography  \n",
       "...                           ...  \n",
       "16720        Painting & Sculpture  \n",
       "16721       Architecture & Design  \n",
       "16722  Prints & Illustrated Books  \n",
       "16723  Prints & Illustrated Books  \n",
       "16724  Prints & Illustrated Books  \n",
       "\n",
       "[16725 rows x 8 columns]"
      ]
     },
     "execution_count": 23,
     "metadata": {},
     "output_type": "execute_result"
    }
   ],
   "source": [
    "arts"
   ]
  },
  {
   "cell_type": "code",
   "execution_count": 24,
   "id": "d081da1a",
   "metadata": {},
   "outputs": [],
   "source": [
    "arts[\"Nationality\"] = arts[\"Nationality\"].str.replace(\"(\",\"\").str.replace(\")\",\"\")"
   ]
  },
  {
   "cell_type": "code",
   "execution_count": 25,
   "id": "d7d9de02",
   "metadata": {},
   "outputs": [
    {
     "data": {
      "text/html": [
       "<div>\n",
       "<style scoped>\n",
       "    .dataframe tbody tr th:only-of-type {\n",
       "        vertical-align: middle;\n",
       "    }\n",
       "\n",
       "    .dataframe tbody tr th {\n",
       "        vertical-align: top;\n",
       "    }\n",
       "\n",
       "    .dataframe thead th {\n",
       "        text-align: right;\n",
       "    }\n",
       "</style>\n",
       "<table border=\"1\" class=\"dataframe\">\n",
       "  <thead>\n",
       "    <tr style=\"text-align: right;\">\n",
       "      <th></th>\n",
       "      <th>Title</th>\n",
       "      <th>Artist</th>\n",
       "      <th>Nationality</th>\n",
       "      <th>BeginDate</th>\n",
       "      <th>EndDate</th>\n",
       "      <th>Gender</th>\n",
       "      <th>Date</th>\n",
       "      <th>Department</th>\n",
       "    </tr>\n",
       "  </thead>\n",
       "  <tbody>\n",
       "    <tr>\n",
       "      <th>0</th>\n",
       "      <td>Dress MacLeod from Tartan Sets</td>\n",
       "      <td>Sarah Charlesworth</td>\n",
       "      <td>American</td>\n",
       "      <td>(1947)</td>\n",
       "      <td>(2013)</td>\n",
       "      <td>Female</td>\n",
       "      <td>1986</td>\n",
       "      <td>Prints &amp; Illustrated Books</td>\n",
       "    </tr>\n",
       "    <tr>\n",
       "      <th>1</th>\n",
       "      <td>Duplicate of plate from folio 11 verso (supple...</td>\n",
       "      <td>Pablo Palazuelo</td>\n",
       "      <td>Spanish</td>\n",
       "      <td>(1916)</td>\n",
       "      <td>(2007)</td>\n",
       "      <td>Male</td>\n",
       "      <td>1978</td>\n",
       "      <td>Prints &amp; Illustrated Books</td>\n",
       "    </tr>\n",
       "    <tr>\n",
       "      <th>2</th>\n",
       "      <td>Tailpiece (page 55) from SAGESSE</td>\n",
       "      <td>Maurice Denis</td>\n",
       "      <td>French</td>\n",
       "      <td>(1870)</td>\n",
       "      <td>(1943)</td>\n",
       "      <td>Male</td>\n",
       "      <td>1889-1911</td>\n",
       "      <td>Prints &amp; Illustrated Books</td>\n",
       "    </tr>\n",
       "    <tr>\n",
       "      <th>3</th>\n",
       "      <td>Headpiece (page 129) from LIVRET DE FOLASTRIES...</td>\n",
       "      <td>Aristide Maillol</td>\n",
       "      <td>French</td>\n",
       "      <td>(1861)</td>\n",
       "      <td>(1944)</td>\n",
       "      <td>Male</td>\n",
       "      <td>1927-1940</td>\n",
       "      <td>Prints &amp; Illustrated Books</td>\n",
       "    </tr>\n",
       "    <tr>\n",
       "      <th>4</th>\n",
       "      <td>97 rue du Bac</td>\n",
       "      <td>Eugène Atget</td>\n",
       "      <td>French</td>\n",
       "      <td>(1857)</td>\n",
       "      <td>(1927)</td>\n",
       "      <td>Male</td>\n",
       "      <td>1903</td>\n",
       "      <td>Photography</td>\n",
       "    </tr>\n",
       "  </tbody>\n",
       "</table>\n",
       "</div>"
      ],
      "text/plain": [
       "                                               Title              Artist   \n",
       "0                     Dress MacLeod from Tartan Sets  Sarah Charlesworth  \\\n",
       "1  Duplicate of plate from folio 11 verso (supple...     Pablo Palazuelo   \n",
       "2                   Tailpiece (page 55) from SAGESSE       Maurice Denis   \n",
       "3  Headpiece (page 129) from LIVRET DE FOLASTRIES...    Aristide Maillol   \n",
       "4                                      97 rue du Bac        Eugène Atget   \n",
       "\n",
       "  Nationality BeginDate EndDate  Gender       Date                  Department  \n",
       "0    American    (1947)  (2013)  Female       1986  Prints & Illustrated Books  \n",
       "1     Spanish    (1916)  (2007)    Male       1978  Prints & Illustrated Books  \n",
       "2      French    (1870)  (1943)    Male  1889-1911  Prints & Illustrated Books  \n",
       "3      French    (1861)  (1944)    Male  1927-1940  Prints & Illustrated Books  \n",
       "4      French    (1857)  (1927)    Male       1903                 Photography  "
      ]
     },
     "execution_count": 25,
     "metadata": {},
     "output_type": "execute_result"
    }
   ],
   "source": [
    "arts.head()"
   ]
  },
  {
   "cell_type": "code",
   "execution_count": 26,
   "id": "1326f2c8",
   "metadata": {},
   "outputs": [
    {
     "data": {
      "text/plain": [
       "array(['American', 'Spanish', 'French', 'South African', 'Canadian',\n",
       "       'Czech', 'Belgian', 'Russian', 'British', 'German', '', 'Swiss',\n",
       "       'Polish', 'Japanese', 'Portuguese', 'Austrian', 'Australian',\n",
       "       'Italian', 'Chilean', 'Colombian', 'Mexican', 'Brazilian', 'Dutch',\n",
       "       'Romanian', 'Venezuelan', 'Korean', 'Israeli', 'Argentine',\n",
       "       'Indian', 'Nationality unknown', 'Swedish', 'Yugoslav', 'Cuban',\n",
       "       'Nationality Unknown', 'Various', 'Luxembourgish', 'Croatian',\n",
       "       'Bulgarian', 'Hungarian', 'Georgian', 'Puerto Rican', 'Danish',\n",
       "       'Serbian', 'Pakistani', 'Ecuadorian', 'Chinese', 'Iranian',\n",
       "       'Finnish', 'Lebanese', 'Thai', 'Cambodian', 'Scottish', 'Kenyan',\n",
       "       'Latvian', 'Sudanese', 'Uruguayan', 'Peruvian', 'New Zealander',\n",
       "       'Moroccan', 'Guatemalan', 'Cameroonian', 'Egyptian', 'Nigerian',\n",
       "       'Icelandic', 'Haitian', 'Tajik', 'Irish', 'Norwegian',\n",
       "       'Costa Rican', 'Slovenian', 'Turkish', 'Mozambican', 'Palestinian',\n",
       "       'Ukrainian', 'Angolan', 'Tunisian', 'Greek', 'Zimbabwean',\n",
       "       'Bahamian', 'Vietnamese', 'Panamanian', 'Canadian Inuit', 'Malian',\n",
       "       'Filipino'], dtype=object)"
      ]
     },
     "execution_count": 26,
     "metadata": {},
     "output_type": "execute_result"
    }
   ],
   "source": [
    "arts[\"Nationality\"].unique()"
   ]
  },
  {
   "cell_type": "code",
   "execution_count": 27,
   "id": "8327aee2",
   "metadata": {},
   "outputs": [],
   "source": [
    "arts.loc[arts[\"Nationality\"] == '', \"Nationality\"] = 'Nationality Unknown'"
   ]
  },
  {
   "cell_type": "code",
   "execution_count": 28,
   "id": "38c5bed2",
   "metadata": {},
   "outputs": [],
   "source": [
    "arts[\"Nationality\"] = arts[\"Nationality\"].str.title()"
   ]
  },
  {
   "cell_type": "code",
   "execution_count": 29,
   "id": "9a4bdcd5",
   "metadata": {},
   "outputs": [
    {
     "data": {
      "text/plain": [
       "array(['American', 'Spanish', 'French', 'South African', 'Canadian',\n",
       "       'Czech', 'Belgian', 'Russian', 'British', 'German',\n",
       "       'Nationality Unknown', 'Swiss', 'Polish', 'Japanese', 'Portuguese',\n",
       "       'Austrian', 'Australian', 'Italian', 'Chilean', 'Colombian',\n",
       "       'Mexican', 'Brazilian', 'Dutch', 'Romanian', 'Venezuelan',\n",
       "       'Korean', 'Israeli', 'Argentine', 'Indian', 'Swedish', 'Yugoslav',\n",
       "       'Cuban', 'Various', 'Luxembourgish', 'Croatian', 'Bulgarian',\n",
       "       'Hungarian', 'Georgian', 'Puerto Rican', 'Danish', 'Serbian',\n",
       "       'Pakistani', 'Ecuadorian', 'Chinese', 'Iranian', 'Finnish',\n",
       "       'Lebanese', 'Thai', 'Cambodian', 'Scottish', 'Kenyan', 'Latvian',\n",
       "       'Sudanese', 'Uruguayan', 'Peruvian', 'New Zealander', 'Moroccan',\n",
       "       'Guatemalan', 'Cameroonian', 'Egyptian', 'Nigerian', 'Icelandic',\n",
       "       'Haitian', 'Tajik', 'Irish', 'Norwegian', 'Costa Rican',\n",
       "       'Slovenian', 'Turkish', 'Mozambican', 'Palestinian', 'Ukrainian',\n",
       "       'Angolan', 'Tunisian', 'Greek', 'Zimbabwean', 'Bahamian',\n",
       "       'Vietnamese', 'Panamanian', 'Canadian Inuit', 'Malian', 'Filipino'],\n",
       "      dtype=object)"
      ]
     },
     "execution_count": 29,
     "metadata": {},
     "output_type": "execute_result"
    }
   ],
   "source": [
    "arts[\"Nationality\"].unique()"
   ]
  },
  {
   "cell_type": "code",
   "execution_count": 30,
   "id": "9ff5d3d8",
   "metadata": {},
   "outputs": [
    {
     "data": {
      "text/html": [
       "<div>\n",
       "<style scoped>\n",
       "    .dataframe tbody tr th:only-of-type {\n",
       "        vertical-align: middle;\n",
       "    }\n",
       "\n",
       "    .dataframe tbody tr th {\n",
       "        vertical-align: top;\n",
       "    }\n",
       "\n",
       "    .dataframe thead th {\n",
       "        text-align: right;\n",
       "    }\n",
       "</style>\n",
       "<table border=\"1\" class=\"dataframe\">\n",
       "  <thead>\n",
       "    <tr style=\"text-align: right;\">\n",
       "      <th></th>\n",
       "      <th>Title</th>\n",
       "      <th>Artist</th>\n",
       "      <th>Nationality</th>\n",
       "      <th>BeginDate</th>\n",
       "      <th>EndDate</th>\n",
       "      <th>Gender</th>\n",
       "      <th>Date</th>\n",
       "      <th>Department</th>\n",
       "    </tr>\n",
       "  </thead>\n",
       "  <tbody>\n",
       "    <tr>\n",
       "      <th>0</th>\n",
       "      <td>Dress MacLeod from Tartan Sets</td>\n",
       "      <td>Sarah Charlesworth</td>\n",
       "      <td>American</td>\n",
       "      <td>(1947)</td>\n",
       "      <td>(2013)</td>\n",
       "      <td>Female</td>\n",
       "      <td>1986</td>\n",
       "      <td>Prints &amp; Illustrated Books</td>\n",
       "    </tr>\n",
       "    <tr>\n",
       "      <th>1</th>\n",
       "      <td>Duplicate of plate from folio 11 verso (supple...</td>\n",
       "      <td>Pablo Palazuelo</td>\n",
       "      <td>Spanish</td>\n",
       "      <td>(1916)</td>\n",
       "      <td>(2007)</td>\n",
       "      <td>Male</td>\n",
       "      <td>1978</td>\n",
       "      <td>Prints &amp; Illustrated Books</td>\n",
       "    </tr>\n",
       "    <tr>\n",
       "      <th>2</th>\n",
       "      <td>Tailpiece (page 55) from SAGESSE</td>\n",
       "      <td>Maurice Denis</td>\n",
       "      <td>French</td>\n",
       "      <td>(1870)</td>\n",
       "      <td>(1943)</td>\n",
       "      <td>Male</td>\n",
       "      <td>1889-1911</td>\n",
       "      <td>Prints &amp; Illustrated Books</td>\n",
       "    </tr>\n",
       "    <tr>\n",
       "      <th>3</th>\n",
       "      <td>Headpiece (page 129) from LIVRET DE FOLASTRIES...</td>\n",
       "      <td>Aristide Maillol</td>\n",
       "      <td>French</td>\n",
       "      <td>(1861)</td>\n",
       "      <td>(1944)</td>\n",
       "      <td>Male</td>\n",
       "      <td>1927-1940</td>\n",
       "      <td>Prints &amp; Illustrated Books</td>\n",
       "    </tr>\n",
       "    <tr>\n",
       "      <th>4</th>\n",
       "      <td>97 rue du Bac</td>\n",
       "      <td>Eugène Atget</td>\n",
       "      <td>French</td>\n",
       "      <td>(1857)</td>\n",
       "      <td>(1927)</td>\n",
       "      <td>Male</td>\n",
       "      <td>1903</td>\n",
       "      <td>Photography</td>\n",
       "    </tr>\n",
       "  </tbody>\n",
       "</table>\n",
       "</div>"
      ],
      "text/plain": [
       "                                               Title              Artist   \n",
       "0                     Dress MacLeod from Tartan Sets  Sarah Charlesworth  \\\n",
       "1  Duplicate of plate from folio 11 verso (supple...     Pablo Palazuelo   \n",
       "2                   Tailpiece (page 55) from SAGESSE       Maurice Denis   \n",
       "3  Headpiece (page 129) from LIVRET DE FOLASTRIES...    Aristide Maillol   \n",
       "4                                      97 rue du Bac        Eugène Atget   \n",
       "\n",
       "  Nationality BeginDate EndDate  Gender       Date                  Department  \n",
       "0    American    (1947)  (2013)  Female       1986  Prints & Illustrated Books  \n",
       "1     Spanish    (1916)  (2007)    Male       1978  Prints & Illustrated Books  \n",
       "2      French    (1870)  (1943)    Male  1889-1911  Prints & Illustrated Books  \n",
       "3      French    (1861)  (1944)    Male  1927-1940  Prints & Illustrated Books  \n",
       "4      French    (1857)  (1927)    Male       1903                 Photography  "
      ]
     },
     "execution_count": 30,
     "metadata": {},
     "output_type": "execute_result"
    }
   ],
   "source": [
    "arts.head()"
   ]
  },
  {
   "cell_type": "code",
   "execution_count": 31,
   "id": "34c4c2ae",
   "metadata": {},
   "outputs": [
    {
     "ename": "ValueError",
     "evalue": "cannot convert float NaN to integer",
     "output_type": "error",
     "traceback": [
      "\u001b[1;31m---------------------------------------------------------------------------\u001b[0m",
      "\u001b[1;31mValueError\u001b[0m                                Traceback (most recent call last)",
      "Cell \u001b[1;32mIn[31], line 1\u001b[0m\n\u001b[1;32m----> 1\u001b[0m \u001b[43marts\u001b[49m\u001b[43m[\u001b[49m\u001b[38;5;124;43m\"\u001b[39;49m\u001b[38;5;124;43mBeginDate\u001b[39;49m\u001b[38;5;124;43m\"\u001b[39;49m\u001b[43m]\u001b[49m\u001b[38;5;241;43m.\u001b[39;49m\u001b[43mstr\u001b[49m\u001b[38;5;241;43m.\u001b[39;49m\u001b[43mreplace\u001b[49m\u001b[43m(\u001b[49m\u001b[38;5;124;43m\"\u001b[39;49m\u001b[38;5;124;43m(\u001b[39;49m\u001b[38;5;124;43m\"\u001b[39;49m\u001b[43m,\u001b[49m\u001b[43m \u001b[49m\u001b[38;5;124;43m\"\u001b[39;49m\u001b[38;5;124;43m\"\u001b[39;49m\u001b[43m)\u001b[49m\u001b[38;5;241;43m.\u001b[39;49m\u001b[43mstr\u001b[49m\u001b[38;5;241;43m.\u001b[39;49m\u001b[43mreplace\u001b[49m\u001b[43m(\u001b[49m\u001b[38;5;124;43m\"\u001b[39;49m\u001b[38;5;124;43m)\u001b[39;49m\u001b[38;5;124;43m\"\u001b[39;49m\u001b[43m,\u001b[49m\u001b[43m \u001b[49m\u001b[38;5;124;43m\"\u001b[39;49m\u001b[38;5;124;43m\"\u001b[39;49m\u001b[43m)\u001b[49m\u001b[38;5;241;43m.\u001b[39;49m\u001b[43mastype\u001b[49m\u001b[43m(\u001b[49m\u001b[38;5;28;43mint\u001b[39;49m\u001b[43m)\u001b[49m\n",
      "File \u001b[1;32m~\\AppData\\Roaming\\Python\\Python311\\site-packages\\pandas\\core\\generic.py:6324\u001b[0m, in \u001b[0;36mNDFrame.astype\u001b[1;34m(self, dtype, copy, errors)\u001b[0m\n\u001b[0;32m   6317\u001b[0m     results \u001b[38;5;241m=\u001b[39m [\n\u001b[0;32m   6318\u001b[0m         \u001b[38;5;28mself\u001b[39m\u001b[38;5;241m.\u001b[39miloc[:, i]\u001b[38;5;241m.\u001b[39mastype(dtype, copy\u001b[38;5;241m=\u001b[39mcopy)\n\u001b[0;32m   6319\u001b[0m         \u001b[38;5;28;01mfor\u001b[39;00m i \u001b[38;5;129;01min\u001b[39;00m \u001b[38;5;28mrange\u001b[39m(\u001b[38;5;28mlen\u001b[39m(\u001b[38;5;28mself\u001b[39m\u001b[38;5;241m.\u001b[39mcolumns))\n\u001b[0;32m   6320\u001b[0m     ]\n\u001b[0;32m   6322\u001b[0m \u001b[38;5;28;01melse\u001b[39;00m:\n\u001b[0;32m   6323\u001b[0m     \u001b[38;5;66;03m# else, only a single dtype is given\u001b[39;00m\n\u001b[1;32m-> 6324\u001b[0m     new_data \u001b[38;5;241m=\u001b[39m \u001b[38;5;28;43mself\u001b[39;49m\u001b[38;5;241;43m.\u001b[39;49m\u001b[43m_mgr\u001b[49m\u001b[38;5;241;43m.\u001b[39;49m\u001b[43mastype\u001b[49m\u001b[43m(\u001b[49m\u001b[43mdtype\u001b[49m\u001b[38;5;241;43m=\u001b[39;49m\u001b[43mdtype\u001b[49m\u001b[43m,\u001b[49m\u001b[43m \u001b[49m\u001b[43mcopy\u001b[49m\u001b[38;5;241;43m=\u001b[39;49m\u001b[43mcopy\u001b[49m\u001b[43m,\u001b[49m\u001b[43m \u001b[49m\u001b[43merrors\u001b[49m\u001b[38;5;241;43m=\u001b[39;49m\u001b[43merrors\u001b[49m\u001b[43m)\u001b[49m\n\u001b[0;32m   6325\u001b[0m     \u001b[38;5;28;01mreturn\u001b[39;00m \u001b[38;5;28mself\u001b[39m\u001b[38;5;241m.\u001b[39m_constructor(new_data)\u001b[38;5;241m.\u001b[39m__finalize__(\u001b[38;5;28mself\u001b[39m, method\u001b[38;5;241m=\u001b[39m\u001b[38;5;124m\"\u001b[39m\u001b[38;5;124mastype\u001b[39m\u001b[38;5;124m\"\u001b[39m)\n\u001b[0;32m   6327\u001b[0m \u001b[38;5;66;03m# GH 33113: handle empty frame or series\u001b[39;00m\n",
      "File \u001b[1;32m~\\AppData\\Roaming\\Python\\Python311\\site-packages\\pandas\\core\\internals\\managers.py:451\u001b[0m, in \u001b[0;36mBaseBlockManager.astype\u001b[1;34m(self, dtype, copy, errors)\u001b[0m\n\u001b[0;32m    448\u001b[0m \u001b[38;5;28;01melif\u001b[39;00m using_copy_on_write():\n\u001b[0;32m    449\u001b[0m     copy \u001b[38;5;241m=\u001b[39m \u001b[38;5;28;01mFalse\u001b[39;00m\n\u001b[1;32m--> 451\u001b[0m \u001b[38;5;28;01mreturn\u001b[39;00m \u001b[38;5;28;43mself\u001b[39;49m\u001b[38;5;241;43m.\u001b[39;49m\u001b[43mapply\u001b[49m\u001b[43m(\u001b[49m\n\u001b[0;32m    452\u001b[0m \u001b[43m    \u001b[49m\u001b[38;5;124;43m\"\u001b[39;49m\u001b[38;5;124;43mastype\u001b[39;49m\u001b[38;5;124;43m\"\u001b[39;49m\u001b[43m,\u001b[49m\n\u001b[0;32m    453\u001b[0m \u001b[43m    \u001b[49m\u001b[43mdtype\u001b[49m\u001b[38;5;241;43m=\u001b[39;49m\u001b[43mdtype\u001b[49m\u001b[43m,\u001b[49m\n\u001b[0;32m    454\u001b[0m \u001b[43m    \u001b[49m\u001b[43mcopy\u001b[49m\u001b[38;5;241;43m=\u001b[39;49m\u001b[43mcopy\u001b[49m\u001b[43m,\u001b[49m\n\u001b[0;32m    455\u001b[0m \u001b[43m    \u001b[49m\u001b[43merrors\u001b[49m\u001b[38;5;241;43m=\u001b[39;49m\u001b[43merrors\u001b[49m\u001b[43m,\u001b[49m\n\u001b[0;32m    456\u001b[0m \u001b[43m    \u001b[49m\u001b[43musing_cow\u001b[49m\u001b[38;5;241;43m=\u001b[39;49m\u001b[43musing_copy_on_write\u001b[49m\u001b[43m(\u001b[49m\u001b[43m)\u001b[49m\u001b[43m,\u001b[49m\n\u001b[0;32m    457\u001b[0m \u001b[43m\u001b[49m\u001b[43m)\u001b[49m\n",
      "File \u001b[1;32m~\\AppData\\Roaming\\Python\\Python311\\site-packages\\pandas\\core\\internals\\managers.py:352\u001b[0m, in \u001b[0;36mBaseBlockManager.apply\u001b[1;34m(self, f, align_keys, **kwargs)\u001b[0m\n\u001b[0;32m    350\u001b[0m         applied \u001b[38;5;241m=\u001b[39m b\u001b[38;5;241m.\u001b[39mapply(f, \u001b[38;5;241m*\u001b[39m\u001b[38;5;241m*\u001b[39mkwargs)\n\u001b[0;32m    351\u001b[0m     \u001b[38;5;28;01melse\u001b[39;00m:\n\u001b[1;32m--> 352\u001b[0m         applied \u001b[38;5;241m=\u001b[39m \u001b[38;5;28;43mgetattr\u001b[39;49m\u001b[43m(\u001b[49m\u001b[43mb\u001b[49m\u001b[43m,\u001b[49m\u001b[43m \u001b[49m\u001b[43mf\u001b[49m\u001b[43m)\u001b[49m\u001b[43m(\u001b[49m\u001b[38;5;241;43m*\u001b[39;49m\u001b[38;5;241;43m*\u001b[39;49m\u001b[43mkwargs\u001b[49m\u001b[43m)\u001b[49m\n\u001b[0;32m    353\u001b[0m     result_blocks \u001b[38;5;241m=\u001b[39m extend_blocks(applied, result_blocks)\n\u001b[0;32m    355\u001b[0m out \u001b[38;5;241m=\u001b[39m \u001b[38;5;28mtype\u001b[39m(\u001b[38;5;28mself\u001b[39m)\u001b[38;5;241m.\u001b[39mfrom_blocks(result_blocks, \u001b[38;5;28mself\u001b[39m\u001b[38;5;241m.\u001b[39maxes)\n",
      "File \u001b[1;32m~\\AppData\\Roaming\\Python\\Python311\\site-packages\\pandas\\core\\internals\\blocks.py:511\u001b[0m, in \u001b[0;36mBlock.astype\u001b[1;34m(self, dtype, copy, errors, using_cow)\u001b[0m\n\u001b[0;32m    491\u001b[0m \u001b[38;5;250m\u001b[39m\u001b[38;5;124;03m\"\"\"\u001b[39;00m\n\u001b[0;32m    492\u001b[0m \u001b[38;5;124;03mCoerce to the new dtype.\u001b[39;00m\n\u001b[0;32m    493\u001b[0m \n\u001b[1;32m   (...)\u001b[0m\n\u001b[0;32m    507\u001b[0m \u001b[38;5;124;03mBlock\u001b[39;00m\n\u001b[0;32m    508\u001b[0m \u001b[38;5;124;03m\"\"\"\u001b[39;00m\n\u001b[0;32m    509\u001b[0m values \u001b[38;5;241m=\u001b[39m \u001b[38;5;28mself\u001b[39m\u001b[38;5;241m.\u001b[39mvalues\n\u001b[1;32m--> 511\u001b[0m new_values \u001b[38;5;241m=\u001b[39m \u001b[43mastype_array_safe\u001b[49m\u001b[43m(\u001b[49m\u001b[43mvalues\u001b[49m\u001b[43m,\u001b[49m\u001b[43m \u001b[49m\u001b[43mdtype\u001b[49m\u001b[43m,\u001b[49m\u001b[43m \u001b[49m\u001b[43mcopy\u001b[49m\u001b[38;5;241;43m=\u001b[39;49m\u001b[43mcopy\u001b[49m\u001b[43m,\u001b[49m\u001b[43m \u001b[49m\u001b[43merrors\u001b[49m\u001b[38;5;241;43m=\u001b[39;49m\u001b[43merrors\u001b[49m\u001b[43m)\u001b[49m\n\u001b[0;32m    513\u001b[0m new_values \u001b[38;5;241m=\u001b[39m maybe_coerce_values(new_values)\n\u001b[0;32m    515\u001b[0m refs \u001b[38;5;241m=\u001b[39m \u001b[38;5;28;01mNone\u001b[39;00m\n",
      "File \u001b[1;32m~\\AppData\\Roaming\\Python\\Python311\\site-packages\\pandas\\core\\dtypes\\astype.py:242\u001b[0m, in \u001b[0;36mastype_array_safe\u001b[1;34m(values, dtype, copy, errors)\u001b[0m\n\u001b[0;32m    239\u001b[0m     dtype \u001b[38;5;241m=\u001b[39m dtype\u001b[38;5;241m.\u001b[39mnumpy_dtype\n\u001b[0;32m    241\u001b[0m \u001b[38;5;28;01mtry\u001b[39;00m:\n\u001b[1;32m--> 242\u001b[0m     new_values \u001b[38;5;241m=\u001b[39m \u001b[43mastype_array\u001b[49m\u001b[43m(\u001b[49m\u001b[43mvalues\u001b[49m\u001b[43m,\u001b[49m\u001b[43m \u001b[49m\u001b[43mdtype\u001b[49m\u001b[43m,\u001b[49m\u001b[43m \u001b[49m\u001b[43mcopy\u001b[49m\u001b[38;5;241;43m=\u001b[39;49m\u001b[43mcopy\u001b[49m\u001b[43m)\u001b[49m\n\u001b[0;32m    243\u001b[0m \u001b[38;5;28;01mexcept\u001b[39;00m (\u001b[38;5;167;01mValueError\u001b[39;00m, \u001b[38;5;167;01mTypeError\u001b[39;00m):\n\u001b[0;32m    244\u001b[0m     \u001b[38;5;66;03m# e.g. _astype_nansafe can fail on object-dtype of strings\u001b[39;00m\n\u001b[0;32m    245\u001b[0m     \u001b[38;5;66;03m#  trying to convert to float\u001b[39;00m\n\u001b[0;32m    246\u001b[0m     \u001b[38;5;28;01mif\u001b[39;00m errors \u001b[38;5;241m==\u001b[39m \u001b[38;5;124m\"\u001b[39m\u001b[38;5;124mignore\u001b[39m\u001b[38;5;124m\"\u001b[39m:\n",
      "File \u001b[1;32m~\\AppData\\Roaming\\Python\\Python311\\site-packages\\pandas\\core\\dtypes\\astype.py:187\u001b[0m, in \u001b[0;36mastype_array\u001b[1;34m(values, dtype, copy)\u001b[0m\n\u001b[0;32m    184\u001b[0m     values \u001b[38;5;241m=\u001b[39m values\u001b[38;5;241m.\u001b[39mastype(dtype, copy\u001b[38;5;241m=\u001b[39mcopy)\n\u001b[0;32m    186\u001b[0m \u001b[38;5;28;01melse\u001b[39;00m:\n\u001b[1;32m--> 187\u001b[0m     values \u001b[38;5;241m=\u001b[39m \u001b[43m_astype_nansafe\u001b[49m\u001b[43m(\u001b[49m\u001b[43mvalues\u001b[49m\u001b[43m,\u001b[49m\u001b[43m \u001b[49m\u001b[43mdtype\u001b[49m\u001b[43m,\u001b[49m\u001b[43m \u001b[49m\u001b[43mcopy\u001b[49m\u001b[38;5;241;43m=\u001b[39;49m\u001b[43mcopy\u001b[49m\u001b[43m)\u001b[49m\n\u001b[0;32m    189\u001b[0m \u001b[38;5;66;03m# in pandas we don't store numpy str dtypes, so convert to object\u001b[39;00m\n\u001b[0;32m    190\u001b[0m \u001b[38;5;28;01mif\u001b[39;00m \u001b[38;5;28misinstance\u001b[39m(dtype, np\u001b[38;5;241m.\u001b[39mdtype) \u001b[38;5;129;01mand\u001b[39;00m \u001b[38;5;28missubclass\u001b[39m(values\u001b[38;5;241m.\u001b[39mdtype\u001b[38;5;241m.\u001b[39mtype, \u001b[38;5;28mstr\u001b[39m):\n",
      "File \u001b[1;32m~\\AppData\\Roaming\\Python\\Python311\\site-packages\\pandas\\core\\dtypes\\astype.py:138\u001b[0m, in \u001b[0;36m_astype_nansafe\u001b[1;34m(arr, dtype, copy, skipna)\u001b[0m\n\u001b[0;32m    134\u001b[0m     \u001b[38;5;28;01mraise\u001b[39;00m \u001b[38;5;167;01mValueError\u001b[39;00m(msg)\n\u001b[0;32m    136\u001b[0m \u001b[38;5;28;01mif\u001b[39;00m copy \u001b[38;5;129;01mor\u001b[39;00m is_object_dtype(arr\u001b[38;5;241m.\u001b[39mdtype) \u001b[38;5;129;01mor\u001b[39;00m is_object_dtype(dtype):\n\u001b[0;32m    137\u001b[0m     \u001b[38;5;66;03m# Explicit copy, or required since NumPy can't view from / to object.\u001b[39;00m\n\u001b[1;32m--> 138\u001b[0m     \u001b[38;5;28;01mreturn\u001b[39;00m \u001b[43marr\u001b[49m\u001b[38;5;241;43m.\u001b[39;49m\u001b[43mastype\u001b[49m\u001b[43m(\u001b[49m\u001b[43mdtype\u001b[49m\u001b[43m,\u001b[49m\u001b[43m \u001b[49m\u001b[43mcopy\u001b[49m\u001b[38;5;241;43m=\u001b[39;49m\u001b[38;5;28;43;01mTrue\u001b[39;49;00m\u001b[43m)\u001b[49m\n\u001b[0;32m    140\u001b[0m \u001b[38;5;28;01mreturn\u001b[39;00m arr\u001b[38;5;241m.\u001b[39mastype(dtype, copy\u001b[38;5;241m=\u001b[39mcopy)\n",
      "\u001b[1;31mValueError\u001b[0m: cannot convert float NaN to integer"
     ]
    }
   ],
   "source": [
    "arts[\"BeginDate\"].str.replace(\"(\", \"\").str.replace(\")\", \"\").astype(int)"
   ]
  },
  {
   "cell_type": "code",
   "execution_count": 32,
   "id": "c0cd468f",
   "metadata": {},
   "outputs": [
    {
     "data": {
      "text/plain": [
       "0        1947.0\n",
       "1        1916.0\n",
       "2        1870.0\n",
       "3        1861.0\n",
       "4        1857.0\n",
       "          ...  \n",
       "16720    1898.0\n",
       "16721    1942.0\n",
       "16722    1882.0\n",
       "16723       NaN\n",
       "16724    1927.0\n",
       "Name: BeginDate, Length: 16725, dtype: float64"
      ]
     },
     "execution_count": 32,
     "metadata": {},
     "output_type": "execute_result"
    }
   ],
   "source": [
    "arts[\"BeginDate\"].str.replace(\"(\", \"\").str.replace(\")\", \"\").astype(float)"
   ]
  },
  {
   "cell_type": "code",
   "execution_count": 33,
   "id": "cbfd9573",
   "metadata": {},
   "outputs": [],
   "source": [
    "arts[\"BeginDate\"] = arts[\"BeginDate\"].str.replace(\"(\", \"\").str.replace(\")\", \"\").astype(float)"
   ]
  },
  {
   "cell_type": "code",
   "execution_count": 34,
   "id": "014984da",
   "metadata": {},
   "outputs": [
    {
     "data": {
      "text/html": [
       "<div>\n",
       "<style scoped>\n",
       "    .dataframe tbody tr th:only-of-type {\n",
       "        vertical-align: middle;\n",
       "    }\n",
       "\n",
       "    .dataframe tbody tr th {\n",
       "        vertical-align: top;\n",
       "    }\n",
       "\n",
       "    .dataframe thead th {\n",
       "        text-align: right;\n",
       "    }\n",
       "</style>\n",
       "<table border=\"1\" class=\"dataframe\">\n",
       "  <thead>\n",
       "    <tr style=\"text-align: right;\">\n",
       "      <th></th>\n",
       "      <th>Title</th>\n",
       "      <th>Artist</th>\n",
       "      <th>Nationality</th>\n",
       "      <th>BeginDate</th>\n",
       "      <th>EndDate</th>\n",
       "      <th>Gender</th>\n",
       "      <th>Date</th>\n",
       "      <th>Department</th>\n",
       "    </tr>\n",
       "  </thead>\n",
       "  <tbody>\n",
       "    <tr>\n",
       "      <th>0</th>\n",
       "      <td>Dress MacLeod from Tartan Sets</td>\n",
       "      <td>Sarah Charlesworth</td>\n",
       "      <td>American</td>\n",
       "      <td>1947.0</td>\n",
       "      <td>(2013)</td>\n",
       "      <td>Female</td>\n",
       "      <td>1986</td>\n",
       "      <td>Prints &amp; Illustrated Books</td>\n",
       "    </tr>\n",
       "    <tr>\n",
       "      <th>1</th>\n",
       "      <td>Duplicate of plate from folio 11 verso (supple...</td>\n",
       "      <td>Pablo Palazuelo</td>\n",
       "      <td>Spanish</td>\n",
       "      <td>1916.0</td>\n",
       "      <td>(2007)</td>\n",
       "      <td>Male</td>\n",
       "      <td>1978</td>\n",
       "      <td>Prints &amp; Illustrated Books</td>\n",
       "    </tr>\n",
       "    <tr>\n",
       "      <th>2</th>\n",
       "      <td>Tailpiece (page 55) from SAGESSE</td>\n",
       "      <td>Maurice Denis</td>\n",
       "      <td>French</td>\n",
       "      <td>1870.0</td>\n",
       "      <td>(1943)</td>\n",
       "      <td>Male</td>\n",
       "      <td>1889-1911</td>\n",
       "      <td>Prints &amp; Illustrated Books</td>\n",
       "    </tr>\n",
       "    <tr>\n",
       "      <th>3</th>\n",
       "      <td>Headpiece (page 129) from LIVRET DE FOLASTRIES...</td>\n",
       "      <td>Aristide Maillol</td>\n",
       "      <td>French</td>\n",
       "      <td>1861.0</td>\n",
       "      <td>(1944)</td>\n",
       "      <td>Male</td>\n",
       "      <td>1927-1940</td>\n",
       "      <td>Prints &amp; Illustrated Books</td>\n",
       "    </tr>\n",
       "    <tr>\n",
       "      <th>4</th>\n",
       "      <td>97 rue du Bac</td>\n",
       "      <td>Eugène Atget</td>\n",
       "      <td>French</td>\n",
       "      <td>1857.0</td>\n",
       "      <td>(1927)</td>\n",
       "      <td>Male</td>\n",
       "      <td>1903</td>\n",
       "      <td>Photography</td>\n",
       "    </tr>\n",
       "    <tr>\n",
       "      <th>...</th>\n",
       "      <td>...</td>\n",
       "      <td>...</td>\n",
       "      <td>...</td>\n",
       "      <td>...</td>\n",
       "      <td>...</td>\n",
       "      <td>...</td>\n",
       "      <td>...</td>\n",
       "      <td>...</td>\n",
       "    </tr>\n",
       "    <tr>\n",
       "      <th>16720</th>\n",
       "      <td>Oval with Points</td>\n",
       "      <td>Henry Moore</td>\n",
       "      <td>British</td>\n",
       "      <td>1898.0</td>\n",
       "      <td>(1986)</td>\n",
       "      <td>Male</td>\n",
       "      <td>1968-1969</td>\n",
       "      <td>Painting &amp; Sculpture</td>\n",
       "    </tr>\n",
       "    <tr>\n",
       "      <th>16721</th>\n",
       "      <td>Cementerio de la Ciudad Abierta, Ritoque, Chile</td>\n",
       "      <td>Juan Baixas</td>\n",
       "      <td>Chilean</td>\n",
       "      <td>1942.0</td>\n",
       "      <td>NaN</td>\n",
       "      <td>Male</td>\n",
       "      <td>1975</td>\n",
       "      <td>Architecture &amp; Design</td>\n",
       "    </tr>\n",
       "    <tr>\n",
       "      <th>16722</th>\n",
       "      <td>The Catboat</td>\n",
       "      <td>Edward Hopper</td>\n",
       "      <td>American</td>\n",
       "      <td>1882.0</td>\n",
       "      <td>(1967)</td>\n",
       "      <td>Male</td>\n",
       "      <td>1922</td>\n",
       "      <td>Prints &amp; Illustrated Books</td>\n",
       "    </tr>\n",
       "    <tr>\n",
       "      <th>16723</th>\n",
       "      <td>Dognat' i peregnat' v tekhniko-ekonomicheskom ...</td>\n",
       "      <td>Unknown</td>\n",
       "      <td>Nationality Unknown</td>\n",
       "      <td>NaN</td>\n",
       "      <td>NaN</td>\n",
       "      <td>Gender Unknown</td>\n",
       "      <td>1931</td>\n",
       "      <td>Prints &amp; Illustrated Books</td>\n",
       "    </tr>\n",
       "    <tr>\n",
       "      <th>16724</th>\n",
       "      <td>Plate (page 11) from The Dive</td>\n",
       "      <td>Alex Katz</td>\n",
       "      <td>American</td>\n",
       "      <td>1927.0</td>\n",
       "      <td>NaN</td>\n",
       "      <td>Male</td>\n",
       "      <td>2011</td>\n",
       "      <td>Prints &amp; Illustrated Books</td>\n",
       "    </tr>\n",
       "  </tbody>\n",
       "</table>\n",
       "<p>16725 rows × 8 columns</p>\n",
       "</div>"
      ],
      "text/plain": [
       "                                                   Title              Artist   \n",
       "0                         Dress MacLeod from Tartan Sets  Sarah Charlesworth  \\\n",
       "1      Duplicate of plate from folio 11 verso (supple...     Pablo Palazuelo   \n",
       "2                       Tailpiece (page 55) from SAGESSE       Maurice Denis   \n",
       "3      Headpiece (page 129) from LIVRET DE FOLASTRIES...    Aristide Maillol   \n",
       "4                                          97 rue du Bac        Eugène Atget   \n",
       "...                                                  ...                 ...   \n",
       "16720                                   Oval with Points         Henry Moore   \n",
       "16721    Cementerio de la Ciudad Abierta, Ritoque, Chile         Juan Baixas   \n",
       "16722                                        The Catboat       Edward Hopper   \n",
       "16723  Dognat' i peregnat' v tekhniko-ekonomicheskom ...             Unknown   \n",
       "16724                      Plate (page 11) from The Dive           Alex Katz   \n",
       "\n",
       "               Nationality  BeginDate EndDate          Gender       Date   \n",
       "0                 American     1947.0  (2013)          Female       1986  \\\n",
       "1                  Spanish     1916.0  (2007)            Male       1978   \n",
       "2                   French     1870.0  (1943)            Male  1889-1911   \n",
       "3                   French     1861.0  (1944)            Male  1927-1940   \n",
       "4                   French     1857.0  (1927)            Male       1903   \n",
       "...                    ...        ...     ...             ...        ...   \n",
       "16720              British     1898.0  (1986)            Male  1968-1969   \n",
       "16721              Chilean     1942.0     NaN            Male       1975   \n",
       "16722             American     1882.0  (1967)            Male       1922   \n",
       "16723  Nationality Unknown        NaN     NaN  Gender Unknown       1931   \n",
       "16724             American     1927.0     NaN            Male       2011   \n",
       "\n",
       "                       Department  \n",
       "0      Prints & Illustrated Books  \n",
       "1      Prints & Illustrated Books  \n",
       "2      Prints & Illustrated Books  \n",
       "3      Prints & Illustrated Books  \n",
       "4                     Photography  \n",
       "...                           ...  \n",
       "16720        Painting & Sculpture  \n",
       "16721       Architecture & Design  \n",
       "16722  Prints & Illustrated Books  \n",
       "16723  Prints & Illustrated Books  \n",
       "16724  Prints & Illustrated Books  \n",
       "\n",
       "[16725 rows x 8 columns]"
      ]
     },
     "execution_count": 34,
     "metadata": {},
     "output_type": "execute_result"
    }
   ],
   "source": [
    "arts"
   ]
  },
  {
   "cell_type": "code",
   "execution_count": 35,
   "id": "ddf2def3",
   "metadata": {},
   "outputs": [
    {
     "data": {
      "text/plain": [
       "Title           object\n",
       "Artist          object\n",
       "Nationality     object\n",
       "BeginDate      float64\n",
       "EndDate         object\n",
       "Gender          object\n",
       "Date            object\n",
       "Department      object\n",
       "dtype: object"
      ]
     },
     "execution_count": 35,
     "metadata": {},
     "output_type": "execute_result"
    }
   ],
   "source": [
    "arts.dtypes"
   ]
  },
  {
   "cell_type": "code",
   "execution_count": 36,
   "id": "518a157a",
   "metadata": {},
   "outputs": [],
   "source": [
    "arts[\"EndDate\"] = arts[\"EndDate\"].str.replace(\"(\", \"\").str.replace(\")\", \"\").astype(float)"
   ]
  },
  {
   "cell_type": "code",
   "execution_count": 37,
   "id": "d9d1bf27",
   "metadata": {},
   "outputs": [
    {
     "name": "stdout",
     "output_type": "stream",
     "text": [
      "<class 'pandas.core.frame.DataFrame'>\n",
      "RangeIndex: 16725 entries, 0 to 16724\n",
      "Data columns (total 8 columns):\n",
      " #   Column       Non-Null Count  Dtype  \n",
      "---  ------       --------------  -----  \n",
      " 0   Title        16724 non-null  object \n",
      " 1   Artist       16725 non-null  object \n",
      " 2   Nationality  16725 non-null  object \n",
      " 3   BeginDate    15786 non-null  float64\n",
      " 4   EndDate      10474 non-null  float64\n",
      " 5   Gender       16725 non-null  object \n",
      " 6   Date         16725 non-null  object \n",
      " 7   Department   16725 non-null  object \n",
      "dtypes: float64(2), object(6)\n",
      "memory usage: 1.0+ MB\n"
     ]
    }
   ],
   "source": [
    "arts.info()"
   ]
  },
  {
   "cell_type": "code",
   "execution_count": 38,
   "id": "89fb60c9",
   "metadata": {},
   "outputs": [
    {
     "data": {
      "text/plain": [
       "8"
      ]
     },
     "execution_count": 38,
     "metadata": {},
     "output_type": "execute_result"
    }
   ],
   "source": [
    "bad_chr = [\"(\", \")\", \"c\",\"C\", \".\", \"'\",\"s\", \" \"]\n",
    "\n",
    "len(bad_chr)"
   ]
  },
  {
   "cell_type": "code",
   "execution_count": 39,
   "id": "af8e0b6c",
   "metadata": {},
   "outputs": [],
   "source": [
    "date = \"(c. 1947's)\"\n",
    "\n",
    "for i in bad_chr:\n",
    "    date = date.replace(i, \"\")"
   ]
  },
  {
   "cell_type": "code",
   "execution_count": 40,
   "id": "77f6e453",
   "metadata": {},
   "outputs": [
    {
     "data": {
      "text/plain": [
       "'1947'"
      ]
     },
     "execution_count": 40,
     "metadata": {},
     "output_type": "execute_result"
    }
   ],
   "source": [
    "date"
   ]
  },
  {
   "cell_type": "code",
   "execution_count": 41,
   "id": "6bb21d9b",
   "metadata": {},
   "outputs": [],
   "source": [
    "def clean_date(date):\n",
    "    bad_chr = [\"(\", \")\", \"c\",\"C\", \".\", \"'\",\"s\", \" \"]\n",
    "    for i in bad_chr:\n",
    "        date = date.replace(i, \"\")\n",
    "    return date"
   ]
  },
  {
   "cell_type": "code",
   "execution_count": 42,
   "id": "a9521622",
   "metadata": {},
   "outputs": [
    {
     "data": {
      "text/plain": [
       "'1947'"
      ]
     },
     "execution_count": 42,
     "metadata": {},
     "output_type": "execute_result"
    }
   ],
   "source": [
    "clean_date(date)"
   ]
  },
  {
   "cell_type": "code",
   "execution_count": 43,
   "id": "e09af70c",
   "metadata": {},
   "outputs": [
    {
     "data": {
      "text/plain": [
       "'1974'"
      ]
     },
     "execution_count": 43,
     "metadata": {},
     "output_type": "execute_result"
    }
   ],
   "source": [
    "clean_date(\"sc1974.'s\")"
   ]
  },
  {
   "cell_type": "code",
   "execution_count": 44,
   "id": "35d4f656",
   "metadata": {},
   "outputs": [
    {
     "data": {
      "text/html": [
       "<div>\n",
       "<style scoped>\n",
       "    .dataframe tbody tr th:only-of-type {\n",
       "        vertical-align: middle;\n",
       "    }\n",
       "\n",
       "    .dataframe tbody tr th {\n",
       "        vertical-align: top;\n",
       "    }\n",
       "\n",
       "    .dataframe thead th {\n",
       "        text-align: right;\n",
       "    }\n",
       "</style>\n",
       "<table border=\"1\" class=\"dataframe\">\n",
       "  <thead>\n",
       "    <tr style=\"text-align: right;\">\n",
       "      <th></th>\n",
       "      <th>Title</th>\n",
       "      <th>Artist</th>\n",
       "      <th>Nationality</th>\n",
       "      <th>BeginDate</th>\n",
       "      <th>EndDate</th>\n",
       "      <th>Gender</th>\n",
       "      <th>Date</th>\n",
       "      <th>Department</th>\n",
       "    </tr>\n",
       "  </thead>\n",
       "  <tbody>\n",
       "    <tr>\n",
       "      <th>0</th>\n",
       "      <td>Dress MacLeod from Tartan Sets</td>\n",
       "      <td>Sarah Charlesworth</td>\n",
       "      <td>American</td>\n",
       "      <td>1947.0</td>\n",
       "      <td>2013.0</td>\n",
       "      <td>Female</td>\n",
       "      <td>1986</td>\n",
       "      <td>Prints &amp; Illustrated Books</td>\n",
       "    </tr>\n",
       "    <tr>\n",
       "      <th>1</th>\n",
       "      <td>Duplicate of plate from folio 11 verso (supple...</td>\n",
       "      <td>Pablo Palazuelo</td>\n",
       "      <td>Spanish</td>\n",
       "      <td>1916.0</td>\n",
       "      <td>2007.0</td>\n",
       "      <td>Male</td>\n",
       "      <td>1978</td>\n",
       "      <td>Prints &amp; Illustrated Books</td>\n",
       "    </tr>\n",
       "    <tr>\n",
       "      <th>2</th>\n",
       "      <td>Tailpiece (page 55) from SAGESSE</td>\n",
       "      <td>Maurice Denis</td>\n",
       "      <td>French</td>\n",
       "      <td>1870.0</td>\n",
       "      <td>1943.0</td>\n",
       "      <td>Male</td>\n",
       "      <td>1889-1911</td>\n",
       "      <td>Prints &amp; Illustrated Books</td>\n",
       "    </tr>\n",
       "    <tr>\n",
       "      <th>3</th>\n",
       "      <td>Headpiece (page 129) from LIVRET DE FOLASTRIES...</td>\n",
       "      <td>Aristide Maillol</td>\n",
       "      <td>French</td>\n",
       "      <td>1861.0</td>\n",
       "      <td>1944.0</td>\n",
       "      <td>Male</td>\n",
       "      <td>1927-1940</td>\n",
       "      <td>Prints &amp; Illustrated Books</td>\n",
       "    </tr>\n",
       "    <tr>\n",
       "      <th>4</th>\n",
       "      <td>97 rue du Bac</td>\n",
       "      <td>Eugène Atget</td>\n",
       "      <td>French</td>\n",
       "      <td>1857.0</td>\n",
       "      <td>1927.0</td>\n",
       "      <td>Male</td>\n",
       "      <td>1903</td>\n",
       "      <td>Photography</td>\n",
       "    </tr>\n",
       "  </tbody>\n",
       "</table>\n",
       "</div>"
      ],
      "text/plain": [
       "                                               Title              Artist   \n",
       "0                     Dress MacLeod from Tartan Sets  Sarah Charlesworth  \\\n",
       "1  Duplicate of plate from folio 11 verso (supple...     Pablo Palazuelo   \n",
       "2                   Tailpiece (page 55) from SAGESSE       Maurice Denis   \n",
       "3  Headpiece (page 129) from LIVRET DE FOLASTRIES...    Aristide Maillol   \n",
       "4                                      97 rue du Bac        Eugène Atget   \n",
       "\n",
       "  Nationality  BeginDate  EndDate  Gender       Date   \n",
       "0    American     1947.0   2013.0  Female       1986  \\\n",
       "1     Spanish     1916.0   2007.0    Male       1978   \n",
       "2      French     1870.0   1943.0    Male  1889-1911   \n",
       "3      French     1861.0   1944.0    Male  1927-1940   \n",
       "4      French     1857.0   1927.0    Male       1903   \n",
       "\n",
       "                   Department  \n",
       "0  Prints & Illustrated Books  \n",
       "1  Prints & Illustrated Books  \n",
       "2  Prints & Illustrated Books  \n",
       "3  Prints & Illustrated Books  \n",
       "4                 Photography  "
      ]
     },
     "execution_count": 44,
     "metadata": {},
     "output_type": "execute_result"
    }
   ],
   "source": [
    "arts.head()"
   ]
  },
  {
   "cell_type": "code",
   "execution_count": 45,
   "id": "ae2d9250",
   "metadata": {},
   "outputs": [
    {
     "data": {
      "text/plain": [
       "0             1986\n",
       "1             1978\n",
       "2        1889-1911\n",
       "3        1927-1940\n",
       "4             1903\n",
       "           ...    \n",
       "16720    1968-1969\n",
       "16721         1975\n",
       "16722         1922\n",
       "16723         1931\n",
       "16724         2011\n",
       "Name: Date, Length: 16725, dtype: object"
      ]
     },
     "execution_count": 45,
     "metadata": {},
     "output_type": "execute_result"
    }
   ],
   "source": [
    "arts[\"Date\"].apply(clean_date)"
   ]
  },
  {
   "cell_type": "code",
   "execution_count": 46,
   "id": "ed2301f1",
   "metadata": {},
   "outputs": [],
   "source": [
    "arts[\"Date\"] = arts[\"Date\"].apply(clean_date)"
   ]
  },
  {
   "cell_type": "code",
   "execution_count": 47,
   "id": "3208ec4d",
   "metadata": {},
   "outputs": [
    {
     "data": {
      "text/html": [
       "<div>\n",
       "<style scoped>\n",
       "    .dataframe tbody tr th:only-of-type {\n",
       "        vertical-align: middle;\n",
       "    }\n",
       "\n",
       "    .dataframe tbody tr th {\n",
       "        vertical-align: top;\n",
       "    }\n",
       "\n",
       "    .dataframe thead th {\n",
       "        text-align: right;\n",
       "    }\n",
       "</style>\n",
       "<table border=\"1\" class=\"dataframe\">\n",
       "  <thead>\n",
       "    <tr style=\"text-align: right;\">\n",
       "      <th></th>\n",
       "      <th>Title</th>\n",
       "      <th>Artist</th>\n",
       "      <th>Nationality</th>\n",
       "      <th>BeginDate</th>\n",
       "      <th>EndDate</th>\n",
       "      <th>Gender</th>\n",
       "      <th>Date</th>\n",
       "      <th>Department</th>\n",
       "    </tr>\n",
       "  </thead>\n",
       "  <tbody>\n",
       "    <tr>\n",
       "      <th>0</th>\n",
       "      <td>Dress MacLeod from Tartan Sets</td>\n",
       "      <td>Sarah Charlesworth</td>\n",
       "      <td>American</td>\n",
       "      <td>1947.0</td>\n",
       "      <td>2013.0</td>\n",
       "      <td>Female</td>\n",
       "      <td>1986</td>\n",
       "      <td>Prints &amp; Illustrated Books</td>\n",
       "    </tr>\n",
       "    <tr>\n",
       "      <th>1</th>\n",
       "      <td>Duplicate of plate from folio 11 verso (supple...</td>\n",
       "      <td>Pablo Palazuelo</td>\n",
       "      <td>Spanish</td>\n",
       "      <td>1916.0</td>\n",
       "      <td>2007.0</td>\n",
       "      <td>Male</td>\n",
       "      <td>1978</td>\n",
       "      <td>Prints &amp; Illustrated Books</td>\n",
       "    </tr>\n",
       "    <tr>\n",
       "      <th>2</th>\n",
       "      <td>Tailpiece (page 55) from SAGESSE</td>\n",
       "      <td>Maurice Denis</td>\n",
       "      <td>French</td>\n",
       "      <td>1870.0</td>\n",
       "      <td>1943.0</td>\n",
       "      <td>Male</td>\n",
       "      <td>1889-1911</td>\n",
       "      <td>Prints &amp; Illustrated Books</td>\n",
       "    </tr>\n",
       "    <tr>\n",
       "      <th>3</th>\n",
       "      <td>Headpiece (page 129) from LIVRET DE FOLASTRIES...</td>\n",
       "      <td>Aristide Maillol</td>\n",
       "      <td>French</td>\n",
       "      <td>1861.0</td>\n",
       "      <td>1944.0</td>\n",
       "      <td>Male</td>\n",
       "      <td>1927-1940</td>\n",
       "      <td>Prints &amp; Illustrated Books</td>\n",
       "    </tr>\n",
       "    <tr>\n",
       "      <th>4</th>\n",
       "      <td>97 rue du Bac</td>\n",
       "      <td>Eugène Atget</td>\n",
       "      <td>French</td>\n",
       "      <td>1857.0</td>\n",
       "      <td>1927.0</td>\n",
       "      <td>Male</td>\n",
       "      <td>1903</td>\n",
       "      <td>Photography</td>\n",
       "    </tr>\n",
       "    <tr>\n",
       "      <th>...</th>\n",
       "      <td>...</td>\n",
       "      <td>...</td>\n",
       "      <td>...</td>\n",
       "      <td>...</td>\n",
       "      <td>...</td>\n",
       "      <td>...</td>\n",
       "      <td>...</td>\n",
       "      <td>...</td>\n",
       "    </tr>\n",
       "    <tr>\n",
       "      <th>16720</th>\n",
       "      <td>Oval with Points</td>\n",
       "      <td>Henry Moore</td>\n",
       "      <td>British</td>\n",
       "      <td>1898.0</td>\n",
       "      <td>1986.0</td>\n",
       "      <td>Male</td>\n",
       "      <td>1968-1969</td>\n",
       "      <td>Painting &amp; Sculpture</td>\n",
       "    </tr>\n",
       "    <tr>\n",
       "      <th>16721</th>\n",
       "      <td>Cementerio de la Ciudad Abierta, Ritoque, Chile</td>\n",
       "      <td>Juan Baixas</td>\n",
       "      <td>Chilean</td>\n",
       "      <td>1942.0</td>\n",
       "      <td>NaN</td>\n",
       "      <td>Male</td>\n",
       "      <td>1975</td>\n",
       "      <td>Architecture &amp; Design</td>\n",
       "    </tr>\n",
       "    <tr>\n",
       "      <th>16722</th>\n",
       "      <td>The Catboat</td>\n",
       "      <td>Edward Hopper</td>\n",
       "      <td>American</td>\n",
       "      <td>1882.0</td>\n",
       "      <td>1967.0</td>\n",
       "      <td>Male</td>\n",
       "      <td>1922</td>\n",
       "      <td>Prints &amp; Illustrated Books</td>\n",
       "    </tr>\n",
       "    <tr>\n",
       "      <th>16723</th>\n",
       "      <td>Dognat' i peregnat' v tekhniko-ekonomicheskom ...</td>\n",
       "      <td>Unknown</td>\n",
       "      <td>Nationality Unknown</td>\n",
       "      <td>NaN</td>\n",
       "      <td>NaN</td>\n",
       "      <td>Gender Unknown</td>\n",
       "      <td>1931</td>\n",
       "      <td>Prints &amp; Illustrated Books</td>\n",
       "    </tr>\n",
       "    <tr>\n",
       "      <th>16724</th>\n",
       "      <td>Plate (page 11) from The Dive</td>\n",
       "      <td>Alex Katz</td>\n",
       "      <td>American</td>\n",
       "      <td>1927.0</td>\n",
       "      <td>NaN</td>\n",
       "      <td>Male</td>\n",
       "      <td>2011</td>\n",
       "      <td>Prints &amp; Illustrated Books</td>\n",
       "    </tr>\n",
       "  </tbody>\n",
       "</table>\n",
       "<p>16725 rows × 8 columns</p>\n",
       "</div>"
      ],
      "text/plain": [
       "                                                   Title              Artist   \n",
       "0                         Dress MacLeod from Tartan Sets  Sarah Charlesworth  \\\n",
       "1      Duplicate of plate from folio 11 verso (supple...     Pablo Palazuelo   \n",
       "2                       Tailpiece (page 55) from SAGESSE       Maurice Denis   \n",
       "3      Headpiece (page 129) from LIVRET DE FOLASTRIES...    Aristide Maillol   \n",
       "4                                          97 rue du Bac        Eugène Atget   \n",
       "...                                                  ...                 ...   \n",
       "16720                                   Oval with Points         Henry Moore   \n",
       "16721    Cementerio de la Ciudad Abierta, Ritoque, Chile         Juan Baixas   \n",
       "16722                                        The Catboat       Edward Hopper   \n",
       "16723  Dognat' i peregnat' v tekhniko-ekonomicheskom ...             Unknown   \n",
       "16724                      Plate (page 11) from The Dive           Alex Katz   \n",
       "\n",
       "               Nationality  BeginDate  EndDate          Gender       Date   \n",
       "0                 American     1947.0   2013.0          Female       1986  \\\n",
       "1                  Spanish     1916.0   2007.0            Male       1978   \n",
       "2                   French     1870.0   1943.0            Male  1889-1911   \n",
       "3                   French     1861.0   1944.0            Male  1927-1940   \n",
       "4                   French     1857.0   1927.0            Male       1903   \n",
       "...                    ...        ...      ...             ...        ...   \n",
       "16720              British     1898.0   1986.0            Male  1968-1969   \n",
       "16721              Chilean     1942.0      NaN            Male       1975   \n",
       "16722             American     1882.0   1967.0            Male       1922   \n",
       "16723  Nationality Unknown        NaN      NaN  Gender Unknown       1931   \n",
       "16724             American     1927.0      NaN            Male       2011   \n",
       "\n",
       "                       Department  \n",
       "0      Prints & Illustrated Books  \n",
       "1      Prints & Illustrated Books  \n",
       "2      Prints & Illustrated Books  \n",
       "3      Prints & Illustrated Books  \n",
       "4                     Photography  \n",
       "...                           ...  \n",
       "16720        Painting & Sculpture  \n",
       "16721       Architecture & Design  \n",
       "16722  Prints & Illustrated Books  \n",
       "16723  Prints & Illustrated Books  \n",
       "16724  Prints & Illustrated Books  \n",
       "\n",
       "[16725 rows x 8 columns]"
      ]
     },
     "execution_count": 47,
     "metadata": {},
     "output_type": "execute_result"
    }
   ],
   "source": [
    "arts"
   ]
  },
  {
   "cell_type": "code",
   "execution_count": 49,
   "id": "5d000d66",
   "metadata": {},
   "outputs": [
    {
     "data": {
      "text/plain": [
       "['1889', '1911']"
      ]
     },
     "execution_count": 49,
     "metadata": {},
     "output_type": "execute_result"
    }
   ],
   "source": [
    "new_date = \"1889-1911\"\n",
    "\n",
    "lst = new_date.split(\"-\")\n",
    "lst"
   ]
  },
  {
   "cell_type": "code",
   "execution_count": 50,
   "id": "392886c2",
   "metadata": {},
   "outputs": [],
   "source": [
    "yr1 = lst[0]\n",
    "yr2 = lst[1]"
   ]
  },
  {
   "cell_type": "code",
   "execution_count": 51,
   "id": "31c48ccb",
   "metadata": {},
   "outputs": [
    {
     "data": {
      "text/plain": [
       "'1889'"
      ]
     },
     "execution_count": 51,
     "metadata": {},
     "output_type": "execute_result"
    }
   ],
   "source": [
    "yr1"
   ]
  },
  {
   "cell_type": "code",
   "execution_count": 53,
   "id": "bba159ac",
   "metadata": {},
   "outputs": [
    {
     "data": {
      "text/plain": [
       "1900"
      ]
     },
     "execution_count": 53,
     "metadata": {},
     "output_type": "execute_result"
    }
   ],
   "source": [
    "yr1 = int(yr1)\n",
    "yr2 = int(yr2)\n",
    "\n",
    "yr = (yr1+yr2)/2\n",
    "\n",
    "round(yr)"
   ]
  },
  {
   "cell_type": "code",
   "execution_count": 54,
   "id": "e6553341",
   "metadata": {},
   "outputs": [
    {
     "data": {
      "text/plain": [
       "0             1986\n",
       "1             1978\n",
       "2        1889-1911\n",
       "3        1927-1940\n",
       "4             1903\n",
       "           ...    \n",
       "16720    1968-1969\n",
       "16721         1975\n",
       "16722         1922\n",
       "16723         1931\n",
       "16724         2011\n",
       "Name: Date, Length: 16725, dtype: object"
      ]
     },
     "execution_count": 54,
     "metadata": {},
     "output_type": "execute_result"
    }
   ],
   "source": [
    "arts[\"Date\"]"
   ]
  },
  {
   "cell_type": "code",
   "execution_count": null,
   "id": "07f98160",
   "metadata": {},
   "outputs": [],
   "source": [
    "if \"-\" in date"
   ]
  },
  {
   "cell_type": "code",
   "execution_count": 55,
   "id": "69d3469a",
   "metadata": {},
   "outputs": [],
   "source": [
    "def int_date(date):\n",
    "    if \"-\" in date: # membership operator\n",
    "        lst = new_date.split(\"-\")\n",
    "        yr1 = int(lst[0])\n",
    "        yr2 = int(lst[1])\n",
    "        date = round((yr1+yr2)/2)\n",
    "    else:\n",
    "        date = int(date)\n",
    "    return date"
   ]
  },
  {
   "cell_type": "code",
   "execution_count": 56,
   "id": "c059bf64",
   "metadata": {},
   "outputs": [
    {
     "data": {
      "text/plain": [
       "1900"
      ]
     },
     "execution_count": 56,
     "metadata": {},
     "output_type": "execute_result"
    }
   ],
   "source": [
    "int_date(\"1947-1952\")"
   ]
  },
  {
   "cell_type": "code",
   "execution_count": 57,
   "id": "e905720e",
   "metadata": {},
   "outputs": [
    {
     "data": {
      "text/plain": [
       "1947"
      ]
     },
     "execution_count": 57,
     "metadata": {},
     "output_type": "execute_result"
    }
   ],
   "source": [
    "int_date(\"1947\")"
   ]
  },
  {
   "cell_type": "code",
   "execution_count": 58,
   "id": "020c8b07",
   "metadata": {},
   "outputs": [
    {
     "name": "stdout",
     "output_type": "stream",
     "text": [
      "<class 'pandas.core.frame.DataFrame'>\n",
      "RangeIndex: 16725 entries, 0 to 16724\n",
      "Data columns (total 8 columns):\n",
      " #   Column       Non-Null Count  Dtype  \n",
      "---  ------       --------------  -----  \n",
      " 0   Title        16724 non-null  object \n",
      " 1   Artist       16725 non-null  object \n",
      " 2   Nationality  16725 non-null  object \n",
      " 3   BeginDate    15786 non-null  float64\n",
      " 4   EndDate      10474 non-null  float64\n",
      " 5   Gender       16725 non-null  object \n",
      " 6   Date         16725 non-null  object \n",
      " 7   Department   16725 non-null  object \n",
      "dtypes: float64(2), object(6)\n",
      "memory usage: 1.0+ MB\n"
     ]
    }
   ],
   "source": [
    "arts.info()"
   ]
  },
  {
   "cell_type": "code",
   "execution_count": 59,
   "id": "a39049d4",
   "metadata": {},
   "outputs": [
    {
     "data": {
      "text/plain": [
       "0        1986\n",
       "1        1978\n",
       "2        1900\n",
       "3        1900\n",
       "4        1903\n",
       "         ... \n",
       "16720    1900\n",
       "16721    1975\n",
       "16722    1922\n",
       "16723    1931\n",
       "16724    2011\n",
       "Name: Date, Length: 16725, dtype: int64"
      ]
     },
     "execution_count": 59,
     "metadata": {},
     "output_type": "execute_result"
    }
   ],
   "source": [
    "arts[\"Date\"].apply(int_date)"
   ]
  },
  {
   "cell_type": "code",
   "execution_count": 60,
   "id": "b551adc4",
   "metadata": {},
   "outputs": [],
   "source": [
    "arts[\"Date\"] = arts[\"Date\"].apply(int_date)"
   ]
  },
  {
   "cell_type": "code",
   "execution_count": 61,
   "id": "6131b533",
   "metadata": {},
   "outputs": [
    {
     "data": {
      "text/html": [
       "<div>\n",
       "<style scoped>\n",
       "    .dataframe tbody tr th:only-of-type {\n",
       "        vertical-align: middle;\n",
       "    }\n",
       "\n",
       "    .dataframe tbody tr th {\n",
       "        vertical-align: top;\n",
       "    }\n",
       "\n",
       "    .dataframe thead th {\n",
       "        text-align: right;\n",
       "    }\n",
       "</style>\n",
       "<table border=\"1\" class=\"dataframe\">\n",
       "  <thead>\n",
       "    <tr style=\"text-align: right;\">\n",
       "      <th></th>\n",
       "      <th>Title</th>\n",
       "      <th>Artist</th>\n",
       "      <th>Nationality</th>\n",
       "      <th>BeginDate</th>\n",
       "      <th>EndDate</th>\n",
       "      <th>Gender</th>\n",
       "      <th>Date</th>\n",
       "      <th>Department</th>\n",
       "    </tr>\n",
       "  </thead>\n",
       "  <tbody>\n",
       "    <tr>\n",
       "      <th>0</th>\n",
       "      <td>Dress MacLeod from Tartan Sets</td>\n",
       "      <td>Sarah Charlesworth</td>\n",
       "      <td>American</td>\n",
       "      <td>1947.0</td>\n",
       "      <td>2013.0</td>\n",
       "      <td>Female</td>\n",
       "      <td>1986</td>\n",
       "      <td>Prints &amp; Illustrated Books</td>\n",
       "    </tr>\n",
       "    <tr>\n",
       "      <th>1</th>\n",
       "      <td>Duplicate of plate from folio 11 verso (supple...</td>\n",
       "      <td>Pablo Palazuelo</td>\n",
       "      <td>Spanish</td>\n",
       "      <td>1916.0</td>\n",
       "      <td>2007.0</td>\n",
       "      <td>Male</td>\n",
       "      <td>1978</td>\n",
       "      <td>Prints &amp; Illustrated Books</td>\n",
       "    </tr>\n",
       "    <tr>\n",
       "      <th>2</th>\n",
       "      <td>Tailpiece (page 55) from SAGESSE</td>\n",
       "      <td>Maurice Denis</td>\n",
       "      <td>French</td>\n",
       "      <td>1870.0</td>\n",
       "      <td>1943.0</td>\n",
       "      <td>Male</td>\n",
       "      <td>1900</td>\n",
       "      <td>Prints &amp; Illustrated Books</td>\n",
       "    </tr>\n",
       "    <tr>\n",
       "      <th>3</th>\n",
       "      <td>Headpiece (page 129) from LIVRET DE FOLASTRIES...</td>\n",
       "      <td>Aristide Maillol</td>\n",
       "      <td>French</td>\n",
       "      <td>1861.0</td>\n",
       "      <td>1944.0</td>\n",
       "      <td>Male</td>\n",
       "      <td>1900</td>\n",
       "      <td>Prints &amp; Illustrated Books</td>\n",
       "    </tr>\n",
       "    <tr>\n",
       "      <th>4</th>\n",
       "      <td>97 rue du Bac</td>\n",
       "      <td>Eugène Atget</td>\n",
       "      <td>French</td>\n",
       "      <td>1857.0</td>\n",
       "      <td>1927.0</td>\n",
       "      <td>Male</td>\n",
       "      <td>1903</td>\n",
       "      <td>Photography</td>\n",
       "    </tr>\n",
       "    <tr>\n",
       "      <th>...</th>\n",
       "      <td>...</td>\n",
       "      <td>...</td>\n",
       "      <td>...</td>\n",
       "      <td>...</td>\n",
       "      <td>...</td>\n",
       "      <td>...</td>\n",
       "      <td>...</td>\n",
       "      <td>...</td>\n",
       "    </tr>\n",
       "    <tr>\n",
       "      <th>16720</th>\n",
       "      <td>Oval with Points</td>\n",
       "      <td>Henry Moore</td>\n",
       "      <td>British</td>\n",
       "      <td>1898.0</td>\n",
       "      <td>1986.0</td>\n",
       "      <td>Male</td>\n",
       "      <td>1900</td>\n",
       "      <td>Painting &amp; Sculpture</td>\n",
       "    </tr>\n",
       "    <tr>\n",
       "      <th>16721</th>\n",
       "      <td>Cementerio de la Ciudad Abierta, Ritoque, Chile</td>\n",
       "      <td>Juan Baixas</td>\n",
       "      <td>Chilean</td>\n",
       "      <td>1942.0</td>\n",
       "      <td>NaN</td>\n",
       "      <td>Male</td>\n",
       "      <td>1975</td>\n",
       "      <td>Architecture &amp; Design</td>\n",
       "    </tr>\n",
       "    <tr>\n",
       "      <th>16722</th>\n",
       "      <td>The Catboat</td>\n",
       "      <td>Edward Hopper</td>\n",
       "      <td>American</td>\n",
       "      <td>1882.0</td>\n",
       "      <td>1967.0</td>\n",
       "      <td>Male</td>\n",
       "      <td>1922</td>\n",
       "      <td>Prints &amp; Illustrated Books</td>\n",
       "    </tr>\n",
       "    <tr>\n",
       "      <th>16723</th>\n",
       "      <td>Dognat' i peregnat' v tekhniko-ekonomicheskom ...</td>\n",
       "      <td>Unknown</td>\n",
       "      <td>Nationality Unknown</td>\n",
       "      <td>NaN</td>\n",
       "      <td>NaN</td>\n",
       "      <td>Gender Unknown</td>\n",
       "      <td>1931</td>\n",
       "      <td>Prints &amp; Illustrated Books</td>\n",
       "    </tr>\n",
       "    <tr>\n",
       "      <th>16724</th>\n",
       "      <td>Plate (page 11) from The Dive</td>\n",
       "      <td>Alex Katz</td>\n",
       "      <td>American</td>\n",
       "      <td>1927.0</td>\n",
       "      <td>NaN</td>\n",
       "      <td>Male</td>\n",
       "      <td>2011</td>\n",
       "      <td>Prints &amp; Illustrated Books</td>\n",
       "    </tr>\n",
       "  </tbody>\n",
       "</table>\n",
       "<p>16725 rows × 8 columns</p>\n",
       "</div>"
      ],
      "text/plain": [
       "                                                   Title              Artist   \n",
       "0                         Dress MacLeod from Tartan Sets  Sarah Charlesworth  \\\n",
       "1      Duplicate of plate from folio 11 verso (supple...     Pablo Palazuelo   \n",
       "2                       Tailpiece (page 55) from SAGESSE       Maurice Denis   \n",
       "3      Headpiece (page 129) from LIVRET DE FOLASTRIES...    Aristide Maillol   \n",
       "4                                          97 rue du Bac        Eugène Atget   \n",
       "...                                                  ...                 ...   \n",
       "16720                                   Oval with Points         Henry Moore   \n",
       "16721    Cementerio de la Ciudad Abierta, Ritoque, Chile         Juan Baixas   \n",
       "16722                                        The Catboat       Edward Hopper   \n",
       "16723  Dognat' i peregnat' v tekhniko-ekonomicheskom ...             Unknown   \n",
       "16724                      Plate (page 11) from The Dive           Alex Katz   \n",
       "\n",
       "               Nationality  BeginDate  EndDate          Gender  Date   \n",
       "0                 American     1947.0   2013.0          Female  1986  \\\n",
       "1                  Spanish     1916.0   2007.0            Male  1978   \n",
       "2                   French     1870.0   1943.0            Male  1900   \n",
       "3                   French     1861.0   1944.0            Male  1900   \n",
       "4                   French     1857.0   1927.0            Male  1903   \n",
       "...                    ...        ...      ...             ...   ...   \n",
       "16720              British     1898.0   1986.0            Male  1900   \n",
       "16721              Chilean     1942.0      NaN            Male  1975   \n",
       "16722             American     1882.0   1967.0            Male  1922   \n",
       "16723  Nationality Unknown        NaN      NaN  Gender Unknown  1931   \n",
       "16724             American     1927.0      NaN            Male  2011   \n",
       "\n",
       "                       Department  \n",
       "0      Prints & Illustrated Books  \n",
       "1      Prints & Illustrated Books  \n",
       "2      Prints & Illustrated Books  \n",
       "3      Prints & Illustrated Books  \n",
       "4                     Photography  \n",
       "...                           ...  \n",
       "16720        Painting & Sculpture  \n",
       "16721       Architecture & Design  \n",
       "16722  Prints & Illustrated Books  \n",
       "16723  Prints & Illustrated Books  \n",
       "16724  Prints & Illustrated Books  \n",
       "\n",
       "[16725 rows x 8 columns]"
      ]
     },
     "execution_count": 61,
     "metadata": {},
     "output_type": "execute_result"
    }
   ],
   "source": [
    "arts"
   ]
  },
  {
   "cell_type": "code",
   "execution_count": 62,
   "id": "37f67fce",
   "metadata": {},
   "outputs": [],
   "source": [
    "arts.to_csv(\"cleaned_modern_arts.csv\")"
   ]
  },
  {
   "cell_type": "code",
   "execution_count": null,
   "id": "ccca85b5",
   "metadata": {},
   "outputs": [],
   "source": []
  }
 ],
 "metadata": {
  "kernelspec": {
   "display_name": "Python 3 (ipykernel)",
   "language": "python",
   "name": "python3"
  },
  "language_info": {
   "codemirror_mode": {
    "name": "ipython",
    "version": 3
   },
   "file_extension": ".py",
   "mimetype": "text/x-python",
   "name": "python",
   "nbconvert_exporter": "python",
   "pygments_lexer": "ipython3",
   "version": "3.11.5"
  }
 },
 "nbformat": 4,
 "nbformat_minor": 5
}
