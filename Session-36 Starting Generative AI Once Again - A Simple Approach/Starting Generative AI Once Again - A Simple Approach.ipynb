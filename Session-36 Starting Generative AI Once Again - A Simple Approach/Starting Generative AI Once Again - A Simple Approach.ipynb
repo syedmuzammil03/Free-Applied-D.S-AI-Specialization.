{
 "cells": [
  {
   "cell_type": "code",
   "execution_count": 47,
   "id": "8c0cbd3c",
   "metadata": {},
   "outputs": [],
   "source": [
    "# .env\n",
    "\n",
    "from dotenv import load_dotenv\n",
    "import os\n",
    "from openai import OpenAI\n",
    "import tiktoken"
   ]
  },
  {
   "cell_type": "code",
   "execution_count": 2,
   "id": "c51c5d33",
   "metadata": {},
   "outputs": [
    {
     "data": {
      "text/plain": [
       "True"
      ]
     },
     "execution_count": 2,
     "metadata": {},
     "output_type": "execute_result"
    }
   ],
   "source": [
    "load_dotenv()"
   ]
  },
  {
   "cell_type": "code",
   "execution_count": null,
   "id": "7055890a",
   "metadata": {},
   "outputs": [],
   "source": [
    "# api_key=sk----------\n",
    "# model=\"gpt-3.5-turbo\""
   ]
  },
  {
   "cell_type": "code",
   "execution_count": 4,
   "id": "8dc6faec",
   "metadata": {},
   "outputs": [],
   "source": [
    "api_key = os.getenv(\"oapi_key\")\n",
    "model = os.getenv(\"model\")\n",
    "base_url = os.getenv(\"open_base_url\")"
   ]
  },
  {
   "cell_type": "code",
   "execution_count": 5,
   "id": "7d712550",
   "metadata": {},
   "outputs": [
    {
     "data": {
      "text/plain": [
       "'gpt-3.5-turbo'"
      ]
     },
     "execution_count": 5,
     "metadata": {},
     "output_type": "execute_result"
    }
   ],
   "source": [
    "model"
   ]
  },
  {
   "cell_type": "code",
   "execution_count": 6,
   "id": "f0d44727",
   "metadata": {},
   "outputs": [
    {
     "data": {
      "text/plain": [
       "'https://api.openai.com/v1'"
      ]
     },
     "execution_count": 6,
     "metadata": {},
     "output_type": "execute_result"
    }
   ],
   "source": [
    "base_url"
   ]
  },
  {
   "cell_type": "code",
   "execution_count": 8,
   "id": "cb2b27ac",
   "metadata": {},
   "outputs": [],
   "source": [
    "# client = OpenAI(api_key=api_key, base_url=base_url)\n",
    "\n",
    "client = OpenAI(api_key=api_key)\n",
    "client.base_url = base_url"
   ]
  },
  {
   "cell_type": "code",
   "execution_count": 9,
   "id": "565e03ff",
   "metadata": {},
   "outputs": [],
   "source": [
    "response = client.chat.completions.create(\n",
    "  model=model,\n",
    "  messages=[\n",
    "    {\"role\": \"system\", \"content\": \"You are an AI Expert.\"},\n",
    "    {\"role\": \"user\", \"content\": \"Please mention top 5 AI topics (name only)\"},\n",
    "    \n",
    "  ]\n",
    ")"
   ]
  },
  {
   "cell_type": "code",
   "execution_count": 10,
   "id": "596c636e",
   "metadata": {},
   "outputs": [
    {
     "data": {
      "text/plain": [
       "ChatCompletion(id='chatcmpl-8uiBiGsq2vom5rFAwbSeku40Y9y2D', choices=[Choice(finish_reason='stop', index=0, logprobs=None, message=ChatCompletionMessage(content='1. Machine Learning\\n2. Deep Learning\\n3. Natural Language Processing (NLP)\\n4. Computer Vision\\n5. Reinforcement Learning', role='assistant', function_call=None, tool_calls=None))], created=1708526918, model='gpt-3.5-turbo-0125', object='chat.completion', system_fingerprint='fp_cbdb91ce3f', usage=CompletionUsage(completion_tokens=29, prompt_tokens=28, total_tokens=57))"
      ]
     },
     "execution_count": 10,
     "metadata": {},
     "output_type": "execute_result"
    }
   ],
   "source": [
    "response"
   ]
  },
  {
   "cell_type": "code",
   "execution_count": 11,
   "id": "56dae0d5",
   "metadata": {},
   "outputs": [
    {
     "data": {
      "text/plain": [
       "[Choice(finish_reason='stop', index=0, logprobs=None, message=ChatCompletionMessage(content='1. Machine Learning\\n2. Deep Learning\\n3. Natural Language Processing (NLP)\\n4. Computer Vision\\n5. Reinforcement Learning', role='assistant', function_call=None, tool_calls=None))]"
      ]
     },
     "execution_count": 11,
     "metadata": {},
     "output_type": "execute_result"
    }
   ],
   "source": [
    "response.choices"
   ]
  },
  {
   "cell_type": "code",
   "execution_count": 12,
   "id": "b4b50873",
   "metadata": {},
   "outputs": [
    {
     "data": {
      "text/plain": [
       "Choice(finish_reason='stop', index=0, logprobs=None, message=ChatCompletionMessage(content='1. Machine Learning\\n2. Deep Learning\\n3. Natural Language Processing (NLP)\\n4. Computer Vision\\n5. Reinforcement Learning', role='assistant', function_call=None, tool_calls=None))"
      ]
     },
     "execution_count": 12,
     "metadata": {},
     "output_type": "execute_result"
    }
   ],
   "source": [
    "response.choices[0]"
   ]
  },
  {
   "cell_type": "code",
   "execution_count": 13,
   "id": "a7b1808c",
   "metadata": {},
   "outputs": [
    {
     "data": {
      "text/plain": [
       "ChatCompletionMessage(content='1. Machine Learning\\n2. Deep Learning\\n3. Natural Language Processing (NLP)\\n4. Computer Vision\\n5. Reinforcement Learning', role='assistant', function_call=None, tool_calls=None)"
      ]
     },
     "execution_count": 13,
     "metadata": {},
     "output_type": "execute_result"
    }
   ],
   "source": [
    "response.choices[0].message"
   ]
  },
  {
   "cell_type": "code",
   "execution_count": 15,
   "id": "4af6dfff",
   "metadata": {},
   "outputs": [
    {
     "name": "stdout",
     "output_type": "stream",
     "text": [
      "1. Machine Learning\n",
      "2. Deep Learning\n",
      "3. Natural Language Processing (NLP)\n",
      "4. Computer Vision\n",
      "5. Reinforcement Learning\n"
     ]
    }
   ],
   "source": [
    "print(response.choices[0].message.content)"
   ]
  },
  {
   "cell_type": "code",
   "execution_count": 16,
   "id": "2d330778",
   "metadata": {},
   "outputs": [],
   "source": [
    "response = client.chat.completions.create(\n",
    "  model=model,\n",
    "  messages=[\n",
    "    {\"role\": \"system\", \"content\": \"You are an AI Expert.\"},\n",
    "    {\"role\": \"user\", \"content\": \"Please mention top 5 AI topics (name only)\"}],\n",
    "    max_tokens=50,\n",
    "    temperature = 0.7)"
   ]
  },
  {
   "cell_type": "code",
   "execution_count": 17,
   "id": "ec566c69",
   "metadata": {},
   "outputs": [
    {
     "name": "stdout",
     "output_type": "stream",
     "text": [
      "1. Natural Language Processing (NLP)\n",
      "2. Computer Vision\n",
      "3. Reinforcement Learning\n",
      "4. Generative Adversarial Networks (GANs)\n",
      "5. Ethical AI\n"
     ]
    }
   ],
   "source": [
    "print(response.choices[0].message.content)"
   ]
  },
  {
   "cell_type": "code",
   "execution_count": 19,
   "id": "28259b58",
   "metadata": {},
   "outputs": [
    {
     "name": "stdout",
     "output_type": "stream",
     "text": [
      "1. Machine Learning\n",
      "2. Natural Language Processing\n",
      "3. Computer Vision\n",
      "4. Reinforcement Learning\n",
      "5. Generative Adversarial Networks\n"
     ]
    }
   ],
   "source": [
    "response = client.chat.completions.create(\n",
    "  model=model,\n",
    "  messages=[\n",
    "    {\"role\": \"system\", \"content\": \"You are an AI Expert.\"},\n",
    "    {\"role\": \"user\", \"content\": \"Please mention top 5 AI topics (name only)\"}],\n",
    "    max_tokens=50,\n",
    "    temperature = 0.9)\n",
    "\n",
    "print(response.choices[0].message.content)"
   ]
  },
  {
   "cell_type": "code",
   "execution_count": 20,
   "id": "d05f70a6",
   "metadata": {},
   "outputs": [
    {
     "name": "stdout",
     "output_type": "stream",
     "text": [
      "1. Machine Learning\n",
      "2. Natural Language Processing\n",
      "3. Computer Vision\n",
      "4. Reinforcement Learning\n",
      "5. Generative Adversarial Networks\n"
     ]
    }
   ],
   "source": [
    "response = client.chat.completions.create(\n",
    "  model=model,\n",
    "  messages=[\n",
    "    {\"role\": \"system\", \"content\": \"You are an AI Expert.\"},\n",
    "    {\"role\": \"user\", \"content\": \"Please mention top 5 AI topics (name only)\"}],\n",
    "    max_tokens=50,\n",
    "    temperature = 0)\n",
    "\n",
    "print(response.choices[0].message.content)"
   ]
  },
  {
   "cell_type": "code",
   "execution_count": 26,
   "id": "52ff8145",
   "metadata": {},
   "outputs": [],
   "source": [
    "class Bot:\n",
    "    def __init__(self,api_key, base_url = base_url, model = model):\n",
    "        \n",
    "        self.client = OpenAI(api_key=api_key)\n",
    "        self.client.base_url = base_url\n",
    "        self.model = model\n",
    "        \n",
    "    def chat_completion(self, prompt, max_tokens = 500, temperature = 0.7):\n",
    "        \n",
    "        messages=[\n",
    "        {\"role\": \"system\", \"content\": \"You are an AI Expert.\"},\n",
    "        {\"role\": \"user\", \"content\": prompt}]\n",
    "        \n",
    "        response = client.chat.completions.create(model=model,\n",
    "                                                  messages= messages,\n",
    "                                                  max_tokens=max_tokens,\n",
    "                                                  temperature = temperature)\n",
    "        ai_response = response.choices[0].message.content\n",
    "        return ai_response"
   ]
  },
  {
   "cell_type": "code",
   "execution_count": 27,
   "id": "7d817551",
   "metadata": {},
   "outputs": [],
   "source": [
    "biz_bot = Bot(api_key = api_key)"
   ]
  },
  {
   "cell_type": "code",
   "execution_count": 28,
   "id": "5ea0d790",
   "metadata": {},
   "outputs": [],
   "source": [
    "ai_response = biz_bot.chat_completion(prompt = \"Please mention top 5 AI topics (name only)\")"
   ]
  },
  {
   "cell_type": "code",
   "execution_count": 30,
   "id": "e2365a81",
   "metadata": {},
   "outputs": [
    {
     "name": "stdout",
     "output_type": "stream",
     "text": [
      "1. Machine Learning\n",
      "2. Natural Language Processing\n",
      "3. Computer Vision\n",
      "4. Reinforcement Learning\n",
      "5. Neural Networks\n"
     ]
    }
   ],
   "source": [
    "print(ai_response)"
   ]
  },
  {
   "cell_type": "code",
   "execution_count": 31,
   "id": "0d1bdd0f",
   "metadata": {},
   "outputs": [],
   "source": [
    "class Bot:\n",
    "    def __init__(self,api_key, base_url = base_url, model = model,\n",
    "                system_message = \"You are an AI Expert.\"):\n",
    "        \n",
    "        self.client = OpenAI(api_key=api_key)\n",
    "        self.client.base_url = base_url\n",
    "        self.model = model\n",
    "        self.system_message = system_message\n",
    "        \n",
    "    def chat_completion(self, prompt, max_tokens = 500, temperature = 0.7):\n",
    "        \n",
    "        messages=[\n",
    "        {\"role\": \"system\", \"content\": self.system_message},\n",
    "        {\"role\": \"user\", \"content\": prompt}]\n",
    "        \n",
    "        response = client.chat.completions.create(model=model,\n",
    "                                                  messages= messages,\n",
    "                                                  max_tokens=max_tokens,\n",
    "                                                  temperature = temperature)\n",
    "        ai_response = response.choices[0].message.content\n",
    "        return ai_response"
   ]
  },
  {
   "cell_type": "code",
   "execution_count": 33,
   "id": "6916ebc6",
   "metadata": {},
   "outputs": [
    {
     "name": "stdout",
     "output_type": "stream",
     "text": [
      "Sure! Here are four fundamental marketing concepts that are important to understand:\n",
      "\n",
      "1. Target Market: Identifying and understanding your target market is crucial in marketing. This involves knowing who your ideal customers are, their demographics, behaviors, needs, and preferences. By focusing your marketing efforts on the right target market, you can create more effective campaigns and messaging that resonate with your audience.\n",
      "\n",
      "2. Branding: Building a strong brand is essential for creating a distinct identity for your business and products/services. Your brand encompasses your company's values, mission, personality, and visuals. Consistent branding helps customers recognize and remember your business, fostering trust and loyalty.\n",
      "\n",
      "3. Marketing Mix: The marketing mix is a set of tools and tactics that businesses use to promote their products or services. It includes the 4Ps: Product, Price, Place, and Promotion. By strategically adjusting these elements based on market conditions and consumer preferences, businesses can create a compelling offering that meets customer needs and drives sales.\n",
      "\n",
      "4. Customer Relationship Management (CRM): CRM is a strategy that focuses on building and maintaining long-term relationships with customers. By understanding customer needs, preferences, and behaviors, businesses can personalize their marketing efforts, provide better customer service, and increase customer loyalty. CRM tools and techniques help businesses track customer interactions, analyze data, and improve customer satisfaction.\n"
     ]
    }
   ],
   "source": [
    "biz_bot = Bot(api_key = api_key, system_message= \"You are a Marketing Agent\")\n",
    "\n",
    "ai_response = biz_bot.chat_completion(prompt = \"Please advise me 4 marketing concepts\")\n",
    "\n",
    "print(ai_response)"
   ]
  },
  {
   "cell_type": "code",
   "execution_count": 37,
   "id": "48a8b6c1",
   "metadata": {},
   "outputs": [],
   "source": [
    "class Bot:\n",
    "    def __init__(self,api_key, base_url = base_url, model = model,\n",
    "                system_message = \"You are an AI Expert.\"):\n",
    "        \n",
    "        self.client = OpenAI(api_key=api_key)\n",
    "        self.client.base_url = base_url\n",
    "        self.model = model\n",
    "        self.system_message = system_message\n",
    "        self.conversation_history = [{\"role\": \"system\", \n",
    "                                      \"content\": self.system_message}]\n",
    "        \n",
    "    def chat_completion(self, prompt, max_tokens = 500, temperature = 0.7):\n",
    "        \n",
    "        self.conversation_history.append({\"role\": \"user\", \n",
    "                                          \"content\": prompt})\n",
    "        \n",
    "        \n",
    "        response = client.chat.completions.create(model=model,\n",
    "                                                  messages= self.conversation_history,\n",
    "                                                  max_tokens=max_tokens,\n",
    "                                                  temperature = temperature)\n",
    "        ai_response = response.choices[0].message.content\n",
    "        \n",
    "        self.conversation_history.append({\"role\": \"assistant\", \"content\": ai_response})\n",
    "        \n",
    "        return ai_response"
   ]
  },
  {
   "cell_type": "code",
   "execution_count": 41,
   "id": "e1991ed6",
   "metadata": {},
   "outputs": [],
   "source": [
    "biz_bot = Bot(api_key = api_key, system_message= \"You are a Marketing Agent\")\n",
    "\n",
    "ai_response = biz_bot.chat_completion(prompt = \"Please advise me 4 marketing concepts\")\n"
   ]
  },
  {
   "cell_type": "code",
   "execution_count": 42,
   "id": "5bb3d8b3",
   "metadata": {},
   "outputs": [
    {
     "name": "stdout",
     "output_type": "stream",
     "text": [
      "[{'role': 'system', 'content': 'You are a Marketing Agent'}, {'role': 'user', 'content': 'Please advise me 4 marketing concepts'}, {'role': 'assistant', 'content': \"1. Target Market: Identifying and understanding your target market is crucial for effective marketing. By knowing who your customers are, their needs, preferences, and behaviors, you can tailor your marketing strategies to reach and engage with them more effectively.\\n\\n2. Marketing Mix: The marketing mix consists of the 4 Ps - product, price, place, and promotion. Developing a comprehensive marketing mix strategy involves aligning these elements to meet the needs of your target market and achieve your business objectives.\\n\\n3. Branding: Building a strong brand identity is essential for creating differentiation in the market and fostering customer loyalty. Your brand represents your company's values, personality, and reputation, and should be consistently communicated across all marketing channels.\\n\\n4. Customer Relationship Management (CRM): Building and maintaining strong relationships with customers is key to long-term business success. Implementing a CRM strategy helps businesses track customer interactions, personalize marketing efforts, and ultimately drive customer satisfaction and loyalty.\"}]\n"
     ]
    }
   ],
   "source": [
    "print(biz_bot.conversation_history)"
   ]
  },
  {
   "cell_type": "code",
   "execution_count": 44,
   "id": "f36b9506",
   "metadata": {},
   "outputs": [],
   "source": [
    "ai_response1 = biz_bot.chat_completion(prompt = \"Please tell me more about marketing tolls in few words\")"
   ]
  },
  {
   "cell_type": "code",
   "execution_count": 45,
   "id": "e8c99055",
   "metadata": {},
   "outputs": [
    {
     "name": "stdout",
     "output_type": "stream",
     "text": [
      "Marketing tools are resources and software that help businesses execute and manage their marketing strategies. They include tools for market research, social media management, email marketing, content creation, analytics, and more. Using the right marketing tools can streamline processes, improve efficiency, and drive better results for your marketing campaigns.\n"
     ]
    }
   ],
   "source": [
    "print(ai_response1)"
   ]
  },
  {
   "cell_type": "code",
   "execution_count": 46,
   "id": "b6ab5011",
   "metadata": {},
   "outputs": [
    {
     "name": "stdout",
     "output_type": "stream",
     "text": [
      "[{'role': 'system', 'content': 'You are a Marketing Agent'}, {'role': 'user', 'content': 'Please advise me 4 marketing concepts'}, {'role': 'assistant', 'content': \"1. Target Market: Identifying and understanding your target market is crucial for effective marketing. By knowing who your customers are, their needs, preferences, and behaviors, you can tailor your marketing strategies to reach and engage with them more effectively.\\n\\n2. Marketing Mix: The marketing mix consists of the 4 Ps - product, price, place, and promotion. Developing a comprehensive marketing mix strategy involves aligning these elements to meet the needs of your target market and achieve your business objectives.\\n\\n3. Branding: Building a strong brand identity is essential for creating differentiation in the market and fostering customer loyalty. Your brand represents your company's values, personality, and reputation, and should be consistently communicated across all marketing channels.\\n\\n4. Customer Relationship Management (CRM): Building and maintaining strong relationships with customers is key to long-term business success. Implementing a CRM strategy helps businesses track customer interactions, personalize marketing efforts, and ultimately drive customer satisfaction and loyalty.\"}, {'role': 'user', 'content': 'Please tell me more about marketing tolls in few words'}, {'role': 'user', 'content': 'Please tell me more about marketing tolls in few words'}, {'role': 'assistant', 'content': 'Marketing tools are resources and software that help businesses execute and manage their marketing strategies. They include tools for market research, social media management, email marketing, content creation, analytics, and more. Using the right marketing tools can streamline processes, improve efficiency, and drive better results for your marketing campaigns.'}]\n"
     ]
    }
   ],
   "source": [
    "print(biz_bot.conversation_history)"
   ]
  },
  {
   "cell_type": "code",
   "execution_count": 50,
   "id": "27a7fd6e",
   "metadata": {},
   "outputs": [],
   "source": [
    "encoding = tiktoken.encoding_for_model(model)\n",
    "tokens = encoding.encode(\"Please tell me more about marketing tolls in few words\")"
   ]
  },
  {
   "cell_type": "code",
   "execution_count": 51,
   "id": "82af18a6",
   "metadata": {},
   "outputs": [
    {
     "data": {
      "text/plain": [
       "[5618, 3371, 757, 810, 922, 8661, 26936, 82, 304, 2478, 4339]"
      ]
     },
     "execution_count": 51,
     "metadata": {},
     "output_type": "execute_result"
    }
   ],
   "source": [
    "tokens"
   ]
  },
  {
   "cell_type": "code",
   "execution_count": 52,
   "id": "5ad93a74",
   "metadata": {},
   "outputs": [
    {
     "data": {
      "text/plain": [
       "11"
      ]
     },
     "execution_count": 52,
     "metadata": {},
     "output_type": "execute_result"
    }
   ],
   "source": [
    "len(tokens)"
   ]
  },
  {
   "cell_type": "code",
   "execution_count": 53,
   "id": "481c8a35",
   "metadata": {},
   "outputs": [
    {
     "data": {
      "text/plain": [
       "[{'role': 'system', 'content': 'You are a Marketing Agent'},\n",
       " {'role': 'user', 'content': 'Please advise me 4 marketing concepts'},\n",
       " {'role': 'assistant',\n",
       "  'content': \"1. Target Market: Identifying and understanding your target market is crucial for effective marketing. By knowing who your customers are, their needs, preferences, and behaviors, you can tailor your marketing strategies to reach and engage with them more effectively.\\n\\n2. Marketing Mix: The marketing mix consists of the 4 Ps - product, price, place, and promotion. Developing a comprehensive marketing mix strategy involves aligning these elements to meet the needs of your target market and achieve your business objectives.\\n\\n3. Branding: Building a strong brand identity is essential for creating differentiation in the market and fostering customer loyalty. Your brand represents your company's values, personality, and reputation, and should be consistently communicated across all marketing channels.\\n\\n4. Customer Relationship Management (CRM): Building and maintaining strong relationships with customers is key to long-term business success. Implementing a CRM strategy helps businesses track customer interactions, personalize marketing efforts, and ultimately drive customer satisfaction and loyalty.\"},\n",
       " {'role': 'user',\n",
       "  'content': 'Please tell me more about marketing tolls in few words'},\n",
       " {'role': 'user',\n",
       "  'content': 'Please tell me more about marketing tolls in few words'},\n",
       " {'role': 'assistant',\n",
       "  'content': 'Marketing tools are resources and software that help businesses execute and manage their marketing strategies. They include tools for market research, social media management, email marketing, content creation, analytics, and more. Using the right marketing tools can streamline processes, improve efficiency, and drive better results for your marketing campaigns.'}]"
      ]
     },
     "execution_count": 53,
     "metadata": {},
     "output_type": "execute_result"
    }
   ],
   "source": [
    "biz_bot.conversation_history"
   ]
  },
  {
   "cell_type": "code",
   "execution_count": 54,
   "id": "4c230fd9",
   "metadata": {},
   "outputs": [
    {
     "name": "stdout",
     "output_type": "stream",
     "text": [
      "You are a Marketing Agent\n",
      "Please advise me 4 marketing concepts\n",
      "1. Target Market: Identifying and understanding your target market is crucial for effective marketing. By knowing who your customers are, their needs, preferences, and behaviors, you can tailor your marketing strategies to reach and engage with them more effectively.\n",
      "\n",
      "2. Marketing Mix: The marketing mix consists of the 4 Ps - product, price, place, and promotion. Developing a comprehensive marketing mix strategy involves aligning these elements to meet the needs of your target market and achieve your business objectives.\n",
      "\n",
      "3. Branding: Building a strong brand identity is essential for creating differentiation in the market and fostering customer loyalty. Your brand represents your company's values, personality, and reputation, and should be consistently communicated across all marketing channels.\n",
      "\n",
      "4. Customer Relationship Management (CRM): Building and maintaining strong relationships with customers is key to long-term business success. Implementing a CRM strategy helps businesses track customer interactions, personalize marketing efforts, and ultimately drive customer satisfaction and loyalty.\n",
      "Please tell me more about marketing tolls in few words\n",
      "Please tell me more about marketing tolls in few words\n",
      "Marketing tools are resources and software that help businesses execute and manage their marketing strategies. They include tools for market research, social media management, email marketing, content creation, analytics, and more. Using the right marketing tools can streamline processes, improve efficiency, and drive better results for your marketing campaigns.\n"
     ]
    }
   ],
   "source": [
    "for dictionary in biz_bot.conversation_history:\n",
    "    print(dictionary[\"content\"])"
   ]
  },
  {
   "cell_type": "code",
   "execution_count": 55,
   "id": "7e1a68e1",
   "metadata": {},
   "outputs": [],
   "source": [
    "ttusd = 0\n",
    "\n",
    "for dictionary in biz_bot.conversation_history:\n",
    "    text = dictionary[\"content\"]\n",
    "    tokens = encoding.encode(text)\n",
    "    total_tokens = len(tokens)\n",
    "    ttusd += total_tokens"
   ]
  },
  {
   "cell_type": "code",
   "execution_count": 56,
   "id": "64c32735",
   "metadata": {},
   "outputs": [
    {
     "data": {
      "text/plain": [
       "282"
      ]
     },
     "execution_count": 56,
     "metadata": {},
     "output_type": "execute_result"
    }
   ],
   "source": [
    "ttusd"
   ]
  },
  {
   "cell_type": "code",
   "execution_count": 57,
   "id": "28cbef18",
   "metadata": {},
   "outputs": [],
   "source": [
    "class Bot:\n",
    "    def __init__(self,api_key, base_url = base_url, model = model,\n",
    "                system_message = \"You are an AI Expert.\"):\n",
    "        \n",
    "        self.client = OpenAI(api_key=api_key)\n",
    "        self.client.base_url = base_url\n",
    "        self.model = model\n",
    "        self.system_message = system_message\n",
    "        self.conversation_history = [{\"role\": \"system\", \n",
    "                                      \"content\": self.system_message}]\n",
    "    def count_tokens(self, text):\n",
    "        try:\n",
    "            encoding = tiktoken.encoding_for_model(self.model)\n",
    "        except KeyError:\n",
    "            encoding = tiktoken.encoding_for_model(\"cl100k_base\")\n",
    "        \n",
    "        tokens = encoding.encode(text) # list\n",
    "        \n",
    "        return len(tokens)\n",
    "        \n",
    "    def total_tokens_count(self):\n",
    "        ttusd = 0\n",
    "        for dictionary in self.conversation_history:\n",
    "            text = dictionary[\"content\"]\n",
    "#             tokens = encoding.encode(text)\n",
    "#             total_tokens = len(tokens)\n",
    "            total_tokens = self.count_tokens(text)\n",
    "            ttusd += total_tokens\n",
    "        return ttusd\n",
    "        \n",
    "        \n",
    "    def chat_completion(self, prompt, max_tokens = 500, temperature = 0.7):\n",
    "        \n",
    "        self.conversation_history.append({\"role\": \"user\", \n",
    "                                          \"content\": prompt})\n",
    "        \n",
    "        \n",
    "        response = client.chat.completions.create(model=model,\n",
    "                                                  messages= self.conversation_history,\n",
    "                                                  max_tokens=max_tokens,\n",
    "                                                  temperature = temperature)\n",
    "        ai_response = response.choices[0].message.content\n",
    "        \n",
    "        self.conversation_history.append({\"role\": \"assistant\", \"content\": ai_response})\n",
    "        \n",
    "        return ai_response"
   ]
  },
  {
   "cell_type": "code",
   "execution_count": 59,
   "id": "192d4425",
   "metadata": {},
   "outputs": [],
   "source": [
    "biz_bot = Bot(api_key = api_key, system_message= \"You are a Marketing Agent\")\n",
    "\n",
    "ai_response = biz_bot.chat_completion(prompt = \"Please advise me 4 marketing concepts in few words\")\n",
    "ai_response1 = biz_bot.chat_completion(prompt = \"Please tell me more about marketing tolls in few words\")"
   ]
  },
  {
   "cell_type": "code",
   "execution_count": 60,
   "id": "73af8079",
   "metadata": {},
   "outputs": [
    {
     "data": {
      "text/plain": [
       "[{'role': 'system', 'content': 'You are a Marketing Agent'},\n",
       " {'role': 'user',\n",
       "  'content': 'Please advise me 4 marketing concepts in few words'},\n",
       " {'role': 'assistant',\n",
       "  'content': '1. Target Audience: Identifying and focusing on the specific group of customers most likely to be interested in your product or service.\\n2. Branding: Creating a cohesive and memorable image for your company that sets you apart from competitors.\\n3. Content Marketing: Providing valuable and relevant content to attract and engage customers, rather than directly promoting products.\\n4. Customer Relationship Management (CRM): Building and maintaining strong relationships with customers to increase loyalty and retention.'},\n",
       " {'role': 'user',\n",
       "  'content': 'Please tell me more about marketing tolls in few words'},\n",
       " {'role': 'assistant',\n",
       "  'content': 'Marketing tools help businesses reach and engage with their target audience, analyze data to make informed decisions, and automate and streamline marketing processes. Examples include social media management platforms, email marketing software, analytics tools, and customer relationship management (CRM) systems.'}]"
      ]
     },
     "execution_count": 60,
     "metadata": {},
     "output_type": "execute_result"
    }
   ],
   "source": [
    "biz_bot.conversation_history"
   ]
  },
  {
   "cell_type": "code",
   "execution_count": 61,
   "id": "067a127e",
   "metadata": {},
   "outputs": [
    {
     "data": {
      "text/plain": [
       "165"
      ]
     },
     "execution_count": 61,
     "metadata": {},
     "output_type": "execute_result"
    }
   ],
   "source": [
    "biz_bot.total_tokens_count()"
   ]
  },
  {
   "cell_type": "code",
   "execution_count": 62,
   "id": "3e01c412",
   "metadata": {},
   "outputs": [],
   "source": [
    "class Bot:\n",
    "    def __init__(self,api_key, base_url = base_url, model = model,\n",
    "                system_message = \"You are an AI Expert.\",\n",
    "                token_budget = 4096):\n",
    "        \n",
    "        self.client = OpenAI(api_key=api_key)\n",
    "        self.client.base_url = base_url\n",
    "        self.model = model\n",
    "        self.token_budget = total_tokens\n",
    "        self.system_message = system_message\n",
    "        self.conversation_history = [{\"role\": \"system\", \n",
    "                                      \"content\": self.system_message}]\n",
    "    def count_tokens(self, text):\n",
    "        try:\n",
    "            encoding = tiktoken.encoding_for_model(self.model)\n",
    "        except KeyError:\n",
    "            encoding = tiktoken.encoding_for_model(\"cl100k_base\")\n",
    "        \n",
    "        tokens = encoding.encode(text) # list\n",
    "        \n",
    "        return len(tokens)\n",
    "        \n",
    "    def total_tokens_count(self):\n",
    "        ttusd = 0\n",
    "        for dictionary in self.conversation_history:\n",
    "            text = dictionary[\"content\"]\n",
    "#             tokens = encoding.encode(text)\n",
    "#             total_tokens = len(tokens)\n",
    "            total_tokens = self.count_tokens(text)\n",
    "            ttusd += total_tokens\n",
    "        return ttusd\n",
    "    \n",
    "    def enforce_token_budget(self):\n",
    "        while self.total_tokens_count()>=self.token_budget:\n",
    "            if len(self.conversation_history) <= 1:\n",
    "                break\n",
    "            \n",
    "            self.conversation_history.pop(1) # length 2\n",
    "        \n",
    "        \n",
    "    def chat_completion(self, prompt, max_tokens = 500, temperature = 0.7):\n",
    "        \n",
    "        self.conversation_history.append({\"role\": \"user\", \n",
    "                                          \"content\": prompt})\n",
    "        self.enforce_token_budget()\n",
    "        \n",
    "        \n",
    "        response = client.chat.completions.create(model=model,\n",
    "                                                  messages= self.conversation_history,\n",
    "                                                  max_tokens=max_tokens,\n",
    "                                                  temperature = temperature)\n",
    "        ai_response = response.choices[0].message.content\n",
    "        \n",
    "        self.conversation_history.append({\"role\": \"assistant\", \"content\": ai_response})\n",
    "        \n",
    "        return ai_response"
   ]
  },
  {
   "cell_type": "code",
   "execution_count": 63,
   "id": "6b3ce004",
   "metadata": {},
   "outputs": [],
   "source": [
    "biz_bot = Bot(api_key = api_key, system_message= \"You are a Marketing Agent\",token_budget=100)\n",
    "\n",
    "ai_response = biz_bot.chat_completion(prompt = \"Please advise me 4 marketing concepts in few words\")\n",
    "ai_response1 = biz_bot.chat_completion(prompt = \"Please tell me more about marketing tolls in few words\")"
   ]
  },
  {
   "cell_type": "code",
   "execution_count": 64,
   "id": "5d783da1",
   "metadata": {},
   "outputs": [
    {
     "data": {
      "text/plain": [
       "[{'role': 'system', 'content': 'You are a Marketing Agent'},\n",
       " {'role': 'user',\n",
       "  'content': 'Please tell me more about marketing tolls in few words'},\n",
       " {'role': 'assistant',\n",
       "  'content': 'Marketing tools are software or platforms that help businesses to execute, track, and analyze their marketing efforts. They can include email marketing software, social media management tools, analytics platforms, SEO tools, and more. These tools are essential for businesses to reach their target audience, engage with customers, and measure the success of their marketing campaigns.'}]"
      ]
     },
     "execution_count": 64,
     "metadata": {},
     "output_type": "execute_result"
    }
   ],
   "source": [
    "biz_bot.conversation_history"
   ]
  },
  {
   "cell_type": "code",
   "execution_count": 65,
   "id": "ca6b8b25",
   "metadata": {},
   "outputs": [],
   "source": [
    "ai_response2 = biz_bot.chat_completion(prompt = \"Please tell me marketing strategy in 4 lines\")"
   ]
  },
  {
   "cell_type": "code",
   "execution_count": 67,
   "id": "2b9b2439",
   "metadata": {},
   "outputs": [
    {
     "name": "stdout",
     "output_type": "stream",
     "text": [
      "Identify your target audience, understand their needs,\n",
      "Create a compelling message that resonates with them,\n",
      "Choose the right channels to reach your audience,\n",
      "Measure and analyze the results to optimize your strategy.\n"
     ]
    }
   ],
   "source": [
    "print(ai_response2 )"
   ]
  },
  {
   "cell_type": "code",
   "execution_count": 68,
   "id": "13edc0c3",
   "metadata": {},
   "outputs": [
    {
     "data": {
      "text/plain": [
       "[{'role': 'system', 'content': 'You are a Marketing Agent'},\n",
       " {'role': 'user', 'content': 'Please tell me marketing strategy in 4 lines'},\n",
       " {'role': 'assistant',\n",
       "  'content': 'Identify your target audience, understand their needs,\\nCreate a compelling message that resonates with them,\\nChoose the right channels to reach your audience,\\nMeasure and analyze the results to optimize your strategy.'}]"
      ]
     },
     "execution_count": 68,
     "metadata": {},
     "output_type": "execute_result"
    }
   ],
   "source": [
    "biz_bot.conversation_history"
   ]
  },
  {
   "cell_type": "code",
   "execution_count": null,
   "id": "2b845ca7",
   "metadata": {},
   "outputs": [],
   "source": []
  }
 ],
 "metadata": {
  "kernelspec": {
   "display_name": "Python 3 (ipykernel)",
   "language": "python",
   "name": "python3"
  },
  "language_info": {
   "codemirror_mode": {
    "name": "ipython",
    "version": 3
   },
   "file_extension": ".py",
   "mimetype": "text/x-python",
   "name": "python",
   "nbconvert_exporter": "python",
   "pygments_lexer": "ipython3",
   "version": "3.11.5"
  }
 },
 "nbformat": 4,
 "nbformat_minor": 5
}
