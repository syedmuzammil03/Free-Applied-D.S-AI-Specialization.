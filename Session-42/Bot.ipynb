{
 "cells": [
  {
   "cell_type": "code",
   "execution_count": 5,
   "id": "0f3c3138",
   "metadata": {},
   "outputs": [
    {
     "name": "stdout",
     "output_type": "stream",
     "text": [
      "Overwriting ai.py\n"
     ]
    }
   ],
   "source": [
    "%%writefile ai.py\n",
    "\n",
    "import streamlit as st\n",
    "\n",
    "st.image(\"DS.png\")\n",
    "st.title(\"AI Advisor Bot :robot_face:\")\n",
    "\n",
    "with st.chat_message(\"ai\"):\n",
    "    st.write(\"How May I advice you today?\")\n",
    "    \n",
    "with st.chat_message(\"user\"):\n",
    "    st.write(\"Thank you for the asking\")"
   ]
  },
  {
   "cell_type": "code",
   "execution_count": 9,
   "id": "984150ab",
   "metadata": {},
   "outputs": [
    {
     "name": "stdout",
     "output_type": "stream",
     "text": [
      "Overwriting ai.py\n"
     ]
    }
   ],
   "source": [
    "%%writefile ai.py\n",
    "\n",
    "import streamlit as st\n",
    "\n",
    "st.image(\"DS.png\")\n",
    "st.title(\"AI Advisor Bot :robot_face:\")\n",
    "\n",
    "with st.chat_message(\"ai\"):\n",
    "    st.write(\"How May I advice you today?\")\n",
    "    \n",
    "    \n",
    "user_input = st.chat_input(\"Please write your query\")\n",
    "\n",
    "with st.chat_message(\"user\"):\n",
    "    st.write(user_input)"
   ]
  },
  {
   "cell_type": "code",
   "execution_count": 15,
   "id": "ad096953",
   "metadata": {},
   "outputs": [
    {
     "name": "stdout",
     "output_type": "stream",
     "text": [
      "Overwriting ai.py\n"
     ]
    }
   ],
   "source": [
    "%%writefile ai.py\n",
    "\n",
    "import streamlit as st\n",
    "\n",
    "st.image(\"DS.png\")\n",
    "st.title(\"AI Advisor Bot :robot_face:\")\n",
    "\n",
    "with st.chat_message(\"ai\"):\n",
    "    st.write(\"How May I advice you today?\")\n",
    "    \n",
    "    \n",
    "user_input = st.chat_input(\"Please write your query\")\n",
    "\n",
    "\n",
    "if \"user_inpur\" not in st.session_state: # dictionary\n",
    "    st.session_state[\"user_inpur\"] = user_input \n",
    "\n",
    "if user_input is not None:\n",
    "    with st.chat_message(\"user\"):\n",
    "        st.write(user_input)"
   ]
  },
  {
   "cell_type": "code",
   "execution_count": 17,
   "id": "580f7bc5",
   "metadata": {},
   "outputs": [
    {
     "name": "stdout",
     "output_type": "stream",
     "text": [
      "Overwriting ai.py\n"
     ]
    }
   ],
   "source": [
    "%%writefile ai.py\n",
    "\n",
    "import streamlit as st\n",
    "\n",
    "st.image(\"DS.png\")\n",
    "st.title(\"AI Advisor Bot :robot_face:\")\n",
    "\n",
    "with st.chat_message(\"ai\"):\n",
    "    st.write(\"How May I advice you today?\")\n",
    "    \n",
    "    \n",
    "user_input = st.chat_input(\"Please write your query\")\n",
    "\n",
    "if \"conversatio_history\" not in st.session_state:\n",
    "    st.session_state[\"conversatio_history\"] = []\n",
    "\n",
    "conv_histroy = st.session_state[\"conversatio_history\"]\n",
    "\n",
    "if user_input is not None:\n",
    "    conv_histroy.append(user_input)\n",
    "\n",
    "for message in conv_histroy: # list\n",
    "    with st.chat_message(\"user\"):\n",
    "        st.write(message)"
   ]
  },
  {
   "cell_type": "code",
   "execution_count": 23,
   "id": "250f269f",
   "metadata": {},
   "outputs": [
    {
     "name": "stdout",
     "output_type": "stream",
     "text": [
      "Overwriting ai.py\n"
     ]
    }
   ],
   "source": [
    "%%writefile ai.py\n",
    "\n",
    "import streamlit as st\n",
    "from openai import OpenAI\n",
    "import os\n",
    "from dotenv import load_dotenv\n",
    "\n",
    "load_dotenv()\n",
    "\n",
    "api_key = os.getenv(\"oapi_key\")\n",
    "\n",
    "client = OpenAI(api_key = api_key)\n",
    "\n",
    "st.image(\"DS.png\")\n",
    "st.title(\"AI Advisor Bot :robot_face:\")\n",
    "\n",
    "with st.chat_message(\"ai\"):\n",
    "    st.write(\"How May I advice you today?\")\n",
    "    \n",
    "    \n",
    "user_input = st.chat_input(\"Please write your query\")\n",
    "\n",
    "if \"conversatio_history\" not in st.session_state:\n",
    "    st.session_state[\"conversatio_history\"] = []\n",
    "\n",
    "conv_histroy = st.session_state[\"conversatio_history\"]\n",
    "\n",
    "if user_input is not None:\n",
    "    conv_histroy.append({\"sender\":\"user\", \"message\": user_input})\n",
    "    response = client.chat.completions.create(model = \"gpt-3.5-turbo\", messages = [{\"role\":\"user\", \"content\":user_input}])\n",
    "    ai_response = response.choices[0].message.content\n",
    "    conv_histroy.append({\"sender\":\"ai\", \"message\":ai_response})\n",
    "\n",
    "for d in conv_histroy: # list of dictionary\n",
    "    with st.chat_message(d[\"sender\"]):\n",
    "        st.write(d[\"message\"])\n",
    "        \n",
    "if st.sidebar.button(\"clear history\"):\n",
    "    st.session_state[\"conversatio_history\"] = []\n",
    "\n",
    "def reset():\n",
    "    return st.session_state[\"conversatio_history\"] = []\n",
    "    \n",
    "    \n",
    "st.sidebar.button(\"clear history\", on_click= reset):\n"
   ]
  },
  {
   "cell_type": "code",
   "execution_count": 24,
   "id": "23169ee9",
   "metadata": {},
   "outputs": [
    {
     "name": "stdout",
     "output_type": "stream",
     "text": [
      "^C\n"
     ]
    }
   ],
   "source": [
    "!streamlit run ai.py"
   ]
  },
  {
   "cell_type": "code",
   "execution_count": null,
   "id": "090cb460",
   "metadata": {},
   "outputs": [],
   "source": []
  }
 ],
 "metadata": {
  "kernelspec": {
   "display_name": "Python 3 (ipykernel)",
   "language": "python",
   "name": "python3"
  },
  "language_info": {
   "codemirror_mode": {
    "name": "ipython",
    "version": 3
   },
   "file_extension": ".py",
   "mimetype": "text/x-python",
   "name": "python",
   "nbconvert_exporter": "python",
   "pygments_lexer": "ipython3",
   "version": "3.11.5"
  }
 },
 "nbformat": 4,
 "nbformat_minor": 5
}
