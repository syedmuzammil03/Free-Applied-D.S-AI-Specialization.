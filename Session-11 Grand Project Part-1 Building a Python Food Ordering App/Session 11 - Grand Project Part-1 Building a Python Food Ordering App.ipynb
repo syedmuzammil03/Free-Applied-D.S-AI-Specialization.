{
 "cells": [
  {
   "cell_type": "code",
   "execution_count": 1,
   "id": "056e7502",
   "metadata": {},
   "outputs": [
    {
     "name": "stdout",
     "output_type": "stream",
     "text": [
      "Please give some number: 1\n"
     ]
    },
    {
     "data": {
      "text/plain": [
       "str"
      ]
     },
     "execution_count": 1,
     "metadata": {},
     "output_type": "execute_result"
    }
   ],
   "source": [
    "type(input(\"Please give some number: \"))"
   ]
  },
  {
   "cell_type": "code",
   "execution_count": 37,
   "id": "21ad8aa7",
   "metadata": {},
   "outputs": [],
   "source": [
    "rest_name = \"Buddies Inn\"\n",
    "\n",
    "menu = menu = {\n",
    "    'SKU1': {'name': 'Burger', 'price': 5.99},\n",
    "    'SKU2': {'name': 'Pizza', 'price': 8.99},\n",
    "    'SKU3': {'name': 'Pasta', 'price': 7.49},\n",
    "    'SKU4': {'name': 'Salad', 'price': 4.99},\n",
    "    'SKU5': {'name': 'Steak', 'price': 12.99},\n",
    "    'SKU6': {'name': 'Sushi', 'price': 10.49},\n",
    "    'SKU7': {'name': 'Chicken Wings', 'price': 6.99},\n",
    "    'SKU8': {'name': 'Sandwich', 'price': 4.49},\n",
    "    'SKU9': {'name': 'Tacos', 'price': 5.49},\n",
    "    'SKU10': {'name': 'Ice Cream', 'price': 3.99}\n",
    "}\n",
    "\n",
    "cart = {}\n",
    "\n",
    "actions = {\"1\":\"Add item to the cart\",\n",
    "           \"2\":\"Remove item from the cart\",\n",
    "            \"3\":\"Modify item's quantit in the cart\",\n",
    "            \"4\":\"View items in the cart\",\n",
    "            \"5\":\"Checkout\",\n",
    "            \"6\":\"Exit\",\n",
    "          }\n",
    "\n",
    "gst = 0.07"
   ]
  },
  {
   "cell_type": "code",
   "execution_count": 8,
   "id": "b41079e9",
   "metadata": {},
   "outputs": [
    {
     "name": "stdout",
     "output_type": "stream",
     "text": [
      "1 Burger 5.99\n",
      "2 Pizza 8.99\n",
      "3 Pasta 7.49\n",
      "4 Salad 4.99\n",
      "5 Steak 12.99\n",
      "6 Sushi 10.49\n",
      "7 Chicken Wings 6.99\n",
      "8 Sandwich 4.49\n",
      "9 Tacos 5.49\n",
      "10 Ice Cream 3.99\n"
     ]
    }
   ],
   "source": [
    "for sku in menu:\n",
    "    stock = sku[3:]\n",
    "    name = menu[sku][\"name\"]\n",
    "    price = menu[sku][\"price\"]\n",
    "    \n",
    "    print(stock,name, price)"
   ]
  },
  {
   "cell_type": "code",
   "execution_count": 9,
   "id": "3cf9f457",
   "metadata": {},
   "outputs": [
    {
     "name": "stdout",
     "output_type": "stream",
     "text": [
      "(1) Burger $5.99\n",
      "(2) Pizza $8.99\n",
      "(3) Pasta $7.49\n",
      "(4) Salad $4.99\n",
      "(5) Steak $12.99\n",
      "(6) Sushi $10.49\n",
      "(7) Chicken Wings $6.99\n",
      "(8) Sandwich $4.49\n",
      "(9) Tacos $5.49\n",
      "(10) Ice Cream $3.99\n"
     ]
    }
   ],
   "source": [
    "for sku in menu:\n",
    "    stock = sku[3:]\n",
    "    name = menu[sku][\"name\"]\n",
    "    price = menu[sku][\"price\"]\n",
    "    \n",
    "    print(f\"({stock}) {name} ${price}\")"
   ]
  },
  {
   "cell_type": "code",
   "execution_count": 10,
   "id": "c62eb140",
   "metadata": {},
   "outputs": [],
   "source": [
    "def display_menu():\n",
    "    \n",
    "    \"\"\"Displays all menu item SKUs, names and prices\"\"\"\n",
    "    \n",
    "    print(\"\\n***Buddies Inn's Menu***\\n\")\n",
    "    \n",
    "    for sku in menu:\n",
    "        stock = sku[3:]\n",
    "        name = menu[sku][\"name\"]\n",
    "        price = menu[sku][\"price\"]\n",
    "\n",
    "        print(f\"({stock}) {name} ${price}\")\n",
    "    print(\"\\n\")"
   ]
  },
  {
   "cell_type": "code",
   "execution_count": 11,
   "id": "716a93f2",
   "metadata": {},
   "outputs": [
    {
     "name": "stdout",
     "output_type": "stream",
     "text": [
      "\n",
      "***Buddies Inn's Menu***\n",
      "\n",
      "(1) Burger $5.99\n",
      "(2) Pizza $8.99\n",
      "(3) Pasta $7.49\n",
      "(4) Salad $4.99\n",
      "(5) Steak $12.99\n",
      "(6) Sushi $10.49\n",
      "(7) Chicken Wings $6.99\n",
      "(8) Sandwich $4.49\n",
      "(9) Tacos $5.49\n",
      "(10) Ice Cream $3.99\n",
      "\n",
      "\n"
     ]
    }
   ],
   "source": [
    "display_menu()"
   ]
  },
  {
   "cell_type": "code",
   "execution_count": 12,
   "id": "d290f412",
   "metadata": {},
   "outputs": [
    {
     "data": {
      "text/plain": [
       "{}"
      ]
     },
     "execution_count": 12,
     "metadata": {},
     "output_type": "execute_result"
    }
   ],
   "source": [
    "cart"
   ]
  },
  {
   "cell_type": "code",
   "execution_count": 21,
   "id": "a637c566",
   "metadata": {},
   "outputs": [],
   "source": [
    "order = \"SKU\" + \"3\""
   ]
  },
  {
   "cell_type": "code",
   "execution_count": 22,
   "id": "6fa8a109",
   "metadata": {},
   "outputs": [
    {
     "data": {
      "text/plain": [
       "'SKU3'"
      ]
     },
     "execution_count": 22,
     "metadata": {},
     "output_type": "execute_result"
    }
   ],
   "source": [
    "order"
   ]
  },
  {
   "cell_type": "code",
   "execution_count": 23,
   "id": "7de42830",
   "metadata": {},
   "outputs": [
    {
     "data": {
      "text/plain": [
       "{'SKU1': {'name': 'Burger', 'price': 5.99},\n",
       " 'SKU2': {'name': 'Pizza', 'price': 8.99},\n",
       " 'SKU3': {'name': 'Pasta', 'price': 7.49},\n",
       " 'SKU4': {'name': 'Salad', 'price': 4.99},\n",
       " 'SKU5': {'name': 'Steak', 'price': 12.99},\n",
       " 'SKU6': {'name': 'Sushi', 'price': 10.49},\n",
       " 'SKU7': {'name': 'Chicken Wings', 'price': 6.99},\n",
       " 'SKU8': {'name': 'Sandwich', 'price': 4.49},\n",
       " 'SKU9': {'name': 'Tacos', 'price': 5.49},\n",
       " 'SKU10': {'name': 'Ice Cream', 'price': 3.99}}"
      ]
     },
     "execution_count": 23,
     "metadata": {},
     "output_type": "execute_result"
    }
   ],
   "source": [
    "menu"
   ]
  },
  {
   "cell_type": "code",
   "execution_count": 25,
   "id": "9e892b66",
   "metadata": {},
   "outputs": [],
   "source": [
    "d = {}\n",
    "\n",
    "d[\"item\"] = 1"
   ]
  },
  {
   "cell_type": "code",
   "execution_count": 26,
   "id": "2eb69d06",
   "metadata": {},
   "outputs": [
    {
     "data": {
      "text/plain": [
       "{'item': 1}"
      ]
     },
     "execution_count": 26,
     "metadata": {},
     "output_type": "execute_result"
    }
   ],
   "source": [
    "d"
   ]
  },
  {
   "cell_type": "code",
   "execution_count": 27,
   "id": "c2687108",
   "metadata": {},
   "outputs": [],
   "source": [
    "d[\"item\"] += 2"
   ]
  },
  {
   "cell_type": "code",
   "execution_count": 28,
   "id": "7b1619af",
   "metadata": {},
   "outputs": [
    {
     "data": {
      "text/plain": [
       "{'item': 3}"
      ]
     },
     "execution_count": 28,
     "metadata": {},
     "output_type": "execute_result"
    }
   ],
   "source": [
    "d"
   ]
  },
  {
   "cell_type": "code",
   "execution_count": 24,
   "id": "99a748f9",
   "metadata": {},
   "outputs": [
    {
     "data": {
      "text/plain": [
       "True"
      ]
     },
     "execution_count": 24,
     "metadata": {},
     "output_type": "execute_result"
    }
   ],
   "source": [
    "order in menu"
   ]
  },
  {
   "cell_type": "code",
   "execution_count": null,
   "id": "fe87552c",
   "metadata": {},
   "outputs": [],
   "source": [
    "if order in menu:\n",
    "    if order in cart:\n",
    "        cart[order] += 1\n",
    "    else:\n",
    "        cart[order] = 1"
   ]
  },
  {
   "cell_type": "code",
   "execution_count": 35,
   "id": "fcae552a",
   "metadata": {},
   "outputs": [],
   "source": [
    "order = \"SKU\" + \"15\""
   ]
  },
  {
   "cell_type": "code",
   "execution_count": 38,
   "id": "42e3c988",
   "metadata": {},
   "outputs": [],
   "source": [
    "# if order in menu:\n",
    "#     if order not in cart:\n",
    "#         cart[order] = 1\n",
    "#     else:\n",
    "#         cart[order] += 1\n",
    "        \n",
    "#     print(\"Item has been added in your cart\")\n",
    "    \n",
    "# else:\n",
    "#     print(\"Sorry! This item is not available\")"
   ]
  },
  {
   "cell_type": "code",
   "execution_count": 39,
   "id": "91681d5e",
   "metadata": {},
   "outputs": [
    {
     "data": {
      "text/plain": [
       "{}"
      ]
     },
     "execution_count": 39,
     "metadata": {},
     "output_type": "execute_result"
    }
   ],
   "source": [
    "cart"
   ]
  },
  {
   "cell_type": "code",
   "execution_count": 42,
   "id": "6d984b88",
   "metadata": {},
   "outputs": [],
   "source": [
    "def add_to_cart(sku, quantity = 1):\n",
    "    \"\"\"\n",
    "    Add an item and its quantity to the cart\n",
    "    \n",
    "    :param1 string sku: The input SKU number being ordered\n",
    "    :param2 int quantity: The input qunatity being ordered\n",
    "    \"\"\"\n",
    "    if sku in menu:\n",
    "        if sku not in cart:\n",
    "            cart[sku] = quantity\n",
    "        else:\n",
    "            cart[sku] += quantity\n",
    "            \n",
    "        print(f\"Added {quantity} {menu[sku]['name']} in your cart\")\n",
    "            \n",
    "    else:\n",
    "        print(\"Sorry! Ordered item is not available in the menu\")\n",
    "        \n",
    "    "
   ]
  },
  {
   "cell_type": "code",
   "execution_count": 49,
   "id": "e614841f",
   "metadata": {},
   "outputs": [
    {
     "name": "stdout",
     "output_type": "stream",
     "text": [
      "Added 8 Pasta in your cart\n"
     ]
    },
    {
     "data": {
      "text/plain": [
       "{'SKU5': 2, 'SKU3': 9, 'SKU10': 1}"
      ]
     },
     "execution_count": 49,
     "metadata": {},
     "output_type": "execute_result"
    }
   ],
   "source": [
    "add_to_cart(\"SKU3\", 8)\n",
    "cart"
   ]
  },
  {
   "cell_type": "code",
   "execution_count": 48,
   "id": "eb7f2bde",
   "metadata": {},
   "outputs": [
    {
     "data": {
      "text/plain": [
       "{'1': 'Add item to the cart',\n",
       " '2': 'Remove item from the cart',\n",
       " '3': \"Modify item's quantit in the cart\",\n",
       " '4': 'View items in the cart',\n",
       " '5': 'Checkout',\n",
       " '6': 'Exit'}"
      ]
     },
     "execution_count": 48,
     "metadata": {},
     "output_type": "execute_result"
    }
   ],
   "source": [
    "actions"
   ]
  },
  {
   "cell_type": "code",
   "execution_count": 50,
   "id": "02810857",
   "metadata": {},
   "outputs": [
    {
     "data": {
      "text/plain": [
       "{'SKU5': 2, 'SKU3': 9, 'SKU10': 1}"
      ]
     },
     "execution_count": 50,
     "metadata": {},
     "output_type": "execute_result"
    }
   ],
   "source": [
    "cart"
   ]
  },
  {
   "cell_type": "code",
   "execution_count": 51,
   "id": "fef92f10",
   "metadata": {},
   "outputs": [],
   "source": [
    "sku5 = cart.pop(\"SKU5\")"
   ]
  },
  {
   "cell_type": "code",
   "execution_count": 52,
   "id": "9bc8ba67",
   "metadata": {},
   "outputs": [
    {
     "data": {
      "text/plain": [
       "2"
      ]
     },
     "execution_count": 52,
     "metadata": {},
     "output_type": "execute_result"
    }
   ],
   "source": [
    "sku5"
   ]
  },
  {
   "cell_type": "code",
   "execution_count": 53,
   "id": "1c95bebc",
   "metadata": {},
   "outputs": [
    {
     "data": {
      "text/plain": [
       "{'SKU3': 9, 'SKU10': 1}"
      ]
     },
     "execution_count": 53,
     "metadata": {},
     "output_type": "execute_result"
    }
   ],
   "source": [
    "cart"
   ]
  },
  {
   "cell_type": "code",
   "execution_count": 57,
   "id": "06c1ba87",
   "metadata": {},
   "outputs": [],
   "source": [
    "removed_item = \"SKU10\""
   ]
  },
  {
   "cell_type": "code",
   "execution_count": 58,
   "id": "9adef51e",
   "metadata": {},
   "outputs": [
    {
     "data": {
      "text/plain": [
       "True"
      ]
     },
     "execution_count": 58,
     "metadata": {},
     "output_type": "execute_result"
    }
   ],
   "source": [
    "removed_item in cart"
   ]
  },
  {
   "cell_type": "code",
   "execution_count": 60,
   "id": "dd06ffcd",
   "metadata": {},
   "outputs": [
    {
     "data": {
      "text/plain": [
       "3"
      ]
     },
     "execution_count": 60,
     "metadata": {},
     "output_type": "execute_result"
    }
   ],
   "source": [
    "svd = d.pop(\"item\")\n",
    "svd"
   ]
  },
  {
   "cell_type": "code",
   "execution_count": 61,
   "id": "a134cc17",
   "metadata": {},
   "outputs": [
    {
     "data": {
      "text/plain": [
       "{'SKU3': 9, 'SKU10': 1}"
      ]
     },
     "execution_count": 61,
     "metadata": {},
     "output_type": "execute_result"
    }
   ],
   "source": [
    "cart"
   ]
  },
  {
   "cell_type": "code",
   "execution_count": 62,
   "id": "fe3d5465",
   "metadata": {},
   "outputs": [
    {
     "name": "stdout",
     "output_type": "stream",
     "text": [
      "Removed item from the cart.\n"
     ]
    }
   ],
   "source": [
    "if removed_item in cart:\n",
    "    removed = cart.pop(removed_item)\n",
    "    print(f\"Removed item from the cart.\")\n",
    "else:\n",
    "    print(\"Sorry! This item in not available in the cart\")"
   ]
  },
  {
   "cell_type": "code",
   "execution_count": 63,
   "id": "b42cff9f",
   "metadata": {},
   "outputs": [
    {
     "name": "stdout",
     "output_type": "stream",
     "text": [
      "Sorry! This item in not available in the cart\n"
     ]
    }
   ],
   "source": [
    "if removed_item in cart:\n",
    "    removed = cart.pop(removed_item)\n",
    "    print(f\"Removed item from the cart.\")\n",
    "else:\n",
    "    print(\"Sorry! This item in not available in the cart\")"
   ]
  },
  {
   "cell_type": "code",
   "execution_count": 66,
   "id": "40fda52a",
   "metadata": {},
   "outputs": [],
   "source": [
    "removed_item = \"SKU3\""
   ]
  },
  {
   "cell_type": "code",
   "execution_count": 69,
   "id": "be8f47fe",
   "metadata": {},
   "outputs": [],
   "source": [
    "def remove_from_cart(sku):\n",
    "    \n",
    "    \"\"\"\n",
    "    Remove an item from the cart\n",
    "    \n",
    "    :param string sku: The input SKU number to remove from the cart.\n",
    "    \n",
    "    \"\"\"\n",
    "    if sku in cart:\n",
    "        removed_val = cart.pop(sku)\n",
    "        print(f\"Removed {menu[sku]['name']} from the cart.\")\n",
    "    else:\n",
    "        print(f\"Sorry! This item in not available in the cart\")\n"
   ]
  },
  {
   "cell_type": "code",
   "execution_count": 67,
   "id": "69f2889b",
   "metadata": {},
   "outputs": [
    {
     "name": "stdout",
     "output_type": "stream",
     "text": [
      "Removed Pasta from the cart.\n"
     ]
    }
   ],
   "source": [
    "remove_from_cart(removed_item)"
   ]
  },
  {
   "cell_type": "code",
   "execution_count": 70,
   "id": "ebfba5c3",
   "metadata": {},
   "outputs": [
    {
     "name": "stdout",
     "output_type": "stream",
     "text": [
      "Sorry! This item in not available in the cart\n"
     ]
    }
   ],
   "source": [
    "remove_from_cart(removed_item)"
   ]
  },
  {
   "cell_type": "code",
   "execution_count": 71,
   "id": "c612ea5c",
   "metadata": {},
   "outputs": [
    {
     "data": {
      "text/plain": [
       "{'1': 'Add item to the cart',\n",
       " '2': 'Remove item from the cart',\n",
       " '3': \"Modify item's quantit in the cart\",\n",
       " '4': 'View items in the cart',\n",
       " '5': 'Checkout',\n",
       " '6': 'Exit'}"
      ]
     },
     "execution_count": 71,
     "metadata": {},
     "output_type": "execute_result"
    }
   ],
   "source": [
    "actions"
   ]
  },
  {
   "cell_type": "code",
   "execution_count": 73,
   "id": "9d2ce207",
   "metadata": {},
   "outputs": [],
   "source": [
    "def modify_cart(sku, quantity):\n",
    "    \"\"\"\n",
    "    Modify an item's qunatity in the cart\n",
    "    \n",
    "    :param1 string sku: The input SKU number being ordered\n",
    "    :param2 int qunatity: The input new quantity to be modified for SKU.\n",
    "    \"\"\"\n",
    "    \n",
    "    if sku in cart:\n",
    "        if quantity > 0:\n",
    "            cart[sku] = quantity\n",
    "            print(f\"Modified {menu[sku]['name']}\\'s quantity to {quantity}\")\n",
    "        else:\n",
    "            remove_from_cart(sku)\n",
    "    else:      \n",
    "        print(\"Sorry! This item is not available in the cart\")"
   ]
  },
  {
   "cell_type": "code",
   "execution_count": 75,
   "id": "5d7c9eb6",
   "metadata": {},
   "outputs": [],
   "source": [
    "cart[\"SKU3\"] = 7\n",
    "cart[\"SKU10\"] = 5"
   ]
  },
  {
   "cell_type": "code",
   "execution_count": 76,
   "id": "c76e0545",
   "metadata": {},
   "outputs": [
    {
     "data": {
      "text/plain": [
       "{'SKU3': 7, 'SKU10': 5}"
      ]
     },
     "execution_count": 76,
     "metadata": {},
     "output_type": "execute_result"
    }
   ],
   "source": [
    "cart"
   ]
  },
  {
   "cell_type": "code",
   "execution_count": 77,
   "id": "483fc5fe",
   "metadata": {},
   "outputs": [
    {
     "name": "stdout",
     "output_type": "stream",
     "text": [
      "Modified Pasta's quantity to 4\n"
     ]
    }
   ],
   "source": [
    "modify_cart(\"SKU3\", 4)"
   ]
  },
  {
   "cell_type": "code",
   "execution_count": 78,
   "id": "9f83833d",
   "metadata": {},
   "outputs": [
    {
     "data": {
      "text/plain": [
       "{'SKU3': 4, 'SKU10': 5}"
      ]
     },
     "execution_count": 78,
     "metadata": {},
     "output_type": "execute_result"
    }
   ],
   "source": [
    "cart"
   ]
  },
  {
   "cell_type": "code",
   "execution_count": 79,
   "id": "314d4fcf",
   "metadata": {},
   "outputs": [
    {
     "name": "stdout",
     "output_type": "stream",
     "text": [
      "Removed Pasta from the cart.\n"
     ]
    }
   ],
   "source": [
    "modify_cart(\"SKU3\", 0)"
   ]
  },
  {
   "cell_type": "code",
   "execution_count": 80,
   "id": "930a8398",
   "metadata": {},
   "outputs": [
    {
     "name": "stdout",
     "output_type": "stream",
     "text": [
      "Removed Ice Cream from the cart.\n"
     ]
    }
   ],
   "source": [
    "modify_cart(\"SKU10\", 0)"
   ]
  },
  {
   "cell_type": "code",
   "execution_count": 81,
   "id": "fe231b1a",
   "metadata": {},
   "outputs": [
    {
     "name": "stdout",
     "output_type": "stream",
     "text": [
      "Sorry! This item is not available in the cart\n"
     ]
    }
   ],
   "source": [
    "modify_cart(\"SKU15\", 3)"
   ]
  },
  {
   "cell_type": "code",
   "execution_count": 82,
   "id": "9bb75986",
   "metadata": {},
   "outputs": [
    {
     "data": {
      "text/plain": [
       "{'1': 'Add item to the cart',\n",
       " '2': 'Remove item from the cart',\n",
       " '3': \"Modify item's quantit in the cart\",\n",
       " '4': 'View items in the cart',\n",
       " '5': 'Checkout',\n",
       " '6': 'Exit'}"
      ]
     },
     "execution_count": 82,
     "metadata": {},
     "output_type": "execute_result"
    }
   ],
   "source": [
    "actions"
   ]
  },
  {
   "cell_type": "code",
   "execution_count": 83,
   "id": "da47bde0",
   "metadata": {},
   "outputs": [],
   "source": [
    "cart[\"SKU3\"] = 7\n",
    "cart[\"SKU10\"] = 5"
   ]
  },
  {
   "cell_type": "code",
   "execution_count": 84,
   "id": "9fdab144",
   "metadata": {},
   "outputs": [
    {
     "data": {
      "text/plain": [
       "{'SKU3': 7, 'SKU10': 5}"
      ]
     },
     "execution_count": 84,
     "metadata": {},
     "output_type": "execute_result"
    }
   ],
   "source": [
    "cart"
   ]
  },
  {
   "cell_type": "code",
   "execution_count": 89,
   "id": "a6442f36",
   "metadata": {},
   "outputs": [
    {
     "name": "stdout",
     "output_type": "stream",
     "text": [
      "7 x Pasta\n",
      "5 x Ice Cream\n",
      "Total: $ 77.45\n"
     ]
    }
   ],
   "source": [
    "subtotal = 0\n",
    "\n",
    "for sku in cart:\n",
    "    quantity = cart[sku]\n",
    "    price = menu[sku]['price']\n",
    "    \n",
    "    subtotal+= quantity*price\n",
    "    \n",
    "    print(f\"{quantity} x {menu[sku]['name']}\")\n",
    "          \n",
    "tax = subtotal*gst\n",
    "    \n",
    "total = subtotal + tax\n",
    "          \n",
    "print(\"Total: $\", round(total,2))"
   ]
  },
  {
   "cell_type": "code",
   "execution_count": 88,
   "id": "56933c1c",
   "metadata": {},
   "outputs": [
    {
     "name": "stdout",
     "output_type": "stream",
     "text": [
      "Waqas 2\n"
     ]
    }
   ],
   "source": [
    "print(\"Waqas\", 2)"
   ]
  },
  {
   "cell_type": "code",
   "execution_count": 95,
   "id": "c32f3fce",
   "metadata": {},
   "outputs": [
    {
     "name": "stdout",
     "output_type": "stream",
     "text": [
      "7 x Pasta\n",
      "5 x Ice Cream\n",
      "Total: $ 77.45\n"
     ]
    }
   ],
   "source": [
    "subtotal = 0\n",
    "\n",
    "for sku in cart:\n",
    "    quantity = cart[sku]\n",
    "    price = menu[sku]['price']\n",
    "    \n",
    "    subtotal+= quantity*price\n",
    "    \n",
    "    print(f\"{quantity} x {menu[sku]['name']}\")\n",
    "          \n",
    "tax = subtotal*gst\n",
    "    \n",
    "total = subtotal + tax\n"
   ]
  },
  {
   "cell_type": "code",
   "execution_count": 102,
   "id": "21f49433",
   "metadata": {},
   "outputs": [],
   "source": [
    "def view_cart():\n",
    "    \"Display the menu names, quatity and total amount\"\n",
    "    \n",
    "    print(\"\\n***Your Order***\\n\")\n",
    "    subtotal = 0\n",
    "\n",
    "    for sku in cart:\n",
    "        quantity = cart[sku]\n",
    "        price = menu[sku]['price']\n",
    "\n",
    "        subtotal+= quantity*price\n",
    "\n",
    "        print(f\"{quantity} x {menu[sku]['name']}\")\n",
    "\n",
    "    tax = subtotal*gst\n",
    "\n",
    "    total = subtotal + tax\n",
    "    print(f\"Total: ${total: .2f}\")\n",
    "    print(\"\\n\")"
   ]
  },
  {
   "cell_type": "code",
   "execution_count": 103,
   "id": "102c52df",
   "metadata": {},
   "outputs": [
    {
     "name": "stdout",
     "output_type": "stream",
     "text": [
      "\n",
      "***Your Order***\n",
      "\n",
      "7 x Pasta\n",
      "5 x Ice Cream\n",
      "Total: $ 77.45\n",
      "\n",
      "\n"
     ]
    }
   ],
   "source": [
    "view_cart()"
   ]
  },
  {
   "cell_type": "code",
   "execution_count": null,
   "id": "ff99bacd",
   "metadata": {},
   "outputs": [],
   "source": []
  },
  {
   "cell_type": "code",
   "execution_count": null,
   "id": "dbb3ba7c",
   "metadata": {},
   "outputs": [],
   "source": []
  },
  {
   "cell_type": "code",
   "execution_count": null,
   "id": "78a1d799",
   "metadata": {},
   "outputs": [],
   "source": []
  },
  {
   "cell_type": "code",
   "execution_count": null,
   "id": "b1345274",
   "metadata": {},
   "outputs": [],
   "source": []
  },
  {
   "cell_type": "code",
   "execution_count": null,
   "id": "3650fa80",
   "metadata": {},
   "outputs": [],
   "source": []
  },
  {
   "cell_type": "code",
   "execution_count": null,
   "id": "cf672929",
   "metadata": {},
   "outputs": [],
   "source": []
  }
 ],
 "metadata": {
  "kernelspec": {
   "display_name": "Python 3 (ipykernel)",
   "language": "python",
   "name": "python3"
  },
  "language_info": {
   "codemirror_mode": {
    "name": "ipython",
    "version": 3
   },
   "file_extension": ".py",
   "mimetype": "text/x-python",
   "name": "python",
   "nbconvert_exporter": "python",
   "pygments_lexer": "ipython3",
   "version": "3.11.3"
  }
 },
 "nbformat": 4,
 "nbformat_minor": 5
}
