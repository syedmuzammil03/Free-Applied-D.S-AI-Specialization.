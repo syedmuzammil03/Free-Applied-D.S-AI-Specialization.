{
 "cells": [
  {
   "cell_type": "code",
   "execution_count": 1,
   "id": "ad1bd4a1",
   "metadata": {},
   "outputs": [
    {
     "data": {
      "text/plain": [
       "True"
      ]
     },
     "execution_count": 1,
     "metadata": {},
     "output_type": "execute_result"
    }
   ],
   "source": [
    "import os\n",
    "from dotenv import load_dotenv\n",
    "from openai import OpenAI\n",
    "\n",
    "load_dotenv()"
   ]
  },
  {
   "cell_type": "code",
   "execution_count": 2,
   "id": "41b02a71",
   "metadata": {},
   "outputs": [],
   "source": [
    "api_key = os.getenv(\"oapi_key\")\n",
    "base_url = \"https://api.openai.com/v1\"\n",
    "model = \"gpt-3.5-turbo\""
   ]
  },
  {
   "cell_type": "code",
   "execution_count": 4,
   "id": "602bd365",
   "metadata": {},
   "outputs": [],
   "source": [
    "class ConversationBot:\n",
    "    \n",
    "    def __init__(self,api_key, base_url = base_url, model = model,\n",
    "                system_message = \"\"\"You are a helpful marketing assistant for DigiTech Synergy.\"\"\"):\n",
    "        self.client = OpenAI(api_key=api_key)\n",
    "        self.client.base_url = base_url\n",
    "        self.model = model\n",
    "        self.system_message = system_message\n",
    "    \n",
    "    def chat_completion(self, prompt, temperature = 0.7, max_tokens = 500):\n",
    "        messages = [\n",
    "                {\"role\":\"system\",\"content\": self.system_message\n",
    "                },\n",
    "                {\"role\":\"user\", \"content\":prompt}\n",
    "            ]\n",
    "        response = self.client.chat.completions.create(model = self.model,\n",
    "                                                       messages = messages)\n",
    "        ai_response = response.choices[0].message.content\n",
    "        return ai_response\n",
    "        "
   ]
  },
  {
   "cell_type": "code",
   "execution_count": 5,
   "id": "63ebe76c",
   "metadata": {},
   "outputs": [
    {
     "name": "stdout",
     "output_type": "stream",
     "text": [
      "🚀 Level up your tech skills with our cutting-edge #AITraining! Dive deep into the exciting world of #ArtificialIntelligence and learn how to harness its power to revolutionize your industry. Don't miss out on this opportunity to future-proof your career! 💡 #TechTraining #AI #DigitalTransformation\n"
     ]
    }
   ],
   "source": [
    "system_message = \"You are a social media expert, crafting catchy and shareable posts for DigiTech Synergy.\"\n",
    "conv_manager = ConversationBot(api_key=api_key, system_message=system_message)\n",
    "\n",
    "prompt = \"Please write a tweet to promote our new AI Training.\"\n",
    "response = conv_manager.chat_completion(prompt, temperature=0.5, max_tokens=300)\n",
    "print(response)"
   ]
  },
  {
   "cell_type": "code",
   "execution_count": 6,
   "id": "4098a70c",
   "metadata": {},
   "outputs": [
    {
     "name": "stdout",
     "output_type": "stream",
     "text": [
      "📣 Join the AI revolution at #DigiTechSynergy! 🚀🧠 Unlock your potential with our cutting-edge AI Training program. 🌐🎓 Gain hands-on experience, master the art of machine learning, and become an AI trailblazer! Don't miss out on this transformative opportunity. Enroll today! #AITraining #TechEducation\n"
     ]
    }
   ],
   "source": [
    "prompt = \"Hello my name is Waqas. Please write a tweet to promote our new AI Training.\"\n",
    "response = conv_manager.chat_completion(prompt, temperature=0.5, max_tokens=300)\n",
    "print(response)"
   ]
  },
  {
   "cell_type": "code",
   "execution_count": 7,
   "id": "ef58cacf",
   "metadata": {},
   "outputs": [
    {
     "name": "stdout",
     "output_type": "stream",
     "text": [
      "Your name is not specified. Could you please provide your name?\n"
     ]
    }
   ],
   "source": [
    "prompt = \"What is my name\"\n",
    "response = conv_manager.chat_completion(prompt, temperature=0.5, max_tokens=300)\n",
    "print(response)"
   ]
  },
  {
   "cell_type": "markdown",
   "id": "04ecb15d",
   "metadata": {},
   "source": [
    "# Implementing Chat History Management"
   ]
  },
  {
   "cell_type": "code",
   "execution_count": 8,
   "id": "ca00ab9d",
   "metadata": {},
   "outputs": [],
   "source": [
    "class ConversationBot:\n",
    "    \n",
    "    def __init__(self,api_key, base_url = base_url, model = model,\n",
    "                system_message = \"\"\"You are a helpful marketing assistant for DigiTech Synergy.\"\"\"):\n",
    "        self.client = OpenAI(api_key=api_key)\n",
    "        self.client.base_url = base_url\n",
    "        self.model = model\n",
    "        self.system_message = system_message\n",
    "        self.conversation_history = [{\"role\":\"system\",\"content\": self.system_message}]\n",
    "    \n",
    "    def chat_completion(self, prompt, temperature = 0.7, max_tokens = 500):\n",
    "        \n",
    "        self.conversation_history.append({\"role\":\"user\", \"content\":prompt})\n",
    "        \n",
    "        response = self.client.chat.completions.create(model = self.model,\n",
    "                                                       messages = self.conversation_history)\n",
    "        ai_response = response.choices[0].message.content\n",
    "        self.conversation_history.append({\"role\":\"assistant\", \"content\":ai_response})\n",
    "        \n",
    "        return ai_response"
   ]
  },
  {
   "cell_type": "code",
   "execution_count": 10,
   "id": "40107100",
   "metadata": {},
   "outputs": [
    {
     "name": "stdout",
     "output_type": "stream",
     "text": [
      "🎉 Exciting news! 🤖📚 Level up your AI skills with our cutting-edge AI Training and unlock endless possibilities! 🚀🌟 Don't miss this opportunity to dive deep into the world of Artificial Intelligence. Join us now and #MasterTheFuture! 🌐💡 #AITraining #TechRevolution\n"
     ]
    }
   ],
   "source": [
    "system_message = \"You are a social media expert, crafting catchy and shareable posts for DigiTech Synergy.\"\n",
    "conv_manager = ConversationBot(api_key=api_key, system_message=system_message)\n",
    "\n",
    "prompt = \"Hello my name is Waqas. Please write a tweet to promote our new AI Training.\"\n",
    "response = conv_manager.chat_completion(prompt, temperature=0.5, max_tokens=300)\n",
    "print(response)"
   ]
  },
  {
   "cell_type": "code",
   "execution_count": 11,
   "id": "aef1beed",
   "metadata": {},
   "outputs": [
    {
     "name": "stdout",
     "output_type": "stream",
     "text": [
      "Your name is Waqas!\n"
     ]
    }
   ],
   "source": [
    "prompt = \"What is my name\"\n",
    "response = conv_manager.chat_completion(prompt, temperature=0.5, max_tokens=300)\n",
    "print(response)"
   ]
  },
  {
   "cell_type": "code",
   "execution_count": 12,
   "id": "f519ed56",
   "metadata": {},
   "outputs": [
    {
     "name": "stdout",
     "output_type": "stream",
     "text": [
      "[{'role': 'system', 'content': 'You are a social media expert, crafting catchy and shareable posts for DigiTech Synergy.'}, {'role': 'user', 'content': 'Hello my name is Waqas. Please write a tweet to promote our new AI Training.'}, {'role': 'assistant', 'content': \"🎉 Exciting news! 🤖📚 Level up your AI skills with our cutting-edge AI Training and unlock endless possibilities! 🚀🌟 Don't miss this opportunity to dive deep into the world of Artificial Intelligence. Join us now and #MasterTheFuture! 🌐💡 #AITraining #TechRevolution\"}, {'role': 'user', 'content': 'What is my name'}, {'role': 'assistant', 'content': 'Your name is Waqas!'}]\n"
     ]
    }
   ],
   "source": [
    "print(conv_manager.conversation_history)"
   ]
  },
  {
   "cell_type": "code",
   "execution_count": 13,
   "id": "3fa77a14",
   "metadata": {},
   "outputs": [
    {
     "data": {
      "text/plain": [
       "2"
      ]
     },
     "execution_count": 13,
     "metadata": {},
     "output_type": "execute_result"
    }
   ],
   "source": [
    "ls = [1,2,3,4,5,6]\n",
    "ls.pop(1)"
   ]
  },
  {
   "cell_type": "code",
   "execution_count": 15,
   "id": "3c715add",
   "metadata": {},
   "outputs": [
    {
     "data": {
      "text/plain": [
       "[1, 3, 4, 5, 6]"
      ]
     },
     "execution_count": 15,
     "metadata": {},
     "output_type": "execute_result"
    }
   ],
   "source": [
    "ls"
   ]
  },
  {
   "cell_type": "markdown",
   "id": "59b280e8",
   "metadata": {},
   "source": [
    "# Managing Conversation History Size"
   ]
  },
  {
   "cell_type": "code",
   "execution_count": 16,
   "id": "f677c896",
   "metadata": {},
   "outputs": [],
   "source": [
    "class ConversationBot:\n",
    "    \n",
    "    def __init__(self,api_key, base_url = base_url, model = model,\n",
    "                system_message = \"\"\"You are a helpful marketing assistant for DigiTech Synergy.\"\"\",\n",
    "                max_history = 5):\n",
    "        self.client = OpenAI(api_key=api_key)\n",
    "        self.client.base_url = base_url\n",
    "        self.model = model\n",
    "        self.system_message = system_message\n",
    "        self.conversation_history = [{\"role\":\"system\",\"content\": self.system_message}]\n",
    "        self.max_history = max_history\n",
    "        \n",
    "    def enforce_history_limit(self):\n",
    "        while len(self.conversation_history) > self.max_history:\n",
    "            self.conversation_history.pop(1)\n",
    "    \n",
    "    def chat_completion(self, prompt, temperature = 0.7, max_tokens = 500):\n",
    "        \n",
    "        self.conversation_history.append({\"role\":\"user\", \"content\":prompt})\n",
    "        \n",
    "        response = self.client.chat.completions.create(model = self.model,\n",
    "                                                       messages = self.conversation_history)\n",
    "        ai_response = response.choices[0].message.content\n",
    "        self.conversation_history.append({\"role\":\"assistant\", \"content\":ai_response})\n",
    "        self.enforce_history_limit()\n",
    "        \n",
    "        return ai_response"
   ]
  },
  {
   "cell_type": "code",
   "execution_count": 22,
   "id": "1ba78fd9",
   "metadata": {},
   "outputs": [
    {
     "name": "stdout",
     "output_type": "stream",
     "text": [
      "\"🚀Upgrade your skills with our cutting-edge AI Industrial Training! 🤖💡\n",
      "Gain the expertise to thrive in the digital age and unlock endless career opportunities. Don't miss out on this game-changing opportunity! Enroll now! 💪✨ #AI #IndustrialTraining #DigitalTransformation #TechSkills\"\n"
     ]
    }
   ],
   "source": [
    "system_message = \"You are a social media expert, crafting catchy and shareable posts for DigiTech Synergy.\"\n",
    "conv_manager = ConversationBot(api_key=api_key, system_message=system_message)\n",
    "\n",
    "prompt1 = \"Please write a tweet to promote our new AI Industrial Training.\"\n",
    "\n",
    "response = conv_manager.chat_completion(prompt1, temperature=0.5, max_tokens=300)\n",
    "print(response)"
   ]
  },
  {
   "cell_type": "code",
   "execution_count": 23,
   "id": "4c7f023a",
   "metadata": {},
   "outputs": [
    {
     "data": {
      "text/plain": [
       "3"
      ]
     },
     "execution_count": 23,
     "metadata": {},
     "output_type": "execute_result"
    }
   ],
   "source": [
    "len(conv_manager.conversation_history)"
   ]
  },
  {
   "cell_type": "code",
   "execution_count": 24,
   "id": "4897526e",
   "metadata": {},
   "outputs": [
    {
     "name": "stdout",
     "output_type": "stream",
     "text": [
      "\"Level up with our AI Industrial Training! Gain game-changing skills for the digital age. Enroll now! 💪✨ #AI #IndustrialTraining #TechSkills\"\n"
     ]
    }
   ],
   "source": [
    "prompt2 = \"Great, now make the tweet a little shorter.\"\n",
    "response = conv_manager.chat_completion(prompt2, temperature=0.5, max_tokens=300)\n",
    "print(response)"
   ]
  },
  {
   "cell_type": "code",
   "execution_count": 25,
   "id": "fda8963c",
   "metadata": {},
   "outputs": [
    {
     "data": {
      "text/plain": [
       "5"
      ]
     },
     "execution_count": 25,
     "metadata": {},
     "output_type": "execute_result"
    }
   ],
   "source": [
    "len(conv_manager.conversation_history)"
   ]
  },
  {
   "cell_type": "code",
   "execution_count": 26,
   "id": "e5248d12",
   "metadata": {},
   "outputs": [
    {
     "data": {
      "text/plain": [
       "[{'role': 'system',\n",
       "  'content': 'You are a social media expert, crafting catchy and shareable posts for DigiTech Synergy.'},\n",
       " {'role': 'user',\n",
       "  'content': 'Please write a tweet to promote our new AI Industrial Training.'},\n",
       " {'role': 'assistant',\n",
       "  'content': '\"🚀Upgrade your skills with our cutting-edge AI Industrial Training! 🤖💡\\nGain the expertise to thrive in the digital age and unlock endless career opportunities. Don\\'t miss out on this game-changing opportunity! Enroll now! 💪✨ #AI #IndustrialTraining #DigitalTransformation #TechSkills\"'},\n",
       " {'role': 'user', 'content': 'Great, now make the tweet a little shorter.'},\n",
       " {'role': 'assistant',\n",
       "  'content': '\"Level up with our AI Industrial Training! Gain game-changing skills for the digital age. Enroll now! 💪✨ #AI #IndustrialTraining #TechSkills\"'}]"
      ]
     },
     "execution_count": 26,
     "metadata": {},
     "output_type": "execute_result"
    }
   ],
   "source": [
    "conv_manager.conversation_history"
   ]
  },
  {
   "cell_type": "code",
   "execution_count": 27,
   "id": "8c3e1684",
   "metadata": {},
   "outputs": [
    {
     "name": "stdout",
     "output_type": "stream",
     "text": [
      "\"Level up with our AI Industrial Training! Gain game-changing skills for the digital age. Enroll now! 💪✨ #AI #IndustrialTraining #TechSkills #CareerBoost\"\n"
     ]
    }
   ],
   "source": [
    "prompt3 = \"Great, now add one more hash tag.\"\n",
    "\n",
    "response = conv_manager.chat_completion(prompt3, temperature=0.5, max_tokens=300)\n",
    "print(response)"
   ]
  },
  {
   "cell_type": "code",
   "execution_count": 28,
   "id": "f795c42a",
   "metadata": {},
   "outputs": [
    {
     "data": {
      "text/plain": [
       "5"
      ]
     },
     "execution_count": 28,
     "metadata": {},
     "output_type": "execute_result"
    }
   ],
   "source": [
    "len(conv_manager.conversation_history)"
   ]
  },
  {
   "cell_type": "code",
   "execution_count": 29,
   "id": "0093ea84",
   "metadata": {},
   "outputs": [
    {
     "data": {
      "text/plain": [
       "[{'role': 'system',\n",
       "  'content': 'You are a social media expert, crafting catchy and shareable posts for DigiTech Synergy.'},\n",
       " {'role': 'user', 'content': 'Great, now make the tweet a little shorter.'},\n",
       " {'role': 'assistant',\n",
       "  'content': '\"Level up with our AI Industrial Training! Gain game-changing skills for the digital age. Enroll now! 💪✨ #AI #IndustrialTraining #TechSkills\"'},\n",
       " {'role': 'user', 'content': 'Great, now add one more hash tag.'},\n",
       " {'role': 'assistant',\n",
       "  'content': '\"Level up with our AI Industrial Training! Gain game-changing skills for the digital age. Enroll now! 💪✨ #AI #IndustrialTraining #TechSkills #CareerBoost\"'}]"
      ]
     },
     "execution_count": 29,
     "metadata": {},
     "output_type": "execute_result"
    }
   ],
   "source": [
    "conv_manager.conversation_history"
   ]
  },
  {
   "cell_type": "code",
   "execution_count": null,
   "id": "d8af1fad",
   "metadata": {},
   "outputs": [],
   "source": []
  }
 ],
 "metadata": {
  "kernelspec": {
   "display_name": "Python 3 (ipykernel)",
   "language": "python",
   "name": "python3"
  },
  "language_info": {
   "codemirror_mode": {
    "name": "ipython",
    "version": 3
   },
   "file_extension": ".py",
   "mimetype": "text/x-python",
   "name": "python",
   "nbconvert_exporter": "python",
   "pygments_lexer": "ipython3",
   "version": "3.11.5"
  }
 },
 "nbformat": 4,
 "nbformat_minor": 5
}
