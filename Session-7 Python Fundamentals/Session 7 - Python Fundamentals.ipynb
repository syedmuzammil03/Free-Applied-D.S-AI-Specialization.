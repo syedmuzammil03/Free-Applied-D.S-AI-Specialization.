{
 "cells": [
  {
   "cell_type": "code",
   "execution_count": 7,
   "id": "6988183b",
   "metadata": {},
   "outputs": [],
   "source": [
    "words = []\n",
    "\n",
    "\n",
    "with open(\"words.txt\") as file:\n",
    "    for line in file:\n",
    "        words.append(line.rstrip().lower())\n",
    "    "
   ]
  },
  {
   "cell_type": "code",
   "execution_count": 39,
   "id": "bc934f75",
   "metadata": {},
   "outputs": [],
   "source": [
    "with open(\"words.txt\") as file:\n",
    "    data = file.read()"
   ]
  },
  {
   "cell_type": "code",
   "execution_count": 41,
   "id": "a9fa9520",
   "metadata": {},
   "outputs": [
    {
     "data": {
      "text/plain": [
       "['bears', 'pears', 'lions', 'kings', 'queen', 'helps', 'learn']"
      ]
     },
     "execution_count": 41,
     "metadata": {},
     "output_type": "execute_result"
    }
   ],
   "source": [
    "data.split(\"\\n\")"
   ]
  },
  {
   "cell_type": "code",
   "execution_count": 42,
   "id": "cbfb509d",
   "metadata": {},
   "outputs": [],
   "source": [
    "with open(\"words.txt\") as file:\n",
    "    data = file.readlines()"
   ]
  },
  {
   "cell_type": "code",
   "execution_count": 43,
   "id": "d22d3a30",
   "metadata": {},
   "outputs": [
    {
     "data": {
      "text/plain": [
       "['bears\\n', 'pears\\n', 'lions\\n', 'kings\\n', 'queen\\n', 'helps\\n', 'learn']"
      ]
     },
     "execution_count": 43,
     "metadata": {},
     "output_type": "execute_result"
    }
   ],
   "source": [
    "data"
   ]
  },
  {
   "cell_type": "code",
   "execution_count": 8,
   "id": "809fedd8",
   "metadata": {},
   "outputs": [],
   "source": [
    "# s = \"Waqas\\nHorria\\nUmer\"\n",
    "\n",
    "# for line in s:\n",
    "#     print(line)"
   ]
  },
  {
   "cell_type": "code",
   "execution_count": 45,
   "id": "0a872896",
   "metadata": {},
   "outputs": [
    {
     "name": "stdout",
     "output_type": "stream",
     "text": [
      "bears\n",
      "pears\n",
      "lions\n",
      "kings\n",
      "queen\n",
      "helps\n",
      "learn\n"
     ]
    }
   ],
   "source": [
    "with open(\"words.txt\") as file:\n",
    "    for line in file:\n",
    "        print(line.strip())\n",
    "        "
   ]
  },
  {
   "cell_type": "code",
   "execution_count": 9,
   "id": "aba0edf9",
   "metadata": {},
   "outputs": [
    {
     "data": {
      "text/plain": [
       "5"
      ]
     },
     "execution_count": 9,
     "metadata": {},
     "output_type": "execute_result"
    }
   ],
   "source": [
    "len(words[0])"
   ]
  },
  {
   "cell_type": "code",
   "execution_count": 10,
   "id": "dbd4e0f6",
   "metadata": {},
   "outputs": [
    {
     "data": {
      "text/plain": [
       "7"
      ]
     },
     "execution_count": 10,
     "metadata": {},
     "output_type": "execute_result"
    }
   ],
   "source": [
    "len(words)"
   ]
  },
  {
   "cell_type": "code",
   "execution_count": 11,
   "id": "8b8a2730",
   "metadata": {},
   "outputs": [
    {
     "name": "stdout",
     "output_type": "stream",
     "text": [
      "5\n",
      "5\n",
      "5\n",
      "5\n",
      "5\n",
      "5\n",
      "5\n"
     ]
    }
   ],
   "source": [
    "for word in words:\n",
    "    print(len(word))"
   ]
  },
  {
   "cell_type": "code",
   "execution_count": 12,
   "id": "467a8a80",
   "metadata": {},
   "outputs": [],
   "source": [
    "# C---k\n",
    "# ch--k\n",
    "# che-k\n",
    "# cheak"
   ]
  },
  {
   "cell_type": "code",
   "execution_count": 13,
   "id": "80427fb2",
   "metadata": {},
   "outputs": [],
   "source": [
    "import random"
   ]
  },
  {
   "cell_type": "code",
   "execution_count": 14,
   "id": "98c51db4",
   "metadata": {},
   "outputs": [
    {
     "data": {
      "text/plain": [
       "2"
      ]
     },
     "execution_count": 14,
     "metadata": {},
     "output_type": "execute_result"
    }
   ],
   "source": [
    "l = [1,2,3,4,5,6,7]\n",
    "\n",
    "random.choice(l)"
   ]
  },
  {
   "cell_type": "code",
   "execution_count": 37,
   "id": "be639b91",
   "metadata": {},
   "outputs": [],
   "source": [
    "guess_word = random.choice(words)"
   ]
  },
  {
   "cell_type": "code",
   "execution_count": 35,
   "id": "b96b861d",
   "metadata": {},
   "outputs": [],
   "source": [
    "# guess_word "
   ]
  },
  {
   "cell_type": "code",
   "execution_count": 16,
   "id": "4bf2d39b",
   "metadata": {},
   "outputs": [],
   "source": [
    "max_turns = 5\n",
    "n_turn = 0"
   ]
  },
  {
   "cell_type": "code",
   "execution_count": 17,
   "id": "1ff703a6",
   "metadata": {},
   "outputs": [
    {
     "name": "stdout",
     "output_type": "stream",
     "text": [
      "Please tell me 5 - letter word: greet\n"
     ]
    }
   ],
   "source": [
    "while True:\n",
    "    guess = input(\"Please tell me 5 - letter word: \").lower()\n",
    "    break"
   ]
  },
  {
   "cell_type": "code",
   "execution_count": 18,
   "id": "ac6a342d",
   "metadata": {},
   "outputs": [
    {
     "name": "stdout",
     "output_type": "stream",
     "text": [
      "Please tell me 5 - letter word: greet\n",
      "Please tell me 5 - letter word: greet\n",
      "Please tell me 5 - letter word: greet\n",
      "Please tell me 5 - letter word: greet\n",
      "Please tell me 5 - letter word: greet\n",
      "You have lost\n"
     ]
    }
   ],
   "source": [
    "while True:\n",
    "    guess = input(\"Please tell me 5 - letter word: \").lower()\n",
    "    \n",
    "    if guess == guess_word:\n",
    "        print(\"Congratulations! You have won\")\n",
    "        break\n",
    "    n_turn += 1\n",
    "    \n",
    "    if n_turn == max_turns:\n",
    "        print(\"You have lost\")\n",
    "        break"
   ]
  },
  {
   "cell_type": "code",
   "execution_count": null,
   "id": "e4735cd2",
   "metadata": {},
   "outputs": [],
   "source": [
    "# while True:\n",
    "#     guess = input(\"Please tell me a 5-letter word: \").lower()\n",
    "    \n",
    "#     if \n",
    "    \n",
    "    \n",
    "    \n",
    "#     if guess == guess_word:\n",
    "#         print(\"Congratulations! You have won\")\n",
    "#         break\n",
    "#     n_turn += 1\n",
    "    \n",
    "#     if n_turn == max_turns:\n",
    "#         print(\"You have lost\")\n",
    "#         break"
   ]
  },
  {
   "cell_type": "code",
   "execution_count": null,
   "id": "11facbf4",
   "metadata": {},
   "outputs": [],
   "source": [
    "dir(\"Waqas1\")"
   ]
  },
  {
   "cell_type": "code",
   "execution_count": null,
   "id": "1835655d",
   "metadata": {},
   "outputs": [],
   "source": [
    "\"123Waqas123\".isalnum()"
   ]
  },
  {
   "cell_type": "code",
   "execution_count": null,
   "id": "8ef7b9f4",
   "metadata": {},
   "outputs": [],
   "source": [
    "\"123Waqas123\".isalpha()"
   ]
  },
  {
   "cell_type": "code",
   "execution_count": 21,
   "id": "60e70c50",
   "metadata": {},
   "outputs": [
    {
     "name": "stdout",
     "output_type": "stream",
     "text": [
      "Please tell me a 5-letter word: greetings\n",
      "0\n",
      "As advised, please enter 5 letter word\n",
      "Please tell me a 5-letter word: 123wa\n",
      "0\n",
      "As advised, please enter 5 letter word\n",
      "Please tell me a 5-letter word: greet\n",
      "0\n",
      "Please tell me a 5-letter word: dears\n",
      "1\n",
      "Please tell me a 5-letter word: pears\n",
      "2\n",
      "Please tell me a 5-letter word: learns\n",
      "3\n",
      "As advised, please enter 5 letter word\n",
      "Please tell me a 5-letter word: apple\n",
      "3\n",
      "Please tell me a 5-letter word: learn\n",
      "4\n",
      "You have lost\n"
     ]
    }
   ],
   "source": [
    "max_turns = 5\n",
    "n_turn = 0\n",
    "while True:\n",
    "    guess = input(\"Please tell me a 5-letter word: \").lower()\n",
    "    print(n_turn)\n",
    "    \n",
    "    if len(guess) != len(guess_word) or not guess.isalpha():\n",
    "        print(\"As advised, please enter 5 letter word\")\n",
    "        continue\n",
    "    \n",
    "    if guess == guess_word:\n",
    "        print(\"Congratulations! You have won\")\n",
    "        break\n",
    "    n_turn += 1\n",
    "    \n",
    "    if n_turn == max_turns:\n",
    "        print(\"You have lost\")\n",
    "        break"
   ]
  },
  {
   "cell_type": "code",
   "execution_count": 26,
   "id": "46be0c3e",
   "metadata": {},
   "outputs": [
    {
     "name": "stdout",
     "output_type": "stream",
     "text": [
      "WAQ\n"
     ]
    }
   ],
   "source": [
    "print(\"W\", end = \"\")\n",
    "print(\"A\", end = \"\")\n",
    "print(\"Q\")"
   ]
  },
  {
   "cell_type": "code",
   "execution_count": 28,
   "id": "6fcd8db1",
   "metadata": {},
   "outputs": [
    {
     "name": "stdout",
     "output_type": "stream",
     "text": [
      "Please tell me a 5-letter word: learn\n",
      "0\n",
      "Please tell me a 5-letter word: dears\n",
      "1\n",
      "sPlease tell me a 5-letter word: pears\n",
      "2\n",
      "sPlease tell me a 5-letter word: guess\n",
      "3\n",
      "sPlease tell me a 5-letter word: bears\n",
      "4\n",
      "sYou have lost\n"
     ]
    }
   ],
   "source": [
    "max_turns = 5\n",
    "n_turn = 0\n",
    "while True:\n",
    "    guess = input(\"Please tell me a 5-letter word: \").lower()\n",
    "    print(n_turn)\n",
    "    \n",
    "    if len(guess) != len(guess_word) or not guess.isalpha():\n",
    "        print(\"As advised, please enter 5 letter word\")\n",
    "        continue\n",
    "    \n",
    "    ind = 0\n",
    "    for c in guess:\n",
    "        if c == guess_word[ind]:\n",
    "            print(c,end = \"\")\n",
    "        ind += 1\n",
    "    if guess == guess_word:\n",
    "        print(\"Congratulations! You have won\")\n",
    "        break\n",
    "    n_turn += 1\n",
    "    \n",
    "    if n_turn == max_turns:\n",
    "        print(\"You have lost\")\n",
    "        break"
   ]
  },
  {
   "cell_type": "code",
   "execution_count": 29,
   "id": "79e3fa3d",
   "metadata": {},
   "outputs": [
    {
     "data": {
      "text/plain": [
       "True"
      ]
     },
     "execution_count": 29,
     "metadata": {},
     "output_type": "execute_result"
    }
   ],
   "source": [
    "\"Umer\"\n",
    "\"uenr\"\n",
    "\n",
    "\"e\" in \"umer\""
   ]
  },
  {
   "cell_type": "code",
   "execution_count": 38,
   "id": "4a658e70",
   "metadata": {},
   "outputs": [
    {
     "name": "stdout",
     "output_type": "stream",
     "text": [
      "Please tell me a 5-letter word: grass\n",
      "_ _ _ _ s \n",
      "\n",
      "Incorrect Char: ['g', 'r', 'a']\n",
      "Incorrect Positions: []\n",
      "1\n",
      "Please tell me a 5-letter word: kings\n",
      "_ _ _ _ s \n",
      "\n",
      "Incorrect Char: ['g', 'r', 'a', 'k', 'i', 'n', 'g']\n",
      "Incorrect Positions: []\n",
      "2\n",
      "Please tell me a 5-letter word: clots\n",
      "_ _ _ _ s \n",
      "\n",
      "Incorrect Char: ['g', 'r', 'a', 'k', 'i', 'n', 'g', 'c', 'o', 't']\n",
      "Incorrect Positions: ['l']\n",
      "3\n",
      "Please tell me a 5-letter word: helps\n",
      "h e l p s \n",
      "\n",
      "Incorrect Char: ['g', 'r', 'a', 'k', 'i', 'n', 'g', 'c', 'o', 't']\n",
      "Incorrect Positions: []\n",
      "Congratulations! You have won\n"
     ]
    }
   ],
   "source": [
    "inc_pos = []\n",
    "inc_chr = []\n",
    "\n",
    "max_turns = 5\n",
    "n_turn = 0\n",
    "while True:\n",
    "    guess = input(\"Please tell me a 5-letter word: \").lower()\n",
    "    \n",
    "    \n",
    "    if len(guess) != len(guess_word) or not guess.isalpha():\n",
    "        print(\"As advised, please enter 5 letter word\")\n",
    "        continue\n",
    "    \n",
    "    ind = 0\n",
    "    for c in guess:\n",
    "        if c == guess_word[ind]:\n",
    "            print(c,end = \" \")\n",
    "            if c in inc_pos:\n",
    "                inc_pos.remove(c)\n",
    "            \n",
    "        elif c in guess_word:\n",
    "            print(\"_\", end = \" \")\n",
    "            inc_pos.append(c)\n",
    "        else:\n",
    "            print(\"_\", end = \" \")\n",
    "            inc_chr.append(c)\n",
    "        \n",
    "        ind += 1\n",
    "    print(\"\\n\")\n",
    "    print(\"Incorrect Char:\", inc_chr) \n",
    "    print(\"Incorrect Positions:\", inc_pos)\n",
    "    if guess == guess_word:\n",
    "        print(\"Congratulations! You have won\")\n",
    "        break\n",
    "    n_turn += 1\n",
    "    print(n_turn)\n",
    "    if n_turn == max_turns:\n",
    "        print(\"You have lost\")\n",
    "        break"
   ]
  },
  {
   "cell_type": "markdown",
   "id": "41bc251c",
   "metadata": {},
   "source": [
    "# Dictionary"
   ]
  },
  {
   "cell_type": "code",
   "execution_count": 48,
   "id": "cdf04105",
   "metadata": {},
   "outputs": [],
   "source": [
    "d = {1,2}"
   ]
  },
  {
   "cell_type": "code",
   "execution_count": 49,
   "id": "8389e8eb",
   "metadata": {},
   "outputs": [
    {
     "data": {
      "text/plain": [
       "set"
      ]
     },
     "execution_count": 49,
     "metadata": {},
     "output_type": "execute_result"
    }
   ],
   "source": [
    "type(d)"
   ]
  },
  {
   "cell_type": "code",
   "execution_count": 50,
   "id": "591e7747",
   "metadata": {},
   "outputs": [
    {
     "data": {
      "text/plain": [
       "dict"
      ]
     },
     "execution_count": 50,
     "metadata": {},
     "output_type": "execute_result"
    }
   ],
   "source": [
    "d = {}\n",
    "\n",
    "type(d)"
   ]
  },
  {
   "cell_type": "code",
   "execution_count": 51,
   "id": "c8d3b3a4",
   "metadata": {},
   "outputs": [],
   "source": [
    "# Dictionary is a key value pair\n",
    "\n",
    "d = {\"name\":\"Waqas\", \n",
    "     1: \"Age\"}"
   ]
  },
  {
   "cell_type": "code",
   "execution_count": 52,
   "id": "1a2a5664",
   "metadata": {},
   "outputs": [
    {
     "data": {
      "text/plain": [
       "{'name': 'Waqas', 1: 'Age'}"
      ]
     },
     "execution_count": 52,
     "metadata": {},
     "output_type": "execute_result"
    }
   ],
   "source": [
    "d"
   ]
  },
  {
   "cell_type": "code",
   "execution_count": 53,
   "id": "2727528e",
   "metadata": {},
   "outputs": [
    {
     "ename": "TypeError",
     "evalue": "unhashable type: 'list'",
     "output_type": "error",
     "traceback": [
      "\u001b[1;31m---------------------------------------------------------------------------\u001b[0m",
      "\u001b[1;31mTypeError\u001b[0m                                 Traceback (most recent call last)",
      "Cell \u001b[1;32mIn[53], line 1\u001b[0m\n\u001b[1;32m----> 1\u001b[0m {[\u001b[38;5;241m1\u001b[39m,\u001b[38;5;241m2\u001b[39m,\u001b[38;5;241m3\u001b[39m,\u001b[38;5;241m4\u001b[39m]:\u001b[38;5;124m\"\u001b[39m\u001b[38;5;124mMy list\u001b[39m\u001b[38;5;124m\"\u001b[39m}\n",
      "\u001b[1;31mTypeError\u001b[0m: unhashable type: 'list'"
     ]
    }
   ],
   "source": [
    "{[1,2,3,4]:\"My list\"}"
   ]
  },
  {
   "cell_type": "code",
   "execution_count": 56,
   "id": "b8629707",
   "metadata": {},
   "outputs": [
    {
     "data": {
      "text/plain": [
       "-3020310449382907317"
      ]
     },
     "execution_count": 56,
     "metadata": {},
     "output_type": "execute_result"
    }
   ],
   "source": [
    "hash(\"Waqas\")"
   ]
  },
  {
   "cell_type": "code",
   "execution_count": 57,
   "id": "ac67c5e1",
   "metadata": {},
   "outputs": [
    {
     "data": {
      "text/plain": [
       "1"
      ]
     },
     "execution_count": 57,
     "metadata": {},
     "output_type": "execute_result"
    }
   ],
   "source": [
    "hash(True)"
   ]
  },
  {
   "cell_type": "code",
   "execution_count": 58,
   "id": "88a35f72",
   "metadata": {},
   "outputs": [
    {
     "ename": "TypeError",
     "evalue": "unhashable type: 'list'",
     "output_type": "error",
     "traceback": [
      "\u001b[1;31m---------------------------------------------------------------------------\u001b[0m",
      "\u001b[1;31mTypeError\u001b[0m                                 Traceback (most recent call last)",
      "Cell \u001b[1;32mIn[58], line 1\u001b[0m\n\u001b[1;32m----> 1\u001b[0m \u001b[38;5;28;43mhash\u001b[39;49m\u001b[43m(\u001b[49m\u001b[43m[\u001b[49m\u001b[38;5;241;43m1\u001b[39;49m\u001b[43m,\u001b[49m\u001b[38;5;241;43m2\u001b[39;49m\u001b[43m,\u001b[49m\u001b[38;5;241;43m3\u001b[39;49m\u001b[43m]\u001b[49m\u001b[43m)\u001b[49m\n",
      "\u001b[1;31mTypeError\u001b[0m: unhashable type: 'list'"
     ]
    }
   ],
   "source": [
    "hash([1,2,3])"
   ]
  },
  {
   "cell_type": "code",
   "execution_count": 59,
   "id": "03546fd1",
   "metadata": {},
   "outputs": [
    {
     "ename": "TypeError",
     "evalue": "unhashable type: 'dict'",
     "output_type": "error",
     "traceback": [
      "\u001b[1;31m---------------------------------------------------------------------------\u001b[0m",
      "\u001b[1;31mTypeError\u001b[0m                                 Traceback (most recent call last)",
      "Cell \u001b[1;32mIn[59], line 1\u001b[0m\n\u001b[1;32m----> 1\u001b[0m \u001b[38;5;28;43mhash\u001b[39;49m\u001b[43m(\u001b[49m\u001b[43m{\u001b[49m\u001b[38;5;241;43m1\u001b[39;49m\u001b[43m:\u001b[49m\u001b[38;5;241;43m2\u001b[39;49m\u001b[43m}\u001b[49m\u001b[43m)\u001b[49m\n",
      "\u001b[1;31mTypeError\u001b[0m: unhashable type: 'dict'"
     ]
    }
   ],
   "source": [
    "hash({1:2})"
   ]
  },
  {
   "cell_type": "code",
   "execution_count": 60,
   "id": "ca89977f",
   "metadata": {},
   "outputs": [
    {
     "data": {
      "text/plain": [
       "{'Salaries': [5000, 4000, 800]}"
      ]
     },
     "execution_count": 60,
     "metadata": {},
     "output_type": "execute_result"
    }
   ],
   "source": [
    "{\"Salaries\": [5000,4000,800]}"
   ]
  },
  {
   "cell_type": "code",
   "execution_count": 61,
   "id": "e97ce465",
   "metadata": {},
   "outputs": [],
   "source": [
    "thisdict = {\n",
    "  \"brand\": \"Ford\",\n",
    "  \"model\": \"Mustang\",\n",
    "  \"year\": 1964\n",
    "}"
   ]
  },
  {
   "cell_type": "code",
   "execution_count": 62,
   "id": "406b828b",
   "metadata": {},
   "outputs": [
    {
     "data": {
      "text/plain": [
       "1964"
      ]
     },
     "execution_count": 62,
     "metadata": {},
     "output_type": "execute_result"
    }
   ],
   "source": [
    "thisdict[\"year\"]"
   ]
  },
  {
   "cell_type": "code",
   "execution_count": 63,
   "id": "a57d79b9",
   "metadata": {},
   "outputs": [
    {
     "data": {
      "text/plain": [
       "['__class__',\n",
       " '__class_getitem__',\n",
       " '__contains__',\n",
       " '__delattr__',\n",
       " '__delitem__',\n",
       " '__dir__',\n",
       " '__doc__',\n",
       " '__eq__',\n",
       " '__format__',\n",
       " '__ge__',\n",
       " '__getattribute__',\n",
       " '__getitem__',\n",
       " '__getstate__',\n",
       " '__gt__',\n",
       " '__hash__',\n",
       " '__init__',\n",
       " '__init_subclass__',\n",
       " '__ior__',\n",
       " '__iter__',\n",
       " '__le__',\n",
       " '__len__',\n",
       " '__lt__',\n",
       " '__ne__',\n",
       " '__new__',\n",
       " '__or__',\n",
       " '__reduce__',\n",
       " '__reduce_ex__',\n",
       " '__repr__',\n",
       " '__reversed__',\n",
       " '__ror__',\n",
       " '__setattr__',\n",
       " '__setitem__',\n",
       " '__sizeof__',\n",
       " '__str__',\n",
       " '__subclasshook__',\n",
       " 'clear',\n",
       " 'copy',\n",
       " 'fromkeys',\n",
       " 'get',\n",
       " 'items',\n",
       " 'keys',\n",
       " 'pop',\n",
       " 'popitem',\n",
       " 'setdefault',\n",
       " 'update',\n",
       " 'values']"
      ]
     },
     "execution_count": 63,
     "metadata": {},
     "output_type": "execute_result"
    }
   ],
   "source": [
    "dir(thisdict)"
   ]
  },
  {
   "cell_type": "code",
   "execution_count": 64,
   "id": "d164abad",
   "metadata": {},
   "outputs": [
    {
     "data": {
      "text/plain": [
       "dict_keys(['brand', 'model', 'year'])"
      ]
     },
     "execution_count": 64,
     "metadata": {},
     "output_type": "execute_result"
    }
   ],
   "source": [
    "thisdict.keys()"
   ]
  },
  {
   "cell_type": "code",
   "execution_count": 65,
   "id": "014ce422",
   "metadata": {},
   "outputs": [
    {
     "data": {
      "text/plain": [
       "dict_values(['Ford', 'Mustang', 1964])"
      ]
     },
     "execution_count": 65,
     "metadata": {},
     "output_type": "execute_result"
    }
   ],
   "source": [
    "thisdict.values()"
   ]
  },
  {
   "cell_type": "code",
   "execution_count": 66,
   "id": "30b9b7bd",
   "metadata": {},
   "outputs": [
    {
     "data": {
      "text/plain": [
       "{'brand': 'Ford', 'model': 'Mustang', 'year': 1964}"
      ]
     },
     "execution_count": 66,
     "metadata": {},
     "output_type": "execute_result"
    }
   ],
   "source": [
    "thisdict"
   ]
  },
  {
   "cell_type": "code",
   "execution_count": 67,
   "id": "0cf248ea",
   "metadata": {},
   "outputs": [
    {
     "data": {
      "text/plain": [
       "1964"
      ]
     },
     "execution_count": 67,
     "metadata": {},
     "output_type": "execute_result"
    }
   ],
   "source": [
    "thisdict[\"year\"]"
   ]
  },
  {
   "cell_type": "code",
   "execution_count": 68,
   "id": "cd34ab52",
   "metadata": {},
   "outputs": [],
   "source": [
    "thisdict[\"year\"] = 1965"
   ]
  },
  {
   "cell_type": "code",
   "execution_count": 69,
   "id": "56132091",
   "metadata": {},
   "outputs": [
    {
     "data": {
      "text/plain": [
       "{'brand': 'Ford', 'model': 'Mustang', 'year': 1965}"
      ]
     },
     "execution_count": 69,
     "metadata": {},
     "output_type": "execute_result"
    }
   ],
   "source": [
    "thisdict"
   ]
  },
  {
   "cell_type": "code",
   "execution_count": 70,
   "id": "6f593bcf",
   "metadata": {},
   "outputs": [],
   "source": [
    "thisdict[\"country\"] = \"German\""
   ]
  },
  {
   "cell_type": "code",
   "execution_count": 71,
   "id": "a604dbf7",
   "metadata": {},
   "outputs": [
    {
     "data": {
      "text/plain": [
       "{'brand': 'Ford', 'model': 'Mustang', 'year': 1965, 'country': 'German'}"
      ]
     },
     "execution_count": 71,
     "metadata": {},
     "output_type": "execute_result"
    }
   ],
   "source": [
    "thisdict"
   ]
  },
  {
   "cell_type": "code",
   "execution_count": 72,
   "id": "c25dbc25",
   "metadata": {},
   "outputs": [],
   "source": [
    "thisdict[\"Country\"] = \"German\""
   ]
  },
  {
   "cell_type": "code",
   "execution_count": 73,
   "id": "d1e70e07",
   "metadata": {},
   "outputs": [
    {
     "data": {
      "text/plain": [
       "{'brand': 'Ford',\n",
       " 'model': 'Mustang',\n",
       " 'year': 1965,\n",
       " 'country': 'German',\n",
       " 'Country': 'German'}"
      ]
     },
     "execution_count": 73,
     "metadata": {},
     "output_type": "execute_result"
    }
   ],
   "source": [
    "thisdict"
   ]
  },
  {
   "cell_type": "code",
   "execution_count": 74,
   "id": "2295a800",
   "metadata": {},
   "outputs": [
    {
     "data": {
      "text/plain": [
       "'German'"
      ]
     },
     "execution_count": 74,
     "metadata": {},
     "output_type": "execute_result"
    }
   ],
   "source": [
    "thisdict.pop('country')"
   ]
  },
  {
   "cell_type": "code",
   "execution_count": 75,
   "id": "ea3a7a58",
   "metadata": {},
   "outputs": [
    {
     "data": {
      "text/plain": [
       "{'brand': 'Ford', 'model': 'Mustang', 'year': 1965, 'Country': 'German'}"
      ]
     },
     "execution_count": 75,
     "metadata": {},
     "output_type": "execute_result"
    }
   ],
   "source": [
    "thisdict"
   ]
  },
  {
   "cell_type": "code",
   "execution_count": 76,
   "id": "4e65ceca",
   "metadata": {},
   "outputs": [
    {
     "name": "stdout",
     "output_type": "stream",
     "text": [
      "brand\n",
      "model\n",
      "year\n",
      "Country\n"
     ]
    }
   ],
   "source": [
    "for i in thisdict:\n",
    "    print(i)"
   ]
  },
  {
   "cell_type": "code",
   "execution_count": 77,
   "id": "a8fecaa6",
   "metadata": {},
   "outputs": [
    {
     "name": "stdout",
     "output_type": "stream",
     "text": [
      "Ford\n",
      "Mustang\n",
      "1965\n",
      "German\n"
     ]
    }
   ],
   "source": [
    "for i in thisdict:\n",
    "    print(thisdict[i])"
   ]
  },
  {
   "cell_type": "code",
   "execution_count": 78,
   "id": "b46f85fe",
   "metadata": {},
   "outputs": [
    {
     "name": "stdout",
     "output_type": "stream",
     "text": [
      "brand Ford\n",
      "model Mustang\n",
      "year 1965\n",
      "Country German\n"
     ]
    }
   ],
   "source": [
    "for key in thisdict:\n",
    "    print(key, thisdict[key])"
   ]
  },
  {
   "cell_type": "code",
   "execution_count": 79,
   "id": "1449573e",
   "metadata": {},
   "outputs": [
    {
     "name": "stdout",
     "output_type": "stream",
     "text": [
      "Ford\n",
      "Mustang\n",
      "1965\n",
      "German\n"
     ]
    }
   ],
   "source": [
    "for v in thisdict.values(): # ['Ford', 'Mustang', 1964, German]\n",
    "    print(v)"
   ]
  },
  {
   "cell_type": "code",
   "execution_count": 80,
   "id": "1263e126",
   "metadata": {},
   "outputs": [
    {
     "name": "stdout",
     "output_type": "stream",
     "text": [
      "brand\n",
      "model\n",
      "year\n",
      "Country\n"
     ]
    }
   ],
   "source": [
    "for key in thisdict.keys(): \n",
    "    print(key)"
   ]
  },
  {
   "cell_type": "code",
   "execution_count": 85,
   "id": "11ac88ef",
   "metadata": {},
   "outputs": [
    {
     "data": {
      "text/plain": [
       "('brand', 'Ford')"
      ]
     },
     "execution_count": 85,
     "metadata": {},
     "output_type": "execute_result"
    }
   ],
   "source": [
    "b= ('brand', 'Ford')\n",
    "\n",
    "b"
   ]
  },
  {
   "cell_type": "code",
   "execution_count": 86,
   "id": "f7bf6a2f",
   "metadata": {},
   "outputs": [
    {
     "data": {
      "text/plain": [
       "'brand'"
      ]
     },
     "execution_count": 86,
     "metadata": {},
     "output_type": "execute_result"
    }
   ],
   "source": [
    "b, f= ('brand', 'Ford')\n",
    "\n",
    "b"
   ]
  },
  {
   "cell_type": "code",
   "execution_count": 87,
   "id": "542493d3",
   "metadata": {},
   "outputs": [
    {
     "data": {
      "text/plain": [
       "'Ford'"
      ]
     },
     "execution_count": 87,
     "metadata": {},
     "output_type": "execute_result"
    }
   ],
   "source": [
    "f"
   ]
  },
  {
   "cell_type": "code",
   "execution_count": 81,
   "id": "a7ab5450",
   "metadata": {},
   "outputs": [
    {
     "data": {
      "text/plain": [
       "dict_items([('brand', 'Ford'), ('model', 'Mustang'), ('year', 1965), ('Country', 'German')])"
      ]
     },
     "execution_count": 81,
     "metadata": {},
     "output_type": "execute_result"
    }
   ],
   "source": [
    "thisdict.items()"
   ]
  },
  {
   "cell_type": "code",
   "execution_count": 84,
   "id": "067c1c27",
   "metadata": {},
   "outputs": [
    {
     "name": "stdout",
     "output_type": "stream",
     "text": [
      "Ford brand\n",
      "Mustang model\n",
      "1965 year\n",
      "German Country\n"
     ]
    }
   ],
   "source": [
    "for key, val in thisdict.items(): \n",
    "    print(val, key)"
   ]
  },
  {
   "cell_type": "code",
   "execution_count": 88,
   "id": "acc271ec",
   "metadata": {},
   "outputs": [],
   "source": [
    "import requests"
   ]
  },
  {
   "cell_type": "code",
   "execution_count": null,
   "id": "4354f6b6",
   "metadata": {},
   "outputs": [],
   "source": []
  }
 ],
 "metadata": {
  "kernelspec": {
   "display_name": "Python 3 (ipykernel)",
   "language": "python",
   "name": "python3"
  },
  "language_info": {
   "codemirror_mode": {
    "name": "ipython",
    "version": 3
   },
   "file_extension": ".py",
   "mimetype": "text/x-python",
   "name": "python",
   "nbconvert_exporter": "python",
   "pygments_lexer": "ipython3",
   "version": "3.11.3"
  }
 },
 "nbformat": 4,
 "nbformat_minor": 5
}
