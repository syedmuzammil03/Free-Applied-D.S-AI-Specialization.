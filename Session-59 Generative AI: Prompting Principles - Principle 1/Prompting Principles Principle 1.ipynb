{
 "cells": [
  {
   "cell_type": "code",
   "execution_count": 1,
   "id": "5d4c08bb",
   "metadata": {
    "height": 149
   },
   "outputs": [],
   "source": [
    "import openai\n",
    "import os\n",
    "\n",
    "from dotenv import load_dotenv\n",
    "\n",
    "load_dotenv()\n",
    "\n",
    "openai.api_key  = os.getenv('OPENAI_API_KEY')"
   ]
  },
  {
   "cell_type": "code",
   "execution_count": 2,
   "id": "da0c9a44",
   "metadata": {
    "height": 115
   },
   "outputs": [
    {
     "data": {
      "text/plain": [
       "'Hello! How can I assist you today?'"
      ]
     },
     "execution_count": 2,
     "metadata": {},
     "output_type": "execute_result"
    }
   ],
   "source": [
    "model = \"gpt-3.5-turbo\"\n",
    "messages =  [{\"role\": \"user\", \"content\": \"Hi\"}]\n",
    "\n",
    "response = openai.ChatCompletion.create(model = model,messages = messages )\n",
    "\n",
    "response.choices[0].message[\"content\"]"
   ]
  },
  {
   "cell_type": "code",
   "execution_count": 3,
   "id": "1c7a5ea6",
   "metadata": {
    "height": 132
   },
   "outputs": [],
   "source": [
    "def get_completion(prompt, model=\"gpt-3.5-turbo\"):\n",
    "    messages = [{\"role\": \"user\", \"content\": prompt}]\n",
    "    response = openai.ChatCompletion.create(\n",
    "        model=model,\n",
    "        messages=messages,\n",
    "    )\n",
    "    return response.choices[0].message[\"content\"]"
   ]
  },
  {
   "cell_type": "code",
   "execution_count": 4,
   "id": "b6adedf4",
   "metadata": {
    "height": 30
   },
   "outputs": [
    {
     "data": {
      "text/plain": [
       "'I am an AI digital assistant designed to help answer questions and assist with various tasks. How can I assist you today?'"
      ]
     },
     "execution_count": 4,
     "metadata": {},
     "output_type": "execute_result"
    }
   ],
   "source": [
    "get_completion(\"Who are you\")"
   ]
  },
  {
   "cell_type": "markdown",
   "id": "13b482cd",
   "metadata": {
    "height": 30
   },
   "source": [
    "# Prompting Principles\n",
    "\n",
    "## Principle 1: Write clear and specific instructions\n",
    "### Tactics\n",
    "\n",
    "#### Tactic 1: Use delimiters to clearly indicate distinct parts of the input"
   ]
  },
  {
   "cell_type": "code",
   "execution_count": 5,
   "id": "d57eebc7",
   "metadata": {
    "height": 319
   },
   "outputs": [
    {
     "name": "stdout",
     "output_type": "stream",
     "text": [
      "In a quiet village, a scarecrow and a crow set off on a journey inspired by tales of adventure, teaching them about friendship, courage, and the endless possibilities of a brave heart.\n"
     ]
    }
   ],
   "source": [
    "text = \"\"\"\n",
    "In a quiet village nestled between rolling hills, a lone scarecrow stood watch over the golden fields. \\\n",
    "Every day, it gazed at the passing clouds, dreaming of adventures beyond the horizon. One windy night, \\\n",
    "a mischievous crow named Oliver landed on the scarecrow's outstretched arm, seeking shelter from the storm. \\\n",
    "Surprised but curious, the scarecrow listened intently as Oliver recounted tales of faraway lands and daring escapades. \\\n",
    "Inspired by the crow's stories, the scarecrow yearned to experience the world beyond its post. \\\n",
    "With a newfound sense of purpose, the scarecrow bid farewell to the fields and set off into the unknown, \\\n",
    "guided by the stars and fueled by dreams of grand adventures. And so, the unlikely duo of scarecrow and crow \\\n",
    "embarked on a journey that would forever change their destinies, teaching them the true meaning of friendship, \\\n",
    "courage, and the endless possibilities of a brave heart.\n",
    "\"\"\"\n",
    "prompt = f\"\"\"\n",
    "Summarize the text delimited by triple backticks \\ \n",
    "into a single sentence.\n",
    "```{text}```\n",
    "\"\"\"\n",
    "response = get_completion(prompt)\n",
    "print(response)"
   ]
  },
  {
   "cell_type": "markdown",
   "id": "cb2d78af",
   "metadata": {
    "height": 30
   },
   "source": [
    "#### Tactic 2: Ask for a structured output\n",
    "\n",
    "-   List, Dictionary, Json, Html"
   ]
  },
  {
   "cell_type": "code",
   "execution_count": null,
   "id": "6a6eafe3",
   "metadata": {
    "height": 166
   },
   "outputs": [],
   "source": [
    "prompt = f\"\"\"\n",
    "Generate a list of three made-up book titles along \\ \n",
    "with their authors and genres. \n",
    "\n",
    "Provide them in a json format with the following keys: \n",
    "book_id, title, author, genre.\n",
    "\"\"\"\n",
    "response = get_completion(prompt)\n",
    "print(response)"
   ]
  },
  {
   "cell_type": "markdown",
   "id": "07f50eb4",
   "metadata": {
    "height": 30
   },
   "source": [
    "#### Tactic 3: Ask the model to check whether conditions are satisfied"
   ]
  },
  {
   "cell_type": "code",
   "execution_count": 7,
   "id": "ef208fb9",
   "metadata": {
    "height": 506
   },
   "outputs": [
    {
     "name": "stdout",
     "output_type": "stream",
     "text": [
      "Completion for Text 1:\n",
      "Step 1 - Soak 2 cups of basmati rice for 30 minutes.\n",
      "Step 2 - Heat 4 tablespoons of cooking oil or ghee in a large pot or pressure cooker, add cumin seeds, bay leaves, cloves, cardamom pods, and a cinnamon stick.\n",
      "Step 3 - Sauté thinly sliced onions until golden brown, then add ginger-garlic paste and green chilies.\n",
      "Step 4 - Stir in chopped tomatoes until they soften, then add 500g of chicken pieces and cook until lightly browned.\n",
      "Step 5 - Add 1 cup of plain yogurt, coriander powder, turmeric powder, red chili powder, salt, and chopped coriander and mint leaves. Mix well.\n",
      "Step 6 - Add the drained rice and enough water (about 3 cups) to cook it.\n",
      "Step 7 - Cover and cook until the rice and chicken are tender.\n",
      "Step 8 - Garnish with fried onions and saffron-soaked milk if desired. Serve hot with raita. Adjust spices according to taste. Enjoy the flavorful biryani!\n"
     ]
    }
   ],
   "source": [
    "text_1 = \"\"\"\n",
    "To prepare a delicious chicken biryani, start by soaking 2 cups of basmati rice for 30 minutes. \\\n",
    "In a large pot or pressure cooker, heat 4 tablespoons of cooking oil or ghee and add cumin seeds, \\\n",
    "bay leaves, cloves, cardamom pods, and a cinnamon stick. Sauté thinly sliced onions until golden brown, \\\n",
    "then add ginger-garlic paste and green chilies. Stir in chopped tomatoes until they soften, then add 500g of \\\n",
    "chicken pieces and cook until lightly browned. Add 1 cup of plain yogurt, coriander powder, turmeric powder, \\\n",
    "red chili powder, salt, and chopped coriander and mint leaves. Mix well, \\\n",
    "then add the drained rice and enough water (about 3 cups) to cook it. Cover and cook until the rice and \\\n",
    "chicken are tender. Garnish with fried onions and saffron-soaked milk if desired. Serve hot with raita and \\\n",
    "enjoy the flavorful biryani! Adjust spices according to taste.\n",
    "\"\"\"\n",
    "prompt = f\"\"\"\n",
    "You will be provided with text delimited by triple quotes. \n",
    "If it contains a sequence of instructions, \\ \n",
    "re-write those instructions in the following format:\n",
    "\n",
    "Step 1 - ...\n",
    "Step 2 - …\n",
    "…\n",
    "Step N - …\n",
    "\n",
    "If the text does not contain a sequence of instructions, \\ \n",
    "then simply write \\\"No steps provided.\\\"\n",
    "\n",
    "\\\"\\\"\\\"{text_1}\\\"\\\"\\\"\n",
    "\"\"\"\n",
    "response = get_completion(prompt)\n",
    "print(\"Completion for Text 1:\")\n",
    "print(response)"
   ]
  },
  {
   "cell_type": "code",
   "execution_count": 8,
   "id": "1a21aa63",
   "metadata": {
    "height": 438
   },
   "outputs": [
    {
     "name": "stdout",
     "output_type": "stream",
     "text": [
      "Completion for Text 2:\n",
      "No steps provided.\n"
     ]
    }
   ],
   "source": [
    "text_2 = \"\"\"\n",
    "A beautiful morning is a canvas painted with hues of serenity and possibility. As the sun rises, \\\n",
    "its golden rays dance upon dew-kissed petals, awakening the world in a symphony of light and fragrance. \\\n",
    "The air is crisp and invigorating, carrying whispers of nature's secrets and promises. Birds join in the chorus, \\\n",
    "their melodious songs filling the air with joy and renewal. Each breath taken in the tranquility of a beautiful \\\n",
    "morning is a reminder of the precious gift of life and the boundless opportunities that await with each new day.\n",
    "\"\"\"\n",
    "prompt = f\"\"\"\n",
    "You will be provided with text delimited by triple quotes. \n",
    "If it contains a sequence of instructions, \\ \n",
    "re-write those instructions in the following format:\n",
    "\n",
    "Step 1 - ...\n",
    "Step 2 - …\n",
    "…\n",
    "Step N - …\n",
    "\n",
    "If the text does not contain a sequence of instructions, \\ \n",
    "then simply write \\\"No steps provided.\\\"\n",
    "\n",
    "\\\"\\\"\\\"{text_2}\\\"\\\"\\\"\n",
    "\"\"\"\n",
    "response = get_completion(prompt)\n",
    "print(\"Completion for Text 2:\")\n",
    "print(response)"
   ]
  },
  {
   "cell_type": "markdown",
   "id": "f60f841e",
   "metadata": {
    "height": 30
   },
   "source": [
    "#### Tactic 4: \"Few-shot\" prompting"
   ]
  },
  {
   "cell_type": "code",
   "execution_count": 9,
   "id": "bf0a0ec6",
   "metadata": {
    "height": 251
   },
   "outputs": [
    {
     "name": "stdout",
     "output_type": "stream",
     "text": [
      "<grandparent>: Kindness is important because it has the power to brighten someone's day, lift their spirits, and create a sense of connection and community. It fosters empathy, compassion, and overall well-being for both the giver and the recipient. Showing kindness can truly make the world a better place.\n"
     ]
    }
   ],
   "source": [
    "prompt = f\"\"\"\n",
    "Your task is to answer in a consistent style.\n",
    "\n",
    "<child>: Teach me about kindness.\n",
    "\n",
    "<grandparent>: Kindness, my dear, is like a gentle breeze that touches everyone \\\n",
    "it reaches, bringing warmth and comfort. \\\n",
    "It's in the simple acts of compassion and understanding that we show towards others.\n",
    "\n",
    "<child>: Why is kindness important?\n",
    "\n",
    "\"\"\"\n",
    "response = get_completion(prompt)\n",
    "print(response)"
   ]
  }
 ],
 "metadata": {
  "kernelspec": {
   "display_name": "Python 3 (ipykernel)",
   "language": "python",
   "name": "python3"
  },
  "language_info": {
   "codemirror_mode": {
    "name": "ipython",
    "version": 3
   },
   "file_extension": ".py",
   "mimetype": "text/x-python",
   "name": "python",
   "nbconvert_exporter": "python",
   "pygments_lexer": "ipython3",
   "version": "3.9.16"
  }
 },
 "nbformat": 4,
 "nbformat_minor": 5
}
