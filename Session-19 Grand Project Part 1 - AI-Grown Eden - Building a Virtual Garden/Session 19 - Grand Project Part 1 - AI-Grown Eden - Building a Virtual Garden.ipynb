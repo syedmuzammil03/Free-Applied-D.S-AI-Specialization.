{
 "cells": [
  {
   "cell_type": "markdown",
   "id": "1989f4fc",
   "metadata": {},
   "source": [
    "# Virtual Garden"
   ]
  },
  {
   "cell_type": "code",
   "execution_count": 1,
   "id": "f9169607",
   "metadata": {},
   "outputs": [
    {
     "data": {
      "text/plain": [
       "2"
      ]
     },
     "execution_count": 1,
     "metadata": {},
     "output_type": "execute_result"
    }
   ],
   "source": [
    "l = [8,7,3,2,1]\n",
    "\n",
    "l.index(3)"
   ]
  },
  {
   "cell_type": "code",
   "execution_count": null,
   "id": "876a711a",
   "metadata": {},
   "outputs": [],
   "source": [
    "class Plant:\n",
    "    def __init__(self, name, harvest_yield):\n",
    "        self.name = name\n",
    "        self.harvest_yield = harvest_yield\n",
    "        self.growth_stages = [\"seed\", \"sprout\", \"mature\", \"flower\", \"fruit\", \"harvest_ready\"]\n",
    "        self.current_stage = self.growth_stages[0]\n",
    "        self.harvestable = False\n",
    "        \n",
    "    def grow(self):\n",
    "        current_index = self.growth_stages.index(self.current_stage)\n",
    "        \n",
    "        if current_index < len(self.growth_stages)-1:\n",
    "            self.current_stage = self.growth_stages[current_index + 1]\n",
    "            if self.current_stage == \"harvest_ready\":\n",
    "                self.harvestable = True\n",
    "                \n",
    "        elif self.current_stage == \"harvest_ready\":\n",
    "            print(f\"{self.name} is already full grown\")\n",
    "            "
   ]
  },
  {
   "cell_type": "code",
   "execution_count": 2,
   "id": "a3c649c9",
   "metadata": {},
   "outputs": [],
   "source": [
    "class Plant:\n",
    "    def __init__(self, name, harvest_yield):\n",
    "        self.name = name\n",
    "        self.harvest_yield = harvest_yield\n",
    "        self.growth_stages = [\"seed\", \"sprout\", \"mature\", \"flower\", \"fruit\", \"harvest_ready\"]\n",
    "        self.current_stage = self.growth_stages[0]\n",
    "        self.harvestable = False\n",
    "        \n",
    "    def grow(self):\n",
    "        current_index = self.growth_stages.index(self.current_stage)\n",
    "        \n",
    "        if current_index < len(self.growth_stages)-1:\n",
    "            self.current_stage = self.growth_stages[current_index + 1]\n",
    "            if self.current_stage == self.growth_stages[-1]:\n",
    "                self.harvestable = True\n",
    "                \n",
    "        elif self.current_stage == self.growth_stages[-1]:\n",
    "            print(f\"{self.name} is already full grown\")\n",
    "            \n",
    "    def harvest(self):\n",
    "        if self.harvestable:\n",
    "            self.harvestable = False\n",
    "            return self.harvest_yield\n",
    "        else:\n",
    "            print(f\"Your {self.name} is not haravestable\")\n",
    "            "
   ]
  },
  {
   "cell_type": "code",
   "execution_count": 3,
   "id": "91f78514",
   "metadata": {},
   "outputs": [],
   "source": [
    "tomato = Plant(\"tomato\", 10)"
   ]
  },
  {
   "cell_type": "code",
   "execution_count": 4,
   "id": "f36387f6",
   "metadata": {},
   "outputs": [
    {
     "name": "stdout",
     "output_type": "stream",
     "text": [
      "Your tomato is not haravestable\n"
     ]
    }
   ],
   "source": [
    "tomato.harvest()"
   ]
  },
  {
   "cell_type": "code",
   "execution_count": 5,
   "id": "6ecbaf50",
   "metadata": {},
   "outputs": [
    {
     "data": {
      "text/plain": [
       "'seed'"
      ]
     },
     "execution_count": 5,
     "metadata": {},
     "output_type": "execute_result"
    }
   ],
   "source": [
    "tomato.current_stage"
   ]
  },
  {
   "cell_type": "code",
   "execution_count": 6,
   "id": "47a8bac4",
   "metadata": {},
   "outputs": [],
   "source": [
    "tomato.grow()"
   ]
  },
  {
   "cell_type": "code",
   "execution_count": 7,
   "id": "b954ce2d",
   "metadata": {},
   "outputs": [
    {
     "data": {
      "text/plain": [
       "'sprout'"
      ]
     },
     "execution_count": 7,
     "metadata": {},
     "output_type": "execute_result"
    }
   ],
   "source": [
    "tomato.current_stage"
   ]
  },
  {
   "cell_type": "code",
   "execution_count": 8,
   "id": "a4a20530",
   "metadata": {},
   "outputs": [
    {
     "data": {
      "text/plain": [
       "'mature'"
      ]
     },
     "execution_count": 8,
     "metadata": {},
     "output_type": "execute_result"
    }
   ],
   "source": [
    "tomato.grow()\n",
    "tomato.current_stage"
   ]
  },
  {
   "cell_type": "code",
   "execution_count": 9,
   "id": "e543bb07",
   "metadata": {},
   "outputs": [
    {
     "data": {
      "text/plain": [
       "'flower'"
      ]
     },
     "execution_count": 9,
     "metadata": {},
     "output_type": "execute_result"
    }
   ],
   "source": [
    "tomato.grow()\n",
    "tomato.current_stage"
   ]
  },
  {
   "cell_type": "code",
   "execution_count": 10,
   "id": "0f6f0464",
   "metadata": {},
   "outputs": [
    {
     "data": {
      "text/plain": [
       "'fruit'"
      ]
     },
     "execution_count": 10,
     "metadata": {},
     "output_type": "execute_result"
    }
   ],
   "source": [
    "tomato.grow()\n",
    "tomato.current_stage"
   ]
  },
  {
   "cell_type": "code",
   "execution_count": 11,
   "id": "5dfeb08a",
   "metadata": {},
   "outputs": [
    {
     "data": {
      "text/plain": [
       "'harvest_ready'"
      ]
     },
     "execution_count": 11,
     "metadata": {},
     "output_type": "execute_result"
    }
   ],
   "source": [
    "tomato.grow()\n",
    "tomato.current_stage"
   ]
  },
  {
   "cell_type": "code",
   "execution_count": 12,
   "id": "8c5bc4b9",
   "metadata": {},
   "outputs": [
    {
     "name": "stdout",
     "output_type": "stream",
     "text": [
      "tomato is already full grown\n"
     ]
    },
    {
     "data": {
      "text/plain": [
       "'harvest_ready'"
      ]
     },
     "execution_count": 12,
     "metadata": {},
     "output_type": "execute_result"
    }
   ],
   "source": [
    "tomato.grow()\n",
    "tomato.current_stage"
   ]
  },
  {
   "cell_type": "code",
   "execution_count": 13,
   "id": "6622e057",
   "metadata": {},
   "outputs": [
    {
     "name": "stdout",
     "output_type": "stream",
     "text": [
      "tomato is already full grown\n"
     ]
    },
    {
     "data": {
      "text/plain": [
       "'harvest_ready'"
      ]
     },
     "execution_count": 13,
     "metadata": {},
     "output_type": "execute_result"
    }
   ],
   "source": [
    "tomato.grow()\n",
    "tomato.current_stage"
   ]
  },
  {
   "cell_type": "code",
   "execution_count": 14,
   "id": "66b91603",
   "metadata": {},
   "outputs": [],
   "source": [
    "class Gardner:\n",
    "    \"\"\"Represent a gardner who can plant and harvest plants.\"\"\"\n",
    "    pass"
   ]
  },
  {
   "cell_type": "code",
   "execution_count": null,
   "id": "f060e211",
   "metadata": {},
   "outputs": [],
   "source": []
  }
 ],
 "metadata": {
  "kernelspec": {
   "display_name": "Python 3 (ipykernel)",
   "language": "python",
   "name": "python3"
  },
  "language_info": {
   "codemirror_mode": {
    "name": "ipython",
    "version": 3
   },
   "file_extension": ".py",
   "mimetype": "text/x-python",
   "name": "python",
   "nbconvert_exporter": "python",
   "pygments_lexer": "ipython3",
   "version": "3.11.5"
  }
 },
 "nbformat": 4,
 "nbformat_minor": 5
}
