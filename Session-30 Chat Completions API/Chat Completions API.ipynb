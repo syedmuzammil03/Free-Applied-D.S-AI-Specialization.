{
 "cells": [
  {
   "cell_type": "code",
   "execution_count": 16,
   "id": "7423c247",
   "metadata": {},
   "outputs": [],
   "source": [
    "from dotenv import load_dotenv\n",
    "import os\n",
    "from openai import OpenAI"
   ]
  },
  {
   "cell_type": "code",
   "execution_count": 17,
   "id": "e039d4ba",
   "metadata": {},
   "outputs": [
    {
     "data": {
      "text/plain": [
       "True"
      ]
     },
     "execution_count": 17,
     "metadata": {},
     "output_type": "execute_result"
    }
   ],
   "source": [
    "load_dotenv()"
   ]
  },
  {
   "cell_type": "code",
   "execution_count": 33,
   "id": "cc1fdda5",
   "metadata": {},
   "outputs": [],
   "source": [
    "# api_key=\"sk-...89bP\"\n",
    "# base_url=\"https://api.openai.com/v1.\""
   ]
  },
  {
   "cell_type": "code",
   "execution_count": 18,
   "id": "4316716f",
   "metadata": {},
   "outputs": [],
   "source": [
    "api_key = os.getenv(\"api_key\")\n",
    "base_url = os.getenv(\"base_url\")"
   ]
  },
  {
   "cell_type": "code",
   "execution_count": 19,
   "id": "28038b4a",
   "metadata": {},
   "outputs": [],
   "source": [
    "client = OpenAI(api_key=api_key, base_url =base_url)"
   ]
  },
  {
   "cell_type": "code",
   "execution_count": 20,
   "id": "77ae2bc1",
   "metadata": {},
   "outputs": [],
   "source": [
    "response = client.chat.completions.create(\n",
    "  model=\"models/openhermes-2.5-mistral-7b\",\n",
    "  messages=[\n",
    "    {\"role\": \"system\", \"content\": \"You are a helpful Data Science & AI Blogger. \\\n",
    "    Your response should be short\"},\n",
    "    {\"role\": \"user\", \"content\": \"Help me to write an article on Data Science & AI\"},\n",
    "    \n",
    "  ]\n",
    ")"
   ]
  },
  {
   "cell_type": "code",
   "execution_count": 21,
   "id": "a85defc8",
   "metadata": {},
   "outputs": [
    {
     "data": {
      "text/plain": [
       "openai.types.chat.chat_completion.ChatCompletion"
      ]
     },
     "execution_count": 21,
     "metadata": {},
     "output_type": "execute_result"
    }
   ],
   "source": [
    "type(response)"
   ]
  },
  {
   "cell_type": "code",
   "execution_count": 24,
   "id": "90c2cb20",
   "metadata": {},
   "outputs": [
    {
     "data": {
      "text/plain": [
       "ChatCompletion(id='chatcmpl-113b5f27-7f6b-46f0-b714-2b82ee713133', choices=[Choice(finish_reason='stop', index=0, logprobs=None, message=ChatCompletionMessage(content='Title: Unleashing the Power of Data Science and Artificial Intelligence\\n\\nIntroduction:\\nThe field of data science and artificial intelligence (AI) has been rapidly evolving over the past decade, transforming various industries and reshaping our lives. These two interconnected disciplines hold immense potential to provide valuable insights from complex datasets and make intelligent decisions that were once considered impossible. In this article, we will explore the impact of data science and AI on businesses and society at large, discuss some real-world applications, and highlight future trends in these fields.\\n\\nSection 1: Data Science - The Art of Extracting Meaning from Data\\nData science is an interdisciplinary field that combines statistics, computer science, mathematics, and domain expertise to extract meaningful insights from large volumes of raw data. With the exponential growth of data in recent years, data scientists have become indispensable for businesses and organizations seeking to stay ahead of the curve.\\n\\n- Importance of data cleaning and preprocessing\\n- Overview of popular data mining techniques (clustering, association rule mining, etc.)\\n- Role of machine learning algorithms in data analysis (linear regression, decision trees, neural networks, etc.)\\n- Visualization tools for data storytelling\\n\\nSection 2: Artificial Intelligence - The Quest for Intelligent Machines\\nAI is a broad field encompassing various subfields, such as machine learning, natural language processing (NLP), computer vision, and robotics. These technologies aim to replicate human-like intelligence in machines to perform tasks that would otherwise require human intervention.\\n\\n- Introduction to AI subfields\\n- Supervised and unsupervised learning\\n- Reinforcement learning and its applications\\n- Deep learning: Neural networks and their architectures (CNN, RNN, LSTM, etc.)\\n\\nSection 3: Real-World Applications of Data Science and AI\\nThe impact of data science and AI can be observed across numerous industries, ranging from healthcare to finance. Here are some examples:\\n\\n- Predictive maintenance in manufacturing\\n- Fraud detection in banking\\n- Personalized recommendations on streaming platforms\\n- Autonomous vehicles and drones\\n- Medical diagnosis using machine learning algorithms\\n\\nSection 4: Future Trends in Data Science and AI\\nAs these fields continue to advance, we can expect to see several emerging trends:\\n\\n- Explainable AI (XAI) for transparency and trust\\n- Human-AI collaboration for enhanced decision-making\\n- Advancements in natural language processing and generation\\n- Edge computing for faster data processing\\n- Fusion of multiple AI techniques, such as reinforcement learning with NLP\\n\\nConclusion:\\nData science and artificial intelligence have already revolutionized numerous aspects of our lives, and their potential is far from being fully realized. By embracing these technologies, businesses can gain a competitive edge, while society can benefit from improved efficiency and decision-making. As we move forward into an era of data-driven innovation, it is essential to ensure that these advancements are used responsibly and ethically for the betterment of all.', role='assistant', function_call=None, tool_calls=None))], created=1707751135, model='models/openhermes-2.5-mistral-7b', object='chat.completion', system_fingerprint=None, usage=CompletionUsage(completion_tokens=654, prompt_tokens=41, total_tokens=695))"
      ]
     },
     "execution_count": 24,
     "metadata": {},
     "output_type": "execute_result"
    }
   ],
   "source": [
    "response"
   ]
  },
  {
   "cell_type": "code",
   "execution_count": 25,
   "id": "7f5589cc",
   "metadata": {},
   "outputs": [
    {
     "data": {
      "text/plain": [
       "['Config',\n",
       " '__abstractmethods__',\n",
       " '__annotations__',\n",
       " '__class__',\n",
       " '__class_vars__',\n",
       " '__config__',\n",
       " '__custom_root_type__',\n",
       " '__delattr__',\n",
       " '__dict__',\n",
       " '__dir__',\n",
       " '__doc__',\n",
       " '__eq__',\n",
       " '__exclude_fields__',\n",
       " '__fields__',\n",
       " '__fields_set__',\n",
       " '__format__',\n",
       " '__ge__',\n",
       " '__get_validators__',\n",
       " '__getattribute__',\n",
       " '__getstate__',\n",
       " '__gt__',\n",
       " '__hash__',\n",
       " '__include_fields__',\n",
       " '__init__',\n",
       " '__init_subclass__',\n",
       " '__iter__',\n",
       " '__json_encoder__',\n",
       " '__le__',\n",
       " '__lt__',\n",
       " '__module__',\n",
       " '__ne__',\n",
       " '__new__',\n",
       " '__post_root_validators__',\n",
       " '__pre_root_validators__',\n",
       " '__pretty__',\n",
       " '__private_attributes__',\n",
       " '__reduce__',\n",
       " '__reduce_ex__',\n",
       " '__repr__',\n",
       " '__repr_args__',\n",
       " '__repr_name__',\n",
       " '__repr_str__',\n",
       " '__rich_repr__',\n",
       " '__schema_cache__',\n",
       " '__setattr__',\n",
       " '__setstate__',\n",
       " '__signature__',\n",
       " '__sizeof__',\n",
       " '__slots__',\n",
       " '__str__',\n",
       " '__subclasshook__',\n",
       " '__try_update_forward_refs__',\n",
       " '__validators__',\n",
       " '_abc_impl',\n",
       " '_calculate_keys',\n",
       " '_copy_and_set_values',\n",
       " '_decompose_class',\n",
       " '_enforce_dict_if_root',\n",
       " '_get_value',\n",
       " '_init_private_attributes',\n",
       " '_iter',\n",
       " 'choices',\n",
       " 'construct',\n",
       " 'copy',\n",
       " 'created',\n",
       " 'dict',\n",
       " 'from_orm',\n",
       " 'id',\n",
       " 'json',\n",
       " 'model',\n",
       " 'model_construct',\n",
       " 'model_dump',\n",
       " 'model_dump_json',\n",
       " 'model_fields_set',\n",
       " 'object',\n",
       " 'parse_file',\n",
       " 'parse_obj',\n",
       " 'parse_raw',\n",
       " 'schema',\n",
       " 'schema_json',\n",
       " 'system_fingerprint',\n",
       " 'update_forward_refs',\n",
       " 'usage',\n",
       " 'validate']"
      ]
     },
     "execution_count": 25,
     "metadata": {},
     "output_type": "execute_result"
    }
   ],
   "source": [
    "dir(response)"
   ]
  },
  {
   "cell_type": "code",
   "execution_count": 26,
   "id": "06919d9f",
   "metadata": {},
   "outputs": [
    {
     "data": {
      "text/plain": [
       "{'id': 'chatcmpl-113b5f27-7f6b-46f0-b714-2b82ee713133',\n",
       " 'choices': [{'finish_reason': 'stop',\n",
       "   'index': 0,\n",
       "   'logprobs': None,\n",
       "   'message': {'content': 'Title: Unleashing the Power of Data Science and Artificial Intelligence\\n\\nIntroduction:\\nThe field of data science and artificial intelligence (AI) has been rapidly evolving over the past decade, transforming various industries and reshaping our lives. These two interconnected disciplines hold immense potential to provide valuable insights from complex datasets and make intelligent decisions that were once considered impossible. In this article, we will explore the impact of data science and AI on businesses and society at large, discuss some real-world applications, and highlight future trends in these fields.\\n\\nSection 1: Data Science - The Art of Extracting Meaning from Data\\nData science is an interdisciplinary field that combines statistics, computer science, mathematics, and domain expertise to extract meaningful insights from large volumes of raw data. With the exponential growth of data in recent years, data scientists have become indispensable for businesses and organizations seeking to stay ahead of the curve.\\n\\n- Importance of data cleaning and preprocessing\\n- Overview of popular data mining techniques (clustering, association rule mining, etc.)\\n- Role of machine learning algorithms in data analysis (linear regression, decision trees, neural networks, etc.)\\n- Visualization tools for data storytelling\\n\\nSection 2: Artificial Intelligence - The Quest for Intelligent Machines\\nAI is a broad field encompassing various subfields, such as machine learning, natural language processing (NLP), computer vision, and robotics. These technologies aim to replicate human-like intelligence in machines to perform tasks that would otherwise require human intervention.\\n\\n- Introduction to AI subfields\\n- Supervised and unsupervised learning\\n- Reinforcement learning and its applications\\n- Deep learning: Neural networks and their architectures (CNN, RNN, LSTM, etc.)\\n\\nSection 3: Real-World Applications of Data Science and AI\\nThe impact of data science and AI can be observed across numerous industries, ranging from healthcare to finance. Here are some examples:\\n\\n- Predictive maintenance in manufacturing\\n- Fraud detection in banking\\n- Personalized recommendations on streaming platforms\\n- Autonomous vehicles and drones\\n- Medical diagnosis using machine learning algorithms\\n\\nSection 4: Future Trends in Data Science and AI\\nAs these fields continue to advance, we can expect to see several emerging trends:\\n\\n- Explainable AI (XAI) for transparency and trust\\n- Human-AI collaboration for enhanced decision-making\\n- Advancements in natural language processing and generation\\n- Edge computing for faster data processing\\n- Fusion of multiple AI techniques, such as reinforcement learning with NLP\\n\\nConclusion:\\nData science and artificial intelligence have already revolutionized numerous aspects of our lives, and their potential is far from being fully realized. By embracing these technologies, businesses can gain a competitive edge, while society can benefit from improved efficiency and decision-making. As we move forward into an era of data-driven innovation, it is essential to ensure that these advancements are used responsibly and ethically for the betterment of all.',\n",
       "    'role': 'assistant',\n",
       "    'function_call': None,\n",
       "    'tool_calls': None}}],\n",
       " 'created': 1707751135,\n",
       " 'model': 'models/openhermes-2.5-mistral-7b',\n",
       " 'object': 'chat.completion',\n",
       " 'system_fingerprint': None,\n",
       " 'usage': {'completion_tokens': 654, 'prompt_tokens': 41, 'total_tokens': 695}}"
      ]
     },
     "execution_count": 26,
     "metadata": {},
     "output_type": "execute_result"
    }
   ],
   "source": [
    "response.dict()"
   ]
  },
  {
   "cell_type": "code",
   "execution_count": 27,
   "id": "212b47c8",
   "metadata": {},
   "outputs": [
    {
     "data": {
      "text/plain": [
       "[Choice(finish_reason='stop', index=0, logprobs=None, message=ChatCompletionMessage(content='Title: Unleashing the Power of Data Science and Artificial Intelligence\\n\\nIntroduction:\\nThe field of data science and artificial intelligence (AI) has been rapidly evolving over the past decade, transforming various industries and reshaping our lives. These two interconnected disciplines hold immense potential to provide valuable insights from complex datasets and make intelligent decisions that were once considered impossible. In this article, we will explore the impact of data science and AI on businesses and society at large, discuss some real-world applications, and highlight future trends in these fields.\\n\\nSection 1: Data Science - The Art of Extracting Meaning from Data\\nData science is an interdisciplinary field that combines statistics, computer science, mathematics, and domain expertise to extract meaningful insights from large volumes of raw data. With the exponential growth of data in recent years, data scientists have become indispensable for businesses and organizations seeking to stay ahead of the curve.\\n\\n- Importance of data cleaning and preprocessing\\n- Overview of popular data mining techniques (clustering, association rule mining, etc.)\\n- Role of machine learning algorithms in data analysis (linear regression, decision trees, neural networks, etc.)\\n- Visualization tools for data storytelling\\n\\nSection 2: Artificial Intelligence - The Quest for Intelligent Machines\\nAI is a broad field encompassing various subfields, such as machine learning, natural language processing (NLP), computer vision, and robotics. These technologies aim to replicate human-like intelligence in machines to perform tasks that would otherwise require human intervention.\\n\\n- Introduction to AI subfields\\n- Supervised and unsupervised learning\\n- Reinforcement learning and its applications\\n- Deep learning: Neural networks and their architectures (CNN, RNN, LSTM, etc.)\\n\\nSection 3: Real-World Applications of Data Science and AI\\nThe impact of data science and AI can be observed across numerous industries, ranging from healthcare to finance. Here are some examples:\\n\\n- Predictive maintenance in manufacturing\\n- Fraud detection in banking\\n- Personalized recommendations on streaming platforms\\n- Autonomous vehicles and drones\\n- Medical diagnosis using machine learning algorithms\\n\\nSection 4: Future Trends in Data Science and AI\\nAs these fields continue to advance, we can expect to see several emerging trends:\\n\\n- Explainable AI (XAI) for transparency and trust\\n- Human-AI collaboration for enhanced decision-making\\n- Advancements in natural language processing and generation\\n- Edge computing for faster data processing\\n- Fusion of multiple AI techniques, such as reinforcement learning with NLP\\n\\nConclusion:\\nData science and artificial intelligence have already revolutionized numerous aspects of our lives, and their potential is far from being fully realized. By embracing these technologies, businesses can gain a competitive edge, while society can benefit from improved efficiency and decision-making. As we move forward into an era of data-driven innovation, it is essential to ensure that these advancements are used responsibly and ethically for the betterment of all.', role='assistant', function_call=None, tool_calls=None))]"
      ]
     },
     "execution_count": 27,
     "metadata": {},
     "output_type": "execute_result"
    }
   ],
   "source": [
    "response.choices"
   ]
  },
  {
   "cell_type": "code",
   "execution_count": 28,
   "id": "f652e407",
   "metadata": {},
   "outputs": [
    {
     "data": {
      "text/plain": [
       "1"
      ]
     },
     "execution_count": 28,
     "metadata": {},
     "output_type": "execute_result"
    }
   ],
   "source": [
    "len(response.choices)"
   ]
  },
  {
   "cell_type": "code",
   "execution_count": 30,
   "id": "f09be51a",
   "metadata": {},
   "outputs": [
    {
     "data": {
      "text/plain": [
       "Choice(finish_reason='stop', index=0, logprobs=None, message=ChatCompletionMessage(content='Title: Unleashing the Power of Data Science and Artificial Intelligence\\n\\nIntroduction:\\nThe field of data science and artificial intelligence (AI) has been rapidly evolving over the past decade, transforming various industries and reshaping our lives. These two interconnected disciplines hold immense potential to provide valuable insights from complex datasets and make intelligent decisions that were once considered impossible. In this article, we will explore the impact of data science and AI on businesses and society at large, discuss some real-world applications, and highlight future trends in these fields.\\n\\nSection 1: Data Science - The Art of Extracting Meaning from Data\\nData science is an interdisciplinary field that combines statistics, computer science, mathematics, and domain expertise to extract meaningful insights from large volumes of raw data. With the exponential growth of data in recent years, data scientists have become indispensable for businesses and organizations seeking to stay ahead of the curve.\\n\\n- Importance of data cleaning and preprocessing\\n- Overview of popular data mining techniques (clustering, association rule mining, etc.)\\n- Role of machine learning algorithms in data analysis (linear regression, decision trees, neural networks, etc.)\\n- Visualization tools for data storytelling\\n\\nSection 2: Artificial Intelligence - The Quest for Intelligent Machines\\nAI is a broad field encompassing various subfields, such as machine learning, natural language processing (NLP), computer vision, and robotics. These technologies aim to replicate human-like intelligence in machines to perform tasks that would otherwise require human intervention.\\n\\n- Introduction to AI subfields\\n- Supervised and unsupervised learning\\n- Reinforcement learning and its applications\\n- Deep learning: Neural networks and their architectures (CNN, RNN, LSTM, etc.)\\n\\nSection 3: Real-World Applications of Data Science and AI\\nThe impact of data science and AI can be observed across numerous industries, ranging from healthcare to finance. Here are some examples:\\n\\n- Predictive maintenance in manufacturing\\n- Fraud detection in banking\\n- Personalized recommendations on streaming platforms\\n- Autonomous vehicles and drones\\n- Medical diagnosis using machine learning algorithms\\n\\nSection 4: Future Trends in Data Science and AI\\nAs these fields continue to advance, we can expect to see several emerging trends:\\n\\n- Explainable AI (XAI) for transparency and trust\\n- Human-AI collaboration for enhanced decision-making\\n- Advancements in natural language processing and generation\\n- Edge computing for faster data processing\\n- Fusion of multiple AI techniques, such as reinforcement learning with NLP\\n\\nConclusion:\\nData science and artificial intelligence have already revolutionized numerous aspects of our lives, and their potential is far from being fully realized. By embracing these technologies, businesses can gain a competitive edge, while society can benefit from improved efficiency and decision-making. As we move forward into an era of data-driven innovation, it is essential to ensure that these advancements are used responsibly and ethically for the betterment of all.', role='assistant', function_call=None, tool_calls=None))"
      ]
     },
     "execution_count": 30,
     "metadata": {},
     "output_type": "execute_result"
    }
   ],
   "source": [
    "response.choices[0]"
   ]
  },
  {
   "cell_type": "code",
   "execution_count": 32,
   "id": "fb0d722c",
   "metadata": {},
   "outputs": [
    {
     "name": "stdout",
     "output_type": "stream",
     "text": [
      "Title: Unleashing the Power of Data Science and Artificial Intelligence\n",
      "\n",
      "Introduction:\n",
      "The field of data science and artificial intelligence (AI) has been rapidly evolving over the past decade, transforming various industries and reshaping our lives. These two interconnected disciplines hold immense potential to provide valuable insights from complex datasets and make intelligent decisions that were once considered impossible. In this article, we will explore the impact of data science and AI on businesses and society at large, discuss some real-world applications, and highlight future trends in these fields.\n",
      "\n",
      "Section 1: Data Science - The Art of Extracting Meaning from Data\n",
      "Data science is an interdisciplinary field that combines statistics, computer science, mathematics, and domain expertise to extract meaningful insights from large volumes of raw data. With the exponential growth of data in recent years, data scientists have become indispensable for businesses and organizations seeking to stay ahead of the curve.\n",
      "\n",
      "- Importance of data cleaning and preprocessing\n",
      "- Overview of popular data mining techniques (clustering, association rule mining, etc.)\n",
      "- Role of machine learning algorithms in data analysis (linear regression, decision trees, neural networks, etc.)\n",
      "- Visualization tools for data storytelling\n",
      "\n",
      "Section 2: Artificial Intelligence - The Quest for Intelligent Machines\n",
      "AI is a broad field encompassing various subfields, such as machine learning, natural language processing (NLP), computer vision, and robotics. These technologies aim to replicate human-like intelligence in machines to perform tasks that would otherwise require human intervention.\n",
      "\n",
      "- Introduction to AI subfields\n",
      "- Supervised and unsupervised learning\n",
      "- Reinforcement learning and its applications\n",
      "- Deep learning: Neural networks and their architectures (CNN, RNN, LSTM, etc.)\n",
      "\n",
      "Section 3: Real-World Applications of Data Science and AI\n",
      "The impact of data science and AI can be observed across numerous industries, ranging from healthcare to finance. Here are some examples:\n",
      "\n",
      "- Predictive maintenance in manufacturing\n",
      "- Fraud detection in banking\n",
      "- Personalized recommendations on streaming platforms\n",
      "- Autonomous vehicles and drones\n",
      "- Medical diagnosis using machine learning algorithms\n",
      "\n",
      "Section 4: Future Trends in Data Science and AI\n",
      "As these fields continue to advance, we can expect to see several emerging trends:\n",
      "\n",
      "- Explainable AI (XAI) for transparency and trust\n",
      "- Human-AI collaboration for enhanced decision-making\n",
      "- Advancements in natural language processing and generation\n",
      "- Edge computing for faster data processing\n",
      "- Fusion of multiple AI techniques, such as reinforcement learning with NLP\n",
      "\n",
      "Conclusion:\n",
      "Data science and artificial intelligence have already revolutionized numerous aspects of our lives, and their potential is far from being fully realized. By embracing these technologies, businesses can gain a competitive edge, while society can benefit from improved efficiency and decision-making. As we move forward into an era of data-driven innovation, it is essential to ensure that these advancements are used responsibly and ethically for the betterment of all.\n"
     ]
    }
   ],
   "source": [
    "print(response.choices[0].message.content)"
   ]
  },
  {
   "cell_type": "code",
   "execution_count": null,
   "id": "6c176c74",
   "metadata": {},
   "outputs": [],
   "source": [
    "l = [\"sweets\", \"bubble\", \"rice\"]"
   ]
  },
  {
   "cell_type": "code",
   "execution_count": 35,
   "id": "59c98046",
   "metadata": {},
   "outputs": [],
   "source": [
    "response = client.chat.completions.create(\n",
    "  model=\"models/openhermes-2.5-mistral-7b\",\n",
    "  messages=[\n",
    "    {\"role\": \"system\", \"content\": \"You are a helpful Data Science & AI Blogger. \\\n",
    "    Your response should be short and in JSON Format\"},\n",
    "    {\"role\": \"user\", \"content\": \"Help me to write an article on Data Science & AI\"},\n",
    "    \n",
    "  ],\n",
    "    temperature = 0.3,\n",
    "    response_format={\"type\":\"json_object\"}\n",
    ")"
   ]
  },
  {
   "cell_type": "code",
   "execution_count": 36,
   "id": "3cb080ed",
   "metadata": {},
   "outputs": [
    {
     "name": "stdout",
     "output_type": "stream",
     "text": [
      "{\n",
      "  \"title\": \"Unlocking the Power of Data Science & AI: A Comprehensive Guide\",\n",
      "  \"introduction\": \"Data science and artificial intelligence (AI) have become indispensable tools in today's digital age. These technologies are transforming various industries, from healthcare to finance, by enabling organizations to make data-driven decisions and automate complex tasks.\",\n",
      "  \"section1\": {\n",
      "    \"title\": \"What is Data Science?\",\n",
      "    \"content\": \"Data science is an interdisciplinary field that involves extracting insights and knowledge from structured and unstructured data using techniques such as statistics, machine learning, and data visualization. It helps organizations to understand their business processes better and make informed decisions.\"\n",
      "  },\n",
      "  \"section2\": {\n",
      "    \"title\": \"What is AI?\",\n",
      "    \"content\": \"AI refers to the development of intelligent machines that can perform tasks that typically require human intelligence, such as learning, problem-solving, and decision-making. It encompasses various subfields, including machine learning, natural language processing, and computer vision.\"\n",
      "  },\n",
      "  \"section3\": {\n",
      "    \"title\": \"Applications of Data Science & AI\",\n",
      "    \"content\": \"Data science and AI have numerous applications across different industries. Some examples include:\n",
      "    1. Predictive maintenance in manufacturing\n",
      "    2. Fraud detection in finance\n",
      "    3. Personalized recommendations in e-commerce\n",
      "    4. Medical diagnosis in healthcare\"\n",
      "  },\n",
      "  \"section4\": {\n",
      "    \"title\": \"Challenges and Limitations\",\n",
      "    \"content\": \"While data science and AI offer tremendous potential, they also come with challenges and limitations. Some of these include:\n",
      "    1. Data quality issues\n",
      "    2. Explainability and interpretability concerns\n",
      "    3. Privacy and security risks\"\n",
      "  },\n",
      "  \"conclusion\": \"Data science and AI are revolutionizing the way businesses operate and making our lives more convenient. As we continue to harness their power, it is crucial to address the challenges and ensure responsible use of these technologies.\"\n",
      "}\n"
     ]
    }
   ],
   "source": [
    "print(response.choices[0].message.content)"
   ]
  },
  {
   "cell_type": "code",
   "execution_count": 37,
   "id": "ab82c34b",
   "metadata": {},
   "outputs": [],
   "source": [
    "response = client.chat.completions.create(\n",
    "  model=\"models/openhermes-2.5-mistral-7b\",\n",
    "  messages=[\n",
    "    {\"role\": \"system\", \"content\": \"You are a helpful Data Science & AI Blogger. \\\n",
    "    Your response should be short and in JSON Format\"},\n",
    "    {\"role\": \"user\", \"content\": \"Help me to write an article on Data Science & AI\"},\n",
    "    \n",
    "  ],\n",
    "    temperature = 0.3,\n",
    "    response_format={\"type\":\"json_object\"},\n",
    "    seed = 4210\n",
    ")"
   ]
  },
  {
   "cell_type": "code",
   "execution_count": 39,
   "id": "49915a35",
   "metadata": {},
   "outputs": [
    {
     "name": "stdout",
     "output_type": "stream",
     "text": [
      "ChatCompletion(id='chatcmpl-4c2cebf0-6195-426a-8c11-5e7ca4ee483b', choices=[Choice(finish_reason='stop', index=0, logprobs=None, message=ChatCompletionMessage(content='{\\n  \"title\": \"Unlocking the Power of Data Science & AI: A Comprehensive Guide\",\\n  \"introduction\": \"Data science and artificial intelligence (AI) have become indispensable tools in today\\'s digital age. These technologies are transforming various industries, from healthcare to finance, by enabling organizations to make data-driven decisions and automate complex tasks.\",\\n  \"section1\": {\\n    \"title\": \"What is Data Science?\",\\n    \"content\": \"Data science is an interdisciplinary field that involves extracting insights and knowledge from structured and unstructured data using techniques such as statistics, machine learning, and data visualization. It helps organizations to understand their business processes better and make informed decisions.\"\\n  },\\n  \"section2\": {\\n    \"title\": \"What is AI?\",\\n    \"content\": \"AI refers to the development of intelligent machines that can perform tasks that typically require human intelligence, such as learning, problem-solving, and decision-making. It encompasses various subfields, including machine learning, natural language processing, and computer vision.\"\\n  },\\n  \"section3\": {\\n    \"title\": \"Applications of Data Science & AI\",\\n    \"content\": \"Data science and AI have numerous applications across different industries. Some examples include:\\n    1. Predictive maintenance in manufacturing\\n    2. Fraud detection in finance\\n    3. Personalized recommendations in e-commerce\\n    4. Medical diagnosis in healthcare\"\\n  },\\n  \"section4\": {\\n    \"title\": \"Challenges and Limitations\",\\n    \"content\": \"While data science and AI offer tremendous potential, they also come with challenges and limitations. Some of these include:\\n    1. Data quality issues\\n    2. Explainability and interpretability concerns\\n    3. Privacy and security risks\"\\n  },\\n  \"conclusion\": \"Data science and AI are revolutionizing the way businesses operate and making our lives more convenient. As we continue to harness their power, it is crucial to address the challenges and ensure responsible use of these technologies.\"\\n}', role='assistant', function_call=None, tool_calls=None))], created=1707751993, model='models/openhermes-2.5-mistral-7b', object='chat.completion', system_fingerprint=None, usage=CompletionUsage(completion_tokens=454, prompt_tokens=47, total_tokens=501))\n"
     ]
    }
   ],
   "source": [
    "print(response)"
   ]
  },
  {
   "cell_type": "code",
   "execution_count": 40,
   "id": "accf7c11",
   "metadata": {},
   "outputs": [
    {
     "data": {
      "text/plain": [
       "501"
      ]
     },
     "execution_count": 40,
     "metadata": {},
     "output_type": "execute_result"
    }
   ],
   "source": [
    "response.usage.total_tokens"
   ]
  },
  {
   "cell_type": "code",
   "execution_count": null,
   "id": "3a0c167c",
   "metadata": {},
   "outputs": [],
   "source": [
    "4096"
   ]
  },
  {
   "cell_type": "code",
   "execution_count": 41,
   "id": "615724f2",
   "metadata": {},
   "outputs": [],
   "source": [
    "# f fun intelligent"
   ]
  },
  {
   "cell_type": "code",
   "execution_count": 42,
   "id": "93ba232e",
   "metadata": {},
   "outputs": [],
   "source": [
    "response = client.chat.completions.create(\n",
    "  model=\"models/openhermes-2.5-mistral-7b\",\n",
    "  messages=[\n",
    "    {\"role\": \"system\", \"content\": \"You are a helpful Data Science & AI Blogger. \\\n",
    "    Your response should be short and in JSON Format\"},\n",
    "    {\"role\": \"user\", \"content\": \"Help me to write an article on Data Science & AI\"},\n",
    "    \n",
    "  ],\n",
    "    temperature = 0.3,\n",
    "    response_format={\"type\":\"json_object\"},\n",
    "    seed = 4210,\n",
    "    max_tokens=300\n",
    ")"
   ]
  },
  {
   "cell_type": "code",
   "execution_count": 43,
   "id": "11913404",
   "metadata": {},
   "outputs": [
    {
     "data": {
      "text/plain": [
       "347"
      ]
     },
     "execution_count": 43,
     "metadata": {},
     "output_type": "execute_result"
    }
   ],
   "source": [
    "response.usage.total_tokens"
   ]
  },
  {
   "cell_type": "code",
   "execution_count": null,
   "id": "5918286c",
   "metadata": {},
   "outputs": [],
   "source": []
  }
 ],
 "metadata": {
  "kernelspec": {
   "display_name": "Python 3 (ipykernel)",
   "language": "python",
   "name": "python3"
  },
  "language_info": {
   "codemirror_mode": {
    "name": "ipython",
    "version": 3
   },
   "file_extension": ".py",
   "mimetype": "text/x-python",
   "name": "python",
   "nbconvert_exporter": "python",
   "pygments_lexer": "ipython3",
   "version": "3.11.5"
  }
 },
 "nbformat": 4,
 "nbformat_minor": 5
}
