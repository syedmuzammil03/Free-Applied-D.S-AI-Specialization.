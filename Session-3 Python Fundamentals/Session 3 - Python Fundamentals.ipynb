{
 "cells": [
  {
   "cell_type": "code",
   "execution_count": 1,
   "id": "9431b352",
   "metadata": {},
   "outputs": [],
   "source": [
    "employee1 = [\"Asad\", \"Data Scientist\",4000]"
   ]
  },
  {
   "cell_type": "code",
   "execution_count": 2,
   "id": "756cde2e",
   "metadata": {},
   "outputs": [
    {
     "data": {
      "text/plain": [
       "4000"
      ]
     },
     "execution_count": 2,
     "metadata": {},
     "output_type": "execute_result"
    }
   ],
   "source": [
    "employee1[-1]"
   ]
  },
  {
   "cell_type": "code",
   "execution_count": 3,
   "id": "e6a9a6ae",
   "metadata": {},
   "outputs": [],
   "source": [
    "employee2 = [\"Iqra\", \"Data Scientist\",3800]"
   ]
  },
  {
   "cell_type": "code",
   "execution_count": 4,
   "id": "acd0713f",
   "metadata": {},
   "outputs": [
    {
     "data": {
      "text/plain": [
       "list"
      ]
     },
     "execution_count": 4,
     "metadata": {},
     "output_type": "execute_result"
    }
   ],
   "source": [
    "type(employee1)"
   ]
  },
  {
   "cell_type": "code",
   "execution_count": 5,
   "id": "9ee990df",
   "metadata": {},
   "outputs": [
    {
     "data": {
      "text/plain": [
       "['__add__',\n",
       " '__class__',\n",
       " '__class_getitem__',\n",
       " '__contains__',\n",
       " '__delattr__',\n",
       " '__delitem__',\n",
       " '__dir__',\n",
       " '__doc__',\n",
       " '__eq__',\n",
       " '__format__',\n",
       " '__ge__',\n",
       " '__getattribute__',\n",
       " '__getitem__',\n",
       " '__getstate__',\n",
       " '__gt__',\n",
       " '__hash__',\n",
       " '__iadd__',\n",
       " '__imul__',\n",
       " '__init__',\n",
       " '__init_subclass__',\n",
       " '__iter__',\n",
       " '__le__',\n",
       " '__len__',\n",
       " '__lt__',\n",
       " '__mul__',\n",
       " '__ne__',\n",
       " '__new__',\n",
       " '__reduce__',\n",
       " '__reduce_ex__',\n",
       " '__repr__',\n",
       " '__reversed__',\n",
       " '__rmul__',\n",
       " '__setattr__',\n",
       " '__setitem__',\n",
       " '__sizeof__',\n",
       " '__str__',\n",
       " '__subclasshook__',\n",
       " 'append',\n",
       " 'clear',\n",
       " 'copy',\n",
       " 'count',\n",
       " 'extend',\n",
       " 'index',\n",
       " 'insert',\n",
       " 'pop',\n",
       " 'remove',\n",
       " 'reverse',\n",
       " 'sort']"
      ]
     },
     "execution_count": 5,
     "metadata": {},
     "output_type": "execute_result"
    }
   ],
   "source": [
    "dir(employee1)"
   ]
  },
  {
   "cell_type": "code",
   "execution_count": null,
   "id": "62322f70",
   "metadata": {},
   "outputs": [],
   "source": [
    "# print = \"Display\"\n",
    "\n",
    "\n",
    "# del print"
   ]
  },
  {
   "cell_type": "code",
   "execution_count": null,
   "id": "af115533",
   "metadata": {},
   "outputs": [],
   "source": [
    "# del = \"Display\""
   ]
  },
  {
   "cell_type": "code",
   "execution_count": null,
   "id": "607a51c7",
   "metadata": {},
   "outputs": [],
   "source": [
    "# None"
   ]
  },
  {
   "cell_type": "code",
   "execution_count": null,
   "id": "48adc3a3",
   "metadata": {},
   "outputs": [],
   "source": [
    "# data = None"
   ]
  },
  {
   "cell_type": "code",
   "execution_count": 6,
   "id": "42d0e28b",
   "metadata": {},
   "outputs": [],
   "source": [
    "# __builtins__.del(del)"
   ]
  },
  {
   "cell_type": "code",
   "execution_count": 7,
   "id": "464a28a9",
   "metadata": {},
   "outputs": [
    {
     "data": {
      "text/plain": [
       "['__add__',\n",
       " '__class__',\n",
       " '__class_getitem__',\n",
       " '__contains__',\n",
       " '__delattr__',\n",
       " '__delitem__',\n",
       " '__dir__',\n",
       " '__doc__',\n",
       " '__eq__',\n",
       " '__format__',\n",
       " '__ge__',\n",
       " '__getattribute__',\n",
       " '__getitem__',\n",
       " '__getstate__',\n",
       " '__gt__',\n",
       " '__hash__',\n",
       " '__iadd__',\n",
       " '__imul__',\n",
       " '__init__',\n",
       " '__init_subclass__',\n",
       " '__iter__',\n",
       " '__le__',\n",
       " '__len__',\n",
       " '__lt__',\n",
       " '__mul__',\n",
       " '__ne__',\n",
       " '__new__',\n",
       " '__reduce__',\n",
       " '__reduce_ex__',\n",
       " '__repr__',\n",
       " '__reversed__',\n",
       " '__rmul__',\n",
       " '__setattr__',\n",
       " '__setitem__',\n",
       " '__sizeof__',\n",
       " '__str__',\n",
       " '__subclasshook__',\n",
       " 'append',\n",
       " 'clear',\n",
       " 'copy',\n",
       " 'count',\n",
       " 'extend',\n",
       " 'index',\n",
       " 'insert',\n",
       " 'pop',\n",
       " 'remove',\n",
       " 'reverse',\n",
       " 'sort']"
      ]
     },
     "execution_count": 7,
     "metadata": {},
     "output_type": "execute_result"
    }
   ],
   "source": [
    "dir(list)"
   ]
  },
  {
   "cell_type": "code",
   "execution_count": 8,
   "id": "90dd3617",
   "metadata": {},
   "outputs": [
    {
     "data": {
      "text/plain": [
       "['__add__',\n",
       " '__class__',\n",
       " '__contains__',\n",
       " '__delattr__',\n",
       " '__dir__',\n",
       " '__doc__',\n",
       " '__eq__',\n",
       " '__format__',\n",
       " '__ge__',\n",
       " '__getattribute__',\n",
       " '__getitem__',\n",
       " '__getnewargs__',\n",
       " '__getstate__',\n",
       " '__gt__',\n",
       " '__hash__',\n",
       " '__init__',\n",
       " '__init_subclass__',\n",
       " '__iter__',\n",
       " '__le__',\n",
       " '__len__',\n",
       " '__lt__',\n",
       " '__mod__',\n",
       " '__mul__',\n",
       " '__ne__',\n",
       " '__new__',\n",
       " '__reduce__',\n",
       " '__reduce_ex__',\n",
       " '__repr__',\n",
       " '__rmod__',\n",
       " '__rmul__',\n",
       " '__setattr__',\n",
       " '__sizeof__',\n",
       " '__str__',\n",
       " '__subclasshook__',\n",
       " 'capitalize',\n",
       " 'casefold',\n",
       " 'center',\n",
       " 'count',\n",
       " 'encode',\n",
       " 'endswith',\n",
       " 'expandtabs',\n",
       " 'find',\n",
       " 'format',\n",
       " 'format_map',\n",
       " 'index',\n",
       " 'isalnum',\n",
       " 'isalpha',\n",
       " 'isascii',\n",
       " 'isdecimal',\n",
       " 'isdigit',\n",
       " 'isidentifier',\n",
       " 'islower',\n",
       " 'isnumeric',\n",
       " 'isprintable',\n",
       " 'isspace',\n",
       " 'istitle',\n",
       " 'isupper',\n",
       " 'join',\n",
       " 'ljust',\n",
       " 'lower',\n",
       " 'lstrip',\n",
       " 'maketrans',\n",
       " 'partition',\n",
       " 'removeprefix',\n",
       " 'removesuffix',\n",
       " 'replace',\n",
       " 'rfind',\n",
       " 'rindex',\n",
       " 'rjust',\n",
       " 'rpartition',\n",
       " 'rsplit',\n",
       " 'rstrip',\n",
       " 'split',\n",
       " 'splitlines',\n",
       " 'startswith',\n",
       " 'strip',\n",
       " 'swapcase',\n",
       " 'title',\n",
       " 'translate',\n",
       " 'upper',\n",
       " 'zfill']"
      ]
     },
     "execution_count": 8,
     "metadata": {},
     "output_type": "execute_result"
    }
   ],
   "source": [
    "dir(str)"
   ]
  },
  {
   "cell_type": "code",
   "execution_count": 9,
   "id": "64f66416",
   "metadata": {},
   "outputs": [],
   "source": [
    "employee1.append(\"0.5%\")"
   ]
  },
  {
   "cell_type": "code",
   "execution_count": 10,
   "id": "ab2cc50f",
   "metadata": {},
   "outputs": [],
   "source": [
    "employee1.append(\"0.35%\")"
   ]
  },
  {
   "cell_type": "code",
   "execution_count": 11,
   "id": "dd55dcaf",
   "metadata": {},
   "outputs": [],
   "source": [
    "employee2.append(\"0.35%\")"
   ]
  },
  {
   "cell_type": "code",
   "execution_count": 12,
   "id": "a480086f",
   "metadata": {},
   "outputs": [
    {
     "data": {
      "text/plain": [
       "['Asad', 'Data Scientist', 4000, '0.5%', '0.35%']"
      ]
     },
     "execution_count": 12,
     "metadata": {},
     "output_type": "execute_result"
    }
   ],
   "source": [
    "employee1"
   ]
  },
  {
   "cell_type": "code",
   "execution_count": 13,
   "id": "578f27fa",
   "metadata": {},
   "outputs": [
    {
     "data": {
      "text/plain": [
       "['Iqra', 'Data Scientist', 3800, '0.35%']"
      ]
     },
     "execution_count": 13,
     "metadata": {},
     "output_type": "execute_result"
    }
   ],
   "source": [
    "employee2"
   ]
  },
  {
   "cell_type": "code",
   "execution_count": 14,
   "id": "da2ccbd5",
   "metadata": {},
   "outputs": [],
   "source": [
    "employee1.remove(\"0.35%\")"
   ]
  },
  {
   "cell_type": "code",
   "execution_count": 15,
   "id": "7218faa9",
   "metadata": {},
   "outputs": [
    {
     "data": {
      "text/plain": [
       "['Asad', 'Data Scientist', 4000, '0.5%']"
      ]
     },
     "execution_count": 15,
     "metadata": {},
     "output_type": "execute_result"
    }
   ],
   "source": [
    "employee1"
   ]
  },
  {
   "cell_type": "code",
   "execution_count": 16,
   "id": "15e62376",
   "metadata": {},
   "outputs": [
    {
     "ename": "ValueError",
     "evalue": "list.remove(x): x not in list",
     "output_type": "error",
     "traceback": [
      "\u001b[1;31m---------------------------------------------------------------------------\u001b[0m",
      "\u001b[1;31mValueError\u001b[0m                                Traceback (most recent call last)",
      "Cell \u001b[1;32mIn[16], line 1\u001b[0m\n\u001b[1;32m----> 1\u001b[0m \u001b[43memployee1\u001b[49m\u001b[38;5;241;43m.\u001b[39;49m\u001b[43mremove\u001b[49m\u001b[43m(\u001b[49m\u001b[38;5;124;43m\"\u001b[39;49m\u001b[38;5;124;43m0.35\u001b[39;49m\u001b[38;5;124;43m%\u001b[39;49m\u001b[38;5;124;43m\"\u001b[39;49m\u001b[43m)\u001b[49m\n",
      "\u001b[1;31mValueError\u001b[0m: list.remove(x): x not in list"
     ]
    }
   ],
   "source": [
    "employee1.remove(\"0.35%\")"
   ]
  },
  {
   "cell_type": "code",
   "execution_count": 17,
   "id": "810fa920",
   "metadata": {},
   "outputs": [],
   "source": [
    "employee1.append(\"0.35%\")"
   ]
  },
  {
   "cell_type": "code",
   "execution_count": 18,
   "id": "54c1b43e",
   "metadata": {},
   "outputs": [
    {
     "data": {
      "text/plain": [
       "['Asad', 'Data Scientist', 4000, '0.5%', '0.35%']"
      ]
     },
     "execution_count": 18,
     "metadata": {},
     "output_type": "execute_result"
    }
   ],
   "source": [
    "employee1"
   ]
  },
  {
   "cell_type": "code",
   "execution_count": 19,
   "id": "2c9bfb15",
   "metadata": {},
   "outputs": [],
   "source": [
    "del employee1[4] # del \"0.35%\""
   ]
  },
  {
   "cell_type": "code",
   "execution_count": 20,
   "id": "b01c09f0",
   "metadata": {},
   "outputs": [
    {
     "data": {
      "text/plain": [
       "['Asad', 'Data Scientist', 4000, '0.5%']"
      ]
     },
     "execution_count": 20,
     "metadata": {},
     "output_type": "execute_result"
    }
   ],
   "source": [
    "employee1"
   ]
  },
  {
   "cell_type": "code",
   "execution_count": 21,
   "id": "68fa70cb",
   "metadata": {},
   "outputs": [
    {
     "data": {
      "text/plain": [
       "'Data Scientist'"
      ]
     },
     "execution_count": 21,
     "metadata": {},
     "output_type": "execute_result"
    }
   ],
   "source": [
    "employee1[1] # indexing"
   ]
  },
  {
   "cell_type": "code",
   "execution_count": 22,
   "id": "96ccb95d",
   "metadata": {},
   "outputs": [
    {
     "ename": "IndexError",
     "evalue": "list assignment index out of range",
     "output_type": "error",
     "traceback": [
      "\u001b[1;31m---------------------------------------------------------------------------\u001b[0m",
      "\u001b[1;31mIndexError\u001b[0m                                Traceback (most recent call last)",
      "Cell \u001b[1;32mIn[22], line 1\u001b[0m\n\u001b[1;32m----> 1\u001b[0m \u001b[38;5;28;01mdel\u001b[39;00m \u001b[43memployee1\u001b[49m\u001b[43m[\u001b[49m\u001b[38;5;241;43m25\u001b[39;49m\u001b[43m]\u001b[49m\n",
      "\u001b[1;31mIndexError\u001b[0m: list assignment index out of range"
     ]
    }
   ],
   "source": [
    "del employee1[25]"
   ]
  },
  {
   "cell_type": "code",
   "execution_count": 23,
   "id": "279eb446",
   "metadata": {},
   "outputs": [],
   "source": [
    "employee1[0] = \"Muhammad Asad\"\n",
    "employee2[0] = \"Iqra Karamullah\""
   ]
  },
  {
   "cell_type": "code",
   "execution_count": 24,
   "id": "7707a4a9",
   "metadata": {},
   "outputs": [
    {
     "data": {
      "text/plain": [
       "['Muhammad Asad', 'Data Scientist', 4000, '0.5%']"
      ]
     },
     "execution_count": 24,
     "metadata": {},
     "output_type": "execute_result"
    }
   ],
   "source": [
    "employee1"
   ]
  },
  {
   "cell_type": "code",
   "execution_count": 25,
   "id": "f9e2f821",
   "metadata": {},
   "outputs": [
    {
     "data": {
      "text/plain": [
       "['Iqra Karamullah', 'Data Scientist', 3800, '0.35%']"
      ]
     },
     "execution_count": 25,
     "metadata": {},
     "output_type": "execute_result"
    }
   ],
   "source": [
    "employee2"
   ]
  },
  {
   "cell_type": "code",
   "execution_count": 26,
   "id": "d10dd767",
   "metadata": {},
   "outputs": [],
   "source": [
    "employee1[-2] += 500\n",
    "employee2[-2] += 500"
   ]
  },
  {
   "cell_type": "code",
   "execution_count": 27,
   "id": "44c3f5e0",
   "metadata": {},
   "outputs": [
    {
     "data": {
      "text/plain": [
       "['Muhammad Asad', 'Data Scientist', 4500, '0.5%']"
      ]
     },
     "execution_count": 27,
     "metadata": {},
     "output_type": "execute_result"
    }
   ],
   "source": [
    "employee1"
   ]
  },
  {
   "cell_type": "code",
   "execution_count": 28,
   "id": "4b15a4dc",
   "metadata": {},
   "outputs": [
    {
     "data": {
      "text/plain": [
       "['Iqra Karamullah', 'Data Scientist', 4300, '0.35%']"
      ]
     },
     "execution_count": 28,
     "metadata": {},
     "output_type": "execute_result"
    }
   ],
   "source": [
    "employee2"
   ]
  },
  {
   "cell_type": "code",
   "execution_count": 29,
   "id": "1c7e1663",
   "metadata": {},
   "outputs": [
    {
     "data": {
      "text/plain": [
       "1.1"
      ]
     },
     "execution_count": 29,
     "metadata": {},
     "output_type": "execute_result"
    }
   ],
   "source": [
    "(100+10)/100"
   ]
  },
  {
   "cell_type": "code",
   "execution_count": 30,
   "id": "d89fc3bf",
   "metadata": {},
   "outputs": [],
   "source": [
    "employees = [employee1, employee2,\"Waqas\"]"
   ]
  },
  {
   "cell_type": "code",
   "execution_count": 31,
   "id": "ef02e761",
   "metadata": {},
   "outputs": [
    {
     "data": {
      "text/plain": [
       "[['Muhammad Asad', 'Data Scientist', 4500, '0.5%'],\n",
       " ['Iqra Karamullah', 'Data Scientist', 4300, '0.35%'],\n",
       " 'Waqas']"
      ]
     },
     "execution_count": 31,
     "metadata": {},
     "output_type": "execute_result"
    }
   ],
   "source": [
    "employees"
   ]
  },
  {
   "cell_type": "code",
   "execution_count": 32,
   "id": "d8215e25",
   "metadata": {},
   "outputs": [
    {
     "data": {
      "text/plain": [
       "3"
      ]
     },
     "execution_count": 32,
     "metadata": {},
     "output_type": "execute_result"
    }
   ],
   "source": [
    "len(employees)"
   ]
  },
  {
   "cell_type": "code",
   "execution_count": 33,
   "id": "e3d64a4f",
   "metadata": {},
   "outputs": [
    {
     "ename": "ValueError",
     "evalue": "list.remove(x): x not in list",
     "output_type": "error",
     "traceback": [
      "\u001b[1;31m---------------------------------------------------------------------------\u001b[0m",
      "\u001b[1;31mValueError\u001b[0m                                Traceback (most recent call last)",
      "Cell \u001b[1;32mIn[33], line 1\u001b[0m\n\u001b[1;32m----> 1\u001b[0m \u001b[43memployees\u001b[49m\u001b[38;5;241;43m.\u001b[39;49m\u001b[43mremove\u001b[49m\u001b[43m(\u001b[49m\u001b[38;5;124;43m\"\u001b[39;49m\u001b[38;5;124;43mwaqas\u001b[39;49m\u001b[38;5;124;43m\"\u001b[39;49m\u001b[43m)\u001b[49m\n",
      "\u001b[1;31mValueError\u001b[0m: list.remove(x): x not in list"
     ]
    }
   ],
   "source": [
    "employees.remove(\"waqas\")"
   ]
  },
  {
   "cell_type": "code",
   "execution_count": 34,
   "id": "79a03e56",
   "metadata": {},
   "outputs": [
    {
     "data": {
      "text/plain": [
       "87"
      ]
     },
     "execution_count": 34,
     "metadata": {},
     "output_type": "execute_result"
    }
   ],
   "source": [
    "ord(\"W\")"
   ]
  },
  {
   "cell_type": "code",
   "execution_count": 35,
   "id": "2aea1bba",
   "metadata": {},
   "outputs": [
    {
     "data": {
      "text/plain": [
       "119"
      ]
     },
     "execution_count": 35,
     "metadata": {},
     "output_type": "execute_result"
    }
   ],
   "source": [
    "ord(\"w\")"
   ]
  },
  {
   "cell_type": "code",
   "execution_count": 36,
   "id": "66c1bc0e",
   "metadata": {},
   "outputs": [],
   "source": [
    "employees.remove(\"Waqas\")"
   ]
  },
  {
   "cell_type": "code",
   "execution_count": 37,
   "id": "bd3c7d20",
   "metadata": {},
   "outputs": [
    {
     "data": {
      "text/plain": [
       "[['Muhammad Asad', 'Data Scientist', 4500, '0.5%'],\n",
       " ['Iqra Karamullah', 'Data Scientist', 4300, '0.35%']]"
      ]
     },
     "execution_count": 37,
     "metadata": {},
     "output_type": "execute_result"
    }
   ],
   "source": [
    "employees"
   ]
  },
  {
   "cell_type": "code",
   "execution_count": 38,
   "id": "bfdb7b36",
   "metadata": {},
   "outputs": [],
   "source": [
    "employees.append([['Sajjad Ali', 'Data Scientist', 5500, '0.6%']])"
   ]
  },
  {
   "cell_type": "code",
   "execution_count": 40,
   "id": "e00f7923",
   "metadata": {},
   "outputs": [
    {
     "data": {
      "text/plain": [
       "[['Muhammad Asad', 'Data Scientist', 4500, '0.5%'],\n",
       " ['Iqra Karamullah', 'Data Scientist', 4300, '0.35%'],\n",
       " [['Sajjad Ali', 'Data Scientist', 5500, '0.6%']]]"
      ]
     },
     "execution_count": 40,
     "metadata": {},
     "output_type": "execute_result"
    }
   ],
   "source": [
    "employees # nested list or list of lists"
   ]
  },
  {
   "cell_type": "code",
   "execution_count": 41,
   "id": "9240c61d",
   "metadata": {},
   "outputs": [],
   "source": [
    "employees.remove([['Sajjad Ali', 'Data Scientist', 5500, '0.6%']])"
   ]
  },
  {
   "cell_type": "code",
   "execution_count": 42,
   "id": "bfac5995",
   "metadata": {},
   "outputs": [],
   "source": [
    "employees.append(['Sajjad Ali', 'Data Scientist', 5500, '0.6%'])"
   ]
  },
  {
   "cell_type": "code",
   "execution_count": 43,
   "id": "6fd9b270",
   "metadata": {},
   "outputs": [
    {
     "data": {
      "text/plain": [
       "[['Muhammad Asad', 'Data Scientist', 4500, '0.5%'],\n",
       " ['Iqra Karamullah', 'Data Scientist', 4300, '0.35%'],\n",
       " ['Sajjad Ali', 'Data Scientist', 5500, '0.6%']]"
      ]
     },
     "execution_count": 43,
     "metadata": {},
     "output_type": "execute_result"
    }
   ],
   "source": [
    "employees"
   ]
  },
  {
   "cell_type": "code",
   "execution_count": 44,
   "id": "c9023894",
   "metadata": {},
   "outputs": [
    {
     "data": {
      "text/plain": [
       "'Sajjad Ali'"
      ]
     },
     "execution_count": 44,
     "metadata": {},
     "output_type": "execute_result"
    }
   ],
   "source": [
    "employees[-1][0]"
   ]
  },
  {
   "cell_type": "code",
   "execution_count": 48,
   "id": "1aa11773",
   "metadata": {},
   "outputs": [],
   "source": [
    "contributions = None"
   ]
  },
  {
   "cell_type": "code",
   "execution_count": 64,
   "id": "30d632ab",
   "metadata": {},
   "outputs": [],
   "source": [
    "contributions = \"40.50;30.92;15.25,18.25\""
   ]
  },
  {
   "cell_type": "code",
   "execution_count": 65,
   "id": "ab1f104d",
   "metadata": {},
   "outputs": [
    {
     "data": {
      "text/plain": [
       "str"
      ]
     },
     "execution_count": 65,
     "metadata": {},
     "output_type": "execute_result"
    }
   ],
   "source": [
    "type(contributions)"
   ]
  },
  {
   "cell_type": "code",
   "execution_count": 66,
   "id": "7bfbec83",
   "metadata": {},
   "outputs": [
    {
     "data": {
      "text/plain": [
       "['__add__',\n",
       " '__class__',\n",
       " '__contains__',\n",
       " '__delattr__',\n",
       " '__dir__',\n",
       " '__doc__',\n",
       " '__eq__',\n",
       " '__format__',\n",
       " '__ge__',\n",
       " '__getattribute__',\n",
       " '__getitem__',\n",
       " '__getnewargs__',\n",
       " '__getstate__',\n",
       " '__gt__',\n",
       " '__hash__',\n",
       " '__init__',\n",
       " '__init_subclass__',\n",
       " '__iter__',\n",
       " '__le__',\n",
       " '__len__',\n",
       " '__lt__',\n",
       " '__mod__',\n",
       " '__mul__',\n",
       " '__ne__',\n",
       " '__new__',\n",
       " '__reduce__',\n",
       " '__reduce_ex__',\n",
       " '__repr__',\n",
       " '__rmod__',\n",
       " '__rmul__',\n",
       " '__setattr__',\n",
       " '__sizeof__',\n",
       " '__str__',\n",
       " '__subclasshook__',\n",
       " 'capitalize',\n",
       " 'casefold',\n",
       " 'center',\n",
       " 'count',\n",
       " 'encode',\n",
       " 'endswith',\n",
       " 'expandtabs',\n",
       " 'find',\n",
       " 'format',\n",
       " 'format_map',\n",
       " 'index',\n",
       " 'isalnum',\n",
       " 'isalpha',\n",
       " 'isascii',\n",
       " 'isdecimal',\n",
       " 'isdigit',\n",
       " 'isidentifier',\n",
       " 'islower',\n",
       " 'isnumeric',\n",
       " 'isprintable',\n",
       " 'isspace',\n",
       " 'istitle',\n",
       " 'isupper',\n",
       " 'join',\n",
       " 'ljust',\n",
       " 'lower',\n",
       " 'lstrip',\n",
       " 'maketrans',\n",
       " 'partition',\n",
       " 'removeprefix',\n",
       " 'removesuffix',\n",
       " 'replace',\n",
       " 'rfind',\n",
       " 'rindex',\n",
       " 'rjust',\n",
       " 'rpartition',\n",
       " 'rsplit',\n",
       " 'rstrip',\n",
       " 'split',\n",
       " 'splitlines',\n",
       " 'startswith',\n",
       " 'strip',\n",
       " 'swapcase',\n",
       " 'title',\n",
       " 'translate',\n",
       " 'upper',\n",
       " 'zfill']"
      ]
     },
     "execution_count": 66,
     "metadata": {},
     "output_type": "execute_result"
    }
   ],
   "source": [
    "dir(str)"
   ]
  },
  {
   "cell_type": "code",
   "execution_count": 67,
   "id": "b0ecfb29",
   "metadata": {},
   "outputs": [
    {
     "data": {
      "text/plain": [
       "['__add__',\n",
       " '__class__',\n",
       " '__contains__',\n",
       " '__delattr__',\n",
       " '__dir__',\n",
       " '__doc__',\n",
       " '__eq__',\n",
       " '__format__',\n",
       " '__ge__',\n",
       " '__getattribute__',\n",
       " '__getitem__',\n",
       " '__getnewargs__',\n",
       " '__getstate__',\n",
       " '__gt__',\n",
       " '__hash__',\n",
       " '__init__',\n",
       " '__init_subclass__',\n",
       " '__iter__',\n",
       " '__le__',\n",
       " '__len__',\n",
       " '__lt__',\n",
       " '__mod__',\n",
       " '__mul__',\n",
       " '__ne__',\n",
       " '__new__',\n",
       " '__reduce__',\n",
       " '__reduce_ex__',\n",
       " '__repr__',\n",
       " '__rmod__',\n",
       " '__rmul__',\n",
       " '__setattr__',\n",
       " '__sizeof__',\n",
       " '__str__',\n",
       " '__subclasshook__',\n",
       " 'capitalize',\n",
       " 'casefold',\n",
       " 'center',\n",
       " 'count',\n",
       " 'encode',\n",
       " 'endswith',\n",
       " 'expandtabs',\n",
       " 'find',\n",
       " 'format',\n",
       " 'format_map',\n",
       " 'index',\n",
       " 'isalnum',\n",
       " 'isalpha',\n",
       " 'isascii',\n",
       " 'isdecimal',\n",
       " 'isdigit',\n",
       " 'isidentifier',\n",
       " 'islower',\n",
       " 'isnumeric',\n",
       " 'isprintable',\n",
       " 'isspace',\n",
       " 'istitle',\n",
       " 'isupper',\n",
       " 'join',\n",
       " 'ljust',\n",
       " 'lower',\n",
       " 'lstrip',\n",
       " 'maketrans',\n",
       " 'partition',\n",
       " 'removeprefix',\n",
       " 'removesuffix',\n",
       " 'replace',\n",
       " 'rfind',\n",
       " 'rindex',\n",
       " 'rjust',\n",
       " 'rpartition',\n",
       " 'rsplit',\n",
       " 'rstrip',\n",
       " 'split',\n",
       " 'splitlines',\n",
       " 'startswith',\n",
       " 'strip',\n",
       " 'swapcase',\n",
       " 'title',\n",
       " 'translate',\n",
       " 'upper',\n",
       " 'zfill']"
      ]
     },
     "execution_count": 67,
     "metadata": {},
     "output_type": "execute_result"
    }
   ],
   "source": [
    "dir(type(contributions))"
   ]
  },
  {
   "cell_type": "code",
   "execution_count": 68,
   "id": "98e38e93",
   "metadata": {},
   "outputs": [
    {
     "data": {
      "text/plain": [
       "'40.50;30.92;15.25,18.25'"
      ]
     },
     "execution_count": 68,
     "metadata": {},
     "output_type": "execute_result"
    }
   ],
   "source": [
    "contributions"
   ]
  },
  {
   "cell_type": "code",
   "execution_count": 69,
   "id": "8765c82c",
   "metadata": {},
   "outputs": [
    {
     "data": {
      "text/plain": [
       "['40.50', '30.92', '15.25,18.25']"
      ]
     },
     "execution_count": 69,
     "metadata": {},
     "output_type": "execute_result"
    }
   ],
   "source": [
    "contributions.split(\";\")"
   ]
  },
  {
   "cell_type": "code",
   "execution_count": 70,
   "id": "ce98d767",
   "metadata": {},
   "outputs": [],
   "source": [
    "receipts = contributions.split(\";\")"
   ]
  },
  {
   "cell_type": "code",
   "execution_count": 71,
   "id": "7c1b3385",
   "metadata": {},
   "outputs": [
    {
     "data": {
      "text/plain": [
       "['40.50', '30.92', '15.25,18.25']"
      ]
     },
     "execution_count": 71,
     "metadata": {},
     "output_type": "execute_result"
    }
   ],
   "source": [
    "receipts"
   ]
  },
  {
   "cell_type": "code",
   "execution_count": 72,
   "id": "bd0fc488",
   "metadata": {},
   "outputs": [],
   "source": [
    "fixed_values = receipts[2].split(\",\")"
   ]
  },
  {
   "cell_type": "code",
   "execution_count": 73,
   "id": "65f0ce92",
   "metadata": {},
   "outputs": [
    {
     "data": {
      "text/plain": [
       "['15.25', '18.25']"
      ]
     },
     "execution_count": 73,
     "metadata": {},
     "output_type": "execute_result"
    }
   ],
   "source": [
    "fixed_values"
   ]
  },
  {
   "cell_type": "code",
   "execution_count": 74,
   "id": "ddb091cd",
   "metadata": {},
   "outputs": [],
   "source": [
    "receipts.append(fixed_values)"
   ]
  },
  {
   "cell_type": "code",
   "execution_count": 75,
   "id": "36bb879d",
   "metadata": {},
   "outputs": [
    {
     "data": {
      "text/plain": [
       "['40.50', '30.92', '15.25,18.25', ['15.25', '18.25']]"
      ]
     },
     "execution_count": 75,
     "metadata": {},
     "output_type": "execute_result"
    }
   ],
   "source": [
    "receipts"
   ]
  },
  {
   "cell_type": "code",
   "execution_count": 76,
   "id": "b7a4c289",
   "metadata": {},
   "outputs": [],
   "source": [
    "del receipts[-1]\n",
    "del receipts[-1]"
   ]
  },
  {
   "cell_type": "code",
   "execution_count": 77,
   "id": "0d8952cf",
   "metadata": {},
   "outputs": [
    {
     "data": {
      "text/plain": [
       "['40.50', '30.92']"
      ]
     },
     "execution_count": 77,
     "metadata": {},
     "output_type": "execute_result"
    }
   ],
   "source": [
    "receipts"
   ]
  },
  {
   "cell_type": "code",
   "execution_count": 78,
   "id": "9df486db",
   "metadata": {},
   "outputs": [
    {
     "data": {
      "text/plain": [
       "['__add__',\n",
       " '__class__',\n",
       " '__class_getitem__',\n",
       " '__contains__',\n",
       " '__delattr__',\n",
       " '__delitem__',\n",
       " '__dir__',\n",
       " '__doc__',\n",
       " '__eq__',\n",
       " '__format__',\n",
       " '__ge__',\n",
       " '__getattribute__',\n",
       " '__getitem__',\n",
       " '__getstate__',\n",
       " '__gt__',\n",
       " '__hash__',\n",
       " '__iadd__',\n",
       " '__imul__',\n",
       " '__init__',\n",
       " '__init_subclass__',\n",
       " '__iter__',\n",
       " '__le__',\n",
       " '__len__',\n",
       " '__lt__',\n",
       " '__mul__',\n",
       " '__ne__',\n",
       " '__new__',\n",
       " '__reduce__',\n",
       " '__reduce_ex__',\n",
       " '__repr__',\n",
       " '__reversed__',\n",
       " '__rmul__',\n",
       " '__setattr__',\n",
       " '__setitem__',\n",
       " '__sizeof__',\n",
       " '__str__',\n",
       " '__subclasshook__',\n",
       " 'append',\n",
       " 'clear',\n",
       " 'copy',\n",
       " 'count',\n",
       " 'extend',\n",
       " 'index',\n",
       " 'insert',\n",
       " 'pop',\n",
       " 'remove',\n",
       " 'reverse',\n",
       " 'sort']"
      ]
     },
     "execution_count": 78,
     "metadata": {},
     "output_type": "execute_result"
    }
   ],
   "source": [
    "dir(receipts)"
   ]
  },
  {
   "cell_type": "code",
   "execution_count": 79,
   "id": "6ade5432",
   "metadata": {},
   "outputs": [],
   "source": [
    "receipts.extend(fixed_values)"
   ]
  },
  {
   "cell_type": "code",
   "execution_count": 80,
   "id": "9f0fbbad",
   "metadata": {},
   "outputs": [
    {
     "data": {
      "text/plain": [
       "['40.50', '30.92', '15.25', '18.25']"
      ]
     },
     "execution_count": 80,
     "metadata": {},
     "output_type": "execute_result"
    }
   ],
   "source": [
    "receipts"
   ]
  },
  {
   "cell_type": "code",
   "execution_count": 83,
   "id": "91c7d659",
   "metadata": {},
   "outputs": [
    {
     "name": "stdout",
     "output_type": "stream",
     "text": [
      "40.50\n",
      "30.92\n",
      "15.25\n",
      "18.25\n"
     ]
    }
   ],
   "source": [
    "# Loop\n",
    "\n",
    "\n",
    "for d in receipts:\n",
    "    print(d)"
   ]
  },
  {
   "cell_type": "code",
   "execution_count": 82,
   "id": "0ae3a202",
   "metadata": {},
   "outputs": [],
   "source": [
    "import time"
   ]
  },
  {
   "cell_type": "code",
   "execution_count": 86,
   "id": "2ed4c08f",
   "metadata": {},
   "outputs": [
    {
     "name": "stdout",
     "output_type": "stream",
     "text": [
      "40.50\n",
      "30.92\n",
      "15.25\n",
      "18.25\n"
     ]
    }
   ],
   "source": [
    "for d in receipts:\n",
    "    print(d)\n",
    "    time.sleep(1.2)"
   ]
  },
  {
   "cell_type": "code",
   "execution_count": 87,
   "id": "469bf8d1",
   "metadata": {},
   "outputs": [
    {
     "data": {
      "text/plain": [
       "['Muhammad Asad', 'Data Scientist', 4500, '0.5%']"
      ]
     },
     "execution_count": 87,
     "metadata": {},
     "output_type": "execute_result"
    }
   ],
   "source": [
    "employee1"
   ]
  },
  {
   "cell_type": "code",
   "execution_count": 88,
   "id": "6c819a75",
   "metadata": {},
   "outputs": [
    {
     "data": {
      "text/plain": [
       "['Data Scientist', 4500]"
      ]
     },
     "execution_count": 88,
     "metadata": {},
     "output_type": "execute_result"
    }
   ],
   "source": [
    "employee1[1:-1] # slicing"
   ]
  },
  {
   "cell_type": "code",
   "execution_count": 89,
   "id": "f1f6dfcc",
   "metadata": {},
   "outputs": [
    {
     "data": {
      "text/plain": [
       "['Data Scientist', 4500, '0.5%']"
      ]
     },
     "execution_count": 89,
     "metadata": {},
     "output_type": "execute_result"
    }
   ],
   "source": [
    "employee1[1:]"
   ]
  },
  {
   "cell_type": "code",
   "execution_count": 90,
   "id": "f94bcb14",
   "metadata": {},
   "outputs": [
    {
     "data": {
      "text/plain": [
       "['Muhammad Asad', 'Data Scientist', 4500]"
      ]
     },
     "execution_count": 90,
     "metadata": {},
     "output_type": "execute_result"
    }
   ],
   "source": [
    "employee1[0:-1]"
   ]
  },
  {
   "cell_type": "code",
   "execution_count": 91,
   "id": "9a21aa9f",
   "metadata": {},
   "outputs": [
    {
     "data": {
      "text/plain": [
       "['Muhammad Asad', 'Data Scientist', 4500]"
      ]
     },
     "execution_count": 91,
     "metadata": {},
     "output_type": "execute_result"
    }
   ],
   "source": [
    "employee1[:-1]"
   ]
  },
  {
   "cell_type": "code",
   "execution_count": null,
   "id": "f745b216",
   "metadata": {},
   "outputs": [],
   "source": [
    "employee1[start:end+1]"
   ]
  }
 ],
 "metadata": {
  "kernelspec": {
   "display_name": "Python 3 (ipykernel)",
   "language": "python",
   "name": "python3"
  },
  "language_info": {
   "codemirror_mode": {
    "name": "ipython",
    "version": 3
   },
   "file_extension": ".py",
   "mimetype": "text/x-python",
   "name": "python",
   "nbconvert_exporter": "python",
   "pygments_lexer": "ipython3",
   "version": "3.9.7"
  }
 },
 "nbformat": 4,
 "nbformat_minor": 5
}
