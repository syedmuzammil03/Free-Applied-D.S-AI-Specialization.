{
 "cells": [
  {
   "cell_type": "code",
   "execution_count": 1,
   "id": "21ad8aa7",
   "metadata": {},
   "outputs": [],
   "source": [
    "rest_name = \"Buddies Inn\"\n",
    "\n",
    "menu = {\n",
    "    'SKU1': {'name': 'Burger', 'price': 5.99},\n",
    "    'SKU2': {'name': 'Pizza', 'price': 8.99},\n",
    "    'SKU3': {'name': 'Pasta', 'price': 7.49},\n",
    "    'SKU4': {'name': 'Salad', 'price': 4.99},\n",
    "    'SKU5': {'name': 'Steak', 'price': 12.99},\n",
    "    'SKU6': {'name': 'Sushi', 'price': 10.49},\n",
    "    'SKU7': {'name': 'Chicken Wings', 'price': 6.99},\n",
    "    'SKU8': {'name': 'Sandwich', 'price': 4.49},\n",
    "    'SKU9': {'name': 'Tacos', 'price': 5.49},\n",
    "    'SKU10': {'name': 'Ice Cream', 'price': 3.99}\n",
    "}\n",
    "\n",
    "cart = {}\n",
    "\n",
    "actions = {\"1\":\"Add item to the cart\",\n",
    "           \"2\":\"Remove item from the cart\",\n",
    "            \"3\":\"Modify item's quantity in the cart\",\n",
    "            \"4\":\"View items in the cart\",\n",
    "            \"5\":\"Checkout\",\n",
    "            \"6\":\"Exit\",\n",
    "          }\n",
    "\n",
    "gst = 0.07"
   ]
  },
  {
   "cell_type": "code",
   "execution_count": 2,
   "id": "c62eb140",
   "metadata": {},
   "outputs": [],
   "source": [
    "def display_menu():\n",
    "    \n",
    "    \"\"\"Displays all menu item SKUs, names and prices\"\"\"\n",
    "    \n",
    "    print(\"\\n***Buddies Inn's Menu***\\n\")\n",
    "    \n",
    "    for sku in menu:\n",
    "        stock = sku[3:]\n",
    "        name = menu[sku][\"name\"]\n",
    "        price = menu[sku][\"price\"]\n",
    "\n",
    "        print(f\"({stock}) {name} ${price}\")\n",
    "    print(\"\\n\")"
   ]
  },
  {
   "cell_type": "code",
   "execution_count": 3,
   "id": "6d984b88",
   "metadata": {},
   "outputs": [],
   "source": [
    "def add_to_cart(sku, quantity = 1):\n",
    "    \"\"\"\n",
    "    Add an item and its quantity to the cart\n",
    "    \n",
    "    :param1 string sku: The input SKU number being ordered\n",
    "    :param2 int quantity: The input qunatity being ordered\n",
    "    \"\"\"\n",
    "    if sku in menu:\n",
    "        if sku not in cart:\n",
    "            cart[sku] = quantity\n",
    "        else:\n",
    "            cart[sku] += quantity\n",
    "            \n",
    "        print(f\"Added {quantity} {menu[sku]['name']} in your cart\")\n",
    "            \n",
    "    else:\n",
    "        print(\"Sorry! Ordered item is not available in the menu\")\n",
    "        \n",
    "    "
   ]
  },
  {
   "cell_type": "code",
   "execution_count": 4,
   "id": "be8f47fe",
   "metadata": {},
   "outputs": [],
   "source": [
    "def remove_from_cart(sku):\n",
    "    \n",
    "    \"\"\"\n",
    "    Remove an item from the cart\n",
    "    \n",
    "    :param string sku: The input SKU number to remove from the cart.\n",
    "    \n",
    "    \"\"\"\n",
    "    if sku in cart:\n",
    "        removed_val = cart.pop(sku)\n",
    "        print(f\"Removed {menu[sku]['name']} from the cart.\")\n",
    "    else:\n",
    "        print(f\"Sorry! This item in not available in the cart\")\n"
   ]
  },
  {
   "cell_type": "code",
   "execution_count": 5,
   "id": "9d2ce207",
   "metadata": {},
   "outputs": [],
   "source": [
    "def modify_cart(sku, quantity):\n",
    "    \"\"\"\n",
    "    Modify an item's qunatity in the cart\n",
    "    \n",
    "    :param1 string sku: The input SKU number being ordered\n",
    "    :param2 int qunatity: The input new quantity to be modified for SKU.\n",
    "    \"\"\"\n",
    "    \n",
    "    if sku in cart:\n",
    "        if quantity > 0:\n",
    "            cart[sku] = quantity\n",
    "            print(f\"Modified {menu[sku]['name']}\\'s quantity to {quantity}\")\n",
    "        else:\n",
    "            remove_from_cart(sku)\n",
    "    else:      \n",
    "        print(\"Sorry! This item is not available in the cart\")"
   ]
  },
  {
   "cell_type": "code",
   "execution_count": 6,
   "id": "21f49433",
   "metadata": {},
   "outputs": [],
   "source": [
    "def view_cart():\n",
    "    \"Display the menu names, quatity and total amount\"\n",
    "    \n",
    "    print(\"\\n***Your Order***\\n\")\n",
    "    subtotal = 0\n",
    "\n",
    "    for sku in cart:\n",
    "        quantity = cart[sku]\n",
    "        price = menu[sku]['price']\n",
    "\n",
    "        subtotal+= quantity*price\n",
    "\n",
    "        print(f\"{quantity} x {menu[sku]['name']}\")\n",
    "\n",
    "    tax = subtotal*gst\n",
    "\n",
    "    total = subtotal + tax\n",
    "    print(f\"Total: ${total: .2f}\")\n",
    "    print(\"\\n\")"
   ]
  },
  {
   "cell_type": "code",
   "execution_count": 58,
   "id": "ff99bacd",
   "metadata": {},
   "outputs": [],
   "source": [
    "def checkout():\n",
    "    \"\"\"\n",
    "    Display the subtotal info for the user to checkout\n",
    "    \"\"\"\n",
    "    print(\"\\n***Checkout***\\n\")\n",
    "    \n",
    "    view_cart()\n",
    "    \n",
    "    print(\"Thank you for the order! Goodbye!\")\n",
    "    print(\"\\n\")"
   ]
  },
  {
   "cell_type": "code",
   "execution_count": 8,
   "id": "44abd058",
   "metadata": {},
   "outputs": [
    {
     "data": {
      "text/plain": [
       "{'1': 'Add item to the cart',\n",
       " '2': 'Remove item from the cart',\n",
       " '3': \"Modify item's quantit in the cart\",\n",
       " '4': 'View items in the cart',\n",
       " '5': 'Checkout',\n",
       " '6': 'Exit'}"
      ]
     },
     "execution_count": 8,
     "metadata": {},
     "output_type": "execute_result"
    }
   ],
   "source": [
    "actions"
   ]
  },
  {
   "cell_type": "code",
   "execution_count": 10,
   "id": "c7608e89",
   "metadata": {},
   "outputs": [
    {
     "name": "stdout",
     "output_type": "stream",
     "text": [
      "\n",
      "***Please Choose your options***\n",
      "\n",
      "Add item to the cart\n",
      "Remove item from the cart\n",
      "Modify item's quantit in the cart\n",
      "View items in the cart\n",
      "Checkout\n",
      "Exit\n"
     ]
    }
   ],
   "source": [
    "print(\"\\n***Please Choose your options***\\n\")\n",
    "\n",
    "for action in actions:\n",
    "    details = actions[action]\n",
    "    print(details)\n",
    "    "
   ]
  },
  {
   "cell_type": "code",
   "execution_count": 11,
   "id": "08781548",
   "metadata": {},
   "outputs": [
    {
     "name": "stdout",
     "output_type": "stream",
     "text": [
      "\n",
      "***Please Choose your options***\n",
      "\n",
      "(1) Add item to the cart\n",
      "(2) Remove item from the cart\n",
      "(3) Modify item's quantit in the cart\n",
      "(4) View items in the cart\n",
      "(5) Checkout\n",
      "(6) Exit\n"
     ]
    }
   ],
   "source": [
    "print(\"\\n***Please Choose your options***\\n\")\n",
    "\n",
    "for action in actions:\n",
    "    details = actions[action]\n",
    "    print(f\"({action}) {details}\")"
   ]
  },
  {
   "cell_type": "code",
   "execution_count": 18,
   "id": "13e3c200",
   "metadata": {},
   "outputs": [],
   "source": [
    "def cust_actions():\n",
    "    print(\"\\n***Please Choose your option***\\n\")\n",
    "    for action in actions:\n",
    "        details = actions[action]\n",
    "        print(f\"({action}) {details}\")"
   ]
  },
  {
   "cell_type": "code",
   "execution_count": 19,
   "id": "d6509257",
   "metadata": {},
   "outputs": [
    {
     "name": "stdout",
     "output_type": "stream",
     "text": [
      "\n",
      "***Please Choose your option***\n",
      "\n",
      "(1) Add item to the cart\n",
      "(2) Remove item from the cart\n",
      "(3) Modify item's quantit in the cart\n",
      "(4) View items in the cart\n",
      "(5) Checkout\n",
      "(6) Exit\n"
     ]
    }
   ],
   "source": [
    "cust_actions()"
   ]
  },
  {
   "cell_type": "code",
   "execution_count": 20,
   "id": "dbb3ba7c",
   "metadata": {},
   "outputs": [],
   "source": [
    "def order():\n",
    "    \"\"\"\n",
    "    It will take order from the customers\n",
    "    \"\"\"\n",
    "    \n",
    "    print(f\"Welcome to the {rest_name}!\")\n",
    "    \n",
    "    ordering = True\n",
    "    \n",
    "    while ordering:\n",
    "        cust_actions()\n",
    "        break"
   ]
  },
  {
   "cell_type": "code",
   "execution_count": 21,
   "id": "78a1d799",
   "metadata": {},
   "outputs": [
    {
     "name": "stdout",
     "output_type": "stream",
     "text": [
      "Welcome to the Buddies Inn!\n",
      "\n",
      "***Please Choose your option***\n",
      "\n",
      "(1) Add item to the cart\n",
      "(2) Remove item from the cart\n",
      "(3) Modify item's quantit in the cart\n",
      "(4) View items in the cart\n",
      "(5) Checkout\n",
      "(6) Exit\n"
     ]
    }
   ],
   "source": [
    "order()"
   ]
  },
  {
   "cell_type": "code",
   "execution_count": 22,
   "id": "b1345274",
   "metadata": {},
   "outputs": [],
   "source": [
    "def order():\n",
    "    \"\"\"\n",
    "    It will take order from the customers\n",
    "    \"\"\"\n",
    "    \n",
    "    print(f\"Welcome to the {rest_name}!\")\n",
    "    \n",
    "    ordering = True\n",
    "    \n",
    "    while ordering:\n",
    "        cust_actions()\n",
    "        response = input(\"Please enter the desired option: \")\n",
    "        if response == \"1\":\n",
    "            display_menu()\n",
    "            break\n",
    "            "
   ]
  },
  {
   "cell_type": "code",
   "execution_count": 23,
   "id": "3650fa80",
   "metadata": {},
   "outputs": [
    {
     "name": "stdout",
     "output_type": "stream",
     "text": [
      "Welcome to the Buddies Inn!\n",
      "\n",
      "***Please Choose your option***\n",
      "\n",
      "(1) Add item to the cart\n",
      "(2) Remove item from the cart\n",
      "(3) Modify item's quantit in the cart\n",
      "(4) View items in the cart\n",
      "(5) Checkout\n",
      "(6) Exit\n",
      "Please enter the desired option: 1\n",
      "\n",
      "***Buddies Inn's Menu***\n",
      "\n",
      "(1) Burger $5.99\n",
      "(2) Pizza $8.99\n",
      "(3) Pasta $7.49\n",
      "(4) Salad $4.99\n",
      "(5) Steak $12.99\n",
      "(6) Sushi $10.49\n",
      "(7) Chicken Wings $6.99\n",
      "(8) Sandwich $4.49\n",
      "(9) Tacos $5.49\n",
      "(10) Ice Cream $3.99\n",
      "\n",
      "\n"
     ]
    }
   ],
   "source": [
    "order()"
   ]
  },
  {
   "cell_type": "code",
   "execution_count": 24,
   "id": "2f3dbac6",
   "metadata": {},
   "outputs": [
    {
     "name": "stdout",
     "output_type": "stream",
     "text": [
      "Sorry! Ordered item is not available in the menu\n"
     ]
    }
   ],
   "source": [
    "add_to_cart(\"1\", quantity = 1)\n",
    "            "
   ]
  },
  {
   "cell_type": "code",
   "execution_count": 25,
   "id": "48667088",
   "metadata": {},
   "outputs": [
    {
     "data": {
      "text/plain": [
       "{}"
      ]
     },
     "execution_count": 25,
     "metadata": {},
     "output_type": "execute_result"
    }
   ],
   "source": [
    "cart"
   ]
  },
  {
   "cell_type": "code",
   "execution_count": 26,
   "id": "cd5c9b83",
   "metadata": {},
   "outputs": [
    {
     "name": "stdout",
     "output_type": "stream",
     "text": [
      "Added 1 Burger in your cart\n"
     ]
    }
   ],
   "source": [
    "add_to_cart(\"SKU1\", quantity = 1)         "
   ]
  },
  {
   "cell_type": "code",
   "execution_count": 27,
   "id": "a2d9f232",
   "metadata": {},
   "outputs": [
    {
     "data": {
      "text/plain": [
       "{'SKU1': 1}"
      ]
     },
     "execution_count": 27,
     "metadata": {},
     "output_type": "execute_result"
    }
   ],
   "source": [
    "cart"
   ]
  },
  {
   "cell_type": "code",
   "execution_count": 28,
   "id": "cf672929",
   "metadata": {},
   "outputs": [],
   "source": [
    "def order():\n",
    "    \"\"\"\n",
    "    It will take order from the customers\n",
    "    \"\"\"\n",
    "    \n",
    "    print(f\"Welcome to the {rest_name}!\")\n",
    "    \n",
    "    ordering = True\n",
    "    \n",
    "    while ordering:\n",
    "        cust_actions()\n",
    "        response = input(\"Please enter the desired option: \")\n",
    "        if response == \"1\": # Add item to the cart\n",
    "            display_menu()\n",
    "            sku_prompt = \"Please enter the meal number for the menu item you want to order: \"\n",
    "            quantity_prompt = \"Please enter the quantity for the menu item you want to order[Defaualt 1]: \"\n",
    "            add_to_cart(sku, quantity = 1)\n",
    "            break\n",
    "            "
   ]
  },
  {
   "cell_type": "code",
   "execution_count": 33,
   "id": "4a88dab2",
   "metadata": {},
   "outputs": [],
   "source": [
    "def get_sku_and_quantity(sku_prompt, quantity_prompt):\n",
    "    sku_num = input(sku_prompt)\n",
    "    sku = \"SKU\"+sku_num\n",
    "    \n",
    "    qty = input(quantity_prompt)\n",
    "    if not qty.isdigit():\n",
    "        qty = 1\n",
    "    else:\n",
    "        qty = int(qty)\n",
    "    \n",
    "    return sku, qty"
   ]
  },
  {
   "cell_type": "code",
   "execution_count": 29,
   "id": "d9cd9c42",
   "metadata": {},
   "outputs": [
    {
     "data": {
      "text/plain": [
       "True"
      ]
     },
     "execution_count": 29,
     "metadata": {},
     "output_type": "execute_result"
    }
   ],
   "source": [
    "\"1\".isdigit()"
   ]
  },
  {
   "cell_type": "code",
   "execution_count": 34,
   "id": "e8c1864c",
   "metadata": {},
   "outputs": [
    {
     "name": "stdout",
     "output_type": "stream",
     "text": [
      "Please enter the meal number for the menu item you want to order: 1\n",
      "Please enter the quantity for the menu item you want to order: \n"
     ]
    },
    {
     "data": {
      "text/plain": [
       "('SKU1', 1)"
      ]
     },
     "execution_count": 34,
     "metadata": {},
     "output_type": "execute_result"
    }
   ],
   "source": [
    "sku_prompt = \"Please enter the meal number for the menu item you want to order: \"\n",
    "quantity_prompt = \"Please enter the quantity for the menu item you want to order: \"\n",
    "\n",
    "get_sku_and_quantity(sku_prompt, quantity_prompt)"
   ]
  },
  {
   "cell_type": "code",
   "execution_count": 36,
   "id": "8348c486",
   "metadata": {},
   "outputs": [
    {
     "name": "stdout",
     "output_type": "stream",
     "text": [
      "Welcome to the Buddies Inn!\n",
      "\n",
      "***Please Choose your option***\n",
      "\n",
      "(1) Add item to the cart\n",
      "(2) Remove item from the cart\n",
      "(3) Modify item's quantit in the cart\n",
      "(4) View items in the cart\n",
      "(5) Checkout\n",
      "(6) Exit\n",
      "Please enter the desired option: 1\n",
      "\n",
      "***Buddies Inn's Menu***\n",
      "\n",
      "(1) Burger $5.99\n",
      "(2) Pizza $8.99\n",
      "(3) Pasta $7.49\n",
      "(4) Salad $4.99\n",
      "(5) Steak $12.99\n",
      "(6) Sushi $10.49\n",
      "(7) Chicken Wings $6.99\n",
      "(8) Sandwich $4.49\n",
      "(9) Tacos $5.49\n",
      "(10) Ice Cream $3.99\n",
      "\n",
      "\n",
      "Please enter the meal number for the menu item you want to order: 7\n",
      "Please enter the quantity for the menu item you want to order[Defaualt 1]: 3\n",
      "Added 3 Chicken Wings in your cart\n"
     ]
    }
   ],
   "source": [
    "order()"
   ]
  },
  {
   "cell_type": "code",
   "execution_count": 37,
   "id": "f4653954",
   "metadata": {},
   "outputs": [
    {
     "data": {
      "text/plain": [
       "{'SKU1': 1, 'SKU7': 3}"
      ]
     },
     "execution_count": 37,
     "metadata": {},
     "output_type": "execute_result"
    }
   ],
   "source": [
    "cart"
   ]
  },
  {
   "cell_type": "code",
   "execution_count": 38,
   "id": "449c6d30",
   "metadata": {},
   "outputs": [],
   "source": [
    "def order():\n",
    "    \"\"\"\n",
    "    It will take order from the customers\n",
    "    \"\"\"\n",
    "    \n",
    "    print(f\"Welcome to the {rest_name}!\")\n",
    "    \n",
    "    ordering = True\n",
    "    \n",
    "    while ordering:\n",
    "        cust_actions()\n",
    "        response = input(\"Please enter the desired option: \")\n",
    "        if response == \"1\": # Add item to the cart\n",
    "            display_menu()\n",
    "            sku_prompt = \"Please enter the meal number for the menu item you want to order: \"\n",
    "            quantity_prompt = \"Please enter the quantity for the menu item you want to order [Defaualt 1]: \"\n",
    "            sku, quantity = get_sku_and_quantity(sku_prompt, quantity_prompt)\n",
    "            add_to_cart(sku, quantity)\n",
    "        elif response == \"2\": # Remove from the cart\n",
    "            display_menu()\n",
    "            sku_prompt = \"Please enter the meal number for the menu item you want to order: \"\n",
    "        \n",
    "            sku, quantity = get_sku_and_quantity(sku_prompt, quantity_prompt) \n",
    "            remove_from_cart(sku)\n",
    "            break"
   ]
  },
  {
   "cell_type": "code",
   "execution_count": 39,
   "id": "3fdae29d",
   "metadata": {},
   "outputs": [
    {
     "name": "stdout",
     "output_type": "stream",
     "text": [
      "Welcome to the Buddies Inn!\n",
      "\n",
      "***Please Choose your option***\n",
      "\n",
      "(1) Add item to the cart\n",
      "(2) Remove item from the cart\n",
      "(3) Modify item's quantit in the cart\n",
      "(4) View items in the cart\n",
      "(5) Checkout\n",
      "(6) Exit\n",
      "Please enter the desired option: 2\n",
      "\n",
      "***Buddies Inn's Menu***\n",
      "\n",
      "(1) Burger $5.99\n",
      "(2) Pizza $8.99\n",
      "(3) Pasta $7.49\n",
      "(4) Salad $4.99\n",
      "(5) Steak $12.99\n",
      "(6) Sushi $10.49\n",
      "(7) Chicken Wings $6.99\n",
      "(8) Sandwich $4.49\n",
      "(9) Tacos $5.49\n",
      "(10) Ice Cream $3.99\n",
      "\n",
      "\n"
     ]
    },
    {
     "ename": "UnboundLocalError",
     "evalue": "cannot access local variable 'quantity_prompt' where it is not associated with a value",
     "output_type": "error",
     "traceback": [
      "\u001b[1;31m---------------------------------------------------------------------------\u001b[0m",
      "\u001b[1;31mUnboundLocalError\u001b[0m                         Traceback (most recent call last)",
      "Cell \u001b[1;32mIn[39], line 1\u001b[0m\n\u001b[1;32m----> 1\u001b[0m \u001b[43morder\u001b[49m\u001b[43m(\u001b[49m\u001b[43m)\u001b[49m\n",
      "Cell \u001b[1;32mIn[38], line 23\u001b[0m, in \u001b[0;36morder\u001b[1;34m()\u001b[0m\n\u001b[0;32m     20\u001b[0m display_menu()\n\u001b[0;32m     21\u001b[0m sku_prompt \u001b[38;5;241m=\u001b[39m \u001b[38;5;124m\"\u001b[39m\u001b[38;5;124mPlease enter the meal number for the menu item you want to order: \u001b[39m\u001b[38;5;124m\"\u001b[39m\n\u001b[1;32m---> 23\u001b[0m sku, quantity \u001b[38;5;241m=\u001b[39m get_sku_and_quantity(sku_prompt, \u001b[43mquantity_prompt\u001b[49m) \n\u001b[0;32m     24\u001b[0m remove_from_cart(sku)\n\u001b[0;32m     25\u001b[0m \u001b[38;5;28;01mbreak\u001b[39;00m\n",
      "\u001b[1;31mUnboundLocalError\u001b[0m: cannot access local variable 'quantity_prompt' where it is not associated with a value"
     ]
    }
   ],
   "source": [
    "order()"
   ]
  },
  {
   "cell_type": "code",
   "execution_count": 40,
   "id": "839e3161",
   "metadata": {},
   "outputs": [
    {
     "name": "stdout",
     "output_type": "stream",
     "text": [
      "OK\n"
     ]
    }
   ],
   "source": [
    "num = 5\n",
    "\n",
    "if num:\n",
    "    print(\"OK\")"
   ]
  },
  {
   "cell_type": "code",
   "execution_count": 41,
   "id": "217609f3",
   "metadata": {},
   "outputs": [],
   "source": [
    "num = None\n",
    "\n",
    "if num:\n",
    "    print(\"OK\")"
   ]
  },
  {
   "cell_type": "code",
   "execution_count": 42,
   "id": "3ff00afa",
   "metadata": {},
   "outputs": [],
   "source": [
    "def get_sku_and_quantity(sku_prompt, quantity_prompt = None):\n",
    "    sku_num = input(sku_prompt)\n",
    "    sku = \"SKU\"+sku_num\n",
    "    \n",
    "    if quantity_prompt:\n",
    "        qty = input(quantity_prompt)\n",
    "        if not qty.isdigit():\n",
    "            qty = 1\n",
    "        else:\n",
    "            qty = int(qty)\n",
    "\n",
    "        return sku, qty\n",
    "    else:\n",
    "        return sku"
   ]
  },
  {
   "cell_type": "code",
   "execution_count": 43,
   "id": "f5bf9a2d",
   "metadata": {},
   "outputs": [],
   "source": [
    "def order():\n",
    "    \"\"\"\n",
    "    It will take order from the customers\n",
    "    \"\"\"\n",
    "    \n",
    "    print(f\"Welcome to the {rest_name}!\")\n",
    "    \n",
    "    ordering = True\n",
    "    \n",
    "    while ordering:\n",
    "        cust_actions()\n",
    "        response = input(\"Please enter the desired option: \")\n",
    "        if response == \"1\": # Add item to the cart\n",
    "            display_menu()\n",
    "            sku_prompt = \"Please enter the meal number from the menu item you want to order: \"\n",
    "            quantity_prompt = \"Please enter the quantity for the menu item you want to order [Defaualt 1]: \"\n",
    "            sku, quantity = get_sku_and_quantity(sku_prompt, quantity_prompt)\n",
    "            add_to_cart(sku, quantity)\n",
    "        elif response == \"2\": # Remove from the cart\n",
    "            display_menu()\n",
    "            sku_prompt = \"Please enter the meal number from the menu item you want to remove: \"\n",
    "        \n",
    "            sku = get_sku_and_quantity(sku_prompt) \n",
    "            remove_from_cart(sku)\n",
    "            break"
   ]
  },
  {
   "cell_type": "code",
   "execution_count": 44,
   "id": "b5155c68",
   "metadata": {},
   "outputs": [
    {
     "name": "stdout",
     "output_type": "stream",
     "text": [
      "Welcome to the Buddies Inn!\n",
      "\n",
      "***Please Choose your option***\n",
      "\n",
      "(1) Add item to the cart\n",
      "(2) Remove item from the cart\n",
      "(3) Modify item's quantit in the cart\n",
      "(4) View items in the cart\n",
      "(5) Checkout\n",
      "(6) Exit\n",
      "Please enter the desired option: 2\n",
      "\n",
      "***Buddies Inn's Menu***\n",
      "\n",
      "(1) Burger $5.99\n",
      "(2) Pizza $8.99\n",
      "(3) Pasta $7.49\n",
      "(4) Salad $4.99\n",
      "(5) Steak $12.99\n",
      "(6) Sushi $10.49\n",
      "(7) Chicken Wings $6.99\n",
      "(8) Sandwich $4.49\n",
      "(9) Tacos $5.49\n",
      "(10) Ice Cream $3.99\n",
      "\n",
      "\n",
      "Please enter the meal number from the menu item you want to remove: 1\n",
      "Removed Burger from the cart.\n"
     ]
    }
   ],
   "source": [
    "order()"
   ]
  },
  {
   "cell_type": "code",
   "execution_count": 45,
   "id": "af1b2006",
   "metadata": {},
   "outputs": [
    {
     "name": "stdout",
     "output_type": "stream",
     "text": [
      "Welcome to the Buddies Inn!\n",
      "\n",
      "***Please Choose your option***\n",
      "\n",
      "(1) Add item to the cart\n",
      "(2) Remove item from the cart\n",
      "(3) Modify item's quantit in the cart\n",
      "(4) View items in the cart\n",
      "(5) Checkout\n",
      "(6) Exit\n",
      "Please enter the desired option: 2\n",
      "\n",
      "***Buddies Inn's Menu***\n",
      "\n",
      "(1) Burger $5.99\n",
      "(2) Pizza $8.99\n",
      "(3) Pasta $7.49\n",
      "(4) Salad $4.99\n",
      "(5) Steak $12.99\n",
      "(6) Sushi $10.49\n",
      "(7) Chicken Wings $6.99\n",
      "(8) Sandwich $4.49\n",
      "(9) Tacos $5.49\n",
      "(10) Ice Cream $3.99\n",
      "\n",
      "\n",
      "Please enter the meal number from the menu item you want to remove: 1\n",
      "Sorry! This item in not available in the cart\n"
     ]
    }
   ],
   "source": [
    "order()"
   ]
  },
  {
   "cell_type": "code",
   "execution_count": null,
   "id": "f559a772",
   "metadata": {},
   "outputs": [],
   "source": [
    "def order():\n",
    "    \"\"\"\n",
    "    It will take order from the customers\n",
    "    \"\"\"\n",
    "    \n",
    "    print(f\"Welcome to the {rest_name}!\")\n",
    "    \n",
    "    ordering = True\n",
    "    \n",
    "    while ordering:\n",
    "        cust_actions()\n",
    "        response = input(\"Please enter the desired option: \")\n",
    "        if response == \"1\": # Add item to the cart\n",
    "            display_menu()\n",
    "            sku_prompt = \"Please enter the meal number from the menu item you want to order: \"\n",
    "            quantity_prompt = \"Please enter the quantity for the menu item you want to order [Defaualt 1]: \"\n",
    "            sku, quantity = get_sku_and_quantity(sku_prompt, quantity_prompt)\n",
    "            add_to_cart(sku, quantity)\n",
    "        elif response == \"2\": # Remove from the cart\n",
    "            display_menu()\n",
    "            sku_prompt = \"Please enter the meal number from the menu item you want to remove: \"\n",
    "        \n",
    "            sku = get_sku_and_quantity(sku_prompt) \n",
    "            remove_from_cart(sku)\n",
    "            \n",
    "        elif response == \"3\": # Modify the cart\n",
    "            display_menu()\n",
    "            sku_prompt = \"Please enter the meal number from the menu item you want to modify: \"\n",
    "            quantity_prompt = \"Please enter the quantity for the menu item you want to order [Defaualt 1]: \" \n",
    "            sku, quantity = get_sku_and_quantity(sku_prompt) \n",
    "            modify_cart(sku, quantity)\n",
    "        "
   ]
  },
  {
   "cell_type": "code",
   "execution_count": 46,
   "id": "419c00f9",
   "metadata": {},
   "outputs": [
    {
     "data": {
      "text/plain": [
       "{'SKU7': 3}"
      ]
     },
     "execution_count": 46,
     "metadata": {},
     "output_type": "execute_result"
    }
   ],
   "source": [
    "cart"
   ]
  },
  {
   "cell_type": "code",
   "execution_count": 56,
   "id": "04668581",
   "metadata": {},
   "outputs": [],
   "source": [
    "def order():\n",
    "    \"\"\"\n",
    "    It will take order from the customers\n",
    "    \"\"\"\n",
    "    \n",
    "    print(f\"Welcome to the {rest_name}!\")\n",
    "    \n",
    "    ordering = True\n",
    "    \n",
    "    while ordering:\n",
    "        cust_actions()\n",
    "        response = input(\"Please enter the desired option: \")\n",
    "        if response == \"1\": # Add item to the cart\n",
    "            display_menu()\n",
    "            sku_prompt = \"Please enter the meal number from the menu item you want to order: \"\n",
    "            quantity_prompt = \"Please enter the quantity for the menu item you want to order [Defaualt 1]: \"\n",
    "            sku, quantity = get_sku_and_quantity(sku_prompt, quantity_prompt)\n",
    "            print()\n",
    "            add_to_cart(sku, quantity)\n",
    "            \n",
    "        elif response == \"2\": # Remove from the cart\n",
    "            display_menu()\n",
    "            sku_prompt = \"Please enter the meal number from the menu item you want to remove: \"\n",
    "        \n",
    "            sku = get_sku_and_quantity(sku_prompt) \n",
    "            print()\n",
    "            remove_from_cart(sku)\n",
    "            \n",
    "        elif response == \"3\": # Modify the cart\n",
    "            display_menu()\n",
    "            sku_prompt = \"Please enter the meal number from the menu item you want to modify: \"\n",
    "            quantity_prompt = \"Please enter the quantity for the menu item you want to order [Defaualt 1]: \" \n",
    "            sku, quantity = get_sku_and_quantity(sku_prompt, quantity_prompt) \n",
    "            print()\n",
    "            modify_cart(sku, quantity)\n",
    "            \n",
    "        elif response == \"4\": # View cart\n",
    "            view_cart()\n",
    "        \n",
    "        elif response == \"5\": # Checkout\n",
    "            checkout()\n",
    "            ordering = False # breaking while loop\n",
    "            \n",
    "        elif response == \"6\": # Exit\n",
    "            print(\"Thanks for coming!\")\n",
    "            ordering = False # breaking while loop\n",
    "        else:\n",
    "            print(\"Sorry you have entered the invalid option. Please try again!\")"
   ]
  },
  {
   "cell_type": "code",
   "execution_count": 51,
   "id": "c50522fb",
   "metadata": {},
   "outputs": [
    {
     "data": {
      "text/plain": [
       "{'SKU7': 3}"
      ]
     },
     "execution_count": 51,
     "metadata": {},
     "output_type": "execute_result"
    }
   ],
   "source": [
    "cart"
   ]
  },
  {
   "cell_type": "code",
   "execution_count": 52,
   "id": "7182ba96",
   "metadata": {},
   "outputs": [
    {
     "data": {
      "text/plain": [
       "['__class__',\n",
       " '__class_getitem__',\n",
       " '__contains__',\n",
       " '__delattr__',\n",
       " '__delitem__',\n",
       " '__dir__',\n",
       " '__doc__',\n",
       " '__eq__',\n",
       " '__format__',\n",
       " '__ge__',\n",
       " '__getattribute__',\n",
       " '__getitem__',\n",
       " '__getstate__',\n",
       " '__gt__',\n",
       " '__hash__',\n",
       " '__init__',\n",
       " '__init_subclass__',\n",
       " '__ior__',\n",
       " '__iter__',\n",
       " '__le__',\n",
       " '__len__',\n",
       " '__lt__',\n",
       " '__ne__',\n",
       " '__new__',\n",
       " '__or__',\n",
       " '__reduce__',\n",
       " '__reduce_ex__',\n",
       " '__repr__',\n",
       " '__reversed__',\n",
       " '__ror__',\n",
       " '__setattr__',\n",
       " '__setitem__',\n",
       " '__sizeof__',\n",
       " '__str__',\n",
       " '__subclasshook__',\n",
       " 'clear',\n",
       " 'copy',\n",
       " 'fromkeys',\n",
       " 'get',\n",
       " 'items',\n",
       " 'keys',\n",
       " 'pop',\n",
       " 'popitem',\n",
       " 'setdefault',\n",
       " 'update',\n",
       " 'values']"
      ]
     },
     "execution_count": 52,
     "metadata": {},
     "output_type": "execute_result"
    }
   ],
   "source": [
    "dir(cart)"
   ]
  },
  {
   "cell_type": "code",
   "execution_count": 53,
   "id": "f4527229",
   "metadata": {},
   "outputs": [],
   "source": [
    "cart.clear()"
   ]
  },
  {
   "cell_type": "code",
   "execution_count": 54,
   "id": "f2981e3c",
   "metadata": {},
   "outputs": [
    {
     "data": {
      "text/plain": [
       "{}"
      ]
     },
     "execution_count": 54,
     "metadata": {},
     "output_type": "execute_result"
    }
   ],
   "source": [
    "cart"
   ]
  },
  {
   "cell_type": "code",
   "execution_count": 55,
   "id": "0eb9edb5",
   "metadata": {},
   "outputs": [
    {
     "name": "stdout",
     "output_type": "stream",
     "text": [
      "Welcome to the Buddies Inn!\n",
      "\n",
      "***Please Choose your option***\n",
      "\n",
      "(1) Add item to the cart\n",
      "(2) Remove item from the cart\n",
      "(3) Modify item's quantit in the cart\n",
      "(4) View items in the cart\n",
      "(5) Checkout\n",
      "(6) Exit\n",
      "Please enter the desired option: 1\n",
      "\n",
      "***Buddies Inn's Menu***\n",
      "\n",
      "(1) Burger $5.99\n",
      "(2) Pizza $8.99\n",
      "(3) Pasta $7.49\n",
      "(4) Salad $4.99\n",
      "(5) Steak $12.99\n",
      "(6) Sushi $10.49\n",
      "(7) Chicken Wings $6.99\n",
      "(8) Sandwich $4.49\n",
      "(9) Tacos $5.49\n",
      "(10) Ice Cream $3.99\n",
      "\n",
      "\n",
      "Please enter the meal number from the menu item you want to order: 6\n",
      "Please enter the quantity for the menu item you want to order [Defaualt 1]: 15\n",
      "Added 15 Sushi in your cart\n",
      "\n",
      "***Please Choose your option***\n",
      "\n",
      "(1) Add item to the cart\n",
      "(2) Remove item from the cart\n",
      "(3) Modify item's quantit in the cart\n",
      "(4) View items in the cart\n",
      "(5) Checkout\n",
      "(6) Exit\n",
      "Please enter the desired option: 1\n",
      "\n",
      "***Buddies Inn's Menu***\n",
      "\n",
      "(1) Burger $5.99\n",
      "(2) Pizza $8.99\n",
      "(3) Pasta $7.49\n",
      "(4) Salad $4.99\n",
      "(5) Steak $12.99\n",
      "(6) Sushi $10.49\n",
      "(7) Chicken Wings $6.99\n",
      "(8) Sandwich $4.49\n",
      "(9) Tacos $5.49\n",
      "(10) Ice Cream $3.99\n",
      "\n",
      "\n",
      "Please enter the meal number from the menu item you want to order: 5\n",
      "Please enter the quantity for the menu item you want to order [Defaualt 1]: 4\n",
      "Added 4 Steak in your cart\n",
      "\n",
      "***Please Choose your option***\n",
      "\n",
      "(1) Add item to the cart\n",
      "(2) Remove item from the cart\n",
      "(3) Modify item's quantit in the cart\n",
      "(4) View items in the cart\n",
      "(5) Checkout\n",
      "(6) Exit\n",
      "Please enter the desired option: 3\n",
      "\n",
      "***Buddies Inn's Menu***\n",
      "\n",
      "(1) Burger $5.99\n",
      "(2) Pizza $8.99\n",
      "(3) Pasta $7.49\n",
      "(4) Salad $4.99\n",
      "(5) Steak $12.99\n",
      "(6) Sushi $10.49\n",
      "(7) Chicken Wings $6.99\n",
      "(8) Sandwich $4.49\n",
      "(9) Tacos $5.49\n",
      "(10) Ice Cream $3.99\n",
      "\n",
      "\n",
      "Please enter the meal number from the menu item you want to modify: 5\n"
     ]
    },
    {
     "ename": "ValueError",
     "evalue": "too many values to unpack (expected 2)",
     "output_type": "error",
     "traceback": [
      "\u001b[1;31m---------------------------------------------------------------------------\u001b[0m",
      "\u001b[1;31mValueError\u001b[0m                                Traceback (most recent call last)",
      "Cell \u001b[1;32mIn[55], line 1\u001b[0m\n\u001b[1;32m----> 1\u001b[0m \u001b[43morder\u001b[49m\u001b[43m(\u001b[49m\u001b[43m)\u001b[49m\n",
      "Cell \u001b[1;32mIn[50], line 30\u001b[0m, in \u001b[0;36morder\u001b[1;34m()\u001b[0m\n\u001b[0;32m     28\u001b[0m     sku_prompt \u001b[38;5;241m=\u001b[39m \u001b[38;5;124m\"\u001b[39m\u001b[38;5;124mPlease enter the meal number from the menu item you want to modify: \u001b[39m\u001b[38;5;124m\"\u001b[39m\n\u001b[0;32m     29\u001b[0m     quantity_prompt \u001b[38;5;241m=\u001b[39m \u001b[38;5;124m\"\u001b[39m\u001b[38;5;124mPlease enter the quantity for the menu item you want to order [Defaualt 1]: \u001b[39m\u001b[38;5;124m\"\u001b[39m \n\u001b[1;32m---> 30\u001b[0m     sku, quantity \u001b[38;5;241m=\u001b[39m get_sku_and_quantity(sku_prompt) \n\u001b[0;32m     31\u001b[0m     modify_cart(sku, quantity)\n\u001b[0;32m     33\u001b[0m \u001b[38;5;28;01melif\u001b[39;00m response \u001b[38;5;241m==\u001b[39m \u001b[38;5;124m\"\u001b[39m\u001b[38;5;124m4\u001b[39m\u001b[38;5;124m\"\u001b[39m: \u001b[38;5;66;03m# View cart\u001b[39;00m\n",
      "\u001b[1;31mValueError\u001b[0m: too many values to unpack (expected 2)"
     ]
    }
   ],
   "source": [
    "order()"
   ]
  },
  {
   "cell_type": "code",
   "execution_count": 57,
   "id": "e2efe9a0",
   "metadata": {},
   "outputs": [
    {
     "name": "stdout",
     "output_type": "stream",
     "text": [
      "Welcome to the Buddies Inn!\n",
      "\n",
      "***Please Choose your option***\n",
      "\n",
      "(1) Add item to the cart\n",
      "(2) Remove item from the cart\n",
      "(3) Modify item's quantit in the cart\n",
      "(4) View items in the cart\n",
      "(5) Checkout\n",
      "(6) Exit\n",
      "Please enter the desired option: 3\n",
      "\n",
      "***Buddies Inn's Menu***\n",
      "\n",
      "(1) Burger $5.99\n",
      "(2) Pizza $8.99\n",
      "(3) Pasta $7.49\n",
      "(4) Salad $4.99\n",
      "(5) Steak $12.99\n",
      "(6) Sushi $10.49\n",
      "(7) Chicken Wings $6.99\n",
      "(8) Sandwich $4.49\n",
      "(9) Tacos $5.49\n",
      "(10) Ice Cream $3.99\n",
      "\n",
      "\n",
      "Please enter the meal number from the menu item you want to modify: 5\n",
      "Please enter the quantity for the menu item you want to order [Defaualt 1]: 3\n",
      "Modified Steak's quantity to 3\n",
      "\n",
      "***Please Choose your option***\n",
      "\n",
      "(1) Add item to the cart\n",
      "(2) Remove item from the cart\n",
      "(3) Modify item's quantit in the cart\n",
      "(4) View items in the cart\n",
      "(5) Checkout\n",
      "(6) Exit\n",
      "Please enter the desired option: 4\n",
      "\n",
      "***Your Order***\n",
      "\n",
      "15 x Sushi\n",
      "3 x Steak\n",
      "Total: $ 210.06\n",
      "\n",
      "\n",
      "\n",
      "***Please Choose your option***\n",
      "\n",
      "(1) Add item to the cart\n",
      "(2) Remove item from the cart\n",
      "(3) Modify item's quantit in the cart\n",
      "(4) View items in the cart\n",
      "(5) Checkout\n",
      "(6) Exit\n",
      "Please enter the desired option: 1\n",
      "\n",
      "***Buddies Inn's Menu***\n",
      "\n",
      "(1) Burger $5.99\n",
      "(2) Pizza $8.99\n",
      "(3) Pasta $7.49\n",
      "(4) Salad $4.99\n",
      "(5) Steak $12.99\n",
      "(6) Sushi $10.49\n",
      "(7) Chicken Wings $6.99\n",
      "(8) Sandwich $4.49\n",
      "(9) Tacos $5.49\n",
      "(10) Ice Cream $3.99\n",
      "\n",
      "\n",
      "Please enter the meal number from the menu item you want to order: 5\n",
      "Please enter the quantity for the menu item you want to order [Defaualt 1]: 4\n",
      "\n",
      "Added 4 Steak in your cart\n",
      "\n",
      "***Please Choose your option***\n",
      "\n",
      "(1) Add item to the cart\n",
      "(2) Remove item from the cart\n",
      "(3) Modify item's quantit in the cart\n",
      "(4) View items in the cart\n",
      "(5) Checkout\n",
      "(6) Exit\n",
      "Please enter the desired option: 4\n",
      "\n",
      "***Your Order***\n",
      "\n",
      "15 x Sushi\n",
      "7 x Steak\n",
      "Total: $ 265.66\n",
      "\n",
      "\n",
      "\n",
      "***Please Choose your option***\n",
      "\n",
      "(1) Add item to the cart\n",
      "(2) Remove item from the cart\n",
      "(3) Modify item's quantit in the cart\n",
      "(4) View items in the cart\n",
      "(5) Checkout\n",
      "(6) Exit\n",
      "Please enter the desired option: 1\n",
      "\n",
      "***Buddies Inn's Menu***\n",
      "\n",
      "(1) Burger $5.99\n",
      "(2) Pizza $8.99\n",
      "(3) Pasta $7.49\n",
      "(4) Salad $4.99\n",
      "(5) Steak $12.99\n",
      "(6) Sushi $10.49\n",
      "(7) Chicken Wings $6.99\n",
      "(8) Sandwich $4.49\n",
      "(9) Tacos $5.49\n",
      "(10) Ice Cream $3.99\n",
      "\n",
      "\n",
      "Please enter the meal number from the menu item you want to order: 10\n",
      "Please enter the quantity for the menu item you want to order [Defaualt 1]: 3\n",
      "\n",
      "Added 3 Ice Cream in your cart\n",
      "\n",
      "***Please Choose your option***\n",
      "\n",
      "(1) Add item to the cart\n",
      "(2) Remove item from the cart\n",
      "(3) Modify item's quantit in the cart\n",
      "(4) View items in the cart\n",
      "(5) Checkout\n",
      "(6) Exit\n",
      "Please enter the desired option: 5\n",
      "\n",
      "***Checkout***\n",
      "\n",
      "\n",
      "***Your Order***\n",
      "\n",
      "15 x Sushi\n",
      "7 x Steak\n",
      "3 x Ice Cream\n",
      "Total: $ 278.47\n",
      "\n",
      "\n"
     ]
    },
    {
     "ename": "NameError",
     "evalue": "name 'Print' is not defined",
     "output_type": "error",
     "traceback": [
      "\u001b[1;31m---------------------------------------------------------------------------\u001b[0m",
      "\u001b[1;31mNameError\u001b[0m                                 Traceback (most recent call last)",
      "Cell \u001b[1;32mIn[57], line 1\u001b[0m\n\u001b[1;32m----> 1\u001b[0m \u001b[43morder\u001b[49m\u001b[43m(\u001b[49m\u001b[43m)\u001b[49m\n",
      "Cell \u001b[1;32mIn[56], line 38\u001b[0m, in \u001b[0;36morder\u001b[1;34m()\u001b[0m\n\u001b[0;32m     35\u001b[0m     view_cart()\n\u001b[0;32m     37\u001b[0m \u001b[38;5;28;01melif\u001b[39;00m response \u001b[38;5;241m==\u001b[39m \u001b[38;5;124m\"\u001b[39m\u001b[38;5;124m5\u001b[39m\u001b[38;5;124m\"\u001b[39m: \u001b[38;5;66;03m# Checkout\u001b[39;00m\n\u001b[1;32m---> 38\u001b[0m     \u001b[43mcheckout\u001b[49m\u001b[43m(\u001b[49m\u001b[43m)\u001b[49m\n\u001b[0;32m     39\u001b[0m     ordering \u001b[38;5;241m=\u001b[39m \u001b[38;5;28;01mFalse\u001b[39;00m\n\u001b[0;32m     40\u001b[0m \u001b[38;5;28;01melif\u001b[39;00m response \u001b[38;5;241m==\u001b[39m \u001b[38;5;124m\"\u001b[39m\u001b[38;5;124m6\u001b[39m\u001b[38;5;124m\"\u001b[39m: \u001b[38;5;66;03m# Exit\u001b[39;00m\n",
      "Cell \u001b[1;32mIn[7], line 9\u001b[0m, in \u001b[0;36mcheckout\u001b[1;34m()\u001b[0m\n\u001b[0;32m      5\u001b[0m \u001b[38;5;28mprint\u001b[39m(\u001b[38;5;124m\"\u001b[39m\u001b[38;5;130;01m\\n\u001b[39;00m\u001b[38;5;124m***Checkout***\u001b[39m\u001b[38;5;130;01m\\n\u001b[39;00m\u001b[38;5;124m\"\u001b[39m)\n\u001b[0;32m      7\u001b[0m view_cart()\n\u001b[1;32m----> 9\u001b[0m \u001b[43mPrint\u001b[49m(\u001b[38;5;124m\"\u001b[39m\u001b[38;5;124mThank you for the order! Goodbye!\u001b[39m\u001b[38;5;124m\"\u001b[39m)\n\u001b[0;32m     10\u001b[0m \u001b[38;5;28mprint\u001b[39m(\u001b[38;5;124m\"\u001b[39m\u001b[38;5;130;01m\\n\u001b[39;00m\u001b[38;5;124m\"\u001b[39m)\n",
      "\u001b[1;31mNameError\u001b[0m: name 'Print' is not defined"
     ]
    }
   ],
   "source": [
    "order()"
   ]
  },
  {
   "cell_type": "code",
   "execution_count": 59,
   "id": "680c35ec",
   "metadata": {},
   "outputs": [
    {
     "name": "stdout",
     "output_type": "stream",
     "text": [
      "Welcome to the Buddies Inn!\n",
      "\n",
      "***Please Choose your option***\n",
      "\n",
      "(1) Add item to the cart\n",
      "(2) Remove item from the cart\n",
      "(3) Modify item's quantit in the cart\n",
      "(4) View items in the cart\n",
      "(5) Checkout\n",
      "(6) Exit\n",
      "Please enter the desired option: 5\n",
      "\n",
      "***Checkout***\n",
      "\n",
      "\n",
      "***Your Order***\n",
      "\n",
      "15 x Sushi\n",
      "7 x Steak\n",
      "3 x Ice Cream\n",
      "Total: $ 278.47\n",
      "\n",
      "\n",
      "Thank you for the order! Goodbye!\n",
      "\n",
      "\n"
     ]
    }
   ],
   "source": [
    "order()"
   ]
  },
  {
   "cell_type": "code",
   "execution_count": 60,
   "id": "c0eb186d",
   "metadata": {},
   "outputs": [
    {
     "name": "stdout",
     "output_type": "stream",
     "text": [
      "Welcome to the Buddies Inn!\n",
      "\n",
      "***Please Choose your option***\n",
      "\n",
      "(1) Add item to the cart\n",
      "(2) Remove item from the cart\n",
      "(3) Modify item's quantit in the cart\n",
      "(4) View items in the cart\n",
      "(5) Checkout\n",
      "(6) Exit\n",
      "Please enter the desired option: 875\n",
      "Sorry you have entered the invalid option. Please try again!\n",
      "\n",
      "***Please Choose your option***\n",
      "\n",
      "(1) Add item to the cart\n",
      "(2) Remove item from the cart\n",
      "(3) Modify item's quantit in the cart\n",
      "(4) View items in the cart\n",
      "(5) Checkout\n",
      "(6) Exit\n",
      "Please enter the desired option: 6\n",
      "Thanks for coming!\n"
     ]
    }
   ],
   "source": [
    "order()"
   ]
  },
  {
   "cell_type": "code",
   "execution_count": null,
   "id": "c239e837",
   "metadata": {},
   "outputs": [],
   "source": []
  },
  {
   "cell_type": "code",
   "execution_count": null,
   "id": "21026789",
   "metadata": {},
   "outputs": [],
   "source": []
  },
  {
   "cell_type": "code",
   "execution_count": null,
   "id": "6921e91e",
   "metadata": {},
   "outputs": [],
   "source": []
  },
  {
   "cell_type": "code",
   "execution_count": null,
   "id": "b1d5e732",
   "metadata": {},
   "outputs": [],
   "source": []
  },
  {
   "cell_type": "code",
   "execution_count": null,
   "id": "f6dd5a8a",
   "metadata": {},
   "outputs": [],
   "source": []
  },
  {
   "cell_type": "code",
   "execution_count": null,
   "id": "147396de",
   "metadata": {},
   "outputs": [],
   "source": []
  },
  {
   "cell_type": "code",
   "execution_count": null,
   "id": "56435d07",
   "metadata": {},
   "outputs": [],
   "source": []
  },
  {
   "cell_type": "code",
   "execution_count": null,
   "id": "7d34b5a3",
   "metadata": {},
   "outputs": [],
   "source": []
  },
  {
   "cell_type": "code",
   "execution_count": null,
   "id": "14d1080c",
   "metadata": {},
   "outputs": [],
   "source": []
  },
  {
   "cell_type": "code",
   "execution_count": null,
   "id": "924ac880",
   "metadata": {},
   "outputs": [],
   "source": []
  },
  {
   "cell_type": "code",
   "execution_count": null,
   "id": "bbe24801",
   "metadata": {},
   "outputs": [],
   "source": []
  }
 ],
 "metadata": {
  "kernelspec": {
   "display_name": "Python 3 (ipykernel)",
   "language": "python",
   "name": "python3"
  },
  "language_info": {
   "codemirror_mode": {
    "name": "ipython",
    "version": 3
   },
   "file_extension": ".py",
   "mimetype": "text/x-python",
   "name": "python",
   "nbconvert_exporter": "python",
   "pygments_lexer": "ipython3",
   "version": "3.11.3"
  }
 },
 "nbformat": 4,
 "nbformat_minor": 5
}
