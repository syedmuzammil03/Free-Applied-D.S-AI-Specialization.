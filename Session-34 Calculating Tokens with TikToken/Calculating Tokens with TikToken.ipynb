{
 "cells": [
  {
   "cell_type": "code",
   "execution_count": 5,
   "id": "ad1bd4a1",
   "metadata": {},
   "outputs": [
    {
     "data": {
      "text/plain": [
       "True"
      ]
     },
     "execution_count": 5,
     "metadata": {},
     "output_type": "execute_result"
    }
   ],
   "source": [
    "# !pip install openai\n",
    "\n",
    "import os\n",
    "from dotenv import load_dotenv\n",
    "from openai import OpenAI\n",
    "\n",
    "load_dotenv()"
   ]
  },
  {
   "cell_type": "code",
   "execution_count": 2,
   "id": "41b02a71",
   "metadata": {},
   "outputs": [],
   "source": [
    "api_key = os.getenv(\"oapi_key\")\n",
    "base_url = \"https://api.openai.com/v1\"\n",
    "model = \"gpt-3.5-turbo\""
   ]
  },
  {
   "cell_type": "code",
   "execution_count": 3,
   "id": "ff28a654",
   "metadata": {},
   "outputs": [],
   "source": [
    "# Chat History Management and it Size\n",
    "\n",
    "class ConversationBot:\n",
    "    \n",
    "    def __init__(self,api_key, base_url = base_url, model = model,\n",
    "                system_message = \"\"\"You are a helpful marketing assistant for DigiTech Synergy.\"\"\",\n",
    "                max_history = 5):\n",
    "        self.client = OpenAI(api_key=api_key)\n",
    "        self.client.base_url = base_url\n",
    "        self.model = model\n",
    "        self.system_message = system_message\n",
    "        self.conversation_history = [{\"role\":\"system\",\"content\": self.system_message}]\n",
    "        self.max_history = max_history\n",
    "        \n",
    "    def enforce_history_limit(self):\n",
    "        while len(self.conversation_history) > self.max_history:\n",
    "            self.conversation_history.pop(1)\n",
    "    \n",
    "    def chat_completion(self, prompt, temperature = 0.7, max_tokens = 500):\n",
    "        \n",
    "        self.conversation_history.append({\"role\":\"user\", \"content\":prompt})\n",
    "        \n",
    "        response = self.client.chat.completions.create(model = self.model,\n",
    "                                                       messages = self.conversation_history)\n",
    "        ai_response = response.choices[0].message.content\n",
    "        self.conversation_history.append({\"role\":\"assistant\", \"content\":ai_response})\n",
    "        self.enforce_history_limit()\n",
    "        \n",
    "        return ai_response"
   ]
  },
  {
   "cell_type": "code",
   "execution_count": 13,
   "id": "0180c150",
   "metadata": {},
   "outputs": [],
   "source": [
    "import tiktoken"
   ]
  },
  {
   "cell_type": "code",
   "execution_count": 14,
   "id": "68eb044b",
   "metadata": {},
   "outputs": [
    {
     "data": {
      "text/plain": [
       "[13347, 3092, 836, 374, 29614, 80, 300]"
      ]
     },
     "execution_count": 14,
     "metadata": {},
     "output_type": "execute_result"
    }
   ],
   "source": [
    "tokens = tiktoken.encoding_for_model(model).encode(\"Hi My name is Waqas\")\n",
    "tokens"
   ]
  },
  {
   "cell_type": "code",
   "execution_count": 15,
   "id": "57cf757b",
   "metadata": {},
   "outputs": [
    {
     "data": {
      "text/plain": [
       "7"
      ]
     },
     "execution_count": 15,
     "metadata": {},
     "output_type": "execute_result"
    }
   ],
   "source": [
    "len(tokens)"
   ]
  },
  {
   "cell_type": "code",
   "execution_count": 16,
   "id": "040cfbfc",
   "metadata": {},
   "outputs": [],
   "source": [
    "client = OpenAI(api_key=api_key)"
   ]
  },
  {
   "cell_type": "code",
   "execution_count": 17,
   "id": "e90027b7",
   "metadata": {},
   "outputs": [],
   "source": [
    "m = [{\"role\":\"system\",\"content\": \"You are an helpful assitant\"},\n",
    "    {\"role\":\"user\",\"content\": \"Write any poem for me\"}]\n",
    "\n",
    "response = client.chat.completions.create(model = model, messages = m)\n",
    "assistant = response.choices[0].message.content"
   ]
  },
  {
   "cell_type": "code",
   "execution_count": 19,
   "id": "847fe39c",
   "metadata": {},
   "outputs": [
    {
     "name": "stdout",
     "output_type": "stream",
     "text": [
      "In the realm of swirling words, I roam,\n",
      "To craft a poem, just for you alone.\n",
      "With ink-stained quill and heart held deep,\n",
      "I'll weave a verse, a treasure to keep.\n",
      "\n",
      "Like petals dancing on the breeze,\n",
      "Let this poem bring you gentle ease.\n",
      "For in each word, a story unfurls,\n",
      "A symphony of emotions, like precious pearls.\n",
      "\n",
      "Like the sun that kisses the morning sky,\n",
      "This verse will lift your spirits high.\n",
      "It'll whisk you away on wings of dreams,\n",
      "Where reality fades and wonder gleams.\n",
      "\n",
      "In verse, I'll depict nature's grand design,\n",
      "The blossoming flowers, the ancient pine.\n",
      "The ocean's roar and the mountain's might,\n",
      "Each line a snapshot of nature's pure delight.\n",
      "\n",
      "I'll paint portraits of love, tender and sweet,\n",
      "A symphony of hearts, intertwined beats.\n",
      "Passion aflame, like a fiery blaze,\n",
      "Unveiling the secrets of love's complex maze.\n",
      "\n",
      "Through sorrow and pain, I'll lend my ear,\n",
      "To acknowledge the hurt and make it clear.\n",
      "For in the depths of sadness, healing finds a start,\n",
      "A beacon of hope, a balm for the heart.\n",
      "\n",
      "So here I offer this humble creation,\n",
      "A gift of words, a poetic sensation.\n",
      "May it bring solace, joy, and a sense of grace,\n",
      "A timeless offering, in this vast poetic space.\n"
     ]
    }
   ],
   "source": [
    "print(assistant)"
   ]
  },
  {
   "cell_type": "code",
   "execution_count": 20,
   "id": "78e37476",
   "metadata": {},
   "outputs": [],
   "source": [
    "m.append({\"role\":\"assistant\", \"content\": assistant})"
   ]
  },
  {
   "cell_type": "code",
   "execution_count": 21,
   "id": "7ff8f603",
   "metadata": {},
   "outputs": [
    {
     "data": {
      "text/plain": [
       "[{'role': 'system', 'content': 'You are an helpful assitant'},\n",
       " {'role': 'user', 'content': 'Write any poem for me'},\n",
       " {'role': 'assistant',\n",
       "  'content': \"In the realm of swirling words, I roam,\\nTo craft a poem, just for you alone.\\nWith ink-stained quill and heart held deep,\\nI'll weave a verse, a treasure to keep.\\n\\nLike petals dancing on the breeze,\\nLet this poem bring you gentle ease.\\nFor in each word, a story unfurls,\\nA symphony of emotions, like precious pearls.\\n\\nLike the sun that kisses the morning sky,\\nThis verse will lift your spirits high.\\nIt'll whisk you away on wings of dreams,\\nWhere reality fades and wonder gleams.\\n\\nIn verse, I'll depict nature's grand design,\\nThe blossoming flowers, the ancient pine.\\nThe ocean's roar and the mountain's might,\\nEach line a snapshot of nature's pure delight.\\n\\nI'll paint portraits of love, tender and sweet,\\nA symphony of hearts, intertwined beats.\\nPassion aflame, like a fiery blaze,\\nUnveiling the secrets of love's complex maze.\\n\\nThrough sorrow and pain, I'll lend my ear,\\nTo acknowledge the hurt and make it clear.\\nFor in the depths of sadness, healing finds a start,\\nA beacon of hope, a balm for the heart.\\n\\nSo here I offer this humble creation,\\nA gift of words, a poetic sensation.\\nMay it bring solace, joy, and a sense of grace,\\nA timeless offering, in this vast poetic space.\"}]"
      ]
     },
     "execution_count": 21,
     "metadata": {},
     "output_type": "execute_result"
    }
   ],
   "source": [
    "m"
   ]
  },
  {
   "cell_type": "code",
   "execution_count": 22,
   "id": "1107f523",
   "metadata": {},
   "outputs": [
    {
     "name": "stdout",
     "output_type": "stream",
     "text": [
      "{'role': 'system', 'content': 'You are an helpful assitant'}\n",
      "{'role': 'user', 'content': 'Write any poem for me'}\n",
      "{'role': 'assistant', 'content': \"In the realm of swirling words, I roam,\\nTo craft a poem, just for you alone.\\nWith ink-stained quill and heart held deep,\\nI'll weave a verse, a treasure to keep.\\n\\nLike petals dancing on the breeze,\\nLet this poem bring you gentle ease.\\nFor in each word, a story unfurls,\\nA symphony of emotions, like precious pearls.\\n\\nLike the sun that kisses the morning sky,\\nThis verse will lift your spirits high.\\nIt'll whisk you away on wings of dreams,\\nWhere reality fades and wonder gleams.\\n\\nIn verse, I'll depict nature's grand design,\\nThe blossoming flowers, the ancient pine.\\nThe ocean's roar and the mountain's might,\\nEach line a snapshot of nature's pure delight.\\n\\nI'll paint portraits of love, tender and sweet,\\nA symphony of hearts, intertwined beats.\\nPassion aflame, like a fiery blaze,\\nUnveiling the secrets of love's complex maze.\\n\\nThrough sorrow and pain, I'll lend my ear,\\nTo acknowledge the hurt and make it clear.\\nFor in the depths of sadness, healing finds a start,\\nA beacon of hope, a balm for the heart.\\n\\nSo here I offer this humble creation,\\nA gift of words, a poetic sensation.\\nMay it bring solace, joy, and a sense of grace,\\nA timeless offering, in this vast poetic space.\"}\n"
     ]
    }
   ],
   "source": [
    "for d in m:\n",
    "    print(d)"
   ]
  },
  {
   "cell_type": "code",
   "execution_count": 23,
   "id": "d6163ce9",
   "metadata": {},
   "outputs": [
    {
     "name": "stdout",
     "output_type": "stream",
     "text": [
      "You are an helpful assitant\n",
      "Write any poem for me\n",
      "In the realm of swirling words, I roam,\n",
      "To craft a poem, just for you alone.\n",
      "With ink-stained quill and heart held deep,\n",
      "I'll weave a verse, a treasure to keep.\n",
      "\n",
      "Like petals dancing on the breeze,\n",
      "Let this poem bring you gentle ease.\n",
      "For in each word, a story unfurls,\n",
      "A symphony of emotions, like precious pearls.\n",
      "\n",
      "Like the sun that kisses the morning sky,\n",
      "This verse will lift your spirits high.\n",
      "It'll whisk you away on wings of dreams,\n",
      "Where reality fades and wonder gleams.\n",
      "\n",
      "In verse, I'll depict nature's grand design,\n",
      "The blossoming flowers, the ancient pine.\n",
      "The ocean's roar and the mountain's might,\n",
      "Each line a snapshot of nature's pure delight.\n",
      "\n",
      "I'll paint portraits of love, tender and sweet,\n",
      "A symphony of hearts, intertwined beats.\n",
      "Passion aflame, like a fiery blaze,\n",
      "Unveiling the secrets of love's complex maze.\n",
      "\n",
      "Through sorrow and pain, I'll lend my ear,\n",
      "To acknowledge the hurt and make it clear.\n",
      "For in the depths of sadness, healing finds a start,\n",
      "A beacon of hope, a balm for the heart.\n",
      "\n",
      "So here I offer this humble creation,\n",
      "A gift of words, a poetic sensation.\n",
      "May it bring solace, joy, and a sense of grace,\n",
      "A timeless offering, in this vast poetic space.\n"
     ]
    }
   ],
   "source": [
    "for d in m:\n",
    "    print(d[\"content\"])"
   ]
  },
  {
   "cell_type": "code",
   "execution_count": 25,
   "id": "633dd094",
   "metadata": {},
   "outputs": [],
   "source": [
    "encoding = tiktoken.encoding_for_model(model)"
   ]
  },
  {
   "cell_type": "code",
   "execution_count": 26,
   "id": "359f9bf4",
   "metadata": {},
   "outputs": [],
   "source": [
    "token_counts = 0\n",
    "for d in m:\n",
    "    text = d[\"content\"]\n",
    "    token = encoding.encode(text) # token list will be returned\n",
    "    total_token = len(token)\n",
    "    token_counts += total_token "
   ]
  },
  {
   "cell_type": "code",
   "execution_count": 27,
   "id": "380c726b",
   "metadata": {},
   "outputs": [
    {
     "data": {
      "text/plain": [
       "289"
      ]
     },
     "execution_count": 27,
     "metadata": {},
     "output_type": "execute_result"
    }
   ],
   "source": [
    "token_counts"
   ]
  },
  {
   "cell_type": "code",
   "execution_count": 28,
   "id": "648767d3",
   "metadata": {},
   "outputs": [],
   "source": [
    "token_counts = sum(len(encoding.encode(d[\"content\"])) for d in m)"
   ]
  },
  {
   "cell_type": "code",
   "execution_count": 29,
   "id": "31e61522",
   "metadata": {},
   "outputs": [
    {
     "data": {
      "text/plain": [
       "289"
      ]
     },
     "execution_count": 29,
     "metadata": {},
     "output_type": "execute_result"
    }
   ],
   "source": [
    "token_counts"
   ]
  },
  {
   "cell_type": "code",
   "execution_count": 4,
   "id": "4897526e",
   "metadata": {},
   "outputs": [],
   "source": [
    "prompt1 = \"Please write a tweet to promote our new AI Industrial Training.\"\n",
    "prompt2 = \"Great, now make the tweet a longer.\"\n",
    "prompt3 = \"Great, now add one more hash tag.\""
   ]
  },
  {
   "cell_type": "code",
   "execution_count": null,
   "id": "d8af1fad",
   "metadata": {},
   "outputs": [],
   "source": []
  }
 ],
 "metadata": {
  "kernelspec": {
   "display_name": "Python 3 (ipykernel)",
   "language": "python",
   "name": "python3"
  },
  "language_info": {
   "codemirror_mode": {
    "name": "ipython",
    "version": 3
   },
   "file_extension": ".py",
   "mimetype": "text/x-python",
   "name": "python",
   "nbconvert_exporter": "python",
   "pygments_lexer": "ipython3",
   "version": "3.11.5"
  }
 },
 "nbformat": 4,
 "nbformat_minor": 5
}
