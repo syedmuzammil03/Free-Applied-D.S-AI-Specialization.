{
 "cells": [
  {
   "cell_type": "markdown",
   "id": "1989f4fc",
   "metadata": {},
   "source": [
    "# Virtual Garden"
   ]
  },
  {
   "cell_type": "code",
   "execution_count": 1,
   "id": "a3c649c9",
   "metadata": {},
   "outputs": [],
   "source": [
    "class Plant:\n",
    "    def __init__(self, name, harvest_yield):\n",
    "        self.name = name\n",
    "        self.harvest_yield = harvest_yield\n",
    "        self.growth_stages = [\"seed\", \"sprout\", \"mature\", \"flower\", \"fruit\", \"harvest_ready\"]\n",
    "        self.current_stage = self.growth_stages[0]\n",
    "        self.harvestable = False\n",
    "        \n",
    "    def grow(self):\n",
    "        current_index = self.growth_stages.index(self.current_stage)\n",
    "        \n",
    "        if current_index < (len(self.growth_stages)-1):\n",
    "            self.current_stage = self.growth_stages[current_index + 1]\n",
    "            if self.current_stage == self.growth_stages[-1]:\n",
    "                self.harvestable = True\n",
    "                \n",
    "        elif self.current_stage == self.growth_stages[-1]:\n",
    "            print(f\"{self.name} is already fully grown\")\n",
    "            \n",
    "    def harvest(self):\n",
    "        if self.harvestable:\n",
    "            self.harvestable = False\n",
    "            return self.harvest_yield\n",
    "        else:\n",
    "            return None"
   ]
  },
  {
   "cell_type": "code",
   "execution_count": 2,
   "id": "5dac0d45",
   "metadata": {},
   "outputs": [],
   "source": [
    "class Tomato(Plant):\n",
    "    def __init__(self):\n",
    "        super().__init__(\"Tomato\", 10)\n",
    "        \n",
    "\n",
    "class Potato(Plant):\n",
    "    def __init__(self):\n",
    "        super().__init__(\"Potato\", 3)\n",
    "        self.growth_stages = [\"seed\", \"sprout\", \"mature\", \"harvest_ready\"]\n",
    "        \n",
    "class Carrot(Plant):\n",
    "    def __init__(self):\n",
    "        super().__init__(\"Carrot\", 5)\n",
    "        self.growth_stages = [\"seed\", \"sprout\", \"mature\", \"harvest_ready\"]"
   ]
  },
  {
   "cell_type": "code",
   "execution_count": 3,
   "id": "abf64abb",
   "metadata": {},
   "outputs": [],
   "source": [
    "import random\n",
    "\n",
    "seeds = [\"tomato\", \"potato\", \"carrot\"]"
   ]
  },
  {
   "cell_type": "code",
   "execution_count": 8,
   "id": "d083bf28",
   "metadata": {},
   "outputs": [],
   "source": [
    "def select_seed(items): # here items will replace with an inventory dictionary\n",
    "    item_list = list(items.keys())\n",
    "    \n",
    "    for i in range(len(item_list)):\n",
    "        item_name = item_list[i]\n",
    "        print(f\"{i+1}. {item_name}\")\n",
    "    print()   \n",
    "    while True:\n",
    "        user_input = input(\"Select an item \")\n",
    "        try:\n",
    "            user_input = int(user_input)\n",
    "            if 0 <user_input <= len(item_list):\n",
    "                return item_list[user_input -1]\n",
    "            else:\n",
    "                print(\"Invalid Input\")\n",
    "        except:\n",
    "            print(\"Invalid Input\")"
   ]
  },
  {
   "cell_type": "code",
   "execution_count": 15,
   "id": "2e4019bf",
   "metadata": {},
   "outputs": [],
   "source": [
    "class Gardener:\n",
    "    \"\"\"Represent a gardner who can plant and harvest plants.\"\"\"\n",
    "    \n",
    "    plant_dict = {\"tomato\":Tomato, \"potato\": Potato, \"carrot\": Carrot}\n",
    "    \n",
    "    def __init__(self, name):\n",
    "        self.name = name\n",
    "        self.inventory = {} # seed name and quantity\n",
    "        self.planted_plants = []\n",
    "        \n",
    "    def get_seed(self):\n",
    "        seed = random.choice(seeds)\n",
    "        \n",
    "        if seed not in self.inventory:\n",
    "            self.inventory[seed] = 1\n",
    "        else:\n",
    "            self.inventory[seed] += 1\n",
    "            \n",
    "        print(f\"{self.name} has found the {seed} seed!\")\n",
    "        \n",
    "    def plant(self):\n",
    "        selected_plant = select_seed(self.inventory)\n",
    "        \n",
    "        if selected_plant in self.inventory and self.inventory[selected_plant] > 0:\n",
    "            self.inventory[selected_plant] -= 1\n",
    "            if self.inventory[selected_plant] == 0:\n",
    "                del self.inventory[selected_plant]\n",
    "            new_plant = self.plant_dict[selected_plant]()\n",
    "            \n",
    "            self.planted_plants.append(new_plant)\n",
    "            print(f\"{self.name} has planted a {selected_plant} plant!\")\n",
    "            \n",
    "        else:\n",
    "            print(f\"{self.name} does not have any {selected_plant} plant!\")\n",
    "            \n",
    "    def tend(self):\n",
    "        for plant in self.planted_plants:\n",
    "            if not plant.harvestable:\n",
    "                plant.grow()\n",
    "                print(f\"{plant.name} is now on a {plant.current_stage} stage!\")\n",
    "            else:\n",
    "                print(f\"{plant.name} is ready to be harvested\")\n",
    "            \n",
    "        "
   ]
  },
  {
   "cell_type": "code",
   "execution_count": 10,
   "id": "b14ba318",
   "metadata": {},
   "outputs": [
    {
     "name": "stdout",
     "output_type": "stream",
     "text": [
      "Waqas has found the potato seed!\n"
     ]
    }
   ],
   "source": [
    "waqas = Gardener(\"Waqas\")\n",
    "\n",
    "waqas.get_seed()"
   ]
  },
  {
   "cell_type": "code",
   "execution_count": 11,
   "id": "d8bcdf02",
   "metadata": {},
   "outputs": [
    {
     "data": {
      "text/plain": [
       "{'potato': 1}"
      ]
     },
     "execution_count": 11,
     "metadata": {},
     "output_type": "execute_result"
    }
   ],
   "source": [
    "waqas.inventory"
   ]
  },
  {
   "cell_type": "code",
   "execution_count": 12,
   "id": "b2b8434a",
   "metadata": {},
   "outputs": [
    {
     "name": "stdout",
     "output_type": "stream",
     "text": [
      "1. potato\n",
      "\n",
      "Select an item 1\n",
      "Waqas has planted a potato plant!\n"
     ]
    }
   ],
   "source": [
    "waqas.plant()"
   ]
  },
  {
   "cell_type": "code",
   "execution_count": 13,
   "id": "374a17a8",
   "metadata": {},
   "outputs": [
    {
     "data": {
      "text/plain": [
       "{}"
      ]
     },
     "execution_count": 13,
     "metadata": {},
     "output_type": "execute_result"
    }
   ],
   "source": [
    "waqas.inventory"
   ]
  },
  {
   "cell_type": "code",
   "execution_count": 14,
   "id": "9d439489",
   "metadata": {},
   "outputs": [
    {
     "name": "stdout",
     "output_type": "stream",
     "text": [
      "Potato is now on a sprout!\n"
     ]
    }
   ],
   "source": [
    "waqas.tend()"
   ]
  },
  {
   "cell_type": "code",
   "execution_count": 16,
   "id": "b1ae65eb",
   "metadata": {},
   "outputs": [
    {
     "name": "stdout",
     "output_type": "stream",
     "text": [
      "Potato is now on a mature!\n"
     ]
    }
   ],
   "source": [
    "waqas.tend()"
   ]
  },
  {
   "cell_type": "code",
   "execution_count": 17,
   "id": "9e3f452c",
   "metadata": {},
   "outputs": [
    {
     "name": "stdout",
     "output_type": "stream",
     "text": [
      "Potato is now on a harvest_ready!\n"
     ]
    }
   ],
   "source": [
    "waqas.tend()"
   ]
  },
  {
   "cell_type": "code",
   "execution_count": 18,
   "id": "e1f51a12",
   "metadata": {},
   "outputs": [
    {
     "name": "stdout",
     "output_type": "stream",
     "text": [
      "Potato is ready to be harvested\n"
     ]
    }
   ],
   "source": [
    "waqas.tend()"
   ]
  },
  {
   "cell_type": "code",
   "execution_count": 19,
   "id": "45b6c730",
   "metadata": {},
   "outputs": [],
   "source": [
    "class Gardener:\n",
    "    \"\"\"Represent a gardner who can plant and harvest plants.\"\"\"\n",
    "    \n",
    "    plant_dict = {\"tomato\":Tomato, \"potato\": Potato, \"carrot\": Carrot}\n",
    "    \n",
    "    def __init__(self, name):\n",
    "        self.name = name\n",
    "        self.inventory = {} # seed name and quantity\n",
    "        self.planted_plants = []\n",
    "        \n",
    "    def get_seed(self):\n",
    "        seed = random.choice(seeds)\n",
    "        \n",
    "        if seed not in self.inventory:\n",
    "            self.inventory[seed] = 1\n",
    "        else:\n",
    "            self.inventory[seed] += 1\n",
    "            \n",
    "        print(f\"{self.name} has found the {seed} seed!\")\n",
    "        \n",
    "    def plant(self):\n",
    "        selected_plant = select_seed(self.inventory)\n",
    "        \n",
    "        if selected_plant in self.inventory and self.inventory[selected_plant] > 0:\n",
    "            self.inventory[selected_plant] -= 1\n",
    "            if self.inventory[selected_plant] == 0:\n",
    "                del self.inventory[selected_plant]\n",
    "            new_plant = self.plant_dict[selected_plant]()\n",
    "            \n",
    "            self.planted_plants.append(new_plant)\n",
    "            print(f\"{self.name} has planted a {selected_plant} plant!\")\n",
    "            \n",
    "        else:\n",
    "            print(f\"{self.name} does not have any {selected_plant} plant!\")\n",
    "            \n",
    "    def tend(self):\n",
    "        for plant in self.planted_plants:\n",
    "            if not plant.harvestable:\n",
    "                plant.grow()\n",
    "                print(f\"{plant.name} is now on a {plant.current_stage} stage!\")\n",
    "            else:\n",
    "                print(f\"{plant.name} is ready to be harvested\")\n",
    "    def harvest(self):\n",
    "        pass"
   ]
  },
  {
   "cell_type": "code",
   "execution_count": 20,
   "id": "3f107476",
   "metadata": {},
   "outputs": [],
   "source": [
    "def select_item(items): # here items will replace with an inventory dictionary\n",
    "    if type(items) == dict:\n",
    "        item_list = list(items.keys()) # \"tomato\", \"potato\"\n",
    "    elif type(items) == list:\n",
    "        item_list = items  # Tomato(), Potato()\n",
    "    \n",
    "    for i in range(len(item_list)):\n",
    "        try:\n",
    "            item_name = item_list[i].name\n",
    "        except:\n",
    "            item_name = item_list[i]\n",
    "        print(f\"{i+1}. {item_name}\")\n",
    "        \n",
    "    print()   \n",
    "    while True:\n",
    "        user_input = input(\"Select an item \")\n",
    "        try:\n",
    "            user_input = int(user_input)\n",
    "            if 0 <user_input <= len(item_list):\n",
    "                return item_list[user_input -1]\n",
    "            else:\n",
    "                print(\"Invalid Input\")\n",
    "        except:\n",
    "            print(\"Invalid Input\")"
   ]
  },
  {
   "cell_type": "code",
   "execution_count": 51,
   "id": "89ed2f5a",
   "metadata": {},
   "outputs": [],
   "source": [
    "class Gardener:\n",
    "    \"\"\"Represent a gardner who can plant and harvest plants.\"\"\"\n",
    "    \n",
    "    plant_dict = {\"tomato\":Tomato, \"potato\": Potato, \"carrot\": Carrot}\n",
    "    \n",
    "    def __init__(self, name):\n",
    "        self.name = name\n",
    "        self.inventory = {} # seed & harvest yield\n",
    "        self.planted_plants = []\n",
    "        \n",
    "    def get_seed(self):\n",
    "        seed = random.choice(seeds)\n",
    "        \n",
    "        if seed not in self.inventory:\n",
    "            self.inventory[seed] = 1\n",
    "        else:\n",
    "            self.inventory[seed] += 1\n",
    "            \n",
    "        print(f\"{self.name} has found the {seed} seed!\")\n",
    "        \n",
    "    def plant(self):\n",
    "        selected_plant = select_item(self.inventory) # name\n",
    "        \n",
    "        if selected_plant in self.inventory and self.inventory[selected_plant] > 0:\n",
    "            self.inventory[selected_plant] -= 1\n",
    "            if self.inventory[selected_plant] == 0:\n",
    "                del self.inventory[selected_plant]\n",
    "            new_plant = self.plant_dict[selected_plant]()\n",
    "            \n",
    "            self.planted_plants.append(new_plant)\n",
    "            print(f\"{self.name} has planted a {selected_plant} plant!\")\n",
    "            \n",
    "        else:\n",
    "            print(f\"{self.name} does not have any {selected_plant} plant!\")\n",
    "            \n",
    "    def tend(self):\n",
    "        for plant in self.planted_plants:\n",
    "            if not plant.harvestable:\n",
    "                plant.grow()\n",
    "                print(f\"{plant.name} is now on a {plant.current_stage} stage!\")\n",
    "            else:\n",
    "                print(f\"{plant.name} is ready to be harvested\")\n",
    "    def harvest(self):\n",
    "        selected_plant = select_item(self.planted_plants) # instances\n",
    "        if selected_plant.harvestable == True:\n",
    "            if selected_plant.name not in self.inventory:\n",
    "                self.inventory[selected_plant.name] = selected_plant.harvest()\n",
    "            else:\n",
    "                self.inventory[selected_plant.name] += selected_plant.harvest()\n",
    "            print(f\"You have harvested {selected_plant.name}!\")\n",
    "            self.planted_plants.remove(selected_plant)\n",
    "            \n",
    "        else:\n",
    "            print(f\"You can't harvest {selected_plant.name}!\")\n",
    "            \n",
    "        \n",
    "        "
   ]
  },
  {
   "cell_type": "code",
   "execution_count": 34,
   "id": "63386017",
   "metadata": {},
   "outputs": [],
   "source": [
    "waqas = Gardener(\"Waqas\")"
   ]
  },
  {
   "cell_type": "code",
   "execution_count": 35,
   "id": "524052c9",
   "metadata": {},
   "outputs": [
    {
     "name": "stdout",
     "output_type": "stream",
     "text": [
      "Waqas has found the tomato seed!\n"
     ]
    }
   ],
   "source": [
    "waqas.get_seed()"
   ]
  },
  {
   "cell_type": "code",
   "execution_count": 36,
   "id": "d32bc1ac",
   "metadata": {},
   "outputs": [
    {
     "name": "stdout",
     "output_type": "stream",
     "text": [
      "Waqas has found the potato seed!\n"
     ]
    }
   ],
   "source": [
    "waqas.get_seed()"
   ]
  },
  {
   "cell_type": "code",
   "execution_count": 37,
   "id": "4fdbdeb2",
   "metadata": {},
   "outputs": [
    {
     "data": {
      "text/plain": [
       "{'tomato': 1, 'potato': 1}"
      ]
     },
     "execution_count": 37,
     "metadata": {},
     "output_type": "execute_result"
    }
   ],
   "source": [
    "waqas.inventory"
   ]
  },
  {
   "cell_type": "code",
   "execution_count": 38,
   "id": "44633042",
   "metadata": {},
   "outputs": [
    {
     "name": "stdout",
     "output_type": "stream",
     "text": [
      "1. tomato\n",
      "2. potato\n",
      "\n",
      "Select an item 1\n",
      "Waqas has planted a tomato plant!\n"
     ]
    }
   ],
   "source": [
    "waqas.plant()"
   ]
  },
  {
   "cell_type": "code",
   "execution_count": 39,
   "id": "8405f2a7",
   "metadata": {},
   "outputs": [
    {
     "name": "stdout",
     "output_type": "stream",
     "text": [
      "1. potato\n",
      "\n",
      "Select an item 1\n",
      "Waqas has planted a potato plant!\n"
     ]
    }
   ],
   "source": [
    "waqas.plant()"
   ]
  },
  {
   "cell_type": "code",
   "execution_count": 40,
   "id": "3e98eaf9",
   "metadata": {},
   "outputs": [
    {
     "data": {
      "text/plain": [
       "{}"
      ]
     },
     "execution_count": 40,
     "metadata": {},
     "output_type": "execute_result"
    }
   ],
   "source": [
    "waqas.inventory"
   ]
  },
  {
   "cell_type": "code",
   "execution_count": 41,
   "id": "66e43e88",
   "metadata": {},
   "outputs": [
    {
     "name": "stdout",
     "output_type": "stream",
     "text": [
      "Tomato is now on a sprout stage!\n",
      "Potato is now on a sprout stage!\n"
     ]
    }
   ],
   "source": [
    "waqas.tend()"
   ]
  },
  {
   "cell_type": "code",
   "execution_count": 42,
   "id": "ee933b8a",
   "metadata": {},
   "outputs": [
    {
     "name": "stdout",
     "output_type": "stream",
     "text": [
      "Tomato is now on a mature stage!\n",
      "Potato is now on a mature stage!\n"
     ]
    }
   ],
   "source": [
    "waqas.tend()"
   ]
  },
  {
   "cell_type": "code",
   "execution_count": 43,
   "id": "15860e01",
   "metadata": {},
   "outputs": [
    {
     "name": "stdout",
     "output_type": "stream",
     "text": [
      "Tomato is now on a flower stage!\n",
      "Potato is now on a harvest_ready stage!\n"
     ]
    }
   ],
   "source": [
    "waqas.tend()"
   ]
  },
  {
   "cell_type": "code",
   "execution_count": 44,
   "id": "d7f7d968",
   "metadata": {},
   "outputs": [
    {
     "name": "stdout",
     "output_type": "stream",
     "text": [
      "1. Tomato\n",
      "2. Potato\n",
      "\n",
      "Select an item 1\n",
      "You can't harvest Tomato!\n"
     ]
    }
   ],
   "source": [
    "waqas.harvest()"
   ]
  },
  {
   "cell_type": "code",
   "execution_count": 45,
   "id": "45eb8ff4",
   "metadata": {},
   "outputs": [
    {
     "name": "stdout",
     "output_type": "stream",
     "text": [
      "1. Tomato\n",
      "2. Potato\n",
      "\n",
      "Select an item 2\n",
      "You have harvested Potato!\n"
     ]
    }
   ],
   "source": [
    "waqas.harvest()"
   ]
  },
  {
   "cell_type": "code",
   "execution_count": 46,
   "id": "0ccb5992",
   "metadata": {},
   "outputs": [
    {
     "name": "stdout",
     "output_type": "stream",
     "text": [
      "Tomato is now on a fruit stage!\n",
      "Potato is already fully grown\n",
      "Potato is now on a harvest_ready stage!\n"
     ]
    }
   ],
   "source": [
    "waqas.tend()"
   ]
  },
  {
   "cell_type": "code",
   "execution_count": 47,
   "id": "b8eba4d2",
   "metadata": {},
   "outputs": [],
   "source": [
    "valid_commands = [\"help\", \"quit\", \"seed\",\"plant\",\"tend\", \"harvest\" ]\n",
    "\n",
    "\n",
    "print(\"Welcome to the Virtual Garden!\")\n",
    "\n",
    "gardener_name = input(\"What is the gardener name! \")\n",
    "\n",
    "print(f\"Welcome {gardener}!\\nType 'help' for valid command.\")\n",
    "\n",
    "gardener = Gardener(gardener_name)\n",
    "\n",
    "while True:\n",
    "    gardener_action = input(\"What do you want to do? \")\n",
    "    gardener_action = gardener_action.lower()\n",
    "    if gardener_action in valid_commands:\n",
    "        pass\n",
    "    else:\n",
    "        print(\"Invalid Command\")\n",
    "\n"
   ]
  },
  {
   "cell_type": "code",
   "execution_count": 49,
   "id": "b297b848",
   "metadata": {},
   "outputs": [
    {
     "name": "stdout",
     "output_type": "stream",
     "text": [
      "Welcome to the Virtual Garden!\n",
      "What is the gardener name! Waqas\n",
      "Welcome Waqas!\n",
      "Type 'help' for valid command.\n",
      "What do you want to do? help\n",
      "***Available Commands***\n",
      "help\n",
      "quit\n",
      "seed\n",
      "plant\n",
      "tend\n",
      "harvest\n",
      "What do you want to do? seed\n",
      "Waqas has found the tomato seed!\n",
      "What do you want to do? seed\n",
      "Waqas has found the tomato seed!\n",
      "What do you want to do? seed\n",
      "Waqas has found the potato seed!\n",
      "What do you want to do? seed\n",
      "Waqas has found the carrot seed!\n",
      "What do you want to do? plant\n",
      "1. tomato\n",
      "2. potato\n",
      "3. carrot\n",
      "\n",
      "Select an item 1\n",
      "Waqas has planted a tomato plant!\n",
      "What do you want to do? plant\n",
      "1. tomato\n",
      "2. potato\n",
      "3. carrot\n",
      "\n",
      "Select an item 1\n",
      "Waqas has planted a tomato plant!\n",
      "What do you want to do? plant\n",
      "1. potato\n",
      "2. carrot\n",
      "\n",
      "Select an item 2\n",
      "Waqas has planted a carrot plant!\n",
      "What do you want to do? tend\n",
      "Tomato is now on a sprout stage!\n",
      "Tomato is now on a sprout stage!\n",
      "Carrot is now on a sprout stage!\n",
      "What do you want to do? tend\n",
      "Tomato is now on a mature stage!\n",
      "Tomato is now on a mature stage!\n",
      "Carrot is now on a mature stage!\n",
      "What do you want to do? tend\n",
      "Tomato is now on a flower stage!\n",
      "Tomato is now on a flower stage!\n",
      "Carrot is now on a harvest_ready stage!\n",
      "What do you want to do? harvest\n",
      "1. Tomato\n",
      "2. Tomato\n",
      "3. Carrot\n",
      "\n",
      "Select an item 1\n",
      "You can't harvest Tomato!\n",
      "What do you want to do? harvest\n",
      "1. Tomato\n",
      "2. Tomato\n",
      "3. Carrot\n",
      "\n",
      "Select an item 3\n",
      "You have harvested Carrot!\n",
      "What do you want to do? harvest\n",
      "1. Tomato\n",
      "2. Tomato\n",
      "3. Carrot\n",
      "\n",
      "Select an item 3\n",
      "You can't harvest Carrot!\n",
      "What do you want to do? quit\n",
      "Thank you for your interest. Come again. Good Bye!\n"
     ]
    }
   ],
   "source": [
    "valid_commands = [\"help\", \"quit\", \"seed\",\"plant\",\"tend\", \"harvest\" ]\n",
    "\n",
    "\n",
    "print(\"Welcome to the Virtual Garden!\")\n",
    "\n",
    "gardener_name = input(\"What is the gardener name! \")\n",
    "\n",
    "print(f\"Welcome {gardener_name}!\\nType 'help' for valid command.\")\n",
    "\n",
    "gardener = Gardener(gardener_name)\n",
    "\n",
    "while True:\n",
    "    gardener_action = input(\"What do you want to do? \")\n",
    "    gardener_action = gardener_action.lower()\n",
    "    if gardener_action in valid_commands:\n",
    "        if gardener_action == \"help\":\n",
    "            print(\"***Available Commands***\")\n",
    "            for command in valid_commands:\n",
    "                print(command)\n",
    "        elif gardener_action == \"seed\":\n",
    "            gardener.get_seed()\n",
    "        elif gardener_action == \"plant\":\n",
    "            gardener.plant()\n",
    "        elif gardener_action == \"tend\":\n",
    "            gardener.tend()\n",
    "        elif gardener_action == \"harvest\":\n",
    "            gardener.harvest()\n",
    "        elif gardener_action == \"quit\":\n",
    "            print(\"Thank you for your interest. Come again. Good Bye!\")\n",
    "            break\n",
    "    else:\n",
    "        print(\"Invalid Command\")"
   ]
  },
  {
   "cell_type": "code",
   "execution_count": 52,
   "id": "fadd9a3f",
   "metadata": {},
   "outputs": [
    {
     "name": "stdout",
     "output_type": "stream",
     "text": [
      "Welcome to the Virtual Garden!\n",
      "What is the gardener name! Waqas\n",
      "Welcome Waqas!\n",
      "Type 'help' for valid command.\n",
      "What do you want to do? seed\n",
      "Waqas has found the carrot seed!\n",
      "What do you want to do? seed\n",
      "Waqas has found the tomato seed!\n",
      "What do you want to do? plant\n",
      "1. carrot\n",
      "2. tomato\n",
      "\n",
      "Select an item 1\n",
      "Waqas has planted a carrot plant!\n",
      "What do you want to do? plant\n",
      "1. tomato\n",
      "\n",
      "Select an item 1\n",
      "Waqas has planted a tomato plant!\n",
      "What do you want to do? tend\n",
      "Carrot is now on a sprout stage!\n",
      "Tomato is now on a sprout stage!\n",
      "What do you want to do? tend\n",
      "Carrot is now on a mature stage!\n",
      "Tomato is now on a mature stage!\n",
      "What do you want to do? tend\n",
      "Carrot is now on a harvest_ready stage!\n",
      "Tomato is now on a flower stage!\n",
      "What do you want to do? harvest\n",
      "1. Carrot\n",
      "2. Tomato\n",
      "\n",
      "Select an item 2\n",
      "You can't harvest Tomato!\n",
      "What do you want to do? harvest\n",
      "1. Carrot\n",
      "2. Tomato\n",
      "\n",
      "Select an item 1\n",
      "You have harvested Carrot!\n",
      "What do you want to do? harvest\n",
      "1. Tomato\n",
      "\n",
      "Select an item 1\n",
      "You can't harvest Tomato!\n",
      "What do you want to do? quit\n",
      "Thank you for your interest. Come again. Good Bye!\n"
     ]
    }
   ],
   "source": [
    "valid_commands = [\"help\", \"quit\", \"seed\",\"plant\",\"tend\", \"harvest\" ]\n",
    "\n",
    "\n",
    "print(\"Welcome to the Virtual Garden!\")\n",
    "\n",
    "gardener_name = input(\"What is the gardener name! \")\n",
    "\n",
    "print(f\"Welcome {gardener_name}!\\nType 'help' for valid command.\")\n",
    "\n",
    "gardener = Gardener(gardener_name)\n",
    "\n",
    "while True:\n",
    "    gardener_action = input(\"What do you want to do? \")\n",
    "    gardener_action = gardener_action.lower()\n",
    "    if gardener_action in valid_commands:\n",
    "        if gardener_action == \"help\":\n",
    "            print(\"***Available Commands***\")\n",
    "            for command in valid_commands:\n",
    "                print(command)\n",
    "        elif gardener_action == \"seed\":\n",
    "            gardener.get_seed()\n",
    "        elif gardener_action == \"plant\":\n",
    "            gardener.plant()\n",
    "        elif gardener_action == \"tend\":\n",
    "            gardener.tend()\n",
    "        elif gardener_action == \"harvest\":\n",
    "            gardener.harvest()\n",
    "        elif gardener_action == \"quit\":\n",
    "            print(\"Thank you for your interest. Come again. Good Bye!\")\n",
    "            break\n",
    "    else:\n",
    "        print(\"Invalid Command\")"
   ]
  },
  {
   "cell_type": "code",
   "execution_count": null,
   "id": "ae5031e0",
   "metadata": {},
   "outputs": [],
   "source": []
  }
 ],
 "metadata": {
  "kernelspec": {
   "display_name": "Python 3 (ipykernel)",
   "language": "python",
   "name": "python3"
  },
  "language_info": {
   "codemirror_mode": {
    "name": "ipython",
    "version": 3
   },
   "file_extension": ".py",
   "mimetype": "text/x-python",
   "name": "python",
   "nbconvert_exporter": "python",
   "pygments_lexer": "ipython3",
   "version": "3.11.5"
  }
 },
 "nbformat": 4,
 "nbformat_minor": 5
}
