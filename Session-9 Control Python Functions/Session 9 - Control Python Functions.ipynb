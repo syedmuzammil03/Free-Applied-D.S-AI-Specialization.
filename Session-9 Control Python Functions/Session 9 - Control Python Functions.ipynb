{
 "cells": [
  {
   "cell_type": "code",
   "execution_count": 1,
   "id": "0bea69c9",
   "metadata": {},
   "outputs": [
    {
     "data": {
      "text/plain": [
       "[0, 1, 2, 3, 4, 5, 6, 7, 8]"
      ]
     },
     "execution_count": 1,
     "metadata": {},
     "output_type": "execute_result"
    }
   ],
   "source": [
    "l = list(range(9))\n",
    "\n",
    "l"
   ]
  },
  {
   "cell_type": "code",
   "execution_count": 2,
   "id": "36053bf2",
   "metadata": {},
   "outputs": [
    {
     "data": {
      "text/plain": [
       "[1, 2, 3, 4, 5, 6, 7, 8]"
      ]
     },
     "execution_count": 2,
     "metadata": {},
     "output_type": "execute_result"
    }
   ],
   "source": [
    "l = list(range(1,9))\n",
    "\n",
    "l"
   ]
  },
  {
   "cell_type": "code",
   "execution_count": 3,
   "id": "871dbbd3",
   "metadata": {},
   "outputs": [
    {
     "data": {
      "text/plain": [
       "8"
      ]
     },
     "execution_count": 3,
     "metadata": {},
     "output_type": "execute_result"
    }
   ],
   "source": [
    "len(l)"
   ]
  },
  {
   "cell_type": "code",
   "execution_count": 4,
   "id": "f2950598",
   "metadata": {},
   "outputs": [
    {
     "name": "stdout",
     "output_type": "stream",
     "text": [
      "2\n",
      "3\n",
      "4\n",
      "5\n",
      "6\n",
      "7\n",
      "8\n",
      "9\n"
     ]
    }
   ],
   "source": [
    "lst_count = 0\n",
    "\n",
    "for i in l:\n",
    "    print(i+1)"
   ]
  },
  {
   "cell_type": "code",
   "execution_count": 5,
   "id": "b695b4d1",
   "metadata": {},
   "outputs": [
    {
     "name": "stdout",
     "output_type": "stream",
     "text": [
      "1\n",
      "2\n",
      "3\n",
      "4\n",
      "5\n",
      "6\n",
      "7\n",
      "8\n"
     ]
    }
   ],
   "source": [
    "\n",
    "for _ in l:\n",
    "    print(_)"
   ]
  },
  {
   "cell_type": "code",
   "execution_count": 9,
   "id": "eeb452e6",
   "metadata": {},
   "outputs": [],
   "source": [
    "lst_count = 0\n",
    "\n",
    "for _ in l:\n",
    "    lst_count += 1"
   ]
  },
  {
   "cell_type": "code",
   "execution_count": 7,
   "id": "8b7ab4a0",
   "metadata": {},
   "outputs": [
    {
     "data": {
      "text/plain": [
       "8"
      ]
     },
     "execution_count": 7,
     "metadata": {},
     "output_type": "execute_result"
    }
   ],
   "source": [
    "lst_count"
   ]
  },
  {
   "cell_type": "code",
   "execution_count": 8,
   "id": "dd2bedd9",
   "metadata": {},
   "outputs": [
    {
     "data": {
      "text/plain": [
       "36"
      ]
     },
     "execution_count": 8,
     "metadata": {},
     "output_type": "execute_result"
    }
   ],
   "source": [
    "sum(l)"
   ]
  },
  {
   "cell_type": "code",
   "execution_count": 11,
   "id": "18266991",
   "metadata": {},
   "outputs": [],
   "source": [
    "total = 0\n",
    "\n",
    "for i in l:\n",
    "    total += i"
   ]
  },
  {
   "cell_type": "code",
   "execution_count": 12,
   "id": "29415e0a",
   "metadata": {},
   "outputs": [
    {
     "data": {
      "text/plain": [
       "36"
      ]
     },
     "execution_count": 12,
     "metadata": {},
     "output_type": "execute_result"
    }
   ],
   "source": [
    "total"
   ]
  },
  {
   "cell_type": "code",
   "execution_count": 13,
   "id": "5de9c808",
   "metadata": {},
   "outputs": [],
   "source": [
    "total = 0\n",
    "\n",
    "for _ in l:\n",
    "    total += _"
   ]
  },
  {
   "cell_type": "code",
   "execution_count": 14,
   "id": "5072da59",
   "metadata": {},
   "outputs": [
    {
     "data": {
      "text/plain": [
       "36"
      ]
     },
     "execution_count": 14,
     "metadata": {},
     "output_type": "execute_result"
    }
   ],
   "source": [
    "total"
   ]
  },
  {
   "cell_type": "code",
   "execution_count": 15,
   "id": "d1554464",
   "metadata": {},
   "outputs": [],
   "source": [
    "url =  \"https://api.exchangerate-api.com/v4/latest/USD\""
   ]
  },
  {
   "cell_type": "code",
   "execution_count": 16,
   "id": "c6979033",
   "metadata": {},
   "outputs": [],
   "source": [
    "import requests"
   ]
  },
  {
   "cell_type": "code",
   "execution_count": 17,
   "id": "a1903468",
   "metadata": {},
   "outputs": [],
   "source": [
    "response = requests.get(url)"
   ]
  },
  {
   "cell_type": "code",
   "execution_count": 18,
   "id": "fc20db8b",
   "metadata": {},
   "outputs": [
    {
     "data": {
      "text/plain": [
       "200"
      ]
     },
     "execution_count": 18,
     "metadata": {},
     "output_type": "execute_result"
    }
   ],
   "source": [
    "response.status_code"
   ]
  },
  {
   "cell_type": "code",
   "execution_count": 19,
   "id": "cae01ada",
   "metadata": {},
   "outputs": [],
   "source": [
    "data = response.json()"
   ]
  },
  {
   "cell_type": "code",
   "execution_count": 20,
   "id": "fd256bd8",
   "metadata": {},
   "outputs": [
    {
     "data": {
      "text/plain": [
       "dict"
      ]
     },
     "execution_count": 20,
     "metadata": {},
     "output_type": "execute_result"
    }
   ],
   "source": [
    "type(data)"
   ]
  },
  {
   "cell_type": "code",
   "execution_count": 21,
   "id": "bd5bc63b",
   "metadata": {},
   "outputs": [
    {
     "data": {
      "text/plain": [
       "{'provider': 'https://www.exchangerate-api.com',\n",
       " 'WARNING_UPGRADE_TO_V6': 'https://www.exchangerate-api.com/docs/free',\n",
       " 'terms': 'https://www.exchangerate-api.com/terms',\n",
       " 'base': 'USD',\n",
       " 'date': '2023-10-22',\n",
       " 'time_last_updated': 1697932801,\n",
       " 'rates': {'USD': 1,\n",
       "  'AED': 3.67,\n",
       "  'AFN': 75.31,\n",
       "  'ALL': 100.24,\n",
       "  'AMD': 401.48,\n",
       "  'ANG': 1.79,\n",
       "  'AOA': 835.27,\n",
       "  'ARS': 350.03,\n",
       "  'AUD': 1.58,\n",
       "  'AWG': 1.79,\n",
       "  'AZN': 1.7,\n",
       "  'BAM': 1.85,\n",
       "  'BBD': 2,\n",
       "  'BDT': 110.25,\n",
       "  'BGN': 1.85,\n",
       "  'BHD': 0.376,\n",
       "  'BIF': 2827.49,\n",
       "  'BMD': 1,\n",
       "  'BND': 1.37,\n",
       "  'BOB': 6.92,\n",
       "  'BRL': 5.06,\n",
       "  'BSD': 1,\n",
       "  'BTN': 83.18,\n",
       "  'BWP': 13.81,\n",
       "  'BYN': 3.29,\n",
       "  'BZD': 2,\n",
       "  'CAD': 1.37,\n",
       "  'CDF': 2483.31,\n",
       "  'CHF': 0.892,\n",
       "  'CLP': 940.24,\n",
       "  'CNY': 7.32,\n",
       "  'COP': 4223.37,\n",
       "  'CRC': 530.5,\n",
       "  'CUP': 24,\n",
       "  'CVE': 104.17,\n",
       "  'CZK': 23.28,\n",
       "  'DJF': 177.72,\n",
       "  'DKK': 7.05,\n",
       "  'DOP': 56.72,\n",
       "  'DZD': 137.67,\n",
       "  'EGP': 30.9,\n",
       "  'ERN': 15,\n",
       "  'ETB': 55.81,\n",
       "  'EUR': 0.945,\n",
       "  'FJD': 2.28,\n",
       "  'FKP': 0.823,\n",
       "  'FOK': 7.05,\n",
       "  'GBP': 0.823,\n",
       "  'GEL': 2.69,\n",
       "  'GGP': 0.823,\n",
       "  'GHS': 11.91,\n",
       "  'GIP': 0.823,\n",
       "  'GMD': 65.8,\n",
       "  'GNF': 8578.09,\n",
       "  'GTQ': 7.84,\n",
       "  'GYD': 209.46,\n",
       "  'HKD': 7.82,\n",
       "  'HNL': 24.67,\n",
       "  'HRK': 7.12,\n",
       "  'HTG': 133.89,\n",
       "  'HUF': 361.17,\n",
       "  'IDR': 15885.31,\n",
       "  'ILS': 4.06,\n",
       "  'IMP': 0.823,\n",
       "  'INR': 83.18,\n",
       "  'IQD': 1308.89,\n",
       "  'IRR': 41919.37,\n",
       "  'ISK': 138.57,\n",
       "  'JEP': 0.823,\n",
       "  'JMD': 155.65,\n",
       "  'JOD': 0.709,\n",
       "  'JPY': 149.84,\n",
       "  'KES': 149.84,\n",
       "  'KGS': 89,\n",
       "  'KHR': 4120.48,\n",
       "  'KID': 1.58,\n",
       "  'KMF': 464.78,\n",
       "  'KRW': 1351.26,\n",
       "  'KWD': 0.309,\n",
       "  'KYD': 0.833,\n",
       "  'KZT': 479.59,\n",
       "  'LAK': 20601.97,\n",
       "  'LBP': 15000,\n",
       "  'LKR': 323.69,\n",
       "  'LRD': 190.83,\n",
       "  'LSL': 19.02,\n",
       "  'LYD': 4.89,\n",
       "  'MAD': 10.32,\n",
       "  'MDL': 18.22,\n",
       "  'MGA': 4524.56,\n",
       "  'MKD': 58.08,\n",
       "  'MMK': 2099.78,\n",
       "  'MNT': 3468.92,\n",
       "  'MOP': 8.06,\n",
       "  'MRU': 38.44,\n",
       "  'MUR': 44.18,\n",
       "  'MVR': 15.45,\n",
       "  'MWK': 1169.49,\n",
       "  'MXN': 18.27,\n",
       "  'MYR': 4.77,\n",
       "  'MZN': 63.88,\n",
       "  'NAD': 19.02,\n",
       "  'NGN': 776.11,\n",
       "  'NIO': 36.57,\n",
       "  'NOK': 11.05,\n",
       "  'NPR': 133.08,\n",
       "  'NZD': 1.72,\n",
       "  'OMR': 0.384,\n",
       "  'PAB': 1,\n",
       "  'PEN': 3.87,\n",
       "  'PGK': 3.71,\n",
       "  'PHP': 56.75,\n",
       "  'PKR': 278.72,\n",
       "  'PLN': 4.21,\n",
       "  'PYG': 7384.25,\n",
       "  'QAR': 3.64,\n",
       "  'RON': 4.7,\n",
       "  'RSD': 110.63,\n",
       "  'RUB': 96,\n",
       "  'RWF': 1260.56,\n",
       "  'SAR': 3.75,\n",
       "  'SBD': 8.48,\n",
       "  'SCR': 13.78,\n",
       "  'SDG': 581.1,\n",
       "  'SEK': 10.98,\n",
       "  'SGD': 1.37,\n",
       "  'SHP': 0.823,\n",
       "  'SLE': 22.46,\n",
       "  'SLL': 22462.47,\n",
       "  'SOS': 570.99,\n",
       "  'SRD': 38.35,\n",
       "  'SSP': 1025,\n",
       "  'STN': 23.15,\n",
       "  'SYP': 12938.25,\n",
       "  'SZL': 19.02,\n",
       "  'THB': 36.48,\n",
       "  'TJS': 10.93,\n",
       "  'TMT': 3.5,\n",
       "  'TND': 3.17,\n",
       "  'TOP': 2.38,\n",
       "  'TRY': 28.01,\n",
       "  'TTD': 6.76,\n",
       "  'TVD': 1.58,\n",
       "  'TWD': 32.33,\n",
       "  'TZS': 2512.29,\n",
       "  'UAH': 36.55,\n",
       "  'UGX': 3756.86,\n",
       "  'UYU': 39.92,\n",
       "  'UZS': 12190.95,\n",
       "  'VES': 34.86,\n",
       "  'VND': 24508.79,\n",
       "  'VUV': 121.84,\n",
       "  'WST': 2.78,\n",
       "  'XAF': 619.71,\n",
       "  'XCD': 2.7,\n",
       "  'XDR': 0.762,\n",
       "  'XOF': 619.71,\n",
       "  'XPF': 112.74,\n",
       "  'YER': 250.07,\n",
       "  'ZAR': 19.02,\n",
       "  'ZMW': 21.68,\n",
       "  'ZWL': 5724.89}}"
      ]
     },
     "execution_count": 21,
     "metadata": {},
     "output_type": "execute_result"
    }
   ],
   "source": [
    "data"
   ]
  },
  {
   "cell_type": "code",
   "execution_count": 22,
   "id": "f4ca3148",
   "metadata": {},
   "outputs": [
    {
     "data": {
      "text/plain": [
       "dict_keys(['provider', 'WARNING_UPGRADE_TO_V6', 'terms', 'base', 'date', 'time_last_updated', 'rates'])"
      ]
     },
     "execution_count": 22,
     "metadata": {},
     "output_type": "execute_result"
    }
   ],
   "source": [
    "data.keys()"
   ]
  },
  {
   "cell_type": "code",
   "execution_count": 24,
   "id": "4febba03",
   "metadata": {},
   "outputs": [
    {
     "data": {
      "text/plain": [
       "{'USD': 1,\n",
       " 'AED': 3.67,\n",
       " 'AFN': 75.31,\n",
       " 'ALL': 100.24,\n",
       " 'AMD': 401.48,\n",
       " 'ANG': 1.79,\n",
       " 'AOA': 835.27,\n",
       " 'ARS': 350.03,\n",
       " 'AUD': 1.58,\n",
       " 'AWG': 1.79,\n",
       " 'AZN': 1.7,\n",
       " 'BAM': 1.85,\n",
       " 'BBD': 2,\n",
       " 'BDT': 110.25,\n",
       " 'BGN': 1.85,\n",
       " 'BHD': 0.376,\n",
       " 'BIF': 2827.49,\n",
       " 'BMD': 1,\n",
       " 'BND': 1.37,\n",
       " 'BOB': 6.92,\n",
       " 'BRL': 5.06,\n",
       " 'BSD': 1,\n",
       " 'BTN': 83.18,\n",
       " 'BWP': 13.81,\n",
       " 'BYN': 3.29,\n",
       " 'BZD': 2,\n",
       " 'CAD': 1.37,\n",
       " 'CDF': 2483.31,\n",
       " 'CHF': 0.892,\n",
       " 'CLP': 940.24,\n",
       " 'CNY': 7.32,\n",
       " 'COP': 4223.37,\n",
       " 'CRC': 530.5,\n",
       " 'CUP': 24,\n",
       " 'CVE': 104.17,\n",
       " 'CZK': 23.28,\n",
       " 'DJF': 177.72,\n",
       " 'DKK': 7.05,\n",
       " 'DOP': 56.72,\n",
       " 'DZD': 137.67,\n",
       " 'EGP': 30.9,\n",
       " 'ERN': 15,\n",
       " 'ETB': 55.81,\n",
       " 'EUR': 0.945,\n",
       " 'FJD': 2.28,\n",
       " 'FKP': 0.823,\n",
       " 'FOK': 7.05,\n",
       " 'GBP': 0.823,\n",
       " 'GEL': 2.69,\n",
       " 'GGP': 0.823,\n",
       " 'GHS': 11.91,\n",
       " 'GIP': 0.823,\n",
       " 'GMD': 65.8,\n",
       " 'GNF': 8578.09,\n",
       " 'GTQ': 7.84,\n",
       " 'GYD': 209.46,\n",
       " 'HKD': 7.82,\n",
       " 'HNL': 24.67,\n",
       " 'HRK': 7.12,\n",
       " 'HTG': 133.89,\n",
       " 'HUF': 361.17,\n",
       " 'IDR': 15885.31,\n",
       " 'ILS': 4.06,\n",
       " 'IMP': 0.823,\n",
       " 'INR': 83.18,\n",
       " 'IQD': 1308.89,\n",
       " 'IRR': 41919.37,\n",
       " 'ISK': 138.57,\n",
       " 'JEP': 0.823,\n",
       " 'JMD': 155.65,\n",
       " 'JOD': 0.709,\n",
       " 'JPY': 149.84,\n",
       " 'KES': 149.84,\n",
       " 'KGS': 89,\n",
       " 'KHR': 4120.48,\n",
       " 'KID': 1.58,\n",
       " 'KMF': 464.78,\n",
       " 'KRW': 1351.26,\n",
       " 'KWD': 0.309,\n",
       " 'KYD': 0.833,\n",
       " 'KZT': 479.59,\n",
       " 'LAK': 20601.97,\n",
       " 'LBP': 15000,\n",
       " 'LKR': 323.69,\n",
       " 'LRD': 190.83,\n",
       " 'LSL': 19.02,\n",
       " 'LYD': 4.89,\n",
       " 'MAD': 10.32,\n",
       " 'MDL': 18.22,\n",
       " 'MGA': 4524.56,\n",
       " 'MKD': 58.08,\n",
       " 'MMK': 2099.78,\n",
       " 'MNT': 3468.92,\n",
       " 'MOP': 8.06,\n",
       " 'MRU': 38.44,\n",
       " 'MUR': 44.18,\n",
       " 'MVR': 15.45,\n",
       " 'MWK': 1169.49,\n",
       " 'MXN': 18.27,\n",
       " 'MYR': 4.77,\n",
       " 'MZN': 63.88,\n",
       " 'NAD': 19.02,\n",
       " 'NGN': 776.11,\n",
       " 'NIO': 36.57,\n",
       " 'NOK': 11.05,\n",
       " 'NPR': 133.08,\n",
       " 'NZD': 1.72,\n",
       " 'OMR': 0.384,\n",
       " 'PAB': 1,\n",
       " 'PEN': 3.87,\n",
       " 'PGK': 3.71,\n",
       " 'PHP': 56.75,\n",
       " 'PKR': 278.72,\n",
       " 'PLN': 4.21,\n",
       " 'PYG': 7384.25,\n",
       " 'QAR': 3.64,\n",
       " 'RON': 4.7,\n",
       " 'RSD': 110.63,\n",
       " 'RUB': 96,\n",
       " 'RWF': 1260.56,\n",
       " 'SAR': 3.75,\n",
       " 'SBD': 8.48,\n",
       " 'SCR': 13.78,\n",
       " 'SDG': 581.1,\n",
       " 'SEK': 10.98,\n",
       " 'SGD': 1.37,\n",
       " 'SHP': 0.823,\n",
       " 'SLE': 22.46,\n",
       " 'SLL': 22462.47,\n",
       " 'SOS': 570.99,\n",
       " 'SRD': 38.35,\n",
       " 'SSP': 1025,\n",
       " 'STN': 23.15,\n",
       " 'SYP': 12938.25,\n",
       " 'SZL': 19.02,\n",
       " 'THB': 36.48,\n",
       " 'TJS': 10.93,\n",
       " 'TMT': 3.5,\n",
       " 'TND': 3.17,\n",
       " 'TOP': 2.38,\n",
       " 'TRY': 28.01,\n",
       " 'TTD': 6.76,\n",
       " 'TVD': 1.58,\n",
       " 'TWD': 32.33,\n",
       " 'TZS': 2512.29,\n",
       " 'UAH': 36.55,\n",
       " 'UGX': 3756.86,\n",
       " 'UYU': 39.92,\n",
       " 'UZS': 12190.95,\n",
       " 'VES': 34.86,\n",
       " 'VND': 24508.79,\n",
       " 'VUV': 121.84,\n",
       " 'WST': 2.78,\n",
       " 'XAF': 619.71,\n",
       " 'XCD': 2.7,\n",
       " 'XDR': 0.762,\n",
       " 'XOF': 619.71,\n",
       " 'XPF': 112.74,\n",
       " 'YER': 250.07,\n",
       " 'ZAR': 19.02,\n",
       " 'ZMW': 21.68,\n",
       " 'ZWL': 5724.89}"
      ]
     },
     "execution_count": 24,
     "metadata": {},
     "output_type": "execute_result"
    }
   ],
   "source": [
    "data[\"rates\"]# dictonary"
   ]
  },
  {
   "cell_type": "code",
   "execution_count": 26,
   "id": "4227c918",
   "metadata": {},
   "outputs": [
    {
     "data": {
      "text/plain": [
       "82.3"
      ]
     },
     "execution_count": 26,
     "metadata": {},
     "output_type": "execute_result"
    }
   ],
   "source": [
    "data[\"rates\"][\"GBP\"]*100"
   ]
  },
  {
   "cell_type": "code",
   "execution_count": 27,
   "id": "c9123145",
   "metadata": {},
   "outputs": [],
   "source": [
    "def curr_conv():\n",
    "    response = requests.get(url)\n",
    "    data = response.json()\n",
    "    amount = 100\n",
    "    converstion_currency = \"GBP\"\n",
    "    data[\"rates\"][converstion_currency]*amount"
   ]
  },
  {
   "cell_type": "code",
   "execution_count": 28,
   "id": "bfe37ed2",
   "metadata": {},
   "outputs": [],
   "source": [
    "curr_conv()"
   ]
  },
  {
   "cell_type": "code",
   "execution_count": 29,
   "id": "909893a9",
   "metadata": {},
   "outputs": [],
   "source": [
    "def curr_conv():\n",
    "    response = requests.get(url)\n",
    "    data = response.json()\n",
    "    amount = 100\n",
    "    converstion_currency = \"GBP\"\n",
    "    data[\"rates\"][converstion_currency]*amount\n",
    "    return \"Waqas\""
   ]
  },
  {
   "cell_type": "code",
   "execution_count": 30,
   "id": "fd6a9e68",
   "metadata": {},
   "outputs": [
    {
     "data": {
      "text/plain": [
       "'Waqas'"
      ]
     },
     "execution_count": 30,
     "metadata": {},
     "output_type": "execute_result"
    }
   ],
   "source": [
    "curr_conv()"
   ]
  },
  {
   "cell_type": "code",
   "execution_count": 31,
   "id": "f4357fe2",
   "metadata": {},
   "outputs": [],
   "source": [
    "def curr_conv():\n",
    "    response = requests.get(url)\n",
    "    data = response.json()\n",
    "    amount = 100\n",
    "    converstion_currency = \"GBP\"\n",
    "    conv = data[\"rates\"][converstion_currency]*amount\n",
    "    return conv"
   ]
  },
  {
   "cell_type": "code",
   "execution_count": 32,
   "id": "002c58d7",
   "metadata": {},
   "outputs": [
    {
     "data": {
      "text/plain": [
       "82.3"
      ]
     },
     "execution_count": 32,
     "metadata": {},
     "output_type": "execute_result"
    }
   ],
   "source": [
    "curr_conv()"
   ]
  },
  {
   "cell_type": "code",
   "execution_count": 33,
   "id": "6c26ba54",
   "metadata": {},
   "outputs": [],
   "source": [
    "def curr_conv():\n",
    "    response = requests.get(url)\n",
    "    data = response.json()\n",
    "    # amount = 100\n",
    "    converstion_currency = \"GBP\"\n",
    "    conv = data[\"rates\"][converstion_currency]*amount\n",
    "    return conv"
   ]
  },
  {
   "cell_type": "code",
   "execution_count": 34,
   "id": "691fe36e",
   "metadata": {},
   "outputs": [
    {
     "ename": "NameError",
     "evalue": "name 'amount' is not defined",
     "output_type": "error",
     "traceback": [
      "\u001b[1;31m---------------------------------------------------------------------------\u001b[0m",
      "\u001b[1;31mNameError\u001b[0m                                 Traceback (most recent call last)",
      "Cell \u001b[1;32mIn[34], line 1\u001b[0m\n\u001b[1;32m----> 1\u001b[0m \u001b[43mcurr_conv\u001b[49m\u001b[43m(\u001b[49m\u001b[43m)\u001b[49m\n",
      "Cell \u001b[1;32mIn[33], line 6\u001b[0m, in \u001b[0;36mcurr_conv\u001b[1;34m()\u001b[0m\n\u001b[0;32m      4\u001b[0m \u001b[38;5;66;03m# amount = 100\u001b[39;00m\n\u001b[0;32m      5\u001b[0m converstion_currency \u001b[38;5;241m=\u001b[39m \u001b[38;5;124m\"\u001b[39m\u001b[38;5;124mGBP\u001b[39m\u001b[38;5;124m\"\u001b[39m\n\u001b[1;32m----> 6\u001b[0m conv \u001b[38;5;241m=\u001b[39m data[\u001b[38;5;124m\"\u001b[39m\u001b[38;5;124mrates\u001b[39m\u001b[38;5;124m\"\u001b[39m][converstion_currency]\u001b[38;5;241m*\u001b[39m\u001b[43mamount\u001b[49m\n\u001b[0;32m      7\u001b[0m \u001b[38;5;28;01mreturn\u001b[39;00m conv\n",
      "\u001b[1;31mNameError\u001b[0m: name 'amount' is not defined"
     ]
    }
   ],
   "source": [
    "curr_conv()"
   ]
  },
  {
   "cell_type": "code",
   "execution_count": 35,
   "id": "784f0fd0",
   "metadata": {},
   "outputs": [],
   "source": [
    "def curr_conv(amount):\n",
    "    response = requests.get(url)\n",
    "    data = response.json()\n",
    "    # amount = 100\n",
    "    converstion_currency = \"GBP\"\n",
    "    conv = data[\"rates\"][converstion_currency]*amount\n",
    "    return conv"
   ]
  },
  {
   "cell_type": "code",
   "execution_count": 36,
   "id": "48605466",
   "metadata": {},
   "outputs": [
    {
     "ename": "TypeError",
     "evalue": "curr_conv() missing 1 required positional argument: 'amount'",
     "output_type": "error",
     "traceback": [
      "\u001b[1;31m---------------------------------------------------------------------------\u001b[0m",
      "\u001b[1;31mTypeError\u001b[0m                                 Traceback (most recent call last)",
      "Cell \u001b[1;32mIn[36], line 1\u001b[0m\n\u001b[1;32m----> 1\u001b[0m \u001b[43mcurr_conv\u001b[49m\u001b[43m(\u001b[49m\u001b[43m)\u001b[49m\n",
      "\u001b[1;31mTypeError\u001b[0m: curr_conv() missing 1 required positional argument: 'amount'"
     ]
    }
   ],
   "source": [
    "curr_conv()"
   ]
  },
  {
   "cell_type": "code",
   "execution_count": 37,
   "id": "2736d981",
   "metadata": {},
   "outputs": [
    {
     "data": {
      "text/plain": [
       "411.5"
      ]
     },
     "execution_count": 37,
     "metadata": {},
     "output_type": "execute_result"
    }
   ],
   "source": [
    "curr_conv(500)"
   ]
  },
  {
   "cell_type": "code",
   "execution_count": 38,
   "id": "aab7176c",
   "metadata": {},
   "outputs": [],
   "source": [
    "# len(l)"
   ]
  },
  {
   "cell_type": "code",
   "execution_count": null,
   "id": "a8a81acc",
   "metadata": {},
   "outputs": [],
   "source": [
    "def curr_conv(amount):\n",
    "    response = requests.get(url)\n",
    "    data = response.json()\n",
    "    # amount = 100\n",
    "    converstion_currency = \"GBP\"\n",
    "    conv = data[\"rates\"][converstion_currency]*amount\n",
    "    return conv"
   ]
  },
  {
   "cell_type": "code",
   "execution_count": 39,
   "id": "cfc8c1f7",
   "metadata": {},
   "outputs": [],
   "source": [
    "def curr_conv(amount, Target_curr):\n",
    "    response = requests.get(url)\n",
    "    data = response.json()\n",
    "    # amount = 100\n",
    "    # converstion_currency = \"GBP\"\n",
    "    conv = data[\"rates\"][Target_curr]*amount\n",
    "    return conv"
   ]
  },
  {
   "cell_type": "code",
   "execution_count": 40,
   "id": "8d1807d6",
   "metadata": {},
   "outputs": [
    {
     "data": {
      "text/plain": [
       "349.35"
      ]
     },
     "execution_count": 40,
     "metadata": {},
     "output_type": "execute_result"
    }
   ],
   "source": [
    "curr_conv(255, \"CAD\")"
   ]
  },
  {
   "cell_type": "code",
   "execution_count": 41,
   "id": "4f0edad8",
   "metadata": {},
   "outputs": [
    {
     "data": {
      "text/plain": [
       "278.72"
      ]
     },
     "execution_count": 41,
     "metadata": {},
     "output_type": "execute_result"
    }
   ],
   "source": [
    "curr_conv(1, \"PKR\")"
   ]
  },
  {
   "cell_type": "code",
   "execution_count": 42,
   "id": "a3f2ee19",
   "metadata": {},
   "outputs": [],
   "source": [
    "def curr_conv(amount, Target_curr):\n",
    "    response = requests.get(url)\n",
    "    data = response.json()\n",
    "    # amount = 100\n",
    "    # converstion_currency = \"GBP\"\n",
    "    conv = data[\"rates\"][Target_curr]*amount\n",
    "    return Target_curr +\" \" +str(conv)"
   ]
  },
  {
   "cell_type": "code",
   "execution_count": 43,
   "id": "d9d0970e",
   "metadata": {},
   "outputs": [
    {
     "data": {
      "text/plain": [
       "'PKR 278.72'"
      ]
     },
     "execution_count": 43,
     "metadata": {},
     "output_type": "execute_result"
    }
   ],
   "source": [
    "curr_conv(1, \"PKR\")"
   ]
  },
  {
   "cell_type": "code",
   "execution_count": 44,
   "id": "eaabc9e2",
   "metadata": {},
   "outputs": [],
   "source": [
    "import json"
   ]
  },
  {
   "cell_type": "code",
   "execution_count": 45,
   "id": "ec8102d6",
   "metadata": {},
   "outputs": [],
   "source": [
    "with open(\"sales.json\") as f:\n",
    "    sales = json.load(f)"
   ]
  },
  {
   "cell_type": "code",
   "execution_count": 46,
   "id": "71c0f1e3",
   "metadata": {},
   "outputs": [
    {
     "data": {
      "text/plain": [
       "dict"
      ]
     },
     "execution_count": 46,
     "metadata": {},
     "output_type": "execute_result"
    }
   ],
   "source": [
    "type(sales)"
   ]
  },
  {
   "cell_type": "code",
   "execution_count": 47,
   "id": "c894c159",
   "metadata": {},
   "outputs": [
    {
     "data": {
      "text/plain": [
       "{'3942': {'purchase_total': 100.5, 'currency': 'CAD'},\n",
       " '8791': {'purchase_total': 75.25, 'currency': 'EUR'},\n",
       " '5623': {'purchase_total': 50.75, 'currency': 'GBP'},\n",
       " '1234': {'purchase_total': 200.1, 'currency': 'USD'},\n",
       " '5678': {'purchase_total': 150.75, 'currency': 'JPY'},\n",
       " '9876': {'purchase_total': 300.5, 'currency': 'CAD'},\n",
       " '2457': {'purchase_total': 80.0, 'currency': 'USD'},\n",
       " '7365': {'purchase_total': 55.25, 'currency': 'GBP'},\n",
       " '8910': {'purchase_total': 120.6, 'currency': 'CAD'},\n",
       " '4321': {'purchase_total': 180.25, 'currency': 'EUR'},\n",
       " '6789': {'purchase_total': 90.75, 'currency': 'JPY'},\n",
       " '5432': {'purchase_total': 250.9, 'currency': 'USD'},\n",
       " '1098': {'purchase_total': 70.25, 'currency': 'GBP'},\n",
       " '3647': {'purchase_total': 140.5, 'currency': 'CAD'},\n",
       " '2190': {'purchase_total': 95.8, 'currency': 'EUR'},\n",
       " '8765': {'purchase_total': 180.75, 'currency': 'JPY'},\n",
       " '9875': {'purchase_total': 210.25, 'currency': 'USD'},\n",
       " '1342': {'purchase_total': 65.5, 'currency': 'GBP'},\n",
       " '7690': {'purchase_total': 110.2, 'currency': 'CAD'},\n",
       " '2389': {'purchase_total': 155.35, 'currency': 'EUR'},\n",
       " '6574': {'purchase_total': 80.75, 'currency': 'JPY'},\n",
       " '9832': {'purchase_total': 280.4, 'currency': 'USD'},\n",
       " '3257': {'purchase_total': 60.25, 'currency': 'GBP'},\n",
       " '7194': {'purchase_total': 130.75, 'currency': 'CAD'},\n",
       " '8746': {'purchase_total': 175.9, 'currency': 'EUR'},\n",
       " '2019': {'purchase_total': 85.75, 'currency': 'JPY'},\n",
       " '5437': {'purchase_total': 195.25, 'currency': 'USD'},\n",
       " '1025': {'purchase_total': 50.5, 'currency': 'GBP'},\n",
       " '6932': {'purchase_total': 120.3, 'currency': 'CAD'}}"
      ]
     },
     "execution_count": 47,
     "metadata": {},
     "output_type": "execute_result"
    }
   ],
   "source": [
    "sales"
   ]
  },
  {
   "cell_type": "code",
   "execution_count": 48,
   "id": "c7dbbc48",
   "metadata": {},
   "outputs": [
    {
     "data": {
      "text/plain": [
       "29"
      ]
     },
     "execution_count": 48,
     "metadata": {},
     "output_type": "execute_result"
    }
   ],
   "source": [
    "len(sales)"
   ]
  },
  {
   "cell_type": "code",
   "execution_count": 49,
   "id": "5b7571f5",
   "metadata": {},
   "outputs": [
    {
     "name": "stdout",
     "output_type": "stream",
     "text": [
      "3942\n",
      "8791\n",
      "5623\n",
      "1234\n",
      "5678\n",
      "9876\n",
      "2457\n",
      "7365\n",
      "8910\n",
      "4321\n",
      "6789\n",
      "5432\n",
      "1098\n",
      "3647\n",
      "2190\n",
      "8765\n",
      "9875\n",
      "1342\n",
      "7690\n",
      "2389\n",
      "6574\n",
      "9832\n",
      "3257\n",
      "7194\n",
      "8746\n",
      "2019\n",
      "5437\n",
      "1025\n",
      "6932\n"
     ]
    }
   ],
   "source": [
    "for i in sales:\n",
    "    print(i)"
   ]
  },
  {
   "cell_type": "code",
   "execution_count": 50,
   "id": "758fe94c",
   "metadata": {},
   "outputs": [
    {
     "name": "stdout",
     "output_type": "stream",
     "text": [
      "{'purchase_total': 100.5, 'currency': 'CAD'}\n",
      "{'purchase_total': 75.25, 'currency': 'EUR'}\n",
      "{'purchase_total': 50.75, 'currency': 'GBP'}\n",
      "{'purchase_total': 200.1, 'currency': 'USD'}\n",
      "{'purchase_total': 150.75, 'currency': 'JPY'}\n",
      "{'purchase_total': 300.5, 'currency': 'CAD'}\n",
      "{'purchase_total': 80.0, 'currency': 'USD'}\n",
      "{'purchase_total': 55.25, 'currency': 'GBP'}\n",
      "{'purchase_total': 120.6, 'currency': 'CAD'}\n",
      "{'purchase_total': 180.25, 'currency': 'EUR'}\n",
      "{'purchase_total': 90.75, 'currency': 'JPY'}\n",
      "{'purchase_total': 250.9, 'currency': 'USD'}\n",
      "{'purchase_total': 70.25, 'currency': 'GBP'}\n",
      "{'purchase_total': 140.5, 'currency': 'CAD'}\n",
      "{'purchase_total': 95.8, 'currency': 'EUR'}\n",
      "{'purchase_total': 180.75, 'currency': 'JPY'}\n",
      "{'purchase_total': 210.25, 'currency': 'USD'}\n",
      "{'purchase_total': 65.5, 'currency': 'GBP'}\n",
      "{'purchase_total': 110.2, 'currency': 'CAD'}\n",
      "{'purchase_total': 155.35, 'currency': 'EUR'}\n",
      "{'purchase_total': 80.75, 'currency': 'JPY'}\n",
      "{'purchase_total': 280.4, 'currency': 'USD'}\n",
      "{'purchase_total': 60.25, 'currency': 'GBP'}\n",
      "{'purchase_total': 130.75, 'currency': 'CAD'}\n",
      "{'purchase_total': 175.9, 'currency': 'EUR'}\n",
      "{'purchase_total': 85.75, 'currency': 'JPY'}\n",
      "{'purchase_total': 195.25, 'currency': 'USD'}\n",
      "{'purchase_total': 50.5, 'currency': 'GBP'}\n",
      "{'purchase_total': 120.3, 'currency': 'CAD'}\n"
     ]
    }
   ],
   "source": [
    "for v in sales.values():\n",
    "    print(v)\n",
    "    "
   ]
  },
  {
   "cell_type": "code",
   "execution_count": 52,
   "id": "df3ee01a",
   "metadata": {},
   "outputs": [
    {
     "name": "stdout",
     "output_type": "stream",
     "text": [
      "100.5 CAD\n",
      "75.25 EUR\n",
      "50.75 GBP\n",
      "200.1 USD\n",
      "150.75 JPY\n",
      "300.5 CAD\n",
      "80.0 USD\n",
      "55.25 GBP\n",
      "120.6 CAD\n",
      "180.25 EUR\n",
      "90.75 JPY\n",
      "250.9 USD\n",
      "70.25 GBP\n",
      "140.5 CAD\n",
      "95.8 EUR\n",
      "180.75 JPY\n",
      "210.25 USD\n",
      "65.5 GBP\n",
      "110.2 CAD\n",
      "155.35 EUR\n",
      "80.75 JPY\n",
      "280.4 USD\n",
      "60.25 GBP\n",
      "130.75 CAD\n",
      "175.9 EUR\n",
      "85.75 JPY\n",
      "195.25 USD\n",
      "50.5 GBP\n",
      "120.3 CAD\n"
     ]
    }
   ],
   "source": [
    "for v in sales.values():\n",
    "    purchase_total = v['purchase_total']\n",
    "    currency = v['currency']\n",
    "    \n",
    "    print(purchase_total, currency)"
   ]
  },
  {
   "cell_type": "code",
   "execution_count": 53,
   "id": "4ffaae29",
   "metadata": {},
   "outputs": [
    {
     "name": "stdout",
     "output_type": "stream",
     "text": [
      "73.35766423357664\n",
      "79.62962962962963\n",
      "61.66464155528554\n",
      "200.1\n",
      "1.0060731446876667\n",
      "219.34306569343065\n",
      "80.0\n",
      "67.13244228432565\n",
      "88.02919708029196\n",
      "190.74074074074076\n",
      "0.6056460224239189\n",
      "250.9\n",
      "85.3584447144593\n",
      "102.55474452554743\n",
      "101.37566137566138\n",
      "1.2062867058195408\n",
      "210.25\n",
      "79.58687727825031\n",
      "80.43795620437956\n",
      "164.3915343915344\n",
      "0.5389081687132942\n",
      "280.4\n",
      "73.20777642770352\n",
      "95.43795620437956\n",
      "186.13756613756615\n",
      "0.5722770955686065\n",
      "195.25\n",
      "61.36087484811665\n",
      "87.81021897810218\n"
     ]
    }
   ],
   "source": [
    "for v in sales.values():\n",
    "    purchase_total = v['purchase_total']\n",
    "    currency = v['currency']\n",
    "    \n",
    "    data = requests.get(url).json()\n",
    "    exc_rates = data[\"rates\"][currency]\n",
    "    \n",
    "    usd = purchase_total/exc_rates\n",
    "    \n",
    "    print(usd)\n",
    "    "
   ]
  },
  {
   "cell_type": "code",
   "execution_count": 55,
   "id": "03c341da",
   "metadata": {},
   "outputs": [
    {
     "name": "stdout",
     "output_type": "stream",
     "text": [
      "73.35766423357664 CAD\n",
      "79.62962962962963 EUR\n",
      "61.66464155528554 GBP\n",
      "200.1 USD\n",
      "1.0060731446876667 JPY\n",
      "219.34306569343065 CAD\n",
      "80.0 USD\n",
      "67.13244228432565 GBP\n",
      "88.02919708029196 CAD\n",
      "190.74074074074076 EUR\n",
      "0.6056460224239189 JPY\n",
      "250.9 USD\n",
      "85.3584447144593 GBP\n",
      "102.55474452554743 CAD\n",
      "101.37566137566138 EUR\n",
      "1.2062867058195408 JPY\n",
      "210.25 USD\n",
      "79.58687727825031 GBP\n",
      "80.43795620437956 CAD\n",
      "164.3915343915344 EUR\n",
      "0.5389081687132942 JPY\n",
      "280.4 USD\n",
      "73.20777642770352 GBP\n",
      "95.43795620437956 CAD\n",
      "186.13756613756615 EUR\n",
      "0.5722770955686065 JPY\n",
      "195.25 USD\n",
      "61.36087484811665 GBP\n",
      "87.81021897810218 CAD\n"
     ]
    }
   ],
   "source": [
    "for v in sales.values():\n",
    "    purchase_total = v['purchase_total']\n",
    "    currency = v['currency']\n",
    "    \n",
    "#     data = requests.get(url).json()\n",
    "    exc_rates = data[\"rates\"][currency]\n",
    "    \n",
    "    usd = purchase_total/exc_rates\n",
    "    \n",
    "    print(usd, currency)"
   ]
  },
  {
   "cell_type": "code",
   "execution_count": 56,
   "id": "b665905d",
   "metadata": {},
   "outputs": [],
   "source": [
    "total_sales_usd = 0\n",
    "for v in sales.values():\n",
    "    purchase_total = v['purchase_total']\n",
    "    currency = v['currency']\n",
    "    \n",
    "#     data = requests.get(url).json()\n",
    "    exc_rates = data[\"rates\"][currency]\n",
    "    \n",
    "    usd_amount = purchase_total/exc_rates\n",
    "    \n",
    "    total_sales_usd += usd_amount"
   ]
  },
  {
   "cell_type": "code",
   "execution_count": 57,
   "id": "cc95aab9",
   "metadata": {},
   "outputs": [
    {
     "data": {
      "text/plain": [
       "3118.386183440194"
      ]
     },
     "execution_count": 57,
     "metadata": {},
     "output_type": "execute_result"
    }
   ],
   "source": [
    "total_sales_usd"
   ]
  },
  {
   "cell_type": "code",
   "execution_count": 58,
   "id": "c6682bbe",
   "metadata": {},
   "outputs": [],
   "source": [
    "def usd_sales():\n",
    "\n",
    "    total_sales_usd = 0\n",
    "    for v in sales.values():\n",
    "        purchase_total = v['purchase_total']\n",
    "        currency = v['currency']\n",
    "\n",
    "    #     data = requests.get(url).json()\n",
    "        exc_rates = data[\"rates\"][currency]\n",
    "\n",
    "        usd_amount = purchase_total/exc_rates\n",
    "\n",
    "        total_sales_usd += usd_amount\n",
    "    return total_sales_usd  "
   ]
  },
  {
   "cell_type": "code",
   "execution_count": 59,
   "id": "de456bd5",
   "metadata": {},
   "outputs": [
    {
     "data": {
      "text/plain": [
       "3118.386183440194"
      ]
     },
     "execution_count": 59,
     "metadata": {},
     "output_type": "execute_result"
    }
   ],
   "source": [
    "usd_sales()"
   ]
  },
  {
   "cell_type": "code",
   "execution_count": 60,
   "id": "3d5932d4",
   "metadata": {},
   "outputs": [],
   "source": [
    "def usd_sales(reporting_curr, ):\n",
    "    \n",
    "    \"\"\"\n",
    "    This is build to produce a total sales in reporting currency\n",
    "    \n",
    "    abbbcbbcbcbc\n",
    "    bababab\n",
    "    \n",
    "    \n",
    "    \"\"\"\n",
    "\n",
    "    total_sales = 0\n",
    "    for v in sales.values():\n",
    "        purchase_total = v['purchase_total']\n",
    "        currency = v['currency']\n",
    "\n",
    "    #     data = requests.get(url).json()\n",
    "        exc_rates = data[\"rates\"][currency]\n",
    "\n",
    "        usd_amount = purchase_total/exc_rates\n",
    "\n",
    "        total_sales_usd += usd_amount\n",
    "    return total_sales_usd  "
   ]
  },
  {
   "cell_type": "code",
   "execution_count": 61,
   "id": "0b58f280",
   "metadata": {},
   "outputs": [
    {
     "data": {
      "text/plain": [
       "'\\n    This is build to produce a total sales in reporting currency\\n    \\n    '"
      ]
     },
     "execution_count": 61,
     "metadata": {},
     "output_type": "execute_result"
    }
   ],
   "source": [
    "usd_sales.__doc__"
   ]
  },
  {
   "cell_type": "code",
   "execution_count": 62,
   "id": "21fbdeec",
   "metadata": {},
   "outputs": [
    {
     "data": {
      "text/plain": [
       "'Return the number of items in a container.'"
      ]
     },
     "execution_count": 62,
     "metadata": {},
     "output_type": "execute_result"
    }
   ],
   "source": [
    "len.__doc__"
   ]
  },
  {
   "cell_type": "code",
   "execution_count": 64,
   "id": "d804b831",
   "metadata": {},
   "outputs": [
    {
     "name": "stdout",
     "output_type": "stream",
     "text": [
      "type(object) -> the object's type\n",
      "type(name, bases, dict, **kwds) -> a new type\n"
     ]
    }
   ],
   "source": [
    "print(type.__doc__)"
   ]
  },
  {
   "cell_type": "code",
   "execution_count": null,
   "id": "91cc1145",
   "metadata": {},
   "outputs": [],
   "source": []
  },
  {
   "cell_type": "code",
   "execution_count": 66,
   "id": "2a232ee6",
   "metadata": {},
   "outputs": [
    {
     "name": "stdout",
     "output_type": "stream",
     "text": [
      "range(stop) -> range object\n",
      "range(start, stop[, step]) -> range object\n",
      "\n",
      "Return an object that produces a sequence of integers from start (inclusive)\n",
      "to stop (exclusive) by step.  range(i, j) produces i, i+1, i+2, ..., j-1.\n",
      "start defaults to 0, and stop is omitted!  range(4) produces 0, 1, 2, 3.\n",
      "These are exactly the valid indices for a list of 4 elements.\n",
      "When step is given, it specifies the increment (or decrement).\n"
     ]
    }
   ],
   "source": [
    "print(range.__doc__)"
   ]
  },
  {
   "cell_type": "code",
   "execution_count": 69,
   "id": "5bdcd841",
   "metadata": {},
   "outputs": [
    {
     "name": "stdout",
     "output_type": "stream",
     "text": [
      "max(iterable, *[, default=obj, key=func]) -> value\n",
      "max(arg1, arg2, *args, *[, key=func]) -> value\n",
      "\n",
      "With a single iterable argument, return its biggest item. The\n",
      "default keyword-only argument specifies an object to return if\n",
      "the provided iterable is empty.\n",
      "With two or more arguments, return the largest argument.\n"
     ]
    }
   ],
   "source": [
    "print(max.__doc__)"
   ]
  },
  {
   "cell_type": "code",
   "execution_count": 70,
   "id": "7d63ee68",
   "metadata": {},
   "outputs": [
    {
     "data": {
      "text/plain": [
       "'Prints the values to a stream, or to sys.stdout by default.\\n\\n  sep\\n    string inserted between values, default a space.\\n  end\\n    string appended after the last value, default a newline.\\n  file\\n    a file-like object (stream); defaults to the current sys.stdout.\\n  flush\\n    whether to forcibly flush the stream.'"
      ]
     },
     "execution_count": 70,
     "metadata": {},
     "output_type": "execute_result"
    }
   ],
   "source": [
    "print.__doc__"
   ]
  },
  {
   "cell_type": "code",
   "execution_count": null,
   "id": "dcbc4f12",
   "metadata": {},
   "outputs": [],
   "source": []
  },
  {
   "cell_type": "code",
   "execution_count": null,
   "id": "27119b86",
   "metadata": {},
   "outputs": [],
   "source": []
  },
  {
   "cell_type": "code",
   "execution_count": null,
   "id": "93b23f83",
   "metadata": {},
   "outputs": [],
   "source": []
  },
  {
   "cell_type": "code",
   "execution_count": null,
   "id": "11b2cd23",
   "metadata": {},
   "outputs": [],
   "source": []
  }
 ],
 "metadata": {
  "kernelspec": {
   "display_name": "Python 3 (ipykernel)",
   "language": "python",
   "name": "python3"
  },
  "language_info": {
   "codemirror_mode": {
    "name": "ipython",
    "version": 3
   },
   "file_extension": ".py",
   "mimetype": "text/x-python",
   "name": "python",
   "nbconvert_exporter": "python",
   "pygments_lexer": "ipython3",
   "version": "3.11.3"
  }
 },
 "nbformat": 4,
 "nbformat_minor": 5
}
